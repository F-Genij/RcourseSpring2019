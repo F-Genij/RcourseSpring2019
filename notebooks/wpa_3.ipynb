{
 "cells": [
  {
   "cell_type": "markdown",
   "metadata": {},
   "source": [
    "# WPA #3 - Chapters 8 and 9"
   ]
  },
  {
   "cell_type": "markdown",
   "metadata": {},
   "source": [
    "## Project management\n",
    "\n",
    "Whenever you want to **load** or **save** data in R you need to tell R where the data is to be saved or where the data is being loaded from. Last week, for instance, we loaded data directly from a url. This week we'll load data that is saved on our machine. To do this we need to set a working directory. This is the default folder R will look in to save or load data. If we wish to load (or save) data from a different folder, we can either changed the working directory, or specify the filepath from the current working directory to the desired folder.\n",
    "\n",
    "There are two methods we can use for setting our working directory. The instructions below describe how to load your data using both methods. You only need to do one. IF you want to try both, make sure you use different folder names."
   ]
  },
  {
   "cell_type": "markdown",
   "metadata": {},
   "source": [
    "### Method One- setwd()\n",
    "\n",
    "1. Outside R, create a new folder called `Rcourse` (or any name you choose). Create two separate subfolders within `Rcourse` called `R` and `data`.\n",
    "\n",
    "2. Open a new R script called `wpa_3_LASTFIRST.R` (where LASTFIRST is your last and first name), and save it in the `R` folder.\n",
    "\n",
    "3. Use the `setwd` function to change the working directory to the `Rcourse` folder. You need to give the filepath to this folder. You can also check the current directory by using `getwd`,"
   ]
  },
  {
   "cell_type": "code",
   "execution_count": 1,
   "metadata": {},
   "outputs": [
    {
     "data": {
      "text/html": [
       "'/Users/laurafontanesi/git/RcourseSpring2019/notebooks'"
      ],
      "text/latex": [
       "'/Users/laurafontanesi/git/RcourseSpring2019/notebooks'"
      ],
      "text/markdown": [
       "'/Users/laurafontanesi/git/RcourseSpring2019/notebooks'"
      ],
      "text/plain": [
       "[1] \"/Users/laurafontanesi/git/RcourseSpring2019/notebooks\""
      ]
     },
     "metadata": {},
     "output_type": "display_data"
    }
   ],
   "source": [
    "getwd()"
   ]
  },
  {
   "cell_type": "code",
   "execution_count": 3,
   "metadata": {},
   "outputs": [
    {
     "data": {
      "text/html": [
       "'/Users/laurafontanesi/git/RcourseSpring2019'"
      ],
      "text/latex": [
       "'/Users/laurafontanesi/git/RcourseSpring2019'"
      ],
      "text/markdown": [
       "'/Users/laurafontanesi/git/RcourseSpring2019'"
      ],
      "text/plain": [
       "[1] \"/Users/laurafontanesi/git/RcourseSpring2019\""
      ]
     },
     "metadata": {},
     "output_type": "display_data"
    }
   ],
   "source": [
    "setwd(\"/Users/laurafontanesi/git/RcourseSpring2019/\")\n",
    "# This should be the filepath to the Rcourse folder on your machine.\n",
    "\n",
    "getwd()\n",
    "# This matches the path you just entered."
   ]
  },
  {
   "cell_type": "markdown",
   "metadata": {},
   "source": [
    "### Method Two- R-project\n",
    "\n",
    "You can also control your working directory by creating an R-project in RStudio (see [Chapter 9](https://bookdown.org/ndphillips/YaRrr/importingdata.html) for more details on R-projects). Basically working in an R-project automatically sets your working directory to the location of the R-project file (`.RProj`).\n",
    "\n",
    "1. Start a new R-project called `RCourse` (or something similar) using the menus. Then (either within RStudio or outside of R), navigate to the location of your `RCourse` project, and add the folders `R` and `data`.\n",
    "\n",
    "2. Open a new R script called `wpa_3_LASTFIRST.R` (where LASTFIRST is your last and first name), and save it in the `R` folder."
   ]
  },
  {
   "cell_type": "markdown",
   "metadata": {},
   "source": [
    "## Loading data\n",
    "\n",
    "1. The text file containing the data is called `data_wpa3.csv`. It is available at https://github.com/laurafontanesi/RcourseSpring2019/blob/master/data/data_wpa3.csv. Save the file in the `data` folder that you previously created.\n",
    "\n",
    "2. Using `read.table()` load the data into a new R object called `priming`. Note that the text file is comma-delimited and contains a header row, so be sure to include the `sep = \",\"` and `header = TRUE` arguments! As `priming.txt` is in a subfolder of your working directory, you need to include the subfolder in the filename."
   ]
  },
  {
   "cell_type": "code",
   "execution_count": 8,
   "metadata": {},
   "outputs": [],
   "source": [
    "priming <- read.table('data/data_wpa3.csv', \n",
    "                      header=TRUE, \n",
    "                      sep=',')"
   ]
  },
  {
   "cell_type": "code",
   "execution_count": 9,
   "metadata": {},
   "outputs": [
    {
     "ename": "ERROR",
     "evalue": "Error in eval(substitute(expr), data, enclos = parent.frame()): object 'walk' not found\n",
     "output_type": "error",
     "traceback": [
      "Error in eval(substitute(expr), data, enclos = parent.frame()): object 'walk' not found\nTraceback:\n",
      "1. with(priming, walk[sex == \"m\" & grandparents != \"yes\" & age > \n .     24])",
      "2. with.default(priming, walk[sex == \"m\" & grandparents != \"yes\" & \n .     age > 24])",
      "3. eval(substitute(expr), data, enclos = parent.frame())",
      "4. eval(substitute(expr), data, enclos = parent.frame())"
     ]
    }
   ],
   "source": [
    "walk.m24notclose<-with(priming, walk[sex==\"m\"& grandparents!=\"yes\"& age>24] )\n",
    "mean(walk.m24notclose)"
   ]
  },
  {
   "cell_type": "code",
   "execution_count": 10,
   "metadata": {},
   "outputs": [
    {
     "data": {
      "text/html": [
       "<table>\n",
       "<thead><tr><th scope=col>X</th><th scope=col>a</th><th scope=col>b</th><th scope=col>c</th><th scope=col>d</th><th scope=col>e</th><th scope=col>f</th><th scope=col>g</th><th scope=col>h</th></tr></thead>\n",
       "<tbody>\n",
       "\t<tr><td> 1       </td><td> 1       </td><td>m        </td><td>21       </td><td>1        </td><td>asdf     </td><td> 1       </td><td>no       </td><td> 25.40000</td></tr>\n",
       "\t<tr><td> 2       </td><td> 2       </td><td>m        </td><td>21       </td><td>1        </td><td>asdf     </td><td>30       </td><td>no       </td><td> 23.60000</td></tr>\n",
       "\t<tr><td> 3       </td><td> 3       </td><td>f        </td><td>22       </td><td>1        </td><td>asdf     </td><td>30       </td><td>none     </td><td> 34.50000</td></tr>\n",
       "\t<tr><td> 4       </td><td> 4       </td><td>m        </td><td>23       </td><td>1        </td><td>elderly  </td><td> 1       </td><td>yes      </td><td> 40.40000</td></tr>\n",
       "\t<tr><td> 5       </td><td> 5       </td><td>m        </td><td>23       </td><td>1        </td><td>asdf     </td><td>10       </td><td>none     </td><td> 25.00000</td></tr>\n",
       "\t<tr><td> 6       </td><td> 6       </td><td>m        </td><td>22       </td><td>1        </td><td>asdf     </td><td>10       </td><td>yes      </td><td> 24.70000</td></tr>\n",
       "\t<tr><td> 7       </td><td> 7       </td><td>f        </td><td>20       </td><td>1        </td><td>asdf     </td><td>10       </td><td>yes      </td><td> 35.30000</td></tr>\n",
       "\t<tr><td> 8       </td><td> 8       </td><td>m        </td><td>24       </td><td>1        </td><td>elderly  </td><td> 1       </td><td>none     </td><td> 34.00000</td></tr>\n",
       "\t<tr><td> 9       </td><td> 9       </td><td>f        </td><td>21       </td><td>1        </td><td>asdf     </td><td>10       </td><td>no       </td><td> 35.40000</td></tr>\n",
       "\t<tr><td>10       </td><td>10       </td><td>m        </td><td>22       </td><td>1        </td><td>neutral  </td><td> 5       </td><td>none     </td><td> 24.40000</td></tr>\n",
       "\t<tr><td>11       </td><td>11       </td><td>f        </td><td>22       </td><td>1        </td><td>asdf     </td><td>30       </td><td>yes      </td><td> 35.20000</td></tr>\n",
       "\t<tr><td>12       </td><td>12       </td><td>f        </td><td>22       </td><td>1        </td><td>neutral  </td><td>10       </td><td>yes      </td><td> 36.80000</td></tr>\n",
       "\t<tr><td>13       </td><td>13       </td><td>m        </td><td>21       </td><td>1        </td><td>neutral  </td><td>30       </td><td>none     </td><td> 23.60000</td></tr>\n",
       "\t<tr><td>14       </td><td>14       </td><td>m        </td><td>22       </td><td>1        </td><td>elderly  </td><td>10       </td><td>yes      </td><td> 39.10000</td></tr>\n",
       "\t<tr><td>15       </td><td>15       </td><td>f        </td><td>23       </td><td>0        </td><td>asdf     </td><td>30       </td><td>yes      </td><td> 34.20000</td></tr>\n",
       "\t<tr><td>16       </td><td>16       </td><td>f        </td><td>22       </td><td>1        </td><td>asdf     </td><td>10       </td><td>none     </td><td>-72.81046</td></tr>\n",
       "\t<tr><td>17       </td><td>17       </td><td>m        </td><td>23       </td><td>1        </td><td>neutral  </td><td> 1       </td><td>none     </td><td> 23.70000</td></tr>\n",
       "\t<tr><td>18       </td><td>18       </td><td>m        </td><td>21       </td><td>1        </td><td>neutral  </td><td>30       </td><td>yes      </td><td> 24.30000</td></tr>\n",
       "\t<tr><td>19       </td><td>19       </td><td>m        </td><td>22       </td><td>1        </td><td>neutral  </td><td> 1       </td><td>yes      </td><td> 25.20000</td></tr>\n",
       "\t<tr><td>20       </td><td>20       </td><td>f        </td><td>23       </td><td>0        </td><td>elderly  </td><td> 5       </td><td>yes      </td><td> 48.90000</td></tr>\n",
       "\t<tr><td>21       </td><td>21       </td><td>f        </td><td>23       </td><td>0        </td><td>elderly  </td><td> 5       </td><td>yes      </td><td>-54.43971</td></tr>\n",
       "\t<tr><td>22       </td><td>22       </td><td>f        </td><td>22       </td><td>1        </td><td>asdf     </td><td> 1       </td><td>none     </td><td> 34.30000</td></tr>\n",
       "\t<tr><td>23       </td><td>23       </td><td>f        </td><td>23       </td><td>1        </td><td>elderly  </td><td>10       </td><td>none     </td><td> 45.10000</td></tr>\n",
       "\t<tr><td>24       </td><td>24       </td><td>f        </td><td>22       </td><td>1        </td><td>neutral  </td><td>10       </td><td>none     </td><td> 34.70000</td></tr>\n",
       "\t<tr><td>25       </td><td>25       </td><td>m        </td><td>23       </td><td>0        </td><td>asdf     </td><td>10       </td><td>no       </td><td> 24.40000</td></tr>\n",
       "\t<tr><td>26       </td><td>26       </td><td>m        </td><td>21       </td><td>1        </td><td>elderly  </td><td> 1       </td><td>none     </td><td> 33.10000</td></tr>\n",
       "\t<tr><td>27       </td><td>27       </td><td>f        </td><td>22       </td><td>1        </td><td>neutral  </td><td> 1       </td><td>yes      </td><td> 33.20000</td></tr>\n",
       "\t<tr><td>28       </td><td>28       </td><td>f        </td><td>22       </td><td>1        </td><td>elderly  </td><td> 1       </td><td>no       </td><td>-87.74289</td></tr>\n",
       "\t<tr><td>29       </td><td>29       </td><td>f        </td><td>23       </td><td>1        </td><td>elderly  </td><td> 1       </td><td>yes      </td><td> 51.20000</td></tr>\n",
       "\t<tr><td>30       </td><td>30       </td><td>m        </td><td>19       </td><td>0        </td><td>elderly  </td><td>10       </td><td>no       </td><td> 35.20000</td></tr>\n",
       "\t<tr><td>⋮</td><td>⋮</td><td>⋮</td><td>⋮</td><td>⋮</td><td>⋮</td><td>⋮</td><td>⋮</td><td>⋮</td></tr>\n",
       "\t<tr><td>471      </td><td>471      </td><td>m        </td><td>24       </td><td>1        </td><td>elderly  </td><td>10       </td><td>yes      </td><td> 40.50000</td></tr>\n",
       "\t<tr><td>472      </td><td>472      </td><td>m        </td><td>23       </td><td>1        </td><td>neutral  </td><td>10       </td><td>no       </td><td> 24.30000</td></tr>\n",
       "\t<tr><td>473      </td><td>473      </td><td>m        </td><td>21       </td><td>1        </td><td>asdf     </td><td> 5       </td><td>no       </td><td> 25.50000</td></tr>\n",
       "\t<tr><td>474      </td><td>474      </td><td>m        </td><td>23       </td><td>1        </td><td>neutral  </td><td>30       </td><td>no       </td><td> 25.70000</td></tr>\n",
       "\t<tr><td>475      </td><td>475      </td><td>f        </td><td>23       </td><td>1        </td><td>asdf     </td><td>10       </td><td>no       </td><td> 36.40000</td></tr>\n",
       "\t<tr><td>476      </td><td>476      </td><td>f        </td><td>22       </td><td>1        </td><td>neutral  </td><td>10       </td><td>none     </td><td> 35.40000</td></tr>\n",
       "\t<tr><td>477      </td><td>477      </td><td>f        </td><td>21       </td><td>1        </td><td>neutral  </td><td> 1       </td><td>none     </td><td> 34.20000</td></tr>\n",
       "\t<tr><td>478      </td><td>478      </td><td>f        </td><td>21       </td><td>0        </td><td>asdf     </td><td> 1       </td><td>no       </td><td> 33.40000</td></tr>\n",
       "\t<tr><td>479      </td><td>479      </td><td>f        </td><td>22       </td><td>1        </td><td>asdf     </td><td> 5       </td><td>yes      </td><td> 35.30000</td></tr>\n",
       "\t<tr><td>480      </td><td>480      </td><td>f        </td><td>21       </td><td>1        </td><td>neutral  </td><td>10       </td><td>none     </td><td> 34.80000</td></tr>\n",
       "\t<tr><td>481      </td><td>481      </td><td>m        </td><td>22       </td><td>1        </td><td>neutral  </td><td>10       </td><td>yes      </td><td> 23.70000</td></tr>\n",
       "\t<tr><td>482      </td><td>482      </td><td>m        </td><td>23       </td><td>1        </td><td>neutral  </td><td>10       </td><td>none     </td><td> 24.20000</td></tr>\n",
       "\t<tr><td>483      </td><td>483      </td><td>f        </td><td>23       </td><td>1        </td><td>neutral  </td><td> 5       </td><td>none     </td><td> 36.30000</td></tr>\n",
       "\t<tr><td>484      </td><td>484      </td><td>m        </td><td>21       </td><td>1        </td><td>elderly  </td><td>30       </td><td>none     </td><td> 37.30000</td></tr>\n",
       "\t<tr><td>485      </td><td>485      </td><td>m        </td><td>22       </td><td>1        </td><td>elderly  </td><td>10       </td><td>no       </td><td> 35.00000</td></tr>\n",
       "\t<tr><td>486      </td><td>486      </td><td>m        </td><td>24       </td><td>0        </td><td>neutral  </td><td> 1       </td><td>yes      </td><td> 25.50000</td></tr>\n",
       "\t<tr><td>487      </td><td>487      </td><td>m        </td><td>20       </td><td>1        </td><td>asdf     </td><td> 5       </td><td>none     </td><td> 24.70000</td></tr>\n",
       "\t<tr><td>488      </td><td>488      </td><td>f        </td><td>22       </td><td>1        </td><td>asdf     </td><td> 5       </td><td>none     </td><td> 34.10000</td></tr>\n",
       "\t<tr><td>489      </td><td>489      </td><td>f        </td><td>22       </td><td>1        </td><td>elderly  </td><td>10       </td><td>yes      </td><td>-13.34011</td></tr>\n",
       "\t<tr><td>490      </td><td>490      </td><td>m        </td><td>23       </td><td>1        </td><td>elderly  </td><td>10       </td><td>none     </td><td> 35.00000</td></tr>\n",
       "\t<tr><td>491      </td><td>491      </td><td>f        </td><td>21       </td><td>1        </td><td>elderly  </td><td> 1       </td><td>none     </td><td>-13.34011</td></tr>\n",
       "\t<tr><td>492      </td><td>492      </td><td>m        </td><td>22       </td><td>1        </td><td>neutral  </td><td> 5       </td><td>no       </td><td> 25.20000</td></tr>\n",
       "\t<tr><td>493      </td><td>493      </td><td>m        </td><td>22       </td><td>1        </td><td>asdf     </td><td>30       </td><td>no       </td><td> 22.60000</td></tr>\n",
       "\t<tr><td>494      </td><td>494      </td><td>m        </td><td>22       </td><td>1        </td><td>asdf     </td><td>30       </td><td>yes      </td><td> 23.50000</td></tr>\n",
       "\t<tr><td>495      </td><td>495      </td><td>m        </td><td>21       </td><td>0        </td><td>elderly  </td><td> 1       </td><td>no       </td><td> 35.80000</td></tr>\n",
       "\t<tr><td>496      </td><td>496      </td><td>f        </td><td>24       </td><td>1        </td><td>elderly  </td><td> 5       </td><td>no       </td><td> 44.90000</td></tr>\n",
       "\t<tr><td>497      </td><td>497      </td><td>m        </td><td>22       </td><td>1        </td><td>neutral  </td><td>10       </td><td>no       </td><td>-66.21469</td></tr>\n",
       "\t<tr><td>498      </td><td>498      </td><td>m        </td><td>22       </td><td>1        </td><td>neutral  </td><td>10       </td><td>none     </td><td> 26.80000</td></tr>\n",
       "\t<tr><td>499      </td><td>499      </td><td>f        </td><td>22       </td><td>1        </td><td>elderly  </td><td> 5       </td><td>no       </td><td> 43.80000</td></tr>\n",
       "\t<tr><td>500      </td><td>500      </td><td>m        </td><td>22       </td><td>1        </td><td>elderly  </td><td>30       </td><td>yes      </td><td> 40.20000</td></tr>\n",
       "</tbody>\n",
       "</table>\n"
      ],
      "text/latex": [
       "\\begin{tabular}{r|lllllllll}\n",
       " X & a & b & c & d & e & f & g & h\\\\\n",
       "\\hline\n",
       "\t  1        &  1        & m         & 21        & 1         & asdf      &  1        & no        &  25.40000\\\\\n",
       "\t  2        &  2        & m         & 21        & 1         & asdf      & 30        & no        &  23.60000\\\\\n",
       "\t  3        &  3        & f         & 22        & 1         & asdf      & 30        & none      &  34.50000\\\\\n",
       "\t  4        &  4        & m         & 23        & 1         & elderly   &  1        & yes       &  40.40000\\\\\n",
       "\t  5        &  5        & m         & 23        & 1         & asdf      & 10        & none      &  25.00000\\\\\n",
       "\t  6        &  6        & m         & 22        & 1         & asdf      & 10        & yes       &  24.70000\\\\\n",
       "\t  7        &  7        & f         & 20        & 1         & asdf      & 10        & yes       &  35.30000\\\\\n",
       "\t  8        &  8        & m         & 24        & 1         & elderly   &  1        & none      &  34.00000\\\\\n",
       "\t  9        &  9        & f         & 21        & 1         & asdf      & 10        & no        &  35.40000\\\\\n",
       "\t 10        & 10        & m         & 22        & 1         & neutral   &  5        & none      &  24.40000\\\\\n",
       "\t 11        & 11        & f         & 22        & 1         & asdf      & 30        & yes       &  35.20000\\\\\n",
       "\t 12        & 12        & f         & 22        & 1         & neutral   & 10        & yes       &  36.80000\\\\\n",
       "\t 13        & 13        & m         & 21        & 1         & neutral   & 30        & none      &  23.60000\\\\\n",
       "\t 14        & 14        & m         & 22        & 1         & elderly   & 10        & yes       &  39.10000\\\\\n",
       "\t 15        & 15        & f         & 23        & 0         & asdf      & 30        & yes       &  34.20000\\\\\n",
       "\t 16        & 16        & f         & 22        & 1         & asdf      & 10        & none      & -72.81046\\\\\n",
       "\t 17        & 17        & m         & 23        & 1         & neutral   &  1        & none      &  23.70000\\\\\n",
       "\t 18        & 18        & m         & 21        & 1         & neutral   & 30        & yes       &  24.30000\\\\\n",
       "\t 19        & 19        & m         & 22        & 1         & neutral   &  1        & yes       &  25.20000\\\\\n",
       "\t 20        & 20        & f         & 23        & 0         & elderly   &  5        & yes       &  48.90000\\\\\n",
       "\t 21        & 21        & f         & 23        & 0         & elderly   &  5        & yes       & -54.43971\\\\\n",
       "\t 22        & 22        & f         & 22        & 1         & asdf      &  1        & none      &  34.30000\\\\\n",
       "\t 23        & 23        & f         & 23        & 1         & elderly   & 10        & none      &  45.10000\\\\\n",
       "\t 24        & 24        & f         & 22        & 1         & neutral   & 10        & none      &  34.70000\\\\\n",
       "\t 25        & 25        & m         & 23        & 0         & asdf      & 10        & no        &  24.40000\\\\\n",
       "\t 26        & 26        & m         & 21        & 1         & elderly   &  1        & none      &  33.10000\\\\\n",
       "\t 27        & 27        & f         & 22        & 1         & neutral   &  1        & yes       &  33.20000\\\\\n",
       "\t 28        & 28        & f         & 22        & 1         & elderly   &  1        & no        & -87.74289\\\\\n",
       "\t 29        & 29        & f         & 23        & 1         & elderly   &  1        & yes       &  51.20000\\\\\n",
       "\t 30        & 30        & m         & 19        & 0         & elderly   & 10        & no        &  35.20000\\\\\n",
       "\t ⋮ & ⋮ & ⋮ & ⋮ & ⋮ & ⋮ & ⋮ & ⋮ & ⋮\\\\\n",
       "\t 471       & 471       & m         & 24        & 1         & elderly   & 10        & yes       &  40.50000\\\\\n",
       "\t 472       & 472       & m         & 23        & 1         & neutral   & 10        & no        &  24.30000\\\\\n",
       "\t 473       & 473       & m         & 21        & 1         & asdf      &  5        & no        &  25.50000\\\\\n",
       "\t 474       & 474       & m         & 23        & 1         & neutral   & 30        & no        &  25.70000\\\\\n",
       "\t 475       & 475       & f         & 23        & 1         & asdf      & 10        & no        &  36.40000\\\\\n",
       "\t 476       & 476       & f         & 22        & 1         & neutral   & 10        & none      &  35.40000\\\\\n",
       "\t 477       & 477       & f         & 21        & 1         & neutral   &  1        & none      &  34.20000\\\\\n",
       "\t 478       & 478       & f         & 21        & 0         & asdf      &  1        & no        &  33.40000\\\\\n",
       "\t 479       & 479       & f         & 22        & 1         & asdf      &  5        & yes       &  35.30000\\\\\n",
       "\t 480       & 480       & f         & 21        & 1         & neutral   & 10        & none      &  34.80000\\\\\n",
       "\t 481       & 481       & m         & 22        & 1         & neutral   & 10        & yes       &  23.70000\\\\\n",
       "\t 482       & 482       & m         & 23        & 1         & neutral   & 10        & none      &  24.20000\\\\\n",
       "\t 483       & 483       & f         & 23        & 1         & neutral   &  5        & none      &  36.30000\\\\\n",
       "\t 484       & 484       & m         & 21        & 1         & elderly   & 30        & none      &  37.30000\\\\\n",
       "\t 485       & 485       & m         & 22        & 1         & elderly   & 10        & no        &  35.00000\\\\\n",
       "\t 486       & 486       & m         & 24        & 0         & neutral   &  1        & yes       &  25.50000\\\\\n",
       "\t 487       & 487       & m         & 20        & 1         & asdf      &  5        & none      &  24.70000\\\\\n",
       "\t 488       & 488       & f         & 22        & 1         & asdf      &  5        & none      &  34.10000\\\\\n",
       "\t 489       & 489       & f         & 22        & 1         & elderly   & 10        & yes       & -13.34011\\\\\n",
       "\t 490       & 490       & m         & 23        & 1         & elderly   & 10        & none      &  35.00000\\\\\n",
       "\t 491       & 491       & f         & 21        & 1         & elderly   &  1        & none      & -13.34011\\\\\n",
       "\t 492       & 492       & m         & 22        & 1         & neutral   &  5        & no        &  25.20000\\\\\n",
       "\t 493       & 493       & m         & 22        & 1         & asdf      & 30        & no        &  22.60000\\\\\n",
       "\t 494       & 494       & m         & 22        & 1         & asdf      & 30        & yes       &  23.50000\\\\\n",
       "\t 495       & 495       & m         & 21        & 0         & elderly   &  1        & no        &  35.80000\\\\\n",
       "\t 496       & 496       & f         & 24        & 1         & elderly   &  5        & no        &  44.90000\\\\\n",
       "\t 497       & 497       & m         & 22        & 1         & neutral   & 10        & no        & -66.21469\\\\\n",
       "\t 498       & 498       & m         & 22        & 1         & neutral   & 10        & none      &  26.80000\\\\\n",
       "\t 499       & 499       & f         & 22        & 1         & elderly   &  5        & no        &  43.80000\\\\\n",
       "\t 500       & 500       & m         & 22        & 1         & elderly   & 30        & yes       &  40.20000\\\\\n",
       "\\end{tabular}\n"
      ],
      "text/markdown": [
       "\n",
       "| X | a | b | c | d | e | f | g | h |\n",
       "|---|---|---|---|---|---|---|---|---|\n",
       "|  1        |  1        | m         | 21        | 1         | asdf      |  1        | no        |  25.40000 |\n",
       "|  2        |  2        | m         | 21        | 1         | asdf      | 30        | no        |  23.60000 |\n",
       "|  3        |  3        | f         | 22        | 1         | asdf      | 30        | none      |  34.50000 |\n",
       "|  4        |  4        | m         | 23        | 1         | elderly   |  1        | yes       |  40.40000 |\n",
       "|  5        |  5        | m         | 23        | 1         | asdf      | 10        | none      |  25.00000 |\n",
       "|  6        |  6        | m         | 22        | 1         | asdf      | 10        | yes       |  24.70000 |\n",
       "|  7        |  7        | f         | 20        | 1         | asdf      | 10        | yes       |  35.30000 |\n",
       "|  8        |  8        | m         | 24        | 1         | elderly   |  1        | none      |  34.00000 |\n",
       "|  9        |  9        | f         | 21        | 1         | asdf      | 10        | no        |  35.40000 |\n",
       "| 10        | 10        | m         | 22        | 1         | neutral   |  5        | none      |  24.40000 |\n",
       "| 11        | 11        | f         | 22        | 1         | asdf      | 30        | yes       |  35.20000 |\n",
       "| 12        | 12        | f         | 22        | 1         | neutral   | 10        | yes       |  36.80000 |\n",
       "| 13        | 13        | m         | 21        | 1         | neutral   | 30        | none      |  23.60000 |\n",
       "| 14        | 14        | m         | 22        | 1         | elderly   | 10        | yes       |  39.10000 |\n",
       "| 15        | 15        | f         | 23        | 0         | asdf      | 30        | yes       |  34.20000 |\n",
       "| 16        | 16        | f         | 22        | 1         | asdf      | 10        | none      | -72.81046 |\n",
       "| 17        | 17        | m         | 23        | 1         | neutral   |  1        | none      |  23.70000 |\n",
       "| 18        | 18        | m         | 21        | 1         | neutral   | 30        | yes       |  24.30000 |\n",
       "| 19        | 19        | m         | 22        | 1         | neutral   |  1        | yes       |  25.20000 |\n",
       "| 20        | 20        | f         | 23        | 0         | elderly   |  5        | yes       |  48.90000 |\n",
       "| 21        | 21        | f         | 23        | 0         | elderly   |  5        | yes       | -54.43971 |\n",
       "| 22        | 22        | f         | 22        | 1         | asdf      |  1        | none      |  34.30000 |\n",
       "| 23        | 23        | f         | 23        | 1         | elderly   | 10        | none      |  45.10000 |\n",
       "| 24        | 24        | f         | 22        | 1         | neutral   | 10        | none      |  34.70000 |\n",
       "| 25        | 25        | m         | 23        | 0         | asdf      | 10        | no        |  24.40000 |\n",
       "| 26        | 26        | m         | 21        | 1         | elderly   |  1        | none      |  33.10000 |\n",
       "| 27        | 27        | f         | 22        | 1         | neutral   |  1        | yes       |  33.20000 |\n",
       "| 28        | 28        | f         | 22        | 1         | elderly   |  1        | no        | -87.74289 |\n",
       "| 29        | 29        | f         | 23        | 1         | elderly   |  1        | yes       |  51.20000 |\n",
       "| 30        | 30        | m         | 19        | 0         | elderly   | 10        | no        |  35.20000 |\n",
       "| ⋮ | ⋮ | ⋮ | ⋮ | ⋮ | ⋮ | ⋮ | ⋮ | ⋮ |\n",
       "| 471       | 471       | m         | 24        | 1         | elderly   | 10        | yes       |  40.50000 |\n",
       "| 472       | 472       | m         | 23        | 1         | neutral   | 10        | no        |  24.30000 |\n",
       "| 473       | 473       | m         | 21        | 1         | asdf      |  5        | no        |  25.50000 |\n",
       "| 474       | 474       | m         | 23        | 1         | neutral   | 30        | no        |  25.70000 |\n",
       "| 475       | 475       | f         | 23        | 1         | asdf      | 10        | no        |  36.40000 |\n",
       "| 476       | 476       | f         | 22        | 1         | neutral   | 10        | none      |  35.40000 |\n",
       "| 477       | 477       | f         | 21        | 1         | neutral   |  1        | none      |  34.20000 |\n",
       "| 478       | 478       | f         | 21        | 0         | asdf      |  1        | no        |  33.40000 |\n",
       "| 479       | 479       | f         | 22        | 1         | asdf      |  5        | yes       |  35.30000 |\n",
       "| 480       | 480       | f         | 21        | 1         | neutral   | 10        | none      |  34.80000 |\n",
       "| 481       | 481       | m         | 22        | 1         | neutral   | 10        | yes       |  23.70000 |\n",
       "| 482       | 482       | m         | 23        | 1         | neutral   | 10        | none      |  24.20000 |\n",
       "| 483       | 483       | f         | 23        | 1         | neutral   |  5        | none      |  36.30000 |\n",
       "| 484       | 484       | m         | 21        | 1         | elderly   | 30        | none      |  37.30000 |\n",
       "| 485       | 485       | m         | 22        | 1         | elderly   | 10        | no        |  35.00000 |\n",
       "| 486       | 486       | m         | 24        | 0         | neutral   |  1        | yes       |  25.50000 |\n",
       "| 487       | 487       | m         | 20        | 1         | asdf      |  5        | none      |  24.70000 |\n",
       "| 488       | 488       | f         | 22        | 1         | asdf      |  5        | none      |  34.10000 |\n",
       "| 489       | 489       | f         | 22        | 1         | elderly   | 10        | yes       | -13.34011 |\n",
       "| 490       | 490       | m         | 23        | 1         | elderly   | 10        | none      |  35.00000 |\n",
       "| 491       | 491       | f         | 21        | 1         | elderly   |  1        | none      | -13.34011 |\n",
       "| 492       | 492       | m         | 22        | 1         | neutral   |  5        | no        |  25.20000 |\n",
       "| 493       | 493       | m         | 22        | 1         | asdf      | 30        | no        |  22.60000 |\n",
       "| 494       | 494       | m         | 22        | 1         | asdf      | 30        | yes       |  23.50000 |\n",
       "| 495       | 495       | m         | 21        | 0         | elderly   |  1        | no        |  35.80000 |\n",
       "| 496       | 496       | f         | 24        | 1         | elderly   |  5        | no        |  44.90000 |\n",
       "| 497       | 497       | m         | 22        | 1         | neutral   | 10        | no        | -66.21469 |\n",
       "| 498       | 498       | m         | 22        | 1         | neutral   | 10        | none      |  26.80000 |\n",
       "| 499       | 499       | f         | 22        | 1         | elderly   |  5        | no        |  43.80000 |\n",
       "| 500       | 500       | m         | 22        | 1         | elderly   | 30        | yes       |  40.20000 |\n",
       "\n"
      ],
      "text/plain": [
       "    X   a   b c  d e       f  g    h        \n",
       "1    1   1  m 21 1 asdf     1 no    25.40000\n",
       "2    2   2  m 21 1 asdf    30 no    23.60000\n",
       "3    3   3  f 22 1 asdf    30 none  34.50000\n",
       "4    4   4  m 23 1 elderly  1 yes   40.40000\n",
       "5    5   5  m 23 1 asdf    10 none  25.00000\n",
       "6    6   6  m 22 1 asdf    10 yes   24.70000\n",
       "7    7   7  f 20 1 asdf    10 yes   35.30000\n",
       "8    8   8  m 24 1 elderly  1 none  34.00000\n",
       "9    9   9  f 21 1 asdf    10 no    35.40000\n",
       "10  10  10  m 22 1 neutral  5 none  24.40000\n",
       "11  11  11  f 22 1 asdf    30 yes   35.20000\n",
       "12  12  12  f 22 1 neutral 10 yes   36.80000\n",
       "13  13  13  m 21 1 neutral 30 none  23.60000\n",
       "14  14  14  m 22 1 elderly 10 yes   39.10000\n",
       "15  15  15  f 23 0 asdf    30 yes   34.20000\n",
       "16  16  16  f 22 1 asdf    10 none -72.81046\n",
       "17  17  17  m 23 1 neutral  1 none  23.70000\n",
       "18  18  18  m 21 1 neutral 30 yes   24.30000\n",
       "19  19  19  m 22 1 neutral  1 yes   25.20000\n",
       "20  20  20  f 23 0 elderly  5 yes   48.90000\n",
       "21  21  21  f 23 0 elderly  5 yes  -54.43971\n",
       "22  22  22  f 22 1 asdf     1 none  34.30000\n",
       "23  23  23  f 23 1 elderly 10 none  45.10000\n",
       "24  24  24  f 22 1 neutral 10 none  34.70000\n",
       "25  25  25  m 23 0 asdf    10 no    24.40000\n",
       "26  26  26  m 21 1 elderly  1 none  33.10000\n",
       "27  27  27  f 22 1 neutral  1 yes   33.20000\n",
       "28  28  28  f 22 1 elderly  1 no   -87.74289\n",
       "29  29  29  f 23 1 elderly  1 yes   51.20000\n",
       "30  30  30  m 19 0 elderly 10 no    35.20000\n",
       "⋮   ⋮   ⋮   ⋮ ⋮  ⋮ ⋮       ⋮  ⋮    ⋮        \n",
       "471 471 471 m 24 1 elderly 10 yes   40.50000\n",
       "472 472 472 m 23 1 neutral 10 no    24.30000\n",
       "473 473 473 m 21 1 asdf     5 no    25.50000\n",
       "474 474 474 m 23 1 neutral 30 no    25.70000\n",
       "475 475 475 f 23 1 asdf    10 no    36.40000\n",
       "476 476 476 f 22 1 neutral 10 none  35.40000\n",
       "477 477 477 f 21 1 neutral  1 none  34.20000\n",
       "478 478 478 f 21 0 asdf     1 no    33.40000\n",
       "479 479 479 f 22 1 asdf     5 yes   35.30000\n",
       "480 480 480 f 21 1 neutral 10 none  34.80000\n",
       "481 481 481 m 22 1 neutral 10 yes   23.70000\n",
       "482 482 482 m 23 1 neutral 10 none  24.20000\n",
       "483 483 483 f 23 1 neutral  5 none  36.30000\n",
       "484 484 484 m 21 1 elderly 30 none  37.30000\n",
       "485 485 485 m 22 1 elderly 10 no    35.00000\n",
       "486 486 486 m 24 0 neutral  1 yes   25.50000\n",
       "487 487 487 m 20 1 asdf     5 none  24.70000\n",
       "488 488 488 f 22 1 asdf     5 none  34.10000\n",
       "489 489 489 f 22 1 elderly 10 yes  -13.34011\n",
       "490 490 490 m 23 1 elderly 10 none  35.00000\n",
       "491 491 491 f 21 1 elderly  1 none -13.34011\n",
       "492 492 492 m 22 1 neutral  5 no    25.20000\n",
       "493 493 493 m 22 1 asdf    30 no    22.60000\n",
       "494 494 494 m 22 1 asdf    30 yes   23.50000\n",
       "495 495 495 m 21 0 elderly  1 no    35.80000\n",
       "496 496 496 f 24 1 elderly  5 no    44.90000\n",
       "497 497 497 m 22 1 neutral 10 no   -66.21469\n",
       "498 498 498 m 22 1 neutral 10 none  26.80000\n",
       "499 499 499 f 22 1 elderly  5 no    43.80000\n",
       "500 500 500 m 22 1 elderly 30 yes   40.20000"
      ]
     },
     "metadata": {},
     "output_type": "display_data"
    }
   ],
   "source": [
    "priming"
   ]
  },
  {
   "cell_type": "markdown",
   "metadata": {},
   "source": [
    "### Dataset description\n",
    "\n",
    "In a provocative paper, Bargh, Chen and Burrows (1996) sought to test whether or not priming people with trait concepts would trigger trait-consistent behavior. In one study, they primed participants with either neutral words (e.g.; bat, cookie, pen), or with words related to an elderly stereotype (e.g.; wise, stubborn, old). They then, unbeknownst to the participants, used a stopwatch to record how long it took the participants to walk down a hallway at the conclusion of an experiment. They predicted that participants primed with words related to the elderly would walk slower than those primed with neutral words. \n",
    "\n",
    "In this WPA, you will analyze *fake* data corresponding to this study. \n",
    "\n",
    "Our fake study has 3 primary independent variables:\n",
    "\n",
    "- `prime`: What kind of primes was the participant given? `neutral` means neutral primes, `elderly` means elderly primes.\n",
    "- `prime.duration`: How long (in minutes) were primes displayed to participants? There were 4 conditions: 1, 5, 10 or 30.\n",
    "- `grandparents`: Did the participant have a close relationship with their grandparents? `yes` means yes, `no` means no, `none` means they never met their grandparents.\n",
    "\n",
    "There was one primary dependent variable\n",
    "\n",
    "- `walk`: How long (in seconds) did participants take to walk down the hallway?\n",
    "\n",
    "There were 4 additional variables:\n",
    "\n",
    "- `id`: The order in which participants completed the study\n",
    "- `age`: Participants' age\n",
    "- `sex`: Participants' sex\n",
    "- `attention`: Did the participant pass an attention check? 0 means they failed the attention check, 1 means they passed."
   ]
  },
  {
   "cell_type": "markdown",
   "metadata": {},
   "source": [
    "## Now it's your turn:"
   ]
  },
  {
   "cell_type": "markdown",
   "metadata": {},
   "source": [
    "### A. Understanding and cleaning the data\n",
    "\n",
    "1. Get to know the data using `View()`, `summary()`, `head()` and `str()`.\n",
    "\n",
    "2. Look at the names of the dataframe with `names()`. Those aren't very informative are they? Change the names to the correct values (make sure to use the naming scheme I describe in the dataset description)."
   ]
  },
  {
   "cell_type": "markdown",
   "metadata": {},
   "source": [
    "### B. Applying functions to columns\n",
    "\n",
    "1. What was the mean participant age?\n",
    "\n",
    "2. How many participants were there from each sex?\n",
    "\n",
    "3. What was the median walking time?\n",
    "\n",
    "4. What *percent* of participants passed the attention check (Hint: To calculate a percentage from a 0, 1 variable, use `mean()`)\n",
    "\n",
    "5. Walking time is currently in seconds. Add a new column to the dataframe called `walking.m` That shows the walking time in minutes rather than seconds."
   ]
  },
  {
   "cell_type": "markdown",
   "metadata": {},
   "source": [
    "### C. Indexing and subsettting dataframes\n",
    "\n",
    "*Try to split your answers to these problems into two steps*\n",
    "\n",
    "*Step 1: Index or subset the original data and store as a new object with a new name.*\n",
    "\n",
    "*Step 2: Calculate the appropriate summary statistic using the new, subsetted object you just created.*\n",
    "\n",
    "1. What were the sexes of the first 10 participants?\n",
    "\n",
    "2. What was the data for the 50th participant?\n",
    "\n",
    "3. What was the mean walking time for the elderly prime condition?\n",
    "\n",
    "4. What was the mean walking time for the neutral prime condition?\n",
    "\n",
    "5. What was the mean walking time for participants less than 23 years old?\n",
    "\n",
    "6. What was the mean walking time for females with a close relationship with their grandparents?\n",
    "\n",
    "7. What was the mean walking time for males over 24 years old *without* a close relationship with their grandparents?"
   ]
  },
  {
   "cell_type": "markdown",
   "metadata": {},
   "source": [
    "### D. Creating new dataframe objects\n",
    "\n",
    "1. Create a new dataframe called `priming.att` that *only* includes rows where participants passed the attention check. (Hint: use indexing or `subset()`)\n",
    "\n",
    "2. Some of the data don't make any sense. For example, some walking times are negative, some prime values aren't correct, and some prime.duration values weren't part of the original study plan. Create a new dataframe called `priming.c` (aka., priming clean) that *only* includes rows with valid values for each column -- do this by looking for an few strange values in each column, and by looking at the original dataset description. Additionally, *only* include participants who passed the attention check.\n",
    "\n",
    "3. How many participants gave valid data and passed the attention check? (Hint: Use the result from your previous answer!)\n",
    "\n",
    "4. Of those participants who gave valid data and passed the attention check, what was the mean walking time of those given the elderly and neutral prime (calculate these separately)."
   ]
  },
  {
   "cell_type": "raw",
   "metadata": {},
   "source": [
    "# Here a skeleton of how your code should look like to answer D2:\n",
    "\n",
    "# Create priming.c, a subset of the original priming data\n",
    "#  (replace __ with the appropriate values)\n",
    "priming.c <- subset(priming,\n",
    "                    subset = sex %in% c(_____) & \n",
    "                             age > ____ &\n",
    "                             attention == ___ &\n",
    "                             prime %in% c(___) &\n",
    "                             prime.duration %in% c(___) &\n",
    "                             grandparents %in% c(___) &\n",
    "                             walk > ___ )"
   ]
  },
  {
   "cell_type": "markdown",
   "metadata": {},
   "source": [
    "### E. Saving and loading data\n",
    "\n",
    "1. Save your two dataframe objects `priming` and `priming.c` in an .RData file called `priming.RData` in the data folder of your project\n",
    "\n",
    "2. Save your `priming.c` object as a tab--delimited text file called `priming_clean.txt` in the data folder of your project.\n",
    "\n",
    "3. Clean your workspace by running `rm(list = ls())`\n",
    "\n",
    "4. Re-load your two dataframe objects using `load()`.\n",
    "\n",
    "5. A colleague of yours wants access to the data from the females given the neutral prime in your experiment. Create a dataframe called `priming.f` that only includes these data. Additionally, do *not* include the `id` column as this could be used to identify the participants.\n",
    "\n",
    "6. Save your `priming.f` object as a tab--delimited text file called `priming_females.txt` in the data folder of your project.\n",
    "\n",
    "7. Save your entire workspace using `save.image` to an .RData file called `priming_ws.RData` in the data folder of your project."
   ]
  },
  {
   "cell_type": "markdown",
   "metadata": {},
   "source": [
    "### F. Final steps...\n",
    "\n",
    "The following questions apply to your cleaned dataframe (`priming.c`)\n",
    "\n",
    "1. Did the effect of priming condition on walking times differ between the first 100 and the last 100 participants (Hint: Make sure to index the data using `id`!)?\n",
    "\n",
    "2. Due to a computer error, the data from every participant with an even id number is invalid. Remove these data from your `priming.c` dataframe.\n",
    "\n",
    "3. Do you find evidence that a participant's relationship with their grandparents affects how they responded to the primes?"
   ]
  },
  {
   "cell_type": "markdown",
   "metadata": {},
   "source": [
    "### That's it! Now it's time to submit your assignment!\n",
    "\n",
    "Save and email your `wpa_3_LastFirst.R` file to me at [laura.fontanesi@unibas.ch](mailto:laura.fontanesi@unibas.ch). \n",
    "\n",
    "Assignments sent after Sunday 24th March will not be considered (to pass the course you have to hand in all assignments for each week). "
   ]
  }
 ],
 "metadata": {
  "kernelspec": {
   "display_name": "R",
   "language": "R",
   "name": "ir"
  },
  "language_info": {
   "codemirror_mode": "r",
   "file_extension": ".r",
   "mimetype": "text/x-r-source",
   "name": "R",
   "pygments_lexer": "r",
   "version": "3.5.1"
  }
 },
 "nbformat": 4,
 "nbformat_minor": 2
}
