{
 "cells": [
  {
   "cell_type": "markdown",
   "metadata": {},
   "source": [
    "# WPA #1 -- Chapters 1 through 4"
   ]
  },
  {
   "cell_type": "markdown",
   "metadata": {},
   "source": [
    "Open a new R script in R and **save it as** `wpa_1_LastFirst.R` (where Last and First is your last and first name). \n",
    "\n",
    "Careful about capitalizing, and using `_` and **not**, e.g., `WPA-1-LastFirst.R`\n",
    "\n",
    "At the top of your script, write the following (**with appropriate changes**):"
   ]
  },
  {
   "cell_type": "code",
   "execution_count": 1,
   "metadata": {},
   "outputs": [],
   "source": [
    "# Assignment: WPA 1\n",
    "# Name: Walter White\n",
    "# Date: 26 February 2019"
   ]
  },
  {
   "cell_type": "markdown",
   "metadata": {},
   "source": [
    "Copy and paste each of the following code chunks (**only the generating code**, not outputs and not text) into your assignment.\n",
    "\n",
    "*Here is an example of how your `wpa_1_LastFirst.R` file could look:*"
   ]
  },
  {
   "cell_type": "raw",
   "metadata": {},
   "source": [
    "# Assignment: WPA 1\n",
    "# Name: LAST, FIRST\n",
    "# Date: DAY MONTH YEAR\n",
    "\n",
    "\n",
    "# TASK A1\n",
    "# Add 1 to 1\n",
    "1 + 1\n",
    "\n",
    "# TASK A2\n",
    "# Draw 100 samples from a standard normal\n",
    "x <- rnorm(100)\n",
    "\n",
    "# TASK A3\n",
    "# Conduct a t-test\n",
    "t.test(x)\n",
    "\n",
    "#... and so on..."
   ]
  },
  {
   "cell_type": "markdown",
   "metadata": {},
   "source": [
    "## Does drinking non-alcoholic beer affect cognitive performance?"
   ]
  },
  {
   "cell_type": "markdown",
   "metadata": {},
   "source": [
    "<img src=\"http://i.telegraph.co.uk/multimedia/archive/02326/obama_2326627b.jpg\" width=\"400\" />"
   ]
  },
  {
   "cell_type": "markdown",
   "metadata": {},
   "source": [
    "A psychologist has a theory that some of the negative cognitive effects of alcohol are the result of psychological rather than physiological processes. To test this, she has 12 participants perform a cognitive test before and after drinking non-alcoholic beer which was labelled to contain 5% alcohol. Results from the study, including some demographic data, are presented in the following table. Note that higher scores on the test indicate better performance."
   ]
  },
  {
   "cell_type": "markdown",
   "metadata": {},
   "source": [
    "participant | before  | after | age | sex | eye.color\n",
    "----| ------ | ------- | ---- | ---- | ----\n",
    "1 | 45 | 43 | 20 | male | blue\n",
    "2 | 49 | 50 | 19 | female | blue\n",
    "3 | 40 | 61 | 22 | male | brown\n",
    "4 | 48 | 44 | 20 | female | brown\n",
    "5 | 44 | 45 | 27 | male | blue\n",
    "6 | 70 | 20 | 22 | female | blue\n",
    "7 | 90 | 85 | 22 | male | brown\n",
    "8 | 75 | 65 | 20 | female | brown\n",
    "9 | 80 | 72 | 25 | male | blue\n",
    "10| 65 | 65 | 22 | female | blue\n",
    "11 | 80 | 70 | 24 | male | brown\n",
    "12 | 52 | 75 | 22 | female | brown"
   ]
  },
  {
   "cell_type": "markdown",
   "metadata": {},
   "source": [
    "### Creating vectors from scratch"
   ]
  },
  {
   "cell_type": "code",
   "execution_count": 2,
   "metadata": {},
   "outputs": [],
   "source": [
    "###   Creating vector using c()\n",
    "a <- c(3, 5, 2, 1)\n",
    "\n",
    "###   Creating vector using seq()\n",
    "b <- seq(1, 7, 2)\n",
    "\n",
    "###   Creating vector using rep()\n",
    "c <- rep(1:2, 5)"
   ]
  },
  {
   "cell_type": "markdown",
   "metadata": {},
   "source": [
    "**TASK A (now is your turn):**\n",
    "\n",
    "A1. Create a vector of the participant data called `participant` using the `c()` function.\n",
    "\n",
    "A2. Now, create the `participant` vector again, but this time use the `a:b` function.\n",
    "\n",
    "A3. Now create the `participant` vector again, but this time use the `seq()` function. \n",
    "\n",
    "A4. Create a vector of the before drink data called `before` using `c()`.\n",
    "\n",
    "A5. Create a vector of the after drink data called `after` using `c()`.\n",
    "\n",
    "A6. Create a vector of the age data called `age` using `c()`.\n",
    "\n",
    "A7. Create a vector of the sex data called `sex` but don't use `c()`. Instead, use the `rep()` function by looking for a pattern in the data.\n",
    "\n",
    "A8. Create a vector of the eye color data called `eye_color` but don't use `c()`. Instead, use the `rep()` function by looking for the pattern in the data."
   ]
  },
  {
   "cell_type": "code",
   "execution_count": 3,
   "metadata": {},
   "outputs": [],
   "source": [
    "participant <- c(1, 2, 3, 4, 5, 6, 7, 8, 9, 10, 11, 12)"
   ]
  },
  {
   "cell_type": "code",
   "execution_count": 4,
   "metadata": {},
   "outputs": [],
   "source": [
    "participant <- 1:12"
   ]
  },
  {
   "cell_type": "code",
   "execution_count": 5,
   "metadata": {},
   "outputs": [],
   "source": [
    "participant <- seq(1, 12)"
   ]
  },
  {
   "cell_type": "code",
   "execution_count": 6,
   "metadata": {},
   "outputs": [
    {
     "data": {
      "text/html": [
       "12"
      ],
      "text/latex": [
       "12"
      ],
      "text/markdown": [
       "12"
      ],
      "text/plain": [
       "[1] 12"
      ]
     },
     "metadata": {},
     "output_type": "display_data"
    }
   ],
   "source": [
    "before <- c(45, 49, 40, 48, 44, 70, 90, 75, 80, 65, 80, 52)\n",
    "length(before)"
   ]
  },
  {
   "cell_type": "code",
   "execution_count": 7,
   "metadata": {},
   "outputs": [
    {
     "data": {
      "text/html": [
       "12"
      ],
      "text/latex": [
       "12"
      ],
      "text/markdown": [
       "12"
      ],
      "text/plain": [
       "[1] 12"
      ]
     },
     "metadata": {},
     "output_type": "display_data"
    }
   ],
   "source": [
    "after <- c(43, 50, 61, 44, 45, 20, 85, 65, 72, 65, 70, 75)\n",
    "length(after)"
   ]
  },
  {
   "cell_type": "code",
   "execution_count": 8,
   "metadata": {},
   "outputs": [
    {
     "data": {
      "text/html": [
       "12"
      ],
      "text/latex": [
       "12"
      ],
      "text/markdown": [
       "12"
      ],
      "text/plain": [
       "[1] 12"
      ]
     },
     "metadata": {},
     "output_type": "display_data"
    }
   ],
   "source": [
    "age <- c(20, 19, 22, 20, 27, 22, 22, 20, 25, 22, 24, 22)\n",
    "length(age)"
   ]
  },
  {
   "cell_type": "code",
   "execution_count": 9,
   "metadata": {},
   "outputs": [],
   "source": [
    "sex <- rep(c(\"male\", \"female\"), length.out = 12)\n",
    "# OR\n",
    "sex <- rep(c(\"male\", \"female\"), times = 6)\n",
    "\n",
    "####      if you forget to use \"\" around \"male\" and \"female\" or don't put them in c() it won't work properly."
   ]
  },
  {
   "cell_type": "code",
   "execution_count": 10,
   "metadata": {},
   "outputs": [],
   "source": [
    "# Here are different methods:\n",
    "eye.color <- rep(c(\"blue\", \"brown\"), each = 2, times = 3)\n",
    "eye.color <- rep(c(\"blue\", \"brown\"), each = 2, length.out = 12)\n",
    "eye.color <- rep(c(\"blue\", \"blue\", \"brown\", \"brown\"), times = 3)"
   ]
  },
  {
   "cell_type": "markdown",
   "metadata": {},
   "source": [
    "### Combining and changing vectors"
   ]
  },
  {
   "cell_type": "code",
   "execution_count": 11,
   "metadata": {},
   "outputs": [
    {
     "data": {
      "text/html": [
       "<ol class=list-inline>\n",
       "\t<li>4</li>\n",
       "\t<li>8</li>\n",
       "\t<li>7</li>\n",
       "\t<li>8</li>\n",
       "</ol>\n"
      ],
      "text/latex": [
       "\\begin{enumerate*}\n",
       "\\item 4\n",
       "\\item 8\n",
       "\\item 7\n",
       "\\item 8\n",
       "\\end{enumerate*}\n"
      ],
      "text/markdown": [
       "1. 4\n",
       "2. 8\n",
       "3. 7\n",
       "4. 8\n",
       "\n",
       "\n"
      ],
      "text/plain": [
       "[1] 4 8 7 8"
      ]
     },
     "metadata": {},
     "output_type": "display_data"
    }
   ],
   "source": [
    "###   Adding Vectors\n",
    "a + b"
   ]
  },
  {
   "cell_type": "code",
   "execution_count": 12,
   "metadata": {},
   "outputs": [
    {
     "data": {
      "text/html": [
       "<ol class=list-inline>\n",
       "\t<li>0.5</li>\n",
       "\t<li>1.5</li>\n",
       "\t<li>2.5</li>\n",
       "\t<li>3.5</li>\n",
       "</ol>\n"
      ],
      "text/latex": [
       "\\begin{enumerate*}\n",
       "\\item 0.5\n",
       "\\item 1.5\n",
       "\\item 2.5\n",
       "\\item 3.5\n",
       "\\end{enumerate*}\n"
      ],
      "text/markdown": [
       "1. 0.5\n",
       "2. 1.5\n",
       "3. 2.5\n",
       "4. 3.5\n",
       "\n",
       "\n"
      ],
      "text/plain": [
       "[1] 0.5 1.5 2.5 3.5"
      ]
     },
     "metadata": {},
     "output_type": "display_data"
    }
   ],
   "source": [
    "###   Multiplying vectors and scalars\n",
    "b*0.5"
   ]
  },
  {
   "cell_type": "markdown",
   "metadata": {},
   "source": [
    "**TASK B (now is your turn):**\n",
    "\n",
    "B1. Create a new vector called `age_years` that shows the participants' age in months instead of years. (Hint: use basic vector arithmetic)\n",
    "\n",
    "B2. Create a new vector called `change` that shows the change in participants' scores from before to after (Hint: use basic vector arithmetic)\n",
    "\n",
    "B3. Create a new vector called `average` that shows the participants' *average* score across both tests. That is, the first element of `average` should be the average of the first participant's two scores, and the second element should be the average of the second participant's two scores...(Hint: Don't use `mean()`! Use basic vector arithmetic)\n",
    "\n",
    "B4. Oops! It turns out that the watch used to measure time was off. All the before times are 1 second too fast, and all the after times are 1 second too slow. Correct them!"
   ]
  },
  {
   "cell_type": "code",
   "execution_count": 13,
   "metadata": {},
   "outputs": [
    {
     "data": {
      "text/html": [
       "<ol class=list-inline>\n",
       "\t<li>240</li>\n",
       "\t<li>228</li>\n",
       "\t<li>264</li>\n",
       "\t<li>240</li>\n",
       "\t<li>324</li>\n",
       "\t<li>264</li>\n",
       "\t<li>264</li>\n",
       "\t<li>240</li>\n",
       "\t<li>300</li>\n",
       "\t<li>264</li>\n",
       "\t<li>288</li>\n",
       "\t<li>264</li>\n",
       "</ol>\n"
      ],
      "text/latex": [
       "\\begin{enumerate*}\n",
       "\\item 240\n",
       "\\item 228\n",
       "\\item 264\n",
       "\\item 240\n",
       "\\item 324\n",
       "\\item 264\n",
       "\\item 264\n",
       "\\item 240\n",
       "\\item 300\n",
       "\\item 264\n",
       "\\item 288\n",
       "\\item 264\n",
       "\\end{enumerate*}\n"
      ],
      "text/markdown": [
       "1. 240\n",
       "2. 228\n",
       "3. 264\n",
       "4. 240\n",
       "5. 324\n",
       "6. 264\n",
       "7. 264\n",
       "8. 240\n",
       "9. 300\n",
       "10. 264\n",
       "11. 288\n",
       "12. 264\n",
       "\n",
       "\n"
      ],
      "text/plain": [
       " [1] 240 228 264 240 324 264 264 240 300 264 288 264"
      ]
     },
     "metadata": {},
     "output_type": "display_data"
    }
   ],
   "source": [
    "age_years <- age * 12\n",
    "age_years"
   ]
  },
  {
   "cell_type": "code",
   "execution_count": 14,
   "metadata": {},
   "outputs": [
    {
     "data": {
      "text/html": [
       "<ol class=list-inline>\n",
       "\t<li>-2</li>\n",
       "\t<li>1</li>\n",
       "\t<li>21</li>\n",
       "\t<li>-4</li>\n",
       "\t<li>1</li>\n",
       "\t<li>-50</li>\n",
       "\t<li>-5</li>\n",
       "\t<li>-10</li>\n",
       "\t<li>-8</li>\n",
       "\t<li>0</li>\n",
       "\t<li>-10</li>\n",
       "\t<li>23</li>\n",
       "</ol>\n"
      ],
      "text/latex": [
       "\\begin{enumerate*}\n",
       "\\item -2\n",
       "\\item 1\n",
       "\\item 21\n",
       "\\item -4\n",
       "\\item 1\n",
       "\\item -50\n",
       "\\item -5\n",
       "\\item -10\n",
       "\\item -8\n",
       "\\item 0\n",
       "\\item -10\n",
       "\\item 23\n",
       "\\end{enumerate*}\n"
      ],
      "text/markdown": [
       "1. -2\n",
       "2. 1\n",
       "3. 21\n",
       "4. -4\n",
       "5. 1\n",
       "6. -50\n",
       "7. -5\n",
       "8. -10\n",
       "9. -8\n",
       "10. 0\n",
       "11. -10\n",
       "12. 23\n",
       "\n",
       "\n"
      ],
      "text/plain": [
       " [1]  -2   1  21  -4   1 -50  -5 -10  -8   0 -10  23"
      ]
     },
     "metadata": {},
     "output_type": "display_data"
    }
   ],
   "source": [
    "change <- after - before\n",
    "change"
   ]
  },
  {
   "cell_type": "code",
   "execution_count": 15,
   "metadata": {},
   "outputs": [
    {
     "data": {
      "text/html": [
       "<ol class=list-inline>\n",
       "\t<li>44</li>\n",
       "\t<li>49.5</li>\n",
       "\t<li>50.5</li>\n",
       "\t<li>46</li>\n",
       "\t<li>44.5</li>\n",
       "\t<li>45</li>\n",
       "\t<li>87.5</li>\n",
       "\t<li>70</li>\n",
       "\t<li>76</li>\n",
       "\t<li>65</li>\n",
       "\t<li>75</li>\n",
       "\t<li>63.5</li>\n",
       "</ol>\n"
      ],
      "text/latex": [
       "\\begin{enumerate*}\n",
       "\\item 44\n",
       "\\item 49.5\n",
       "\\item 50.5\n",
       "\\item 46\n",
       "\\item 44.5\n",
       "\\item 45\n",
       "\\item 87.5\n",
       "\\item 70\n",
       "\\item 76\n",
       "\\item 65\n",
       "\\item 75\n",
       "\\item 63.5\n",
       "\\end{enumerate*}\n"
      ],
      "text/markdown": [
       "1. 44\n",
       "2. 49.5\n",
       "3. 50.5\n",
       "4. 46\n",
       "5. 44.5\n",
       "6. 45\n",
       "7. 87.5\n",
       "8. 70\n",
       "9. 76\n",
       "10. 65\n",
       "11. 75\n",
       "12. 63.5\n",
       "\n",
       "\n"
      ],
      "text/plain": [
       " [1] 44.0 49.5 50.5 46.0 44.5 45.0 87.5 70.0 76.0 65.0 75.0 63.5"
      ]
     },
     "metadata": {},
     "output_type": "display_data"
    }
   ],
   "source": [
    "average <- (after + before) / 2\n",
    "average"
   ]
  },
  {
   "cell_type": "code",
   "execution_count": 16,
   "metadata": {},
   "outputs": [],
   "source": [
    "before <- before + 1\n",
    "after <- after - 1"
   ]
  },
  {
   "cell_type": "markdown",
   "metadata": {},
   "source": [
    "### Applying functions to vectors"
   ]
  },
  {
   "cell_type": "code",
   "execution_count": 17,
   "metadata": {},
   "outputs": [
    {
     "data": {
      "text/html": [
       "2.75"
      ],
      "text/latex": [
       "2.75"
      ],
      "text/markdown": [
       "2.75"
      ],
      "text/plain": [
       "[1] 2.75"
      ]
     },
     "metadata": {},
     "output_type": "display_data"
    }
   ],
   "source": [
    "###   Mean of a vector\n",
    "mean(a)"
   ]
  },
  {
   "cell_type": "code",
   "execution_count": 18,
   "metadata": {},
   "outputs": [],
   "source": [
    "###   Assigning the mean to a scaler\n",
    "m <- mean(a)"
   ]
  },
  {
   "cell_type": "markdown",
   "metadata": {},
   "source": [
    "**TASK C (now is your turn):**\n",
    "\n",
    "C1. How many elements are in *each* of the original data vectors? (Hint: use `length()`). If the number of elements in each is not the same, you typed something in wrong!\n",
    "\n",
    "C2. What was the standard deviation of ages? Assign the result to a scaler object called `age_sd`.\n",
    "\n",
    "C3. What is the median age? Assign the result to a scaler object called `age_median`.\n",
    "\n",
    "C4. How many people were there of each sex? (Hint: use `table()`)\n",
    "\n",
    "C5. What percent of people had each sex? (Hint: use `table()` then divide by its sum with `sum()`)\n",
    "\n",
    "C6. Calculate the mean of the `sex` column. What happens and why?\n",
    "\n",
    "C7. What was the mean `before` time? Assign the result to a scaler object called `before.mean`.\n",
    "\n",
    "C8. What was the mean `after` time? Assign the result to a scaler object called `after.mean`.\n",
    "\n",
    "C9. What was the difference in the mean `before` times and the mean `after` times? Calculate this in two ways: once using the `change` vector, and once using the `before_mean` and `after_mean` objects. You should get the same answer for both!"
   ]
  },
  {
   "cell_type": "code",
   "execution_count": 19,
   "metadata": {},
   "outputs": [
    {
     "data": {
      "text/html": [
       "12"
      ],
      "text/latex": [
       "12"
      ],
      "text/markdown": [
       "12"
      ],
      "text/plain": [
       "[1] 12"
      ]
     },
     "metadata": {},
     "output_type": "display_data"
    },
    {
     "data": {
      "text/html": [
       "12"
      ],
      "text/latex": [
       "12"
      ],
      "text/markdown": [
       "12"
      ],
      "text/plain": [
       "[1] 12"
      ]
     },
     "metadata": {},
     "output_type": "display_data"
    },
    {
     "data": {
      "text/html": [
       "12"
      ],
      "text/latex": [
       "12"
      ],
      "text/markdown": [
       "12"
      ],
      "text/plain": [
       "[1] 12"
      ]
     },
     "metadata": {},
     "output_type": "display_data"
    },
    {
     "data": {
      "text/html": [
       "12"
      ],
      "text/latex": [
       "12"
      ],
      "text/markdown": [
       "12"
      ],
      "text/plain": [
       "[1] 12"
      ]
     },
     "metadata": {},
     "output_type": "display_data"
    },
    {
     "data": {
      "text/html": [
       "12"
      ],
      "text/latex": [
       "12"
      ],
      "text/markdown": [
       "12"
      ],
      "text/plain": [
       "[1] 12"
      ]
     },
     "metadata": {},
     "output_type": "display_data"
    },
    {
     "data": {
      "text/html": [
       "12"
      ],
      "text/latex": [
       "12"
      ],
      "text/markdown": [
       "12"
      ],
      "text/plain": [
       "[1] 12"
      ]
     },
     "metadata": {},
     "output_type": "display_data"
    }
   ],
   "source": [
    "length(participant)\n",
    "length(before)\n",
    "length(after)\n",
    "length(age)\n",
    "length(sex)\n",
    "length(eye.color)"
   ]
  },
  {
   "cell_type": "code",
   "execution_count": 20,
   "metadata": {},
   "outputs": [
    {
     "data": {
      "text/html": [
       "2.31431644466797"
      ],
      "text/latex": [
       "2.31431644466797"
      ],
      "text/markdown": [
       "2.31431644466797"
      ],
      "text/plain": [
       "[1] 2.314316"
      ]
     },
     "metadata": {},
     "output_type": "display_data"
    }
   ],
   "source": [
    "age_sd <- sd(age)\n",
    "age_sd"
   ]
  },
  {
   "cell_type": "code",
   "execution_count": 21,
   "metadata": {},
   "outputs": [
    {
     "data": {
      "text/html": [
       "22"
      ],
      "text/latex": [
       "22"
      ],
      "text/markdown": [
       "22"
      ],
      "text/plain": [
       "[1] 22"
      ]
     },
     "metadata": {},
     "output_type": "display_data"
    }
   ],
   "source": [
    "age_median <- median(age)\n",
    "age_median"
   ]
  },
  {
   "cell_type": "code",
   "execution_count": 22,
   "metadata": {},
   "outputs": [
    {
     "data": {
      "text/plain": [
       "sex\n",
       "female   male \n",
       "     6      6 "
      ]
     },
     "metadata": {},
     "output_type": "display_data"
    }
   ],
   "source": [
    "table(sex)"
   ]
  },
  {
   "cell_type": "code",
   "execution_count": 23,
   "metadata": {},
   "outputs": [
    {
     "data": {
      "text/plain": [
       "sex\n",
       "female   male \n",
       "   0.5    0.5 "
      ]
     },
     "metadata": {},
     "output_type": "display_data"
    },
    {
     "data": {
      "text/plain": [
       "sex\n",
       "female   male \n",
       "   0.5    0.5 "
      ]
     },
     "metadata": {},
     "output_type": "display_data"
    }
   ],
   "source": [
    "table(sex) / sum(table(sex))\n",
    "\n",
    "# OR\n",
    "\n",
    "table(sex) / length(sex)\n",
    "\n",
    "# If you use sum(sex) instead of sum(table(sex)), it won't work."
   ]
  },
  {
   "cell_type": "code",
   "execution_count": 24,
   "metadata": {},
   "outputs": [
    {
     "name": "stderr",
     "output_type": "stream",
     "text": [
      "Warning message in mean.default(sex):\n",
      "“argument is not numeric or logical: returning NA”"
     ]
    },
    {
     "data": {
      "text/html": [
       "&lt;NA&gt;"
      ],
      "text/latex": [
       "<NA>"
      ],
      "text/markdown": [
       "&lt;NA&gt;"
      ],
      "text/plain": [
       "[1] NA"
      ]
     },
     "metadata": {},
     "output_type": "display_data"
    }
   ],
   "source": [
    "# We get an NA because sex is not a numeric vector!\n",
    "mean(sex)"
   ]
  },
  {
   "cell_type": "code",
   "execution_count": 25,
   "metadata": {},
   "outputs": [
    {
     "data": {
      "text/html": [
       "62.5"
      ],
      "text/latex": [
       "62.5"
      ],
      "text/markdown": [
       "62.5"
      ],
      "text/plain": [
       "[1] 62.5"
      ]
     },
     "metadata": {},
     "output_type": "display_data"
    }
   ],
   "source": [
    "before_mean <- mean(before)\n",
    "before_mean"
   ]
  },
  {
   "cell_type": "code",
   "execution_count": 26,
   "metadata": {},
   "outputs": [
    {
     "data": {
      "text/html": [
       "56.9166666666667"
      ],
      "text/latex": [
       "56.9166666666667"
      ],
      "text/markdown": [
       "56.9166666666667"
      ],
      "text/plain": [
       "[1] 56.91667"
      ]
     },
     "metadata": {},
     "output_type": "display_data"
    }
   ],
   "source": [
    "after_mean <- mean(after)\n",
    "after_mean"
   ]
  },
  {
   "cell_type": "code",
   "execution_count": 27,
   "metadata": {},
   "outputs": [
    {
     "data": {
      "text/html": [
       "-5.58333333333334"
      ],
      "text/latex": [
       "-5.58333333333334"
      ],
      "text/markdown": [
       "-5.58333333333334"
      ],
      "text/plain": [
       "[1] -5.583333"
      ]
     },
     "metadata": {},
     "output_type": "display_data"
    },
    {
     "data": {
      "text/html": [
       "-5.58333333333333"
      ],
      "text/latex": [
       "-5.58333333333333"
      ],
      "text/markdown": [
       "-5.58333333333333"
      ],
      "text/plain": [
       "[1] -5.583333"
      ]
     },
     "metadata": {},
     "output_type": "display_data"
    }
   ],
   "source": [
    "after_mean - before_mean\n",
    "\n",
    "# We have to create the change vector again because we updated after and before!\n",
    "change <- after - before\n",
    "mean(change)"
   ]
  },
  {
   "cell_type": "markdown",
   "metadata": {},
   "source": [
    "### Standardizing (z-scores) vectors"
   ]
  },
  {
   "cell_type": "markdown",
   "metadata": {},
   "source": [
    "**TASK D (now is your turn):**\n",
    "\n",
    "D1. Create a vector called `before_z` showing a standardized version of `before`.\n",
    "\n",
    "D2. Create a vector called `after_z` showing a standardized version of `after`.\n",
    "\n",
    "D3. What was the largest `before` score? What was its corresponding z-score?\n",
    "\n",
    "D4. What was the smallest `after` score? What was its corresponding z-score?\n",
    "\n",
    "D5. What should the mean and standard deviation of `before_z` and `after_z` be? Test your predictions by making the appropriate calculations."
   ]
  },
  {
   "cell_type": "code",
   "execution_count": 28,
   "metadata": {},
   "outputs": [
    {
     "data": {
      "text/html": [
       "<ol class=list-inline>\n",
       "\t<li>-0.96244835485145</li>\n",
       "\t<li>-0.729127541554129</li>\n",
       "\t<li>-1.2540993714731</li>\n",
       "\t<li>-0.787457744878459</li>\n",
       "\t<li>-1.02077855817578</li>\n",
       "\t<li>0.495806728256808</li>\n",
       "\t<li>1.66241079474341</li>\n",
       "\t<li>0.787457744878459</li>\n",
       "\t<li>1.07910876150011</li>\n",
       "\t<li>0.204155711635156</li>\n",
       "\t<li>1.07910876150011</li>\n",
       "\t<li>-0.554136931581138</li>\n",
       "</ol>\n"
      ],
      "text/latex": [
       "\\begin{enumerate*}\n",
       "\\item -0.96244835485145\n",
       "\\item -0.729127541554129\n",
       "\\item -1.2540993714731\n",
       "\\item -0.787457744878459\n",
       "\\item -1.02077855817578\n",
       "\\item 0.495806728256808\n",
       "\\item 1.66241079474341\n",
       "\\item 0.787457744878459\n",
       "\\item 1.07910876150011\n",
       "\\item 0.204155711635156\n",
       "\\item 1.07910876150011\n",
       "\\item -0.554136931581138\n",
       "\\end{enumerate*}\n"
      ],
      "text/markdown": [
       "1. -0.96244835485145\n",
       "2. -0.729127541554129\n",
       "3. -1.2540993714731\n",
       "4. -0.787457744878459\n",
       "5. -1.02077855817578\n",
       "6. 0.495806728256808\n",
       "7. 1.66241079474341\n",
       "8. 0.787457744878459\n",
       "9. 1.07910876150011\n",
       "10. 0.204155711635156\n",
       "11. 1.07910876150011\n",
       "12. -0.554136931581138\n",
       "\n",
       "\n"
      ],
      "text/plain": [
       " [1] -0.9624484 -0.7291275 -1.2540994 -0.7874577 -1.0207786  0.4958067\n",
       " [7]  1.6624108  0.7874577  1.0791088  0.2041557  1.0791088 -0.5541369"
      ]
     },
     "metadata": {},
     "output_type": "display_data"
    }
   ],
   "source": [
    "before_z <- (before - mean(before)) / sd(before)\n",
    "before_z"
   ]
  },
  {
   "cell_type": "code",
   "execution_count": 29,
   "metadata": {},
   "outputs": [
    {
     "data": {
      "text/html": [
       "<ol class=list-inline>\n",
       "\t<li>-0.828829681125726</li>\n",
       "\t<li>-0.439881674340469</li>\n",
       "\t<li>0.171322336322078</li>\n",
       "\t<li>-0.773265680156404</li>\n",
       "\t<li>-0.717701679187081</li>\n",
       "\t<li>-2.10680170342014</li>\n",
       "\t<li>1.50485835958582</li>\n",
       "\t<li>0.393578340199367</li>\n",
       "\t<li>0.782526346984624</li>\n",
       "\t<li>0.393578340199367</li>\n",
       "\t<li>0.671398345045979</li>\n",
       "\t<li>0.949218349892592</li>\n",
       "</ol>\n"
      ],
      "text/latex": [
       "\\begin{enumerate*}\n",
       "\\item -0.828829681125726\n",
       "\\item -0.439881674340469\n",
       "\\item 0.171322336322078\n",
       "\\item -0.773265680156404\n",
       "\\item -0.717701679187081\n",
       "\\item -2.10680170342014\n",
       "\\item 1.50485835958582\n",
       "\\item 0.393578340199367\n",
       "\\item 0.782526346984624\n",
       "\\item 0.393578340199367\n",
       "\\item 0.671398345045979\n",
       "\\item 0.949218349892592\n",
       "\\end{enumerate*}\n"
      ],
      "text/markdown": [
       "1. -0.828829681125726\n",
       "2. -0.439881674340469\n",
       "3. 0.171322336322078\n",
       "4. -0.773265680156404\n",
       "5. -0.717701679187081\n",
       "6. -2.10680170342014\n",
       "7. 1.50485835958582\n",
       "8. 0.393578340199367\n",
       "9. 0.782526346984624\n",
       "10. 0.393578340199367\n",
       "11. 0.671398345045979\n",
       "12. 0.949218349892592\n",
       "\n",
       "\n"
      ],
      "text/plain": [
       " [1] -0.8288297 -0.4398817  0.1713223 -0.7732657 -0.7177017 -2.1068017\n",
       " [7]  1.5048584  0.3935783  0.7825263  0.3935783  0.6713983  0.9492183"
      ]
     },
     "metadata": {},
     "output_type": "display_data"
    }
   ],
   "source": [
    "after_z <- (after - mean(after)) / sd(after)\n",
    "after_z"
   ]
  },
  {
   "cell_type": "code",
   "execution_count": 30,
   "metadata": {},
   "outputs": [
    {
     "data": {
      "text/html": [
       "91"
      ],
      "text/latex": [
       "91"
      ],
      "text/markdown": [
       "91"
      ],
      "text/plain": [
       "[1] 91"
      ]
     },
     "metadata": {},
     "output_type": "display_data"
    },
    {
     "data": {
      "text/html": [
       "1.66241079474341"
      ],
      "text/latex": [
       "1.66241079474341"
      ],
      "text/markdown": [
       "1.66241079474341"
      ],
      "text/plain": [
       "[1] 1.662411"
      ]
     },
     "metadata": {},
     "output_type": "display_data"
    }
   ],
   "source": [
    "max(before)\n",
    "max(before_z)\n",
    "\n",
    "# As the z score is a transformation of the raw score which preserves rank, the largest before score and larges z score correspond.\n",
    "# If you want to check which before.z score corresponds to the largest before score (to check your z calculation for instance) \n",
    "# you can use logical indexing (coming soon)"
   ]
  },
  {
   "cell_type": "code",
   "execution_count": 31,
   "metadata": {},
   "outputs": [
    {
     "data": {
      "text/html": [
       "19"
      ],
      "text/latex": [
       "19"
      ],
      "text/markdown": [
       "19"
      ],
      "text/plain": [
       "[1] 19"
      ]
     },
     "metadata": {},
     "output_type": "display_data"
    },
    {
     "data": {
      "text/html": [
       "-2.10680170342014"
      ],
      "text/latex": [
       "-2.10680170342014"
      ],
      "text/markdown": [
       "-2.10680170342014"
      ],
      "text/plain": [
       "[1] -2.106802"
      ]
     },
     "metadata": {},
     "output_type": "display_data"
    }
   ],
   "source": [
    "min(after)\n",
    "min(after_z)"
   ]
  },
  {
   "cell_type": "code",
   "execution_count": 32,
   "metadata": {},
   "outputs": [
    {
     "data": {
      "text/html": [
       "1.61997874605542e-17"
      ],
      "text/latex": [
       "1.61997874605542e-17"
      ],
      "text/markdown": [
       "1.61997874605542e-17"
      ],
      "text/plain": [
       "[1] 1.619979e-17"
      ]
     },
     "metadata": {},
     "output_type": "display_data"
    },
    {
     "data": {
      "text/html": [
       "1"
      ],
      "text/latex": [
       "1"
      ],
      "text/markdown": [
       "1"
      ],
      "text/plain": [
       "[1] 1"
      ]
     },
     "metadata": {},
     "output_type": "display_data"
    },
    {
     "data": {
      "text/html": [
       "1.52655665885959e-16"
      ],
      "text/latex": [
       "1.52655665885959e-16"
      ],
      "text/markdown": [
       "1.52655665885959e-16"
      ],
      "text/plain": [
       "[1] 1.526557e-16"
      ]
     },
     "metadata": {},
     "output_type": "display_data"
    },
    {
     "data": {
      "text/html": [
       "1"
      ],
      "text/latex": [
       "1"
      ],
      "text/markdown": [
       "1"
      ],
      "text/plain": [
       "[1] 1"
      ]
     },
     "metadata": {},
     "output_type": "display_data"
    }
   ],
   "source": [
    "# The mean should be 0 the sd should be 1!\n",
    "\n",
    "mean(before_z)      #this isn't exactly 0, due to how computers store numbers. But its close enough.\n",
    "sd(before_z)\n",
    "\n",
    "mean(after_z)\n",
    "sd(after_z)"
   ]
  },
  {
   "cell_type": "markdown",
   "metadata": {},
   "source": [
    "### Random samples from distributions"
   ]
  },
  {
   "cell_type": "code",
   "execution_count": 33,
   "metadata": {},
   "outputs": [
    {
     "data": {
      "image/png": "[encoded data removed]",
      "text/plain": [
       "Plot with title “N(Mean = 100, SD = 10)”"
      ]
     },
     "metadata": {},
     "output_type": "display_data"
    }
   ],
   "source": [
    "# A Histogram of 10,000 samples from a Normal distribution with Mean = 100 and sd = 10\n",
    "hist(rnorm(10000, mean = 100, sd = 10), \n",
    "     main = \"N(Mean = 100, SD = 10)\", yaxt = \"n\", \n",
    "     xlab = \"\", col = \"wheat2\", border = \"white\", \n",
    "     xlim = c(50, 150), ylab = \"\")"
   ]
  },
  {
   "cell_type": "markdown",
   "metadata": {},
   "source": [
    "You can create random samples of values from a Normal distribution using the `rnorm(n, mean, sd)` function. For example, the following code chunk will save a vector of 50 values from a Normal distribution with mean of 20 and standard deviation of 10"
   ]
  },
  {
   "cell_type": "code",
   "execution_count": 34,
   "metadata": {},
   "outputs": [],
   "source": [
    "# Random sample of 50 values from N(mean = 20, sd = 10)\n",
    "x <- rnorm(n = 50, mean = 20, sd = 10)"
   ]
  },
  {
   "cell_type": "markdown",
   "metadata": {},
   "source": [
    "**TASK E (now is your turn):**\n",
    "\n",
    "E1. Create a vector called `samp_10` that contains 10 samples from a Normal distribution with a mean of 100 and a standard deviation of 10.\n",
    "\n",
    "E2. Create a vector called `samp_100000` that contains 100,000 samples from the same Normal distribution as above (that is, also with a mean of 100 and standard deviation of 10).\n",
    "\n",
    "E3. Before making any calculations, what would you guess the mean and standard deviations of `samp_10` and `samp_100000` are? Which prediction are you more confident in?\n",
    "\n",
    "E4. Calculate the mean and standard deviations of `samp_10` and `samp_100000` separately. Was your prediction correct?"
   ]
  },
  {
   "cell_type": "code",
   "execution_count": 35,
   "metadata": {},
   "outputs": [
    {
     "data": {
      "text/html": [
       "<ol class=list-inline>\n",
       "\t<li>103.979528734238</li>\n",
       "\t<li>101.158545124541</li>\n",
       "\t<li>103.763629803953</li>\n",
       "\t<li>107.594597574866</li>\n",
       "\t<li>88.2994135688647</li>\n",
       "\t<li>118.472325647007</li>\n",
       "\t<li>95.5887072995669</li>\n",
       "\t<li>101.547796257166</li>\n",
       "\t<li>86.4460379578644</li>\n",
       "\t<li>102.425473130914</li>\n",
       "</ol>\n"
      ],
      "text/latex": [
       "\\begin{enumerate*}\n",
       "\\item 103.979528734238\n",
       "\\item 101.158545124541\n",
       "\\item 103.763629803953\n",
       "\\item 107.594597574866\n",
       "\\item 88.2994135688647\n",
       "\\item 118.472325647007\n",
       "\\item 95.5887072995669\n",
       "\\item 101.547796257166\n",
       "\\item 86.4460379578644\n",
       "\\item 102.425473130914\n",
       "\\end{enumerate*}\n"
      ],
      "text/markdown": [
       "1. 103.979528734238\n",
       "2. 101.158545124541\n",
       "3. 103.763629803953\n",
       "4. 107.594597574866\n",
       "5. 88.2994135688647\n",
       "6. 118.472325647007\n",
       "7. 95.5887072995669\n",
       "8. 101.547796257166\n",
       "9. 86.4460379578644\n",
       "10. 102.425473130914\n",
       "\n",
       "\n"
      ],
      "text/plain": [
       " [1] 103.97953 101.15855 103.76363 107.59460  88.29941 118.47233  95.58871\n",
       " [8] 101.54780  86.44604 102.42547"
      ]
     },
     "metadata": {},
     "output_type": "display_data"
    }
   ],
   "source": [
    "samp_10 <- rnorm(n = 10, mean = 100, sd = 10)\n",
    "samp_10"
   ]
  },
  {
   "cell_type": "code",
   "execution_count": 36,
   "metadata": {},
   "outputs": [],
   "source": [
    "samp_100000 <- rnorm(n = 100000, mean = 100, sd = 10)"
   ]
  },
  {
   "cell_type": "code",
   "execution_count": 37,
   "metadata": {},
   "outputs": [],
   "source": [
    "# My best guess for both means is 100 and for both sds is 10.\n",
    "#  However I'm more confident in samp.100000 because the sample size\n",
    "#   is larger!"
   ]
  },
  {
   "cell_type": "code",
   "execution_count": 38,
   "metadata": {},
   "outputs": [
    {
     "data": {
      "text/html": [
       "100.927605509898"
      ],
      "text/latex": [
       "100.927605509898"
      ],
      "text/markdown": [
       "100.927605509898"
      ],
      "text/plain": [
       "[1] 100.9276"
      ]
     },
     "metadata": {},
     "output_type": "display_data"
    },
    {
     "data": {
      "text/html": [
       "9.24959878223091"
      ],
      "text/latex": [
       "9.24959878223091"
      ],
      "text/markdown": [
       "9.24959878223091"
      ],
      "text/plain": [
       "[1] 9.249599"
      ]
     },
     "metadata": {},
     "output_type": "display_data"
    },
    {
     "data": {
      "text/html": [
       "99.9998155849722"
      ],
      "text/latex": [
       "99.9998155849722"
      ],
      "text/markdown": [
       "99.9998155849722"
      ],
      "text/plain": [
       "[1] 99.99982"
      ]
     },
     "metadata": {},
     "output_type": "display_data"
    },
    {
     "data": {
      "text/html": [
       "9.99414831538638"
      ],
      "text/latex": [
       "9.99414831538638"
      ],
      "text/markdown": [
       "9.99414831538638"
      ],
      "text/plain": [
       "[1] 9.994148"
      ]
     },
     "metadata": {},
     "output_type": "display_data"
    }
   ],
   "source": [
    "mean(samp_10)\n",
    "sd(samp_10)\n",
    "\n",
    "mean(samp_100000)\n",
    "sd(samp_100000)\n",
    "\n",
    "# Yes my prediction was correct! (at least for this sample...)"
   ]
  },
  {
   "cell_type": "markdown",
   "metadata": {},
   "source": [
    "### The Room with 100 Boxes"
   ]
  },
  {
   "cell_type": "markdown",
   "metadata": {},
   "source": [
    "Imagine the following. There is a room with 100 boxes. 99 of the 100 boxes each contain 100,000 EUR which you can keep. 1 of the 100 boxes contains a bomb which kills you if you open it.\n",
    "\n",
    "Here's the question...if you walked into the room with 100 boxes, how many would you want to open?"
   ]
  },
  {
   "cell_type": "code",
   "execution_count": 39,
   "metadata": {},
   "outputs": [
    {
     "data": {
      "image/png": "[encoded data removed]",
      "text/plain": [
       "Plot with title “The 100 Boxes Game!”"
      ]
     },
     "metadata": {},
     "output_type": "display_data"
    }
   ],
   "source": [
    "# Plot of the Boxes Game\n",
    "\n",
    "# Plotting space\n",
    "plot(1, xlim = c(0, 11), ylim = c(0, 11),\n",
    "     xlab = \"\", ylab = \"\", main = \"The 100 Boxes Game!\", \n",
    "     type = \"n\", xaxt = \"n\", yaxt = \"n\")\n",
    "\n",
    "text(x = 5.5, y = 11, labels = \"There are 100 boxes\\n99 / 100 contain 10,000 EUR (each) and 1 / 100 contains a bomb! How many will you open?\", font = 3, cex = .8)\n",
    "\n",
    "# Boxes\n",
    "points(x = rep(1:10, times = 10), y = rep(1:10, each = 10),\n",
    "       pch = 22, cex = 4, \n",
    "       bg = sample(c(rep(\"green\", 99), \"red\")))\n",
    "\n",
    "# Labels\n",
    "points(x = rep(1:10, times = 10), y = rep(1:10, each = 10), pch = \"?\")"
   ]
  },
  {
   "cell_type": "markdown",
   "metadata": {},
   "source": [
    "You can easily play the Room with 100 Boxes game using the `sample` function in R.\n",
    "\n",
    "First, put the number of boxes you want to open as a new scaler object called `i_will_open`:"
   ]
  },
  {
   "cell_type": "code",
   "execution_count": 40,
   "metadata": {},
   "outputs": [],
   "source": [
    "iWillOpen <- 4  # How many do you want to open? Change the value from 0 to your number"
   ]
  },
  {
   "cell_type": "markdown",
   "metadata": {},
   "source": [
    "Now run the following code to see what you get!"
   ]
  },
  {
   "cell_type": "code",
   "execution_count": 41,
   "metadata": {},
   "outputs": [],
   "source": [
    "# Play the Room with 100 Boxes Game!\n",
    "\n",
    "boxesResult <- sample(x = c(rep(100000, 99), -Inf),  # Sample from the box...\n",
    "                      size = iWillOpen)"
   ]
  },
  {
   "cell_type": "code",
   "execution_count": 42,
   "metadata": {},
   "outputs": [
    {
     "data": {
      "text/html": [
       "<ol class=list-inline>\n",
       "\t<li>1e+05</li>\n",
       "\t<li>-Inf</li>\n",
       "\t<li>1e+05</li>\n",
       "\t<li>1e+05</li>\n",
       "</ol>\n"
      ],
      "text/latex": [
       "\\begin{enumerate*}\n",
       "\\item 1e+05\n",
       "\\item -Inf\n",
       "\\item 1e+05\n",
       "\\item 1e+05\n",
       "\\end{enumerate*}\n"
      ],
      "text/markdown": [
       "1. 1e+05\n",
       "2. -Inf\n",
       "3. 1e+05\n",
       "4. 1e+05\n",
       "\n",
       "\n"
      ],
      "text/plain": [
       "[1] 1e+05  -Inf 1e+05 1e+05"
      ]
     },
     "metadata": {},
     "output_type": "display_data"
    }
   ],
   "source": [
    "# Print what you got!\n",
    "boxesResult  # Show what's in each box (1 means 10,000 EUR)"
   ]
  },
  {
   "cell_type": "code",
   "execution_count": 43,
   "metadata": {},
   "outputs": [
    {
     "data": {
      "text/html": [
       "-Inf"
      ],
      "text/latex": [
       "-Inf"
      ],
      "text/markdown": [
       "-Inf"
      ],
      "text/plain": [
       "[1] -Inf"
      ]
     },
     "metadata": {},
     "output_type": "display_data"
    }
   ],
   "source": [
    "sum(boxesResult)  # Your total winnings!"
   ]
  },
  {
   "cell_type": "markdown",
   "metadata": {},
   "source": [
    "You can also represent the boxes game with a custom function in R. Run the following chunk to create the new function `play.boxes.game`:"
   ]
  },
  {
   "cell_type": "code",
   "execution_count": 44,
   "metadata": {},
   "outputs": [],
   "source": [
    "# Run this chunk to create the function\n",
    "playBoxesGame <- function(iWillOpen) {\n",
    "\n",
    "# Prevents exponent printing  \n",
    "options(\"scipen\" = 100, \"digits\" = 4)\n",
    "  \n",
    "if(iWillOpen == 0) {\n",
    "  \n",
    "  print(\"You didn't open any boxes! You earned nothing but are still alive\")}\n",
    "  \n",
    "if(iWillOpen > 0) {\n",
    "  \n",
    "  boxesResult <- sample(x = c(rep(100000, 99), -Inf),\n",
    "                        size = iWillOpen)\n",
    "\n",
    "if(-Inf %in% boxesResult) {\n",
    "  \n",
    "  print(paste(\"You're dead!!! You opened \", iWillOpen, \n",
    "              \" boxes and got the bomb!!!\", sep = \"\"))}\n",
    "\n",
    "if((-Inf %in% boxesResult) == FALSE) {\n",
    "  \n",
    "  print(paste(\"Congratulations!!! You opened \", iWillOpen, \n",
    "              \" boxes and earned \", sum(boxesResult), \n",
    "              \" Euros! Don't you want to play again? :)\", sep = \"\"))}\n",
    "}\n",
    "  \n",
    "}"
   ]
  },
  {
   "cell_type": "markdown",
   "metadata": {},
   "source": [
    "Now play the game just by running the function with the number of boxes you want to open as the main argument! For example..."
   ]
  },
  {
   "cell_type": "code",
   "execution_count": 45,
   "metadata": {},
   "outputs": [
    {
     "name": "stdout",
     "output_type": "stream",
     "text": [
      "[1] \"Congratulations!!! You opened 2 boxes and earned 200000 Euros! Don't you want to play again? :)\"\n"
     ]
    }
   ],
   "source": [
    "playBoxesGame(2)  # Play with 0 boxes"
   ]
  },
  {
   "cell_type": "markdown",
   "metadata": {},
   "source": [
    "### That's it! Now it's time to submit your assignment!\n",
    "\n",
    "Save and email your `wpa_1_LastFirst.R` file to me at [laura.fontanesi@unibas.ch](mailto:laura.fontanesi@unibas.ch). "
   ]
  }
 ],
 "metadata": {
  "kernelspec": {
   "display_name": "R",
   "language": "R",
   "name": "ir"
  },
  "language_info": {
   "codemirror_mode": "r",
   "file_extension": ".r",
   "mimetype": "text/x-r-source",
   "name": "R",
   "pygments_lexer": "r",
   "version": "3.5.1"
  }
 },
 "nbformat": 4,
 "nbformat_minor": 2
}
