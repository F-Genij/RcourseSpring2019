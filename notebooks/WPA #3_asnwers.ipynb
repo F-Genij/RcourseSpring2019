{
 "cells": [
  {
   "cell_type": "markdown",
   "metadata": {},
   "source": [
    "# WPA #3 - Chapters 8 and 9"
   ]
  },
  {
   "cell_type": "markdown",
   "metadata": {},
   "source": [
    "## Project management\n",
    "\n",
    "Whenever you want to **load** or **save** data in R you need to tell R where the data is to be saved or where the data is being loaded from. Last week, for instance, we loaded data directly from a url. This week we'll load data that is saved on our machine. To do this we need to set a working directory. This is the default folder R will look in to save or load data. If we wish to load (or save) data from a different folder, we can either changed the working directory, or specify the filepath from the current working directory to the desired folder.\n",
    "\n",
    "There are two methods we can use for setting our working directory. The instructions below describe how to load your data using both methods. You only need to do one. IF you want to try both, make sure you use different folder names."
   ]
  },
  {
   "cell_type": "markdown",
   "metadata": {},
   "source": [
    "### Method One- setwd()\n",
    "\n",
    "1. Outside R, create a new folder called `Rcourse` (or any name you choose). Create two separate subfolders within `Rcourse` called `R` and `data`.\n",
    "\n",
    "2. Open a new R script called `wpa_3_LastFirst.R` (where LastFirst is your last and first name), and save it in the `R` folder.\n",
    "\n",
    "3. Use the `setwd` function to change the working directory to the `Rcourse` folder. You need to give the filepath to this folder. You can also check the current directory by using `getwd`,"
   ]
  },
  {
   "cell_type": "code",
   "execution_count": 1,
   "metadata": {},
   "outputs": [
    {
     "data": {
      "text/html": [
       "'/Users/laurafontanesi/git/RcourseSpring2019'"
      ],
      "text/latex": [
       "'/Users/laurafontanesi/git/RcourseSpring2019'"
      ],
      "text/markdown": [
       "'/Users/laurafontanesi/git/RcourseSpring2019'"
      ],
      "text/plain": [
       "[1] \"/Users/laurafontanesi/git/RcourseSpring2019\""
      ]
     },
     "metadata": {},
     "output_type": "display_data"
    }
   ],
   "source": [
    "setwd(\"~/git/RcourseSpring2019/\")\n",
    "# This should be the filepath to the Rcourse folder on your machine.\n",
    "\n",
    "getwd()\n",
    "# This matches the path you just entered."
   ]
  },
  {
   "cell_type": "markdown",
   "metadata": {},
   "source": [
    "### Method Two- R-project\n",
    "\n",
    "You can also control your working directory by creating an R-project in RStudio (see [Chapter 9](https://bookdown.org/ndphillips/YaRrr/importingdata.html) for more details on R-projects). Basically working in an R-project automatically sets your working directory to the location of the R-project file (`.RProj`).\n",
    "\n",
    "1. Start a new R-project called `RCourse` (or something similar) using the menus. Then (either within RStudio or outside of R), navigate to the location of your `RCourse` project, and add the folders `R` and `data`.\n",
    "\n",
    "2. Open a new R script called `wpa_3_LastFirst.R` (where LastFirst is your last and first name), and save it in the `R` folder."
   ]
  },
  {
   "cell_type": "markdown",
   "metadata": {},
   "source": [
    "## Loading data\n",
    "\n",
    "1. The text file containing the data is called `data_wpa3.csv`. It is available at https://github.com/laurafontanesi/RcourseSpring2019/blob/master/data/data_wpa3.csv. Save the file in the `data` folder that you previously created.\n",
    "\n",
    "2. Using `read.table()` load the data into a new R object called `priming`. Note that the text file is comma-delimited and contains a header row, so be sure to include the `sep = \",\"` and `header = TRUE` arguments! As `priming.txt` is in a subfolder of your working directory, you need to include the subfolder in the filename."
   ]
  },
  {
   "cell_type": "code",
   "execution_count": 2,
   "metadata": {},
   "outputs": [],
   "source": [
    "priming <- read.table('data/data_wpa3.csv', \n",
    "                      header=TRUE, \n",
    "                      sep=',')"
   ]
  },
  {
   "cell_type": "markdown",
   "metadata": {},
   "source": [
    "### Dataset description\n",
    "\n",
    "In a provocative paper, Bargh, Chen and Burrows (1996) sought to test whether or not priming people with trait concepts would trigger trait-consistent behavior. In one study, they primed participants with either neutral words (e.g.; bat, cookie, pen), or with words related to an elderly stereotype (e.g.; wise, stubborn, old). They then, unbeknownst to the participants, used a stopwatch to record how long it took the participants to walk down a hallway at the conclusion of an experiment. They predicted that participants primed with words related to the elderly would walk slower than those primed with neutral words. \n",
    "\n",
    "In this WPA, you will analyze *fake* data corresponding to this study. \n",
    "\n",
    "Our fake study has 3 primary independent variables:\n",
    "\n",
    "- `prime`: What kind of primes was the participant given? `neutral` means neutral primes, `elderly` means elderly primes.\n",
    "- `prime.duration`: How long (in minutes) were primes displayed to participants? There were 4 conditions: 1, 5, 10 or 30.\n",
    "- `grandparents`: Did the participant have a close relationship with their grandparents? `yes` means yes, `no` means no, `none` means they never met their grandparents.\n",
    "\n",
    "There was one primary dependent variable\n",
    "\n",
    "- `walk`: How long (in seconds) did participants take to walk down the hallway?\n",
    "\n",
    "There were 4 additional variables:\n",
    "\n",
    "- `id`: The order in which participants completed the study\n",
    "- `age`: Participants' age\n",
    "- `sex`: Participants' sex\n",
    "- `attention`: Did the participant pass an attention check? 0 means they failed the attention check, 1 means they passed."
   ]
  },
  {
   "cell_type": "markdown",
   "metadata": {},
   "source": [
    "## Now it's your turn:"
   ]
  },
  {
   "cell_type": "markdown",
   "metadata": {},
   "source": [
    "### A. Understanding and cleaning the data\n",
    "\n",
    "1. Get to know the data using `View()`, `summary()`, `head()` and `str()`.\n",
    "\n",
    "2. Look at the names of the dataframe with `names()`. Those aren't very informative are they? Change the names to the correct values (make sure to use the naming scheme I describe in the dataset description)."
   ]
  },
  {
   "cell_type": "code",
   "execution_count": 3,
   "metadata": {},
   "outputs": [
    {
     "data": {
      "text/plain": [
       "       X               a         b             c            d        \n",
       " Min.   :  1.0   Min.   :  1.0   f:252   Min.   :19   Min.   :0.000  \n",
       " 1st Qu.:125.8   1st Qu.:125.8   m:248   1st Qu.:21   1st Qu.:1.000  \n",
       " Median :250.5   Median :250.5           Median :22   Median :1.000  \n",
       " Mean   :250.5   Mean   :250.5           Mean   :22   Mean   :0.886  \n",
       " 3rd Qu.:375.2   3rd Qu.:375.2           3rd Qu.:23   3rd Qu.:1.000  \n",
       " Max.   :500.0   Max.   :500.0           Max.   :25   Max.   :1.000  \n",
       "       e             f            g             h         \n",
       " asdf   :153   Min.   : 1.00   no  :175   Min.   :-92.35  \n",
       " elderly:161   1st Qu.: 1.00   none:157   1st Qu.: 25.40  \n",
       " neutral:186   Median :10.00   yes :168   Median : 34.70  \n",
       "               Mean   :12.23              Mean   : 30.10  \n",
       "               3rd Qu.:20.00              3rd Qu.: 36.40  \n",
       "               Max.   :60.00              Max.   : 51.50  "
      ]
     },
     "metadata": {},
     "output_type": "display_data"
    },
    {
     "data": {
      "text/html": [
       "<table>\n",
       "<thead><tr><th scope=col>X</th><th scope=col>a</th><th scope=col>b</th><th scope=col>c</th><th scope=col>d</th><th scope=col>e</th><th scope=col>f</th><th scope=col>g</th><th scope=col>h</th></tr></thead>\n",
       "<tbody>\n",
       "\t<tr><td>1      </td><td>1      </td><td>m      </td><td>21     </td><td>1      </td><td>asdf   </td><td> 1     </td><td>no     </td><td>25.4   </td></tr>\n",
       "\t<tr><td>2      </td><td>2      </td><td>m      </td><td>21     </td><td>1      </td><td>asdf   </td><td>30     </td><td>no     </td><td>23.6   </td></tr>\n",
       "\t<tr><td>3      </td><td>3      </td><td>f      </td><td>22     </td><td>1      </td><td>asdf   </td><td>30     </td><td>none   </td><td>34.5   </td></tr>\n",
       "\t<tr><td>4      </td><td>4      </td><td>m      </td><td>23     </td><td>1      </td><td>elderly</td><td> 1     </td><td>yes    </td><td>40.4   </td></tr>\n",
       "\t<tr><td>5      </td><td>5      </td><td>m      </td><td>23     </td><td>1      </td><td>asdf   </td><td>10     </td><td>none   </td><td>25.0   </td></tr>\n",
       "\t<tr><td>6      </td><td>6      </td><td>m      </td><td>22     </td><td>1      </td><td>asdf   </td><td>10     </td><td>yes    </td><td>24.7   </td></tr>\n",
       "</tbody>\n",
       "</table>\n"
      ],
      "text/latex": [
       "\\begin{tabular}{r|lllllllll}\n",
       " X & a & b & c & d & e & f & g & h\\\\\n",
       "\\hline\n",
       "\t 1       & 1       & m       & 21      & 1       & asdf    &  1      & no      & 25.4   \\\\\n",
       "\t 2       & 2       & m       & 21      & 1       & asdf    & 30      & no      & 23.6   \\\\\n",
       "\t 3       & 3       & f       & 22      & 1       & asdf    & 30      & none    & 34.5   \\\\\n",
       "\t 4       & 4       & m       & 23      & 1       & elderly &  1      & yes     & 40.4   \\\\\n",
       "\t 5       & 5       & m       & 23      & 1       & asdf    & 10      & none    & 25.0   \\\\\n",
       "\t 6       & 6       & m       & 22      & 1       & asdf    & 10      & yes     & 24.7   \\\\\n",
       "\\end{tabular}\n"
      ],
      "text/markdown": [
       "\n",
       "| X | a | b | c | d | e | f | g | h |\n",
       "|---|---|---|---|---|---|---|---|---|\n",
       "| 1       | 1       | m       | 21      | 1       | asdf    |  1      | no      | 25.4    |\n",
       "| 2       | 2       | m       | 21      | 1       | asdf    | 30      | no      | 23.6    |\n",
       "| 3       | 3       | f       | 22      | 1       | asdf    | 30      | none    | 34.5    |\n",
       "| 4       | 4       | m       | 23      | 1       | elderly |  1      | yes     | 40.4    |\n",
       "| 5       | 5       | m       | 23      | 1       | asdf    | 10      | none    | 25.0    |\n",
       "| 6       | 6       | m       | 22      | 1       | asdf    | 10      | yes     | 24.7    |\n",
       "\n"
      ],
      "text/plain": [
       "  X a b c  d e       f  g    h   \n",
       "1 1 1 m 21 1 asdf     1 no   25.4\n",
       "2 2 2 m 21 1 asdf    30 no   23.6\n",
       "3 3 3 f 22 1 asdf    30 none 34.5\n",
       "4 4 4 m 23 1 elderly  1 yes  40.4\n",
       "5 5 5 m 23 1 asdf    10 none 25.0\n",
       "6 6 6 m 22 1 asdf    10 yes  24.7"
      ]
     },
     "metadata": {},
     "output_type": "display_data"
    },
    {
     "name": "stdout",
     "output_type": "stream",
     "text": [
      "'data.frame':\t500 obs. of  9 variables:\n",
      " $ X: int  1 2 3 4 5 6 7 8 9 10 ...\n",
      " $ a: int  1 2 3 4 5 6 7 8 9 10 ...\n",
      " $ b: Factor w/ 2 levels \"f\",\"m\": 2 2 1 2 2 2 1 2 1 2 ...\n",
      " $ c: int  21 21 22 23 23 22 20 24 21 22 ...\n",
      " $ d: int  1 1 1 1 1 1 1 1 1 1 ...\n",
      " $ e: Factor w/ 3 levels \"asdf\",\"elderly\",..: 1 1 1 2 1 1 1 2 1 3 ...\n",
      " $ f: int  1 30 30 1 10 10 10 1 10 5 ...\n",
      " $ g: Factor w/ 3 levels \"no\",\"none\",\"yes\": 1 1 2 3 2 3 3 2 1 2 ...\n",
      " $ h: num  25.4 23.6 34.5 40.4 25 24.7 35.3 34 35.4 24.4 ...\n"
     ]
    }
   ],
   "source": [
    "summary(priming)\n",
    "head(priming)\n",
    "str(priming)"
   ]
  },
  {
   "cell_type": "code",
   "execution_count": 4,
   "metadata": {},
   "outputs": [
    {
     "data": {
      "text/html": [
       "<ol class=list-inline>\n",
       "\t<li>'X'</li>\n",
       "\t<li>'a'</li>\n",
       "\t<li>'b'</li>\n",
       "\t<li>'c'</li>\n",
       "\t<li>'d'</li>\n",
       "\t<li>'e'</li>\n",
       "\t<li>'f'</li>\n",
       "\t<li>'g'</li>\n",
       "\t<li>'h'</li>\n",
       "</ol>\n"
      ],
      "text/latex": [
       "\\begin{enumerate*}\n",
       "\\item 'X'\n",
       "\\item 'a'\n",
       "\\item 'b'\n",
       "\\item 'c'\n",
       "\\item 'd'\n",
       "\\item 'e'\n",
       "\\item 'f'\n",
       "\\item 'g'\n",
       "\\item 'h'\n",
       "\\end{enumerate*}\n"
      ],
      "text/markdown": [
       "1. 'X'\n",
       "2. 'a'\n",
       "3. 'b'\n",
       "4. 'c'\n",
       "5. 'd'\n",
       "6. 'e'\n",
       "7. 'f'\n",
       "8. 'g'\n",
       "9. 'h'\n",
       "\n",
       "\n"
      ],
      "text/plain": [
       "[1] \"X\" \"a\" \"b\" \"c\" \"d\" \"e\" \"f\" \"g\" \"h\""
      ]
     },
     "metadata": {},
     "output_type": "display_data"
    }
   ],
   "source": [
    "names(priming)"
   ]
  },
  {
   "cell_type": "code",
   "execution_count": 5,
   "metadata": {},
   "outputs": [],
   "source": [
    "names(priming) <- c(\"index\", \n",
    "                    \"id\", \n",
    "                    \"sex\", \n",
    "                    \"age\", \n",
    "                    \"attention\", \n",
    "                    \"prime\", \n",
    "                    \"prime.duration\", \n",
    "                    \"grandparents\", \n",
    "                    \"walk\")"
   ]
  },
  {
   "cell_type": "code",
   "execution_count": 6,
   "metadata": {},
   "outputs": [
    {
     "data": {
      "text/html": [
       "<table>\n",
       "<thead><tr><th scope=col>index</th><th scope=col>id</th><th scope=col>sex</th><th scope=col>age</th><th scope=col>attention</th><th scope=col>prime</th><th scope=col>prime.duration</th><th scope=col>grandparents</th><th scope=col>walk</th></tr></thead>\n",
       "<tbody>\n",
       "\t<tr><td>1      </td><td>1      </td><td>m      </td><td>21     </td><td>1      </td><td>asdf   </td><td> 1     </td><td>no     </td><td>25.4   </td></tr>\n",
       "\t<tr><td>2      </td><td>2      </td><td>m      </td><td>21     </td><td>1      </td><td>asdf   </td><td>30     </td><td>no     </td><td>23.6   </td></tr>\n",
       "\t<tr><td>3      </td><td>3      </td><td>f      </td><td>22     </td><td>1      </td><td>asdf   </td><td>30     </td><td>none   </td><td>34.5   </td></tr>\n",
       "\t<tr><td>4      </td><td>4      </td><td>m      </td><td>23     </td><td>1      </td><td>elderly</td><td> 1     </td><td>yes    </td><td>40.4   </td></tr>\n",
       "\t<tr><td>5      </td><td>5      </td><td>m      </td><td>23     </td><td>1      </td><td>asdf   </td><td>10     </td><td>none   </td><td>25.0   </td></tr>\n",
       "\t<tr><td>6      </td><td>6      </td><td>m      </td><td>22     </td><td>1      </td><td>asdf   </td><td>10     </td><td>yes    </td><td>24.7   </td></tr>\n",
       "</tbody>\n",
       "</table>\n"
      ],
      "text/latex": [
       "\\begin{tabular}{r|lllllllll}\n",
       " index & id & sex & age & attention & prime & prime.duration & grandparents & walk\\\\\n",
       "\\hline\n",
       "\t 1       & 1       & m       & 21      & 1       & asdf    &  1      & no      & 25.4   \\\\\n",
       "\t 2       & 2       & m       & 21      & 1       & asdf    & 30      & no      & 23.6   \\\\\n",
       "\t 3       & 3       & f       & 22      & 1       & asdf    & 30      & none    & 34.5   \\\\\n",
       "\t 4       & 4       & m       & 23      & 1       & elderly &  1      & yes     & 40.4   \\\\\n",
       "\t 5       & 5       & m       & 23      & 1       & asdf    & 10      & none    & 25.0   \\\\\n",
       "\t 6       & 6       & m       & 22      & 1       & asdf    & 10      & yes     & 24.7   \\\\\n",
       "\\end{tabular}\n"
      ],
      "text/markdown": [
       "\n",
       "| index | id | sex | age | attention | prime | prime.duration | grandparents | walk |\n",
       "|---|---|---|---|---|---|---|---|---|\n",
       "| 1       | 1       | m       | 21      | 1       | asdf    |  1      | no      | 25.4    |\n",
       "| 2       | 2       | m       | 21      | 1       | asdf    | 30      | no      | 23.6    |\n",
       "| 3       | 3       | f       | 22      | 1       | asdf    | 30      | none    | 34.5    |\n",
       "| 4       | 4       | m       | 23      | 1       | elderly |  1      | yes     | 40.4    |\n",
       "| 5       | 5       | m       | 23      | 1       | asdf    | 10      | none    | 25.0    |\n",
       "| 6       | 6       | m       | 22      | 1       | asdf    | 10      | yes     | 24.7    |\n",
       "\n"
      ],
      "text/plain": [
       "  index id sex age attention prime   prime.duration grandparents walk\n",
       "1 1     1  m   21  1         asdf     1             no           25.4\n",
       "2 2     2  m   21  1         asdf    30             no           23.6\n",
       "3 3     3  f   22  1         asdf    30             none         34.5\n",
       "4 4     4  m   23  1         elderly  1             yes          40.4\n",
       "5 5     5  m   23  1         asdf    10             none         25.0\n",
       "6 6     6  m   22  1         asdf    10             yes          24.7"
      ]
     },
     "metadata": {},
     "output_type": "display_data"
    }
   ],
   "source": [
    "head(priming)"
   ]
  },
  {
   "cell_type": "markdown",
   "metadata": {},
   "source": [
    "### B. Applying functions to columns\n",
    "\n",
    "1. What was the mean participant age?\n",
    "\n",
    "2. How many participants were there from each sex?\n",
    "\n",
    "3. What was the median walking time?\n",
    "\n",
    "4. What *percent* of participants passed the attention check (Hint: To calculate a percentage from a 0, 1 variable, use `mean()`)\n",
    "\n",
    "5. Walking time is currently in seconds. Add a new column to the dataframe called `walking.m` That shows the walking time in minutes rather than seconds."
   ]
  },
  {
   "cell_type": "code",
   "execution_count": 7,
   "metadata": {},
   "outputs": [
    {
     "data": {
      "text/html": [
       "21.996"
      ],
      "text/latex": [
       "21.996"
      ],
      "text/markdown": [
       "21.996"
      ],
      "text/plain": [
       "[1] 21.996"
      ]
     },
     "metadata": {},
     "output_type": "display_data"
    },
    {
     "data": {
      "text/html": [
       "21.996"
      ],
      "text/latex": [
       "21.996"
      ],
      "text/markdown": [
       "21.996"
      ],
      "text/plain": [
       "[1] 21.996"
      ]
     },
     "metadata": {},
     "output_type": "display_data"
    }
   ],
   "source": [
    "mean(priming$age)\n",
    "#or\n",
    "with(priming, mean(age))"
   ]
  },
  {
   "cell_type": "code",
   "execution_count": 8,
   "metadata": {},
   "outputs": [
    {
     "data": {
      "text/plain": [
       "\n",
       "  f   m \n",
       "252 248 "
      ]
     },
     "metadata": {},
     "output_type": "display_data"
    },
    {
     "data": {
      "text/html": [
       "<dl class=dl-horizontal>\n",
       "\t<dt>f</dt>\n",
       "\t\t<dd>252</dd>\n",
       "\t<dt>m</dt>\n",
       "\t\t<dd>248</dd>\n",
       "</dl>\n"
      ],
      "text/latex": [
       "\\begin{description*}\n",
       "\\item[f] 252\n",
       "\\item[m] 248\n",
       "\\end{description*}\n"
      ],
      "text/markdown": [
       "f\n",
       ":   252m\n",
       ":   248\n",
       "\n"
      ],
      "text/plain": [
       "  f   m \n",
       "252 248 "
      ]
     },
     "metadata": {},
     "output_type": "display_data"
    }
   ],
   "source": [
    "table(priming$sex)\n",
    "\n",
    "#or \n",
    "summary(priming$sex)"
   ]
  },
  {
   "cell_type": "code",
   "execution_count": 9,
   "metadata": {},
   "outputs": [
    {
     "data": {
      "text/html": [
       "34.7"
      ],
      "text/latex": [
       "34.7"
      ],
      "text/markdown": [
       "34.7"
      ],
      "text/plain": [
       "[1] 34.7"
      ]
     },
     "metadata": {},
     "output_type": "display_data"
    }
   ],
   "source": [
    "median(priming$walk)"
   ]
  },
  {
   "cell_type": "code",
   "execution_count": 10,
   "metadata": {},
   "outputs": [
    {
     "data": {
      "text/html": [
       "88.6"
      ],
      "text/latex": [
       "88.6"
      ],
      "text/markdown": [
       "88.6"
      ],
      "text/plain": [
       "[1] 88.6"
      ]
     },
     "metadata": {},
     "output_type": "display_data"
    },
    {
     "data": {
      "text/html": [
       "88.6"
      ],
      "text/latex": [
       "88.6"
      ],
      "text/markdown": [
       "88.6"
      ],
      "text/plain": [
       "[1] 88.6"
      ]
     },
     "metadata": {},
     "output_type": "display_data"
    }
   ],
   "source": [
    "mean(priming$attention)*100\n",
    "\n",
    "# or\n",
    "mean(priming$attention==1)*100"
   ]
  },
  {
   "cell_type": "code",
   "execution_count": 11,
   "metadata": {},
   "outputs": [],
   "source": [
    "priming$walking.m <- priming$walk / 60"
   ]
  },
  {
   "cell_type": "markdown",
   "metadata": {},
   "source": [
    "### C. Indexing and subsettting dataframes\n",
    "\n",
    "*Try to split your answers to these problems into two steps*\n",
    "\n",
    "*Step 1: Index or subset the original data and store as a new object with a new name.*\n",
    "\n",
    "*Step 2: Calculate the appropriate summary statistic using the new, subsetted object you just created.*\n",
    "\n",
    "1. What were the sexes of the first 10 participants?\n",
    "\n",
    "2. What was the data for the 50th participant?\n",
    "\n",
    "3. What was the mean walking time for the elderly prime condition?\n",
    "\n",
    "4. What was the mean walking time for the neutral prime condition?\n",
    "\n",
    "5. What was the mean walking time for participants less than 23 years old?\n",
    "\n",
    "6. What was the mean walking time for females with a close relationship with their grandparents?\n",
    "\n",
    "7. What was the mean walking time for males over 24 years old *without* a close relationship with their grandparents?"
   ]
  },
  {
   "cell_type": "code",
   "execution_count": 12,
   "metadata": {},
   "outputs": [
    {
     "data": {
      "text/html": [
       "<ol class=list-inline>\n",
       "\t<li>m</li>\n",
       "\t<li>m</li>\n",
       "\t<li>f</li>\n",
       "\t<li>m</li>\n",
       "\t<li>m</li>\n",
       "\t<li>m</li>\n",
       "\t<li>f</li>\n",
       "\t<li>m</li>\n",
       "\t<li>f</li>\n",
       "\t<li>m</li>\n",
       "</ol>\n",
       "\n",
       "<details>\n",
       "\t<summary style=display:list-item;cursor:pointer>\n",
       "\t\t<strong>Levels</strong>:\n",
       "\t</summary>\n",
       "\t<ol class=list-inline>\n",
       "\t\t<li>'f'</li>\n",
       "\t\t<li>'m'</li>\n",
       "\t</ol>\n",
       "</details>"
      ],
      "text/latex": [
       "\\begin{enumerate*}\n",
       "\\item m\n",
       "\\item m\n",
       "\\item f\n",
       "\\item m\n",
       "\\item m\n",
       "\\item m\n",
       "\\item f\n",
       "\\item m\n",
       "\\item f\n",
       "\\item m\n",
       "\\end{enumerate*}\n",
       "\n",
       "\\emph{Levels}: \\begin{enumerate*}\n",
       "\\item 'f'\n",
       "\\item 'm'\n",
       "\\end{enumerate*}\n"
      ],
      "text/markdown": [
       "1. m\n",
       "2. m\n",
       "3. f\n",
       "4. m\n",
       "5. m\n",
       "6. m\n",
       "7. f\n",
       "8. m\n",
       "9. f\n",
       "10. m\n",
       "\n",
       "\n",
       "\n",
       "**Levels**: 1. 'f'\n",
       "2. 'm'\n",
       "\n",
       "\n"
      ],
      "text/plain": [
       " [1] m m f m m m f m f m\n",
       "Levels: f m"
      ]
     },
     "metadata": {},
     "output_type": "display_data"
    },
    {
     "data": {
      "text/html": [
       "<ol class=list-inline>\n",
       "\t<li>m</li>\n",
       "\t<li>m</li>\n",
       "\t<li>f</li>\n",
       "\t<li>m</li>\n",
       "\t<li>m</li>\n",
       "\t<li>m</li>\n",
       "\t<li>f</li>\n",
       "\t<li>m</li>\n",
       "\t<li>f</li>\n",
       "\t<li>m</li>\n",
       "</ol>\n",
       "\n",
       "<details>\n",
       "\t<summary style=display:list-item;cursor:pointer>\n",
       "\t\t<strong>Levels</strong>:\n",
       "\t</summary>\n",
       "\t<ol class=list-inline>\n",
       "\t\t<li>'f'</li>\n",
       "\t\t<li>'m'</li>\n",
       "\t</ol>\n",
       "</details>"
      ],
      "text/latex": [
       "\\begin{enumerate*}\n",
       "\\item m\n",
       "\\item m\n",
       "\\item f\n",
       "\\item m\n",
       "\\item m\n",
       "\\item m\n",
       "\\item f\n",
       "\\item m\n",
       "\\item f\n",
       "\\item m\n",
       "\\end{enumerate*}\n",
       "\n",
       "\\emph{Levels}: \\begin{enumerate*}\n",
       "\\item 'f'\n",
       "\\item 'm'\n",
       "\\end{enumerate*}\n"
      ],
      "text/markdown": [
       "1. m\n",
       "2. m\n",
       "3. f\n",
       "4. m\n",
       "5. m\n",
       "6. m\n",
       "7. f\n",
       "8. m\n",
       "9. f\n",
       "10. m\n",
       "\n",
       "\n",
       "\n",
       "**Levels**: 1. 'f'\n",
       "2. 'm'\n",
       "\n",
       "\n"
      ],
      "text/plain": [
       " [1] m m f m m m f m f m\n",
       "Levels: f m"
      ]
     },
     "metadata": {},
     "output_type": "display_data"
    }
   ],
   "source": [
    "priming.10 <- subset(priming,\n",
    "                     subset = id <= 10)\n",
    "\n",
    "priming.10$sex\n",
    "\n",
    "#OR\n",
    "\n",
    "priming$sex[1:10]"
   ]
  },
  {
   "cell_type": "code",
   "execution_count": 13,
   "metadata": {},
   "outputs": [
    {
     "data": {
      "text/html": [
       "<table>\n",
       "<thead><tr><th></th><th scope=col>index</th><th scope=col>id</th><th scope=col>sex</th><th scope=col>age</th><th scope=col>attention</th><th scope=col>prime</th><th scope=col>prime.duration</th><th scope=col>grandparents</th><th scope=col>walk</th><th scope=col>walking.m</th></tr></thead>\n",
       "<tbody>\n",
       "\t<tr><th scope=row>50</th><td>50       </td><td>50       </td><td>m        </td><td>21       </td><td>1        </td><td>elderly  </td><td>1        </td><td>none     </td><td>34.3     </td><td>0.5716667</td></tr>\n",
       "</tbody>\n",
       "</table>\n"
      ],
      "text/latex": [
       "\\begin{tabular}{r|llllllllll}\n",
       "  & index & id & sex & age & attention & prime & prime.duration & grandparents & walk & walking.m\\\\\n",
       "\\hline\n",
       "\t50 & 50        & 50        & m         & 21        & 1         & elderly   & 1         & none      & 34.3      & 0.5716667\\\\\n",
       "\\end{tabular}\n"
      ],
      "text/markdown": [
       "\n",
       "| <!--/--> | index | id | sex | age | attention | prime | prime.duration | grandparents | walk | walking.m |\n",
       "|---|---|---|---|---|---|---|---|---|---|---|\n",
       "| 50 | 50        | 50        | m         | 21        | 1         | elderly   | 1         | none      | 34.3      | 0.5716667 |\n",
       "\n"
      ],
      "text/plain": [
       "   index id sex age attention prime   prime.duration grandparents walk\n",
       "50 50    50 m   21  1         elderly 1              none         34.3\n",
       "   walking.m\n",
       "50 0.5716667"
      ]
     },
     "metadata": {},
     "output_type": "display_data"
    },
    {
     "data": {
      "text/html": [
       "<table>\n",
       "<thead><tr><th></th><th scope=col>index</th><th scope=col>id</th><th scope=col>sex</th><th scope=col>age</th><th scope=col>attention</th><th scope=col>prime</th><th scope=col>prime.duration</th><th scope=col>grandparents</th><th scope=col>walk</th><th scope=col>walking.m</th></tr></thead>\n",
       "<tbody>\n",
       "\t<tr><th scope=row>50</th><td>50       </td><td>50       </td><td>m        </td><td>21       </td><td>1        </td><td>elderly  </td><td>1        </td><td>none     </td><td>34.3     </td><td>0.5716667</td></tr>\n",
       "</tbody>\n",
       "</table>\n"
      ],
      "text/latex": [
       "\\begin{tabular}{r|llllllllll}\n",
       "  & index & id & sex & age & attention & prime & prime.duration & grandparents & walk & walking.m\\\\\n",
       "\\hline\n",
       "\t50 & 50        & 50        & m         & 21        & 1         & elderly   & 1         & none      & 34.3      & 0.5716667\\\\\n",
       "\\end{tabular}\n"
      ],
      "text/markdown": [
       "\n",
       "| <!--/--> | index | id | sex | age | attention | prime | prime.duration | grandparents | walk | walking.m |\n",
       "|---|---|---|---|---|---|---|---|---|---|---|\n",
       "| 50 | 50        | 50        | m         | 21        | 1         | elderly   | 1         | none      | 34.3      | 0.5716667 |\n",
       "\n"
      ],
      "text/plain": [
       "   index id sex age attention prime   prime.duration grandparents walk\n",
       "50 50    50 m   21  1         elderly 1              none         34.3\n",
       "   walking.m\n",
       "50 0.5716667"
      ]
     },
     "metadata": {},
     "output_type": "display_data"
    }
   ],
   "source": [
    "subset(priming, subset = id == 50)\n",
    "\n",
    "# OR\n",
    "\n",
    "priming[50,]\n",
    "#Remember when indexing dataframes to specify both the rows (i.e. 50) and the the columns (by leaving the column index blank we retrieve all columns)"
   ]
  },
  {
   "cell_type": "code",
   "execution_count": 14,
   "metadata": {},
   "outputs": [
    {
     "data": {
      "text/html": [
       "39.1761154442493"
      ],
      "text/latex": [
       "39.1761154442493"
      ],
      "text/markdown": [
       "39.1761154442493"
      ],
      "text/plain": [
       "[1] 39.17612"
      ]
     },
     "metadata": {},
     "output_type": "display_data"
    },
    {
     "data": {
      "text/html": [
       "39.1761154442493"
      ],
      "text/latex": [
       "39.1761154442493"
      ],
      "text/markdown": [
       "39.1761154442493"
      ],
      "text/plain": [
       "[1] 39.17612"
      ]
     },
     "metadata": {},
     "output_type": "display_data"
    }
   ],
   "source": [
    "priming.e <- subset(priming, subset = prime == \"elderly\")\n",
    "\n",
    "mean(priming.e$walk)\n",
    "\n",
    "# OR\n",
    "\n",
    "walk.elderly<- priming$walk[priming$prime==\"elderly\"] \n",
    "#or\n",
    "walk.elderly<- with(priming, walk[prime==\"elderly\"])\n",
    "\n",
    "mean(walk.elderly)\n",
    "\n",
    "# The first method results in a dataframe with all columns but only the subset of rows/participants with an elderly prime. \n",
    "# The second two methods both result in a vector of walking times for participants in the elderly condition "
   ]
  },
  {
   "cell_type": "code",
   "execution_count": 15,
   "metadata": {},
   "outputs": [
    {
     "data": {
      "text/html": [
       "26.5016721141725"
      ],
      "text/latex": [
       "26.5016721141725"
      ],
      "text/markdown": [
       "26.5016721141725"
      ],
      "text/plain": [
       "[1] 26.50167"
      ]
     },
     "metadata": {},
     "output_type": "display_data"
    }
   ],
   "source": [
    "walk.neutral<- priming$walk[priming$prime==\"neutral\"] \n",
    "mean(walk.neutral)\n",
    "\n",
    "#could also use with, or subset as above"
   ]
  },
  {
   "cell_type": "code",
   "execution_count": 16,
   "metadata": {},
   "outputs": [
    {
     "data": {
      "text/html": [
       "28.8358986074042"
      ],
      "text/latex": [
       "28.8358986074042"
      ],
      "text/markdown": [
       "28.8358986074042"
      ],
      "text/plain": [
       "[1] 28.8359"
      ]
     },
     "metadata": {},
     "output_type": "display_data"
    }
   ],
   "source": [
    "walk.23<- priming$walk[priming$age < 23]\n",
    "mean(walk.23)\n",
    "\n",
    "#could also use with, or subset as above"
   ]
  },
  {
   "cell_type": "code",
   "execution_count": 17,
   "metadata": {},
   "outputs": [
    {
     "data": {
      "text/html": [
       "34.2251482473412"
      ],
      "text/latex": [
       "34.2251482473412"
      ],
      "text/markdown": [
       "34.2251482473412"
      ],
      "text/plain": [
       "[1] 34.22515"
      ]
     },
     "metadata": {},
     "output_type": "display_data"
    },
    {
     "data": {
      "text/html": [
       "34.2251482473412"
      ],
      "text/latex": [
       "34.2251482473412"
      ],
      "text/markdown": [
       "34.2251482473412"
      ],
      "text/plain": [
       "[1] 34.22515"
      ]
     },
     "metadata": {},
     "output_type": "display_data"
    }
   ],
   "source": [
    "priming.fclose <- subset(priming, subset = sex == \"f\" & grandparents == \"yes\")\n",
    "\n",
    "mean(priming.fclose$walk)\n",
    "\n",
    "# OR\n",
    "\n",
    "walk.fclose<-priming$walk[priming$sex==\"f\"& priming$grandparents==\"yes\"] \n",
    "#or\n",
    "walk.fclose<-with(priming, walk[sex==\"f\"& grandparents==\"yes\"] )\n",
    "\n",
    "mean(walk.fclose)"
   ]
  },
  {
   "cell_type": "code",
   "execution_count": 18,
   "metadata": {},
   "outputs": [
    {
     "data": {
      "text/html": [
       "NaN"
      ],
      "text/latex": [
       "NaN"
      ],
      "text/markdown": [
       "NaN"
      ],
      "text/plain": [
       "[1] NaN"
      ]
     },
     "metadata": {},
     "output_type": "display_data"
    },
    {
     "data": {
      "text/html": [],
      "text/latex": [],
      "text/markdown": [],
      "text/plain": [
       "numeric(0)"
      ]
     },
     "metadata": {},
     "output_type": "display_data"
    },
    {
     "data": {
      "text/html": [
       "NaN"
      ],
      "text/latex": [
       "NaN"
      ],
      "text/markdown": [
       "NaN"
      ],
      "text/plain": [
       "[1] NaN"
      ]
     },
     "metadata": {},
     "output_type": "display_data"
    }
   ],
   "source": [
    "walk.m24notclose<-with(priming, walk[sex==\"m\"& grandparents!=\"yes\"& age>24] )\n",
    "mean(walk.m24notclose)\n",
    "\n",
    "#check the vector to see why\n",
    "walk.m24notclose\n",
    "# the vector is empty, meaning no participants meet these criteria\n",
    "\n",
    "#alternative method\n",
    "priming.m24notclose <- subset(priming,\n",
    "              subset = sex == \"m\" &\n",
    "                age > 24 &\n",
    "                grandparents %in% c(\"no\", \"none\"))\n",
    "\n",
    "\n",
    "mean(priming.m24notclose$walk)"
   ]
  },
  {
   "cell_type": "markdown",
   "metadata": {},
   "source": [
    "### D. Creating new dataframe objects\n",
    "\n",
    "1. Create a new dataframe called `priming.att` that *only* includes rows where participants passed the attention check. (Hint: use indexing or `subset()`)\n",
    "\n",
    "2. Some of the data don't make any sense. For example, some walking times are negative, some prime values aren't correct, and some prime.duration values weren't part of the original study plan. Create a new dataframe called `priming.c` (aka., priming clean) that *only* includes rows with valid values for each column -- do this by looking for an few strange values in each column, and by looking at the original dataset description. Additionally, *only* include participants who passed the attention check.\n",
    "\n",
    "3. How many participants gave valid data and passed the attention check? (Hint: Use the result from your previous answer!)\n",
    "\n",
    "4. Of those participants who gave valid data and passed the attention check, what was the mean walking time of those given the elderly and neutral prime (calculate these separately)."
   ]
  },
  {
   "cell_type": "code",
   "execution_count": 19,
   "metadata": {},
   "outputs": [],
   "source": [
    "priming.att <- subset(priming, subset = attention == 1)\n",
    "#or\n",
    "priming.att<- priming[priming$attention==1,]"
   ]
  },
  {
   "cell_type": "code",
   "execution_count": 20,
   "metadata": {},
   "outputs": [
    {
     "data": {
      "text/html": [
       "<ol class=list-inline>\n",
       "\t<li>asdf</li>\n",
       "\t<li>elderly</li>\n",
       "\t<li>neutral</li>\n",
       "</ol>\n",
       "\n",
       "<details>\n",
       "\t<summary style=display:list-item;cursor:pointer>\n",
       "\t\t<strong>Levels</strong>:\n",
       "\t</summary>\n",
       "\t<ol class=list-inline>\n",
       "\t\t<li>'asdf'</li>\n",
       "\t\t<li>'elderly'</li>\n",
       "\t\t<li>'neutral'</li>\n",
       "\t</ol>\n",
       "</details>"
      ],
      "text/latex": [
       "\\begin{enumerate*}\n",
       "\\item asdf\n",
       "\\item elderly\n",
       "\\item neutral\n",
       "\\end{enumerate*}\n",
       "\n",
       "\\emph{Levels}: \\begin{enumerate*}\n",
       "\\item 'asdf'\n",
       "\\item 'elderly'\n",
       "\\item 'neutral'\n",
       "\\end{enumerate*}\n"
      ],
      "text/markdown": [
       "1. asdf\n",
       "2. elderly\n",
       "3. neutral\n",
       "\n",
       "\n",
       "\n",
       "**Levels**: 1. 'asdf'\n",
       "2. 'elderly'\n",
       "3. 'neutral'\n",
       "\n",
       "\n"
      ],
      "text/plain": [
       "[1] asdf    elderly neutral\n",
       "Levels: asdf elderly neutral"
      ]
     },
     "metadata": {},
     "output_type": "display_data"
    },
    {
     "data": {
      "text/html": [
       "<ol class=list-inline>\n",
       "\t<li>1</li>\n",
       "\t<li>30</li>\n",
       "\t<li>10</li>\n",
       "\t<li>5</li>\n",
       "\t<li>20</li>\n",
       "\t<li>60</li>\n",
       "</ol>\n"
      ],
      "text/latex": [
       "\\begin{enumerate*}\n",
       "\\item 1\n",
       "\\item 30\n",
       "\\item 10\n",
       "\\item 5\n",
       "\\item 20\n",
       "\\item 60\n",
       "\\end{enumerate*}\n"
      ],
      "text/markdown": [
       "1. 1\n",
       "2. 30\n",
       "3. 10\n",
       "4. 5\n",
       "5. 20\n",
       "6. 60\n",
       "\n",
       "\n"
      ],
      "text/plain": [
       "[1]  1 30 10  5 20 60"
      ]
     },
     "metadata": {},
     "output_type": "display_data"
    }
   ],
   "source": [
    "unique(priming$prime)\n",
    "unique(priming$prime.duration)"
   ]
  },
  {
   "cell_type": "code",
   "execution_count": 21,
   "metadata": {},
   "outputs": [],
   "source": [
    "# Create priming.c, a subset of the original priming data\n",
    "#  (replace __ with the appropriate values)\n",
    "priming.c <- subset(x = priming,\n",
    "                    subset = attention == 1 &\n",
    "                             prime %in% c(\"elderly\", \"neutral\") &\n",
    "                             prime.duration %in% c(1, 5, 10, 30) &\n",
    "                             walk > 0)\n",
    "\n",
    "#or \n",
    "priming.c <- subset(x = priming.att, \n",
    "                    subset = walk > 0 & \n",
    "                             prime %in% c('elderly', 'neutral') &\n",
    "                             prime.duration %in% c(1, 5, 10, 30))"
   ]
  },
  {
   "cell_type": "code",
   "execution_count": 22,
   "metadata": {},
   "outputs": [
    {
     "data": {
      "text/html": [
       "291"
      ],
      "text/latex": [
       "291"
      ],
      "text/markdown": [
       "291"
      ],
      "text/plain": [
       "[1] 291"
      ]
     },
     "metadata": {},
     "output_type": "display_data"
    },
    {
     "data": {
      "text/html": [
       "291"
      ],
      "text/latex": [
       "291"
      ],
      "text/markdown": [
       "291"
      ],
      "text/plain": [
       "[1] 291"
      ]
     },
     "metadata": {},
     "output_type": "display_data"
    },
    {
     "data": {
      "text/html": [
       "291"
      ],
      "text/latex": [
       "291"
      ],
      "text/markdown": [
       "291"
      ],
      "text/plain": [
       "[1] 291"
      ]
     },
     "metadata": {},
     "output_type": "display_data"
    }
   ],
   "source": [
    "nrow(priming.c)\n",
    "#or\n",
    "dim(priming.c)[1]\n",
    "#dim gives a vector c(nrows, ncolumns)\n",
    "# or \n",
    "length(priming.c$id)\n",
    "\n",
    "# NOTE: str(priming.c) is not a good answer because it doesn't return a single number"
   ]
  },
  {
   "cell_type": "code",
   "execution_count": 23,
   "metadata": {},
   "outputs": [
    {
     "data": {
      "text/html": [
       "41.9320895522388"
      ],
      "text/latex": [
       "41.9320895522388"
      ],
      "text/markdown": [
       "41.9320895522388"
      ],
      "text/plain": [
       "[1] 41.93209"
      ]
     },
     "metadata": {},
     "output_type": "display_data"
    },
    {
     "data": {
      "text/html": [
       "30.2566878980892"
      ],
      "text/latex": [
       "30.2566878980892"
      ],
      "text/markdown": [
       "30.2566878980892"
      ],
      "text/plain": [
       "[1] 30.25669"
      ]
     },
     "metadata": {},
     "output_type": "display_data"
    },
    {
     "data": {
      "text/html": [
       "41.9320895522388"
      ],
      "text/latex": [
       "41.9320895522388"
      ],
      "text/markdown": [
       "41.9320895522388"
      ],
      "text/plain": [
       "[1] 41.93209"
      ]
     },
     "metadata": {},
     "output_type": "display_data"
    },
    {
     "data": {
      "text/html": [
       "30.2566878980892"
      ],
      "text/latex": [
       "30.2566878980892"
      ],
      "text/markdown": [
       "30.2566878980892"
      ],
      "text/plain": [
       "[1] 30.25669"
      ]
     },
     "metadata": {},
     "output_type": "display_data"
    },
    {
     "data": {
      "text/html": [
       "<table>\n",
       "<thead><tr><th scope=col>prime</th><th scope=col>walk</th></tr></thead>\n",
       "<tbody>\n",
       "\t<tr><td>elderly </td><td>41.93209</td></tr>\n",
       "\t<tr><td>neutral </td><td>30.25669</td></tr>\n",
       "</tbody>\n",
       "</table>\n"
      ],
      "text/latex": [
       "\\begin{tabular}{r|ll}\n",
       " prime & walk\\\\\n",
       "\\hline\n",
       "\t elderly  & 41.93209\\\\\n",
       "\t neutral  & 30.25669\\\\\n",
       "\\end{tabular}\n"
      ],
      "text/markdown": [
       "\n",
       "| prime | walk |\n",
       "|---|---|\n",
       "| elderly  | 41.93209 |\n",
       "| neutral  | 30.25669 |\n",
       "\n"
      ],
      "text/plain": [
       "  prime   walk    \n",
       "1 elderly 41.93209\n",
       "2 neutral 30.25669"
      ]
     },
     "metadata": {},
     "output_type": "display_data"
    }
   ],
   "source": [
    "priming.c.eld <- subset(priming.c, subset = prime == \"elderly\")\n",
    "priming.c.neu <- subset(priming.c, subset = prime == \"neutral\")\n",
    "\n",
    "mean(priming.c.eld$walk)\n",
    "mean(priming.c.neu$walk)\n",
    "\n",
    "#or\n",
    "\n",
    "walk.c.eld<- priming.c$walk[priming.c$prime==\"elderly\"]\n",
    "walk.c.neut<-priming.c$walk[priming.c$prime==\"neutral\"]\n",
    "\n",
    "mean(walk.c.eld)\n",
    "mean(walk.c.neut)\n",
    "\n",
    "#or\n",
    "aggregate(walk~prime, data=priming.c, FUN=mean)"
   ]
  },
  {
   "cell_type": "markdown",
   "metadata": {},
   "source": [
    "### E. Saving and loading data\n",
    "\n",
    "1. Save your two dataframe objects `priming` and `priming.c` in an .RData file called `priming.RData` in the data folder of your project\n",
    "\n",
    "2. Save your `priming.c` object as a tab--delimited text file called `priming_clean.txt` in the data folder of your project.\n",
    "\n",
    "3. Clean your workspace by running `rm(list = ls())`\n",
    "\n",
    "4. Re-load your two dataframe objects using `load()`.\n",
    "\n",
    "5. A colleague of yours wants access to the data from the females given the neutral prime in your experiment. Create a dataframe called `priming.f` that only includes these data. Additionally, do *not* include the `id` column as this could be used to identify the participants.\n",
    "\n",
    "6. Save your `priming.f` object as a tab--delimited text file called `priming_females.txt` in the data folder of your project.\n",
    "\n",
    "7. Save your entire workspace using `save.image` to an .RData file called `priming_ws.RData` in the data folder of your project."
   ]
  },
  {
   "cell_type": "code",
   "execution_count": 24,
   "metadata": {},
   "outputs": [],
   "source": [
    "save(priming, priming.c, file = \"data/priming.RData\")"
   ]
  },
  {
   "cell_type": "code",
   "execution_count": 25,
   "metadata": {},
   "outputs": [],
   "source": [
    "write.table(priming.c, file = \"data/priming_clean.txt\", sep = \"\\t\")"
   ]
  },
  {
   "cell_type": "code",
   "execution_count": 26,
   "metadata": {},
   "outputs": [],
   "source": [
    "rm(list = ls())"
   ]
  },
  {
   "cell_type": "code",
   "execution_count": 27,
   "metadata": {},
   "outputs": [],
   "source": [
    "load(file = \"data/priming.RData\")"
   ]
  },
  {
   "cell_type": "code",
   "execution_count": 28,
   "metadata": {},
   "outputs": [],
   "source": [
    "priming.f <- subset(priming, \n",
    "                    subset = sex == \"f\" & prime==\"neutral\",\n",
    "                    select = c(\"sex\", \"age\", \"attention\", \"prime\", \"prime.duration\", \"grandparents\", \"walk\", \"walking.m\"))\n",
    "\n",
    "#OR\n",
    "\n",
    "priming.f<- priming[priming$sex==\"f\" & priming$prime==\"neutral\", -1]\n",
    "# a column index of -1 means all columns except column 1."
   ]
  },
  {
   "cell_type": "code",
   "execution_count": 29,
   "metadata": {},
   "outputs": [],
   "source": [
    "write.table(priming.f, file = \"data/priming_females.txt\", sep = \"\\t\")"
   ]
  },
  {
   "cell_type": "code",
   "execution_count": 30,
   "metadata": {},
   "outputs": [],
   "source": [
    "save.image(file = \"data/priming_ws.RData\")"
   ]
  },
  {
   "cell_type": "markdown",
   "metadata": {},
   "source": [
    "### F. Final steps...\n",
    "\n",
    "The following questions apply to your cleaned dataframe (`priming.c`)\n",
    "\n",
    "1. Did the effect of priming condition on walking times differ between the first 100 and the last 100 participants (Hint: Make sure to index the data using `id`!)?\n",
    "\n",
    "2. Due to a computer error, the data from every participant with an even id number is invalid. Remove these data from your `priming.c` dataframe.\n",
    "\n",
    "3. Do you find evidence that a participant's relationship with their grandparents affects how they responded to the primes?"
   ]
  },
  {
   "cell_type": "code",
   "execution_count": 31,
   "metadata": {},
   "outputs": [
    {
     "data": {
      "text/html": [
       "291"
      ],
      "text/latex": [
       "291"
      ],
      "text/markdown": [
       "291"
      ],
      "text/plain": [
       "[1] 291"
      ]
     },
     "metadata": {},
     "output_type": "display_data"
    },
    {
     "data": {
      "text/html": [
       "500"
      ],
      "text/latex": [
       "500"
      ],
      "text/markdown": [
       "500"
      ],
      "text/plain": [
       "[1] 500"
      ]
     },
     "metadata": {},
     "output_type": "display_data"
    }
   ],
   "source": [
    "length(priming.c$id)\n",
    "length(priming$id)"
   ]
  },
  {
   "cell_type": "code",
   "execution_count": 32,
   "metadata": {},
   "outputs": [
    {
     "data": {
      "text/html": [
       "12.3680555555556"
      ],
      "text/latex": [
       "12.3680555555556"
      ],
      "text/markdown": [
       "12.3680555555556"
      ],
      "text/plain": [
       "[1] 12.36806"
      ]
     },
     "metadata": {},
     "output_type": "display_data"
    },
    {
     "data": {
      "text/html": [
       "10.7897727272727"
      ],
      "text/latex": [
       "10.7897727272727"
      ],
      "text/markdown": [
       "10.7897727272727"
      ],
      "text/plain": [
       "[1] 10.78977"
      ]
     },
     "metadata": {},
     "output_type": "display_data"
    }
   ],
   "source": [
    "# First 100 participants\n",
    "neutral.f100 <- subset(priming.c, id <= 100 & prime == \"neutral\")\n",
    "elderly.f100 <- subset(priming.c, id <= 100 & prime == \"elderly\")\n",
    "\n",
    "# Difference between conditions in first 100\n",
    "mean(elderly.f100$walk) - mean(neutral.f100$walk)\n",
    "\n",
    "# Last 100 participants\n",
    "neutral.l100 <- subset(priming.c, id >= 400 & prime == \"neutral\")\n",
    "elderly.l100 <- subset(priming.c, id >= 400 & prime == \"elderly\")\n",
    "\n",
    "# Difference between conditions in last 100\n",
    "mean(elderly.l100$walk) - mean(neutral.l100$walk)\n",
    "\n",
    "\n",
    "# Answer: The results appear similar"
   ]
  },
  {
   "cell_type": "code",
   "execution_count": 33,
   "metadata": {},
   "outputs": [],
   "source": [
    "priming.c <- priming.c[priming.c$id %in% seq(1, 499, 2),]\n",
    "\n",
    "# or \n",
    "priming.c <- subset(priming.c,subset=priming.c$id %% 2 != 0)"
   ]
  },
  {
   "cell_type": "code",
   "execution_count": 34,
   "metadata": {},
   "outputs": [
    {
     "data": {
      "text/html": [
       "11.0551656920078"
      ],
      "text/latex": [
       "11.0551656920078"
      ],
      "text/markdown": [
       "11.0551656920078"
      ],
      "text/plain": [
       "[1] 11.05517"
      ]
     },
     "metadata": {},
     "output_type": "display_data"
    },
    {
     "data": {
      "text/html": [
       "14.0716666666667"
      ],
      "text/latex": [
       "14.0716666666667"
      ],
      "text/markdown": [
       "14.0716666666667"
      ],
      "text/plain": [
       "[1] 14.07167"
      ]
     },
     "metadata": {},
     "output_type": "display_data"
    },
    {
     "data": {
      "text/html": [
       "9.08809523809524"
      ],
      "text/latex": [
       "9.08809523809524"
      ],
      "text/markdown": [
       "9.08809523809524"
      ],
      "text/plain": [
       "[1] 9.088095"
      ]
     },
     "metadata": {},
     "output_type": "display_data"
    }
   ],
   "source": [
    "# No relationship conditions\n",
    "neutral.no <- subset(priming.c, \n",
    "                      subset = grandparents == \"no\" & \n",
    "                        prime == \"neutral\")\n",
    "\n",
    "elderly.no <- subset(priming.c, \n",
    "                      subset = grandparents == \"no\" & \n",
    "                        prime == \"elderly\")\n",
    "\n",
    "# Condition effect for grandparents == \"no\"\n",
    "mean(elderly.no$walk) - mean(neutral.no$walk)\n",
    "\n",
    "# Yes relationship conditions\n",
    "neutral.yes <- subset(priming.c, \n",
    "                      subset = grandparents == \"yes\" & \n",
    "                        prime == \"neutral\")\n",
    "\n",
    "elderly.yes <- subset(priming.c, \n",
    "                      subset = grandparents == \"yes\" & \n",
    "                        prime == \"elderly\")\n",
    "\n",
    "# Condition effect for grandparents == \"yes\"\n",
    "mean(elderly.yes$walk) - mean(neutral.yes$walk)\n",
    "\n",
    "# none relationship conditions\n",
    "neutral.none <- subset(priming.c, \n",
    "                      subset = grandparents == \"none\" & \n",
    "                        prime == \"neutral\")\n",
    "\n",
    "elderly.none <- subset(priming.c, \n",
    "                      subset = grandparents == \"none\" & \n",
    "                        prime == \"elderly\")\n",
    "\n",
    "# Condition effect for grandparents == \"none\"\n",
    "\n",
    "mean(elderly.none$walk) - mean(neutral.none$walk)\n",
    "\n",
    "# Answer: It appears that the effect was strongest for people with a close relationship with their grandparents"
   ]
  },
  {
   "cell_type": "code",
   "execution_count": 35,
   "metadata": {},
   "outputs": [
    {
     "data": {
      "text/html": [
       "11.0551656920078"
      ],
      "text/latex": [
       "11.0551656920078"
      ],
      "text/markdown": [
       "11.0551656920078"
      ],
      "text/plain": [
       "[1] 11.05517"
      ]
     },
     "metadata": {},
     "output_type": "display_data"
    },
    {
     "data": {
      "text/html": [
       "14.0716666666667"
      ],
      "text/latex": [
       "14.0716666666667"
      ],
      "text/markdown": [
       "14.0716666666667"
      ],
      "text/plain": [
       "[1] 14.07167"
      ]
     },
     "metadata": {},
     "output_type": "display_data"
    },
    {
     "data": {
      "text/html": [
       "9.08809523809524"
      ],
      "text/latex": [
       "9.08809523809524"
      ],
      "text/markdown": [
       "9.08809523809524"
      ],
      "text/plain": [
       "[1] 9.088095"
      ]
     },
     "metadata": {},
     "output_type": "display_data"
    },
    {
     "data": {
      "text/html": [
       "11.0551656920078"
      ],
      "text/latex": [
       "11.0551656920078"
      ],
      "text/markdown": [
       "11.0551656920078"
      ],
      "text/plain": [
       "[1] 11.05517"
      ]
     },
     "metadata": {},
     "output_type": "display_data"
    },
    {
     "data": {
      "text/html": [
       "14.0716666666667"
      ],
      "text/latex": [
       "14.0716666666667"
      ],
      "text/markdown": [
       "14.0716666666667"
      ],
      "text/plain": [
       "[1] 14.07167"
      ]
     },
     "metadata": {},
     "output_type": "display_data"
    },
    {
     "data": {
      "text/html": [
       "9.08809523809524"
      ],
      "text/latex": [
       "9.08809523809524"
      ],
      "text/markdown": [
       "9.08809523809524"
      ],
      "text/plain": [
       "[1] 9.088095"
      ]
     },
     "metadata": {},
     "output_type": "display_data"
    }
   ],
   "source": [
    "# ALternatively (more efficiently)\n",
    "\n",
    "walk.mns<- aggregate(walk~prime*grandparents, data=priming.c, FUN=mean)\n",
    "\n",
    "# Effect for grandparents == \"no\"\n",
    "walk.mns[1,3]-walk.mns[2,3]\n",
    "\n",
    "# Effect for grandparents == \"yes\"\n",
    "walk.mns[5,3]-walk.mns[6,3]\n",
    "\n",
    "# Effect for grandparents == \"none\"\n",
    "walk.mns[3,3]-walk.mns[4,3]\n",
    "\n",
    "# You can look at the data.frame to determine appropriate indexing, but it is determined alphabetically, so you can determine it without looking. Alternatively you could use logical indexing. For Example:\n",
    "\n",
    "walk.mns[walk.mns$prime==\"elderly\"&walk.mns$grandparents==\"no\",3]-walk.mns[walk.mns$prime==\"neutral\"&walk.mns$grandparents==\"no\",3]\n",
    "\n",
    "walk.mns[walk.mns$prime==\"elderly\"&walk.mns$grandparents==\"yes\",3]-walk.mns[walk.mns$prime==\"neutral\"&walk.mns$grandparents==\"yes\",3]\n",
    "\n",
    "walk.mns[walk.mns$prime==\"elderly\"&walk.mns$grandparents==\"none\",3]-walk.mns[walk.mns$prime==\"neutral\"&walk.mns$grandparents==\"none\",3]"
   ]
  },
  {
   "cell_type": "markdown",
   "metadata": {},
   "source": [
    "### That's it! Now it's time to submit your assignment!\n",
    "\n",
    "Save and email your `wpa_3_LastFirst.R` file to me at [laura.fontanesi@unibas.ch](mailto:laura.fontanesi@unibas.ch). \n",
    "\n",
    "Assignments sent after Sunday 24th March will not be considered (to pass the course you have to hand in all assignments for each week). "
   ]
  }
 ],
 "metadata": {
  "kernelspec": {
   "display_name": "R",
   "language": "R",
   "name": "ir"
  },
  "language_info": {
   "codemirror_mode": "r",
   "file_extension": ".r",
   "mimetype": "text/x-r-source",
   "name": "R",
   "pygments_lexer": "r",
   "version": "3.5.1"
  }
 },
 "nbformat": 4,
 "nbformat_minor": 2
}
