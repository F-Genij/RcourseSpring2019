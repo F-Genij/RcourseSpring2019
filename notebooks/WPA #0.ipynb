{
 "cells": [
  {
   "cell_type": "markdown",
   "metadata": {},
   "source": [
    "# WPA #0 -- Seeing what R can do!"
   ]
  },
  {
   "cell_type": "markdown",
   "metadata": {},
   "source": [
    "## Your first WPA!\n",
    "\n",
    "Here is your first WPA! Open a new R script in R and save it as `wpa_0_LastFirst` (where Last and First is your last and first name). At the top of your script, make sure to put the following info (make sure to put the hashtag at the beginning so R knows that it's a comment, not real R code)"
   ]
  },
  {
   "cell_type": "code",
   "execution_count": null,
   "metadata": {},
   "outputs": [],
   "source": [
    "# Assignment: WPA 0\n",
    "# Name: Walter White\n",
    "# Date: 28 September 2016"
   ]
  },
  {
   "cell_type": "markdown",
   "metadata": {},
   "source": [
    "Copy and paste each of the following code chunks into your assignment"
   ]
  },
  {
   "cell_type": "markdown",
   "metadata": {},
   "source": [
    "### 1. Install and load the yarrr package\n",
    "\n",
    "First we'll install and load the yarrr package. The yarrr package contains many datasets and functions (like `pirateplot` we'll use in this course.)"
   ]
  },
  {
   "cell_type": "code",
   "execution_count": null,
   "metadata": {},
   "outputs": [],
   "source": [
    "install.packages('yarrr')\n",
    "\n",
    "library(yarrr)"
   ]
  },
  {
   "cell_type": "markdown",
   "metadata": {},
   "source": [
    "### 2. Explore the pirates dataset\n",
    "\n",
    "The pirates dataset contains data from a survey of 1,000 pirates."
   ]
  },
  {
   "cell_type": "code",
   "execution_count": null,
   "metadata": {},
   "outputs": [],
   "source": [
    "## 2A: Get help for pirates data\n",
    "?pirates"
   ]
  },
  {
   "cell_type": "code",
   "execution_count": null,
   "metadata": {},
   "outputs": [],
   "source": [
    "## 2B: Print the first few rows of the dataset\n",
    "head(pirates)"
   ]
  },
  {
   "cell_type": "code",
   "execution_count": null,
   "metadata": {},
   "outputs": [],
   "source": [
    "## 2C: Show the structure of the dataset\n",
    "str(pirates)"
   ]
  },
  {
   "cell_type": "code",
   "execution_count": null,
   "metadata": {},
   "outputs": [],
   "source": [
    "## 2D: Show the entire dataset in a new window\n",
    "View(pirates)"
   ]
  },
  {
   "cell_type": "markdown",
   "metadata": {},
   "source": [
    "### 3. Basic descriptive statistics for vectors"
   ]
  },
  {
   "cell_type": "code",
   "execution_count": null,
   "metadata": {},
   "outputs": [],
   "source": [
    "## 3A: What is the mean age?\n",
    "mean(pirates$age)"
   ]
  },
  {
   "cell_type": "code",
   "execution_count": null,
   "metadata": {},
   "outputs": [],
   "source": [
    "## 3B: What was the height of the tallest pirate?\n",
    "max(pirates$height)"
   ]
  },
  {
   "cell_type": "code",
   "execution_count": null,
   "metadata": {},
   "outputs": [],
   "source": [
    "## 3C (YOUR TURN!): What was the median weight of the pirates?"
   ]
  },
  {
   "cell_type": "code",
   "execution_count": null,
   "metadata": {},
   "outputs": [],
   "source": [
    "## 3D: How many pirates are there of each sex?\n",
    "table(pirates$sex)"
   ]
  },
  {
   "cell_type": "code",
   "execution_count": null,
   "metadata": {},
   "outputs": [],
   "source": [
    "## 3E (YOUR TURN!): # How many pirates were there of each age?"
   ]
  },
  {
   "cell_type": "markdown",
   "metadata": {},
   "source": [
    "### 4. Descriptive statistics for non-numeric data"
   ]
  },
  {
   "cell_type": "code",
   "execution_count": null,
   "metadata": {},
   "outputs": [],
   "source": [
    "## 4A: What was the mean age for each sex?\n",
    "aggregate(formula = age ~ sex, \n",
    "          data = pirates,\n",
    "          FUN = mean)"
   ]
  },
  {
   "cell_type": "code",
   "execution_count": null,
   "metadata": {},
   "outputs": [],
   "source": [
    "## 4B (YOUR TURN!): What was the mean beard length for each sex?\n",
    "# (Hint: The beard length column is called beard.length)"
   ]
  },
  {
   "cell_type": "code",
   "execution_count": null,
   "metadata": {},
   "outputs": [],
   "source": [
    "## 4C: What is the median age of pirates for each combination of sex and headband?\n",
    "aggregate(formula = age ~ sex + headband, \n",
    "          data = pirates,\n",
    "          FUN = median)"
   ]
  },
  {
   "cell_type": "markdown",
   "metadata": {},
   "source": [
    "### 5. Histograms"
   ]
  },
  {
   "cell_type": "code",
   "execution_count": null,
   "metadata": {},
   "outputs": [],
   "source": [
    "## 5A: A default histogram of pirate ages\n",
    "hist(x = pirates$age)"
   ]
  },
  {
   "cell_type": "code",
   "execution_count": null,
   "metadata": {},
   "outputs": [],
   "source": [
    "## 5B (YOUR TURN!): A default histogram of pirate tattoos"
   ]
  },
  {
   "cell_type": "code",
   "execution_count": null,
   "metadata": {},
   "outputs": [],
   "source": [
    "## 5C: A customized histogram of pirate ages\n",
    "hist(x = pirates$age,\n",
    "     main = \"Distribution of pirate ages\",\n",
    "     col = \"skyblue\",\n",
    "     border = \"white\",\n",
    "     xlab = \"Age\",\n",
    "     ylim = c(0, 400))\n",
    "\n",
    "# Add mean label\n",
    "text(x = mean(pirates$age), y = 375, \n",
    "     labels = paste(\"Mean = \", round(mean(pirates$age), 2)))\n",
    "\n",
    "# Add dashed line at mean\n",
    "segments(x0 = mean(pirates$age), y0 = 0, \n",
    "         x1 = mean(pirates$age), y1 = 360, \n",
    "         col = gray(.2, .2), \n",
    "         lty = 2)"
   ]
  },
  {
   "cell_type": "code",
   "execution_count": null,
   "metadata": {},
   "outputs": [],
   "source": [
    "## 5D: Overlapping histograms of pirate ages for females and males\n",
    "\n",
    "# Start with the female data\n",
    "hist(x = pirates$age[pirates$sex == \"female\"],\n",
    "     main = \"Distribution of pirate ages by sex\",\n",
    "     col = transparent(\"red\", .2),\n",
    "     border = \"white\",\n",
    "     xlab = \"Age\", \n",
    "     breaks = seq(0, 50, 2),\n",
    "     probability = T,\n",
    "     ylab = \"\", \n",
    "     yaxt = \"n\")\n",
    "\n",
    "# Add male data\n",
    "hist(x = pirates$age[pirates$sex == \"male\"],\n",
    "     add = T, \n",
    "     probability = T, \n",
    "     border = \"white\",\n",
    "     breaks = seq(0, 50, 2),\n",
    "     col = transparent(\"skyblue\", .5))\n",
    "\n",
    "# Add the legend\n",
    "legend(x = 40, \n",
    "       y = .05,\n",
    "       col = c(\"red\", \"skyblue\"),\n",
    "       legend = c(\"Female\", \"Male\"),\n",
    "       pch = 16,\n",
    "       bty = \"n\")"
   ]
  },
  {
   "cell_type": "markdown",
   "metadata": {},
   "source": [
    "### 6. Scatterplots"
   ]
  },
  {
   "cell_type": "code",
   "execution_count": null,
   "metadata": {},
   "outputs": [],
   "source": [
    "## 6A: A simple scatterplot of pirate height and weight\n",
    "plot(x = pirates$height,\n",
    "     y = pirates$weight,\n",
    "     xlab = \"Height (cm)\",\n",
    "     ylab = \"Weight (kg)\")"
   ]
  },
  {
   "cell_type": "code",
   "execution_count": null,
   "metadata": {},
   "outputs": [],
   "source": [
    "## 6B: A fancier scatterplot of the same data with some additional arguments\n",
    "\n",
    "# Create main plot\n",
    "plot(x = pirates$height, \n",
    "     y = pirates$weight,\n",
    "     main = 'My first scatterplot of pirate data!',\n",
    "     xlab = 'Height (in cm)',\n",
    "     ylab = 'Weight (in kg)',\n",
    "     pch = 16,    # Filled circles\n",
    "     col = gray(0, .1)) # Transparent gray\n",
    "     \n",
    "# Add gridlines\n",
    "grid()\n",
    "\n",
    "# Create a linear regression model\n",
    "model <- lm(formula = weight ~ height, \n",
    "            data = pirates)\n",
    "\n",
    "# Add regression to plot\n",
    "abline(model,\n",
    "       col = 'blue', lty = 2)"
   ]
  },
  {
   "cell_type": "markdown",
   "metadata": {},
   "source": [
    "### 7. Color palettes"
   ]
  },
  {
   "cell_type": "code",
   "execution_count": null,
   "metadata": {},
   "outputs": [],
   "source": [
    "## 7A: Look at all the palettes from piratepal()\n",
    "piratepal()"
   ]
  },
  {
   "cell_type": "code",
   "execution_count": null,
   "metadata": {},
   "outputs": [],
   "source": [
    "## 7B: Look at the basel palette in detail\n",
    "piratepal(palette = \"basel\", plot.result = T)"
   ]
  },
  {
   "cell_type": "code",
   "execution_count": null,
   "metadata": {},
   "outputs": [],
   "source": [
    "## 7C (YOUR TURN!): Look at the pony palette in detail"
   ]
  },
  {
   "cell_type": "code",
   "execution_count": null,
   "metadata": {},
   "outputs": [],
   "source": [
    "## 7D: Scatterplot of pirate height and weight using the pony palette\n",
    "my.cols <- piratepal(palette = \"pony\", \n",
    "                     trans = .2, \n",
    "                     length.out = nrow(pirates))\n",
    "\n",
    "# Create the plot\n",
    "plot(x = pirates$height, y = pirates$weight,\n",
    "     main = \"Random scatterplot with My Little Pony Colors\",\n",
    "     xlab = \"Pony height\",\n",
    "     ylab = \"Pony weight\",\n",
    "     pch = 21,  # Round symbols with borders\n",
    "     col = \"white\",  # White border\n",
    "     bg = my.cols,  # Random colors\n",
    "     bty = \"n\"  # No plot border\n",
    "     )\n",
    "\n",
    "# Add gridlines\n",
    "grid()"
   ]
  },
  {
   "cell_type": "markdown",
   "metadata": {},
   "source": [
    "### 8. Barplots"
   ]
  },
  {
   "cell_type": "code",
   "execution_count": null,
   "metadata": {},
   "outputs": [],
   "source": [
    "## 8A: Barpot of mean height by favorite.pirate\n",
    "\n",
    "# Calculate mean height for each favorite.pirate\n",
    "pirate.heights <- aggregate(height ~ favorite.pirate,\n",
    "                     data = pirates,\n",
    "                     FUN = mean)\n",
    "\n",
    "barplot(pirate.heights$height, \n",
    "        main = \"Barplot of mean height by favorite pirate\",\n",
    "        names.arg = pirate.heights$favorite.pirate)"
   ]
  },
  {
   "cell_type": "code",
   "execution_count": null,
   "metadata": {},
   "outputs": [],
   "source": [
    "## 8B: Same as 8A, but with customizations\n",
    "barplot(pirate.heights$height, \n",
    "        ylim = c(0, 200),\n",
    "        ylab = \"Pirate Height (in cm)\",\n",
    "        main = \"Barplot of mean height by favorite pirate\",\n",
    "        names.arg = pirate.heights$favorite.pirate, \n",
    "        col = piratepal(\"basel\", trans = .2))\n",
    "\n",
    "abline(h = seq(0, 200, 25), lty = 3, lwd = c(1, .5))"
   ]
  },
  {
   "cell_type": "markdown",
   "metadata": {},
   "source": [
    "### 9. pirateplots"
   ]
  },
  {
   "cell_type": "code",
   "execution_count": null,
   "metadata": {},
   "outputs": [],
   "source": [
    "## 9A: Pirateplot of height by favorite pirate\n",
    "pirateplot(formula = height ~ favorite.pirate,\n",
    "           data = pirates,\n",
    "           main = \"Pirateplot of height by favorite pirate\")"
   ]
  },
  {
   "cell_type": "code",
   "execution_count": null,
   "metadata": {},
   "outputs": [],
   "source": [
    "## 9B: Pirateplot of height by sex and eyepatch\n",
    "pirateplot(formula = height ~ sex + eyepatch,\n",
    "           data = pirates,\n",
    "           main = \"Pirateplot of height by favorite pirate\")"
   ]
  },
  {
   "cell_type": "markdown",
   "metadata": {},
   "source": [
    "### 10. Two sample hypothesis tests"
   ]
  },
  {
   "cell_type": "markdown",
   "metadata": {},
   "source": [
    "#### t-test"
   ]
  },
  {
   "cell_type": "code",
   "execution_count": null,
   "metadata": {},
   "outputs": [],
   "source": [
    "## 10A: Do pirates with eyepatches have longer beards than those without eyepatches?\n",
    "t.test(formula = beard.length ~ eyepatch, \n",
    "       data = pirates,\n",
    "       alternative = 'two.sided')"
   ]
  },
  {
   "cell_type": "markdown",
   "metadata": {},
   "source": [
    "#### correlation test"
   ]
  },
  {
   "cell_type": "code",
   "execution_count": null,
   "metadata": {},
   "outputs": [],
   "source": [
    "## 10B: Is there a correlation between a pirate's age and the number of parrots (s)he has?\n",
    "cor.test(formula = ~ age + parrots,\n",
    "         data = pirates)"
   ]
  },
  {
   "cell_type": "code",
   "execution_count": null,
   "metadata": {},
   "outputs": [],
   "source": [
    "# 10C (YOUR TURN!): Is there a correlation between pirate weight and tattoos?"
   ]
  },
  {
   "cell_type": "markdown",
   "metadata": {},
   "source": [
    "### 11. ANOVA"
   ]
  },
  {
   "cell_type": "code",
   "execution_count": null,
   "metadata": {},
   "outputs": [],
   "source": [
    "## 11A: ANOVA on beard.length as a function of sex and college\n",
    "\n",
    "# Run the ANOVA\n",
    "beard.aov <- aov(formula = beard.length ~ sex + college, \n",
    "                   data = pirates)\n",
    "\n",
    "# Print summary results\n",
    "summary(beard.aov)"
   ]
  },
  {
   "cell_type": "code",
   "execution_count": null,
   "metadata": {},
   "outputs": [],
   "source": [
    "## 11B: Post-hoc tests on the previous ANOVA\n",
    "TukeyHSD(beard.aov)"
   ]
  },
  {
   "cell_type": "markdown",
   "metadata": {},
   "source": [
    "### 12. Regression"
   ]
  },
  {
   "cell_type": "code",
   "execution_count": null,
   "metadata": {},
   "outputs": [],
   "source": [
    "## 12A: regression analysis showing if age, weight, and tattoos predict how many treasure chests a pirate has found\n",
    "\n",
    "# Run the regression\n",
    "chests.lm <- lm(formula = tchests ~ age + weight + tattoos, \n",
    "                data = pirates)\n",
    "\n",
    "# Print summary results\n",
    "summary(chests.lm)"
   ]
  },
  {
   "cell_type": "markdown",
   "metadata": {},
   "source": [
    "### That's it! Now it's time to submit your assignment!\n",
    "\n",
    "Save and email your `wpa_0_LastFirst.R` file to me at [laura.fontanesi@unibas.ch](mailto:laura.fontanesi@unibas.ch). "
   ]
  },
  {
   "cell_type": "code",
   "execution_count": null,
   "metadata": {},
   "outputs": [],
   "source": []
  }
 ],
 "metadata": {
  "kernelspec": {
   "display_name": "R",
   "language": "R",
   "name": "ir"
  },
  "language_info": {
   "codemirror_mode": "r",
   "file_extension": ".r",
   "mimetype": "text/x-r-source",
   "name": "R",
   "pygments_lexer": "r",
   "version": "3.5.1"
  }
 },
 "nbformat": 4,
 "nbformat_minor": 2
}
