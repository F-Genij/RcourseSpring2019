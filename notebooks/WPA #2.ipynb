{
 "cells": [
  {
   "cell_type": "markdown",
   "metadata": {},
   "source": [
    "# WPA #2 - Chapter 7"
   ]
  },
  {
   "cell_type": "markdown",
   "metadata": {},
   "source": [
    "Open a new R script in R and **save it as** `wpa_2_LastFirst.R` (where Last and First is your last and first name). \n",
    "\n",
    "Careful about capitalizing, and using `_` and **not**, e.g., `WPA-1-LastFirst.R`\n",
    "\n",
    "At the top of your script, write the following (**with appropriate changes**):"
   ]
  },
  {
   "cell_type": "code",
   "execution_count": 1,
   "metadata": {},
   "outputs": [],
   "source": [
    "# Assignment: WPA 2\n",
    "# Name: Your_name Your_surname\n",
    "# Date: 5 March 2019"
   ]
  },
  {
   "cell_type": "markdown",
   "metadata": {},
   "source": [
    "## Analyzing Bar survey data"
   ]
  },
  {
   "cell_type": "markdown",
   "metadata": {},
   "source": [
    "<img src=\"http://mainetoday.com/wp-content/uploads/2014/06/meet-at-bar-red-lipstick-project.jpg\" width=\"400\" />"
   ]
  },
  {
   "cell_type": "markdown",
   "metadata": {},
   "source": [
    "The following contain (fictional!) data from a survey of 200 people at one of two bars in Basel (Grenzwert and Paddy's) last Friday night at 3:00am. Each person was asked which kind of cologne they were wearing. After answering this question, a (very busy) researcher recorded how long each person spent talking to people at the bar. The data are stored in the following 5 vector objects:\n",
    "\n",
    "- `id`: An id indicating the participant in the form `x.n`, where `x` is the name of the bar the participant was at, and `n` is a random indexing number)\n",
    "- `sex`: The person's sex: `male` or `female`\n",
    "- `cologne`: Which cologne did the person wear? `gio` or `calvinklein`\n",
    "- `bar`: Where the person went out: `grenzwert` or `paddys`\n",
    "- `time`: The amount of time the person spent talking to people in minutes\n",
    "\n",
    "Thankfully, you don't need to type in the data yourself! The objects are stored in an *RData* file online."
   ]
  },
  {
   "cell_type": "markdown",
   "metadata": {},
   "source": [
    "Load the vectors into your R session by running the following code."
   ]
  },
  {
   "cell_type": "code",
   "execution_count": 2,
   "metadata": {},
   "outputs": [],
   "source": [
    "load(file = url(\"https://www.dropbox.com/s/hxdb05i2g8y50ul/wpa2.RData?dl=1\"))"
   ]
  },
  {
   "cell_type": "markdown",
   "metadata": {},
   "source": [
    "YOUR TURN (task A):\n",
    "\n",
    "The `str()` function will give you basic information about objects. Get to know the objects (`id`, `sex`, `cologne`, `bar`, `time`) by running the `str()` function on each of the 5 vectors. "
   ]
  },
  {
   "cell_type": "markdown",
   "metadata": {},
   "source": [
    "### Review"
   ]
  },
  {
   "cell_type": "markdown",
   "metadata": {},
   "source": [
    "YOUR TURN (task B):\n",
    "\n",
    "1. How many people were there of each sex? (Hint: use `table()`)\n",
    "\n",
    "2. What was the mean time?\n",
    "\n",
    "3. What was the standard deviation of times?\n",
    "\n",
    "4. Create `time.z` a z-score transformation of time. (Hint: z-score is defined as `(x - mean(x)) / sd(x)`)"
   ]
  },
  {
   "cell_type": "markdown",
   "metadata": {},
   "source": [
    "### Numerical Indexing"
   ]
  },
  {
   "cell_type": "code",
   "execution_count": 3,
   "metadata": {},
   "outputs": [
    {
     "data": {
      "text/html": [
       "5"
      ],
      "text/latex": [
       "5"
      ],
      "text/markdown": [
       "5"
      ],
      "text/plain": [
       "[1] 5"
      ]
     },
     "metadata": {},
     "output_type": "display_data"
    }
   ],
   "source": [
    "###   Example:\n",
    "###   Index the 2nd element of vector a.\n",
    "a<-c(3, 5, 2, 1)\n",
    "a[2]"
   ]
  },
  {
   "cell_type": "markdown",
   "metadata": {},
   "source": [
    "YOUR TURN (task C):\n",
    "\n",
    "\n",
    "5. What was the value of the first time?\n",
    "\n",
    "6. What were the sexes of the first five participants?\n",
    "\n",
    "7. What were the colognes of the 10th through the 20th participants\n",
    "\n",
    "8. Which bar did the last participant go to? (hint: don't write the indexing number directly; instead, index the vector using the `length()` function with the appropriate argument)"
   ]
  },
  {
   "cell_type": "markdown",
   "metadata": {},
   "source": [
    "### Logical Indexing on one variable"
   ]
  },
  {
   "cell_type": "code",
   "execution_count": 4,
   "metadata": {},
   "outputs": [
    {
     "data": {
      "text/html": [
       "<ol class=list-inline>\n",
       "\t<li>FALSE</li>\n",
       "\t<li>FALSE</li>\n",
       "\t<li>TRUE</li>\n",
       "\t<li>TRUE</li>\n",
       "</ol>\n"
      ],
      "text/latex": [
       "\\begin{enumerate*}\n",
       "\\item FALSE\n",
       "\\item FALSE\n",
       "\\item TRUE\n",
       "\\item TRUE\n",
       "\\end{enumerate*}\n"
      ],
      "text/markdown": [
       "1. FALSE\n",
       "2. FALSE\n",
       "3. TRUE\n",
       "4. TRUE\n",
       "\n",
       "\n"
      ],
      "text/plain": [
       "[1] FALSE FALSE  TRUE  TRUE"
      ]
     },
     "metadata": {},
     "output_type": "display_data"
    },
    {
     "data": {
      "text/html": [
       "<ol class=list-inline>\n",
       "\t<li>2</li>\n",
       "\t<li>1</li>\n",
       "</ol>\n"
      ],
      "text/latex": [
       "\\begin{enumerate*}\n",
       "\\item 2\n",
       "\\item 1\n",
       "\\end{enumerate*}\n"
      ],
      "text/markdown": [
       "1. 2\n",
       "2. 1\n",
       "\n",
       "\n"
      ],
      "text/plain": [
       "[1] 2 1"
      ]
     },
     "metadata": {},
     "output_type": "display_data"
    }
   ],
   "source": [
    "###   Example:\n",
    "###   Find which elements of vector a have values less than 3\n",
    "a<3\n",
    "\n",
    "###   return only the values in a which are less than 3\n",
    "a[a<3]"
   ]
  },
  {
   "cell_type": "markdown",
   "metadata": {},
   "source": [
    "YOUR TURN (task D):\n",
    "\n",
    "9. a) How many people wore gio? b) How many wore calvinklein?\n",
    "\n",
    "10. a) How many people went to Grenzwert? b) How many went to Paddys?\n",
    "\n",
    "11. What percent of people went to Grenzert? (Hint: use `mean()` combined with a logical vector)\n",
    "\n",
    "12. How many talking times were longer than 30 minutes?\n",
    "\n",
    "13. What percent of talking times were longer than an hour?\n",
    "\n",
    "14. What percent of talking times were longer than 20 minutes but less than 40 minutes?\n",
    "\n",
    "15. Create a new vector `time.60` which contains only talking times that were less than an hour?"
   ]
  },
  {
   "cell_type": "markdown",
   "metadata": {},
   "source": [
    "### Logical indexing and two variables"
   ]
  },
  {
   "cell_type": "markdown",
   "metadata": {},
   "source": [
    "YOUR TURN (task E):\n",
    "\n",
    "16. What were the ids of people who went to grenzwert?\n",
    "\n",
    "17. What was the mean time of people who went to Grenzwert?\n",
    "\n",
    "18. What was the mean time of people who went to Paddys?\n",
    "\n",
    "19. What was the mean time of people who wore gio?\n",
    "\n",
    "20. What was the mean time of people who wore calvinklein?\n",
    "\n",
    "21. Based on what you've learned, if someone wants to talk as long as possible, what cologne should they wear?"
   ]
  },
  {
   "cell_type": "markdown",
   "metadata": {},
   "source": [
    "### Changing data in a vector with indexing\n",
    "\n",
    "In the next questions, we'll use indexing and assignment to change the values within a vector. Because we don't want to change the original data, we'll make all of our adjustments on new vectors."
   ]
  },
  {
   "cell_type": "markdown",
   "metadata": {},
   "source": [
    "YOUR TURN  (task F):\n",
    "\n",
    "22. Create new objects `bar.r`, `cologne.r` and `time.r` that are copies of the original `bar`, `cologne` and `time` objects (Hint: Just assign the existing vectors to new objects)\n",
    "\n",
    "23. a) In the `bar.r` vector, change the `\"grenzwert\"` values to `\"g\"`. b) Now change the `\"paddys\"` values to `\"p\"`\n",
    "\n",
    "24. a) In the `cologne.r` vector, change the `\"gio\"` values to `\"G\"`. b) Now change the `\"calvinklein\"` values to `\"C\"`\n",
    "\n",
    "25. In the `time.r` vector, change all time values greater than 280 to 280. Confirm that you did it correctly by calculating the maximum time in `time.r`"
   ]
  },
  {
   "cell_type": "markdown",
   "metadata": {},
   "source": [
    "### Solving a paradox..."
   ]
  },
  {
   "cell_type": "markdown",
   "metadata": {},
   "source": [
    "<img src=\"http://home.adelphi.edu/~stemkoski/mathematrix/e-waterfall.jpg\" width=\"200\" />"
   ]
  },
  {
   "cell_type": "markdown",
   "metadata": {},
   "source": [
    "YOUR TURN  (task G):\n",
    "\n",
    "26. Based on what you've learned so far, if someone wanted to talk to people as long as possible, what cologne should they wear?"
   ]
  },
  {
   "cell_type": "markdown",
   "metadata": {},
   "source": [
    "*Let's see if your prediction holds up!*\n",
    "\n",
    "YOUR TURN  (task H):\n",
    "\n",
    "27. What was the mean time of people who went to Grenzwert and wore gio??\n",
    "\n",
    "28. What was the mean time of people who went to Grenzwert and wore calvinklein?\n",
    "\n",
    "29. What was the mean time of people who went to Paddys who wore gio?\n",
    "\n",
    "30. What was the mean time of people who went to Paddys who wore calvinklein??\n",
    "\n",
    "31. Based on what you've learned now, if someone's goal is to talk to people as long as possible, what cologne should they wear?"
   ]
  },
  {
   "cell_type": "markdown",
   "metadata": {},
   "source": [
    "#### You can visualize the data using the following code"
   ]
  },
  {
   "cell_type": "code",
   "execution_count": 5,
   "metadata": {},
   "outputs": [
    {
     "data": {
      "image/png": "[encoded data removed]",
      "text/plain": [
       "plot without title"
      ]
     },
     "metadata": {},
     "output_type": "display_data"
    }
   ],
   "source": [
    "# Combine vectors in a dataframe\n",
    "survey.df <- data.frame(bar, cologne, time)\n",
    "# Create a pirateplot of the data\n",
    "yarrr:::pirateplot(time ~ cologne + bar, data = survey.df)"
   ]
  },
  {
   "cell_type": "markdown",
   "metadata": {},
   "source": [
    "What you've just seen is an example of **Simpson's Paradox**. If you want to learn more, check out [the wikipedia page](https://en.wikipedia.org/wiki/Simpson%27s_paradox)."
   ]
  },
  {
   "cell_type": "markdown",
   "metadata": {},
   "source": [
    "### Let's wrap this up!"
   ]
  },
  {
   "cell_type": "markdown",
   "metadata": {},
   "source": [
    "YOUR TURN (task I):\n",
    "\n",
    "32. What percent of women wore calvinklein?\n",
    "\n",
    "33. What was the median time of people who went to grenzwert and wore gio but who talked more than 100 minutes?\n",
    "\n",
    "34. What percent of participants *either* went to grenzwert and talked for less than 220 minutes *or* went to paddys and talked for more than 150 minutes but no longer than 250 minutes?\n",
    "\n",
    "35. Let's make the calvinklein wearers look better. For all of the calvinklein wearers, add a random sample from a normal distribution with mean 30 and standard deviation 5 to their original talking times.\n"
   ]
  },
  {
   "cell_type": "markdown",
   "metadata": {},
   "source": [
    "### That's it! Now it's time to submit your assignment!\n",
    "\n",
    "Save and email your `wpa_2_LastFirst.R` file to me at [laura.fontanesi@unibas.ch](mailto:laura.fontanesi@unibas.ch). "
   ]
  }
 ],
 "metadata": {
  "kernelspec": {
   "display_name": "R",
   "language": "R",
   "name": "ir"
  },
  "language_info": {
   "codemirror_mode": "r",
   "file_extension": ".r",
   "mimetype": "text/x-r-source",
   "name": "R",
   "pygments_lexer": "r",
   "version": "3.5.1"
  }
 },
 "nbformat": 4,
 "nbformat_minor": 2
}
