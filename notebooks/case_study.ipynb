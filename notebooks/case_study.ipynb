{
 "cells": [
  {
   "cell_type": "markdown",
   "metadata": {},
   "source": [
    "# 1. Set-up the working directory and input folder"
   ]
  },
  {
   "cell_type": "code",
   "execution_count": null,
   "metadata": {},
   "outputs": [],
   "source": [
    "rm(list=ls()) # clean up your environment"
   ]
  },
  {
   "cell_type": "code",
   "execution_count": null,
   "metadata": {},
   "outputs": [],
   "source": [
    "# set a folder where you want the output of your analyses to be\n",
    "setwd(\"~/git/RcourseSpring2019/analyses/\")"
   ]
  },
  {
   "cell_type": "code",
   "execution_count": null,
   "metadata": {},
   "outputs": [],
   "source": [
    "# set the path to the folder where your data are\n",
    "data_folder <- \"~/git/RcourseSpring2019/data/case_study/\""
   ]
  },
  {
   "cell_type": "markdown",
   "metadata": {},
   "source": [
    "# 2. Get the data from multiple subjects, separately by file type"
   ]
  },
  {
   "cell_type": "code",
   "execution_count": null,
   "metadata": {},
   "outputs": [],
   "source": [
    "# define lists of files per type\n",
    "list_expInfo <- paste(data_folder, list.files(path=data_folder, pattern=\"*expInfo.csv\"), sep=\"\")\n",
    "list_choices <- paste(data_folder, list.files(path=data_folder, pattern=\"*choices.csv\"), sep=\"\")\n",
    "list_events <- paste(data_folder, list.files(path=data_folder, pattern=\"*events.csv\"), sep=\"\")"
   ]
  },
  {
   "cell_type": "code",
   "execution_count": null,
   "metadata": {},
   "outputs": [],
   "source": [
    "# check if files are missing\n",
    "length(list_expInfo)\n",
    "length(list_choices)\n",
    "length(list_events)"
   ]
  },
  {
   "cell_type": "code",
   "execution_count": null,
   "metadata": {},
   "outputs": [],
   "source": [
    "head(list_expInfo)"
   ]
  },
  {
   "cell_type": "code",
   "execution_count": null,
   "metadata": {},
   "outputs": [],
   "source": [
    "# load only the first participant to check what each file contains:\n",
    "expInfo_participant_1 <- read.csv(list_expInfo[1])\n",
    "choices_participant_1 <- read.csv(list_choices[1])\n",
    "events_participant_1 <- read.csv(list_events[1])"
   ]
  },
  {
   "cell_type": "code",
   "execution_count": null,
   "metadata": {},
   "outputs": [],
   "source": [
    "head(expInfo_participant_1)\n",
    "head(choices_participant_1)\n",
    "head(events_participant_1)"
   ]
  },
  {
   "cell_type": "markdown",
   "metadata": {},
   "source": [
    "#### Write a function to import the data\n",
    "\n",
    "Because I have several participants and file, we want to somehow automate the importing process. There are several ways to do it, but whn you have a list containing all the filepaths of the data to import (in this case we have a different list for the different file types), what is easy to do is to write a function to import data of 1 participant, and then apply it to the lists containing the filepaths."
   ]
  },
  {
   "cell_type": "code",
   "execution_count": null,
   "metadata": {},
   "outputs": [],
   "source": [
    "# First define a function to load one participant's data given the filepath\n",
    "importDataFrame <- function(file_path, header=TRUE, sep=',', deleteIndex=TRUE, transpose=FALSE){\n",
    "    \n",
    "    dataFrame_temp = read.table(file_path, header = header, sep = sep) # read the dataframe from file\n",
    "    \n",
    "    if (deleteIndex) {\n",
    "        dataFrame_temp = subset(dataFrame_temp, select = -c(X)) # remove the column X from the dataframe\n",
    "    }\n",
    "    \n",
    "    if (transpose) { # as in the expInfo files: participant numbers are already there\n",
    "        dataFrame_temp = t(dataFrame_temp)\n",
    "        colnames(dataFrame_temp) = dataFrame_temp[\"V1\",]\n",
    "        rownames(dataFrame_temp) <- c()\n",
    "        dataFrame_temp = dataFrame_temp[2,]\n",
    "    \n",
    "    } else { # as in the choices and events: we have to infer the participant number from the file name\n",
    "        file_name = tail(strsplit(file_path, '/')[[1]], n=1) # obtain the file name from the file path\n",
    "        subject_number = strsplit(file_name, '_')[[1]][1] # obtain the participant number from the file name\n",
    "        dataFrame_temp$participant = as.numeric(subject_number) # add the participant number to the dataframe\n",
    "    }\n",
    "    \n",
    "    return(dataFrame_temp)\n",
    "}"
   ]
  },
  {
   "cell_type": "code",
   "execution_count": null,
   "metadata": {},
   "outputs": [],
   "source": [
    "# Let's check if it works using the first pariticipant in each list\n",
    "head(importDataFrame(list_choices[1]))\n",
    "head(importDataFrame(list_expInfo[1], header=FALSE, deleteIndex=FALSE, transpose=TRUE))\n",
    "head(importDataFrame(list_events[1]))"
   ]
  },
  {
   "cell_type": "markdown",
   "metadata": {},
   "source": [
    "#### Merging the data directly from the list of files:\n",
    "\n",
    "We are now going to use two new functions, `lapply` and `do.call`, to apply our new function to load the data to the list of files that we defined earlier:\n",
    "\n",
    "-`lapply` is pretty much like `apply` but for lists and vectors (https://www.rdocumentation.org/packages/base/versions/3.6.0/topics/lapply)\n",
    "\n",
    "-`do.call` takes a function as input and splatters its other arguments to the function. It is widely used, for example, to assemble lists into simpler structures (often with rbind or cbind) (https://www.stat.berkeley.edu/~s133/Docall.html)\n",
    "\n",
    "For example:"
   ]
  },
  {
   "cell_type": "code",
   "execution_count": null,
   "metadata": {},
   "outputs": [],
   "source": [
    "x <- lapply(iris[,c('Petal.Length', 'Petal.Width')], mean)\n",
    "do.call(c, x)"
   ]
  },
  {
   "cell_type": "code",
   "execution_count": null,
   "metadata": {},
   "outputs": [],
   "source": [
    "# merge data frames of all participants for choices\n",
    "dataFrame_choices <- as.data.frame(do.call(rbind, lapply(list_choices, importDataFrame))) # load and merge\n",
    "dataFrame_choices <- dataFrame_choices[order(dataFrame_choices$participant, dataFrame_choices$trial),] # re-order based on participants and trials\n",
    "row.names(dataFrame_choices) <- 1:nrow(dataFrame_choices) # optional: rename the rows to respect the length\n",
    "\n",
    "# inspect the result\n",
    "head(dataFrame_choices)\n",
    "tail(dataFrame_choices)\n",
    "dim(dataFrame_choices)"
   ]
  },
  {
   "cell_type": "code",
   "execution_count": null,
   "metadata": {},
   "outputs": [],
   "source": [
    "# merge data frames of all participants for events\n",
    "dataFrame_events <- as.data.frame(do.call(rbind, lapply(list_events, importDataFrame)))\n",
    "dataFrame_events <- dataFrame_events[order(dataFrame_events$participant),]\n",
    "\n",
    "# inspect the result\n",
    "head(dataFrame_events)\n",
    "tail(dataFrame_events)\n",
    "dim(dataFrame_events)"
   ]
  },
  {
   "cell_type": "code",
   "execution_count": null,
   "metadata": {},
   "outputs": [],
   "source": [
    "# merge data frames of all participants for expInfo\n",
    "dataFrame_expInfo <- as.data.frame(do.call(rbind, lapply(list_expInfo, importDataFrame, header=FALSE, deleteIndex=FALSE, transpose=TRUE)))\n",
    "dataFrame_expInfo$participant <- as.numeric(as.character(dataFrame_expInfo$participant))\n",
    "dataFrame_expInfo <- dataFrame_expInfo[order(dataFrame_expInfo$participant),]\n",
    "dataFrame_expInfo"
   ]
  },
  {
   "cell_type": "markdown",
   "metadata": {},
   "source": [
    "Careful with factors!!! https://stackoverflow.com/questions/3418128/how-to-convert-a-factor-to-integer-numeric-without-loss-of-information"
   ]
  },
  {
   "cell_type": "code",
   "execution_count": null,
   "metadata": {},
   "outputs": [],
   "source": [
    "dataFrame_expInfo[,'reward'] <- as.numeric(levels(dataFrame_expInfo[,'reward']))[as.integer(dataFrame_expInfo[,'reward'])]"
   ]
  },
  {
   "cell_type": "code",
   "execution_count": null,
   "metadata": {},
   "outputs": [],
   "source": [
    "options(repr.plot.width=5, repr.plot.height=5) # this is not necessary in RStudio.\n",
    "\n",
    "hist(dataFrame_expInfo[,'reward'], breaks=10, main='Reward distribution', xlab='Reward', col='grey80', border='grey60')"
   ]
  },
  {
   "cell_type": "code",
   "execution_count": null,
   "metadata": {},
   "outputs": [],
   "source": [
    "# save merged data frames to file\n",
    "write.csv(dataFrame_choices, file = \"dataFrame_choices.csv\", row.names=FALSE)\n",
    "write.csv(dataFrame_events, file = \"dataFrame_events.csv\", row.names=FALSE)\n",
    "write.csv(dataFrame_expInfo, file = \"dataFrame_expInfo.csv\", row.names=FALSE)"
   ]
  },
  {
   "cell_type": "markdown",
   "metadata": {},
   "source": [
    "# 3. Cleaning-up the merged data"
   ]
  },
  {
   "cell_type": "code",
   "execution_count": null,
   "metadata": {},
   "outputs": [],
   "source": [
    "rm(list=ls()) # clean up your environment"
   ]
  },
  {
   "cell_type": "code",
   "execution_count": null,
   "metadata": {},
   "outputs": [],
   "source": [
    "# load merged data frames to file\n",
    "dataFrame_choices <- read.csv(file = \"dataFrame_choices.csv\")\n",
    "dataFrame_events <- read.csv(file = \"dataFrame_events.csv\")\n",
    "dataFrame_expInfo <- read.csv(file = \"dataFrame_expInfo.csv\")"
   ]
  },
  {
   "cell_type": "code",
   "execution_count": null,
   "metadata": {},
   "outputs": [],
   "source": [
    "library('dplyr')"
   ]
  },
  {
   "cell_type": "markdown",
   "metadata": {},
   "source": [
    "#### 3.1) check if all participants are OK, by looking at the average performance:"
   ]
  },
  {
   "cell_type": "code",
   "execution_count": null,
   "metadata": {},
   "outputs": [],
   "source": [
    "grouped_data <- group_by(\n",
    "    dataFrame_choices, \n",
    "    participant\n",
    ")\n",
    "\n",
    "mean_performance <- summarise(\n",
    "    grouped_data, \n",
    "    mean_accuracy = mean(accuracy, na.rm=TRUE), \n",
    "    mean_rt = mean(rt, na.rm=TRUE)\n",
    ")\n",
    "\n",
    "head(mean_performance)"
   ]
  },
  {
   "cell_type": "markdown",
   "metadata": {},
   "source": [
    "Plot the scatterplot of mean_accuracy (on the x axis) and mean_rt (on the y_axis) using the dataframe `mean_performance` that I just created:\n",
    "- add a vertical line at .5 (chance level)\n",
    "- add a horizontal line at 3 (RT deadline)"
   ]
  },
  {
   "cell_type": "code",
   "execution_count": null,
   "metadata": {},
   "outputs": [],
   "source": [
    "options(repr.plot.width=5, repr.plot.height=5) # this is not necessary in RStudio.\n",
    "\n",
    "plot(x = mean_performance$mean_accuracy, \n",
    "     y = mean_performance$mean_rt, \n",
    "     col = rgb(.1, .1, .1, .5), \n",
    "     pch = 20,\n",
    "     xlab = 'Mean accuracy',\n",
    "     ylab = 'Mean RT',\n",
    "     bty = 'l'\n",
    "    )\n",
    "\n",
    "abline(\n",
    "    v = .5,\n",
    "    col = 'maroon4',\n",
    "    lw = 2,\n",
    "    lty = 3\n",
    ")\n",
    "\n",
    "abline(\n",
    "    h = 3,\n",
    "    col = 'maroon4',\n",
    "    lw = 2,\n",
    "    lty = 3\n",
    ")"
   ]
  },
  {
   "cell_type": "markdown",
   "metadata": {},
   "source": [
    "3.2) based on the results, we can for example decide to exclude the participants that took more than 1.5 sec to reply on average, and had less than 60% accuracy.\n",
    "- Who are these participants?\n",
    "- Save these participants in a variable called `participants_to_exclude`"
   ]
  },
  {
   "cell_type": "code",
   "execution_count": null,
   "metadata": {},
   "outputs": [],
   "source": [
    "participants_to_exclude <- mean_performance[mean_performance$mean_accuracy < .6 | mean_performance$mean_rt > 1.5, ]$participant\n",
    "participants_to_exclude"
   ]
  },
  {
   "cell_type": "markdown",
   "metadata": {},
   "source": [
    "3.3) create a new dataFrame called `dataFrame_choices_cut` that does NOT include the `participants_to_exclude` vector (that you defined in 1.2)"
   ]
  },
  {
   "cell_type": "code",
   "execution_count": null,
   "metadata": {},
   "outputs": [],
   "source": [
    "dataFrame_choices_cut <- dataFrame_choices\n",
    "\n",
    "for (p in participants_to_exclude) {\n",
    "  dataFrame_choices_cut <- dataFrame_choices_cut[dataFrame_choices_cut$participant != p,]\n",
    "}\n",
    "\n",
    "# check how many participants are left:\n",
    "length(unique(dataFrame_choices_cut$participant))\n",
    "length(unique(dataFrame_choices$participant))\n",
    "\n",
    "# good! so now we have a clean dataset and we can start analysisng the data :)"
   ]
  },
  {
   "cell_type": "markdown",
   "metadata": {},
   "source": [
    "# 4. Plot the mean performance by condition"
   ]
  },
  {
   "cell_type": "markdown",
   "metadata": {},
   "source": [
    "#### Write a plotting function\n",
    "\n",
    "Because I will need to plot several barplots with error bars, let's write down a function that does this automatically to avoid copy-pasting code throughout our script (thus decreasing the probability of making mistakes, forgetting something, ...)."
   ]
  },
  {
   "cell_type": "code",
   "execution_count": null,
   "metadata": {},
   "outputs": [],
   "source": [
    "mean_bars_with_errors <- function (data, DV, groupingA, groupingB=\"None\", bars='se', col='lightblue3', alpha_ci=.05, xlab='', ylab='', legend_arguments=NULL) {\n",
    "    data[,'DV'] = data[,DV]\n",
    "    data[,'groupingA'] = data[,groupingA]\n",
    "    \n",
    "    if (groupingB == \"None\") { # if there is only 1 grouping variable\n",
    "        grouped_mean <- aggregate(formula = DV ~ groupingA, data = data, FUN = mean, na.action = na.omit)\n",
    "        grouped_sd <- aggregate(formula = DV ~ groupingA, data = data, FUN = sd, na.action = na.omit)\n",
    "        grouped_n <- aggregate(formula = DV ~ groupingA, data = data, FUN = length, na.action = na.omit)\n",
    "        \n",
    "        grouped_se <- grouped_sd$DV / sqrt(grouped_n$DV)\n",
    "        \n",
    "        if (bars == 'ci') {\n",
    "            t <- qt((1-alpha_ci)/2 + .5, grouped_n$DV - 1)\n",
    "            grouped_ci <- t*grouped_se\n",
    "            grouped_bars <- grouped_ci\n",
    "        }\n",
    "        if (bars == 'se') {\n",
    "            grouped_bars <- grouped_se\n",
    "        }\n",
    "        \n",
    "        b <- barplot(\n",
    "            height = grouped_mean$DV,\n",
    "            names.arg = grouped_mean$groupingA,\n",
    "            col = col,\n",
    "            border = col,\n",
    "            ylim = c(0, max(grouped_mean$DV + grouped_bars)),\n",
    "            xlab = xlab,\n",
    "            ylab = ylab\n",
    "        )\n",
    "        segments(\n",
    "            x0 = b, \n",
    "            x1 = b, \n",
    "            y0 = grouped_mean$DV - grouped_bars, \n",
    "            y1 = grouped_mean$DV + grouped_bars, \n",
    "            lwd = 2\n",
    "        )\n",
    "\n",
    "    } else { # if there are 2 grouping variables\n",
    "        library(reshape2)\n",
    "        \n",
    "        data[,'groupingB'] = data[,groupingB] \n",
    "        grouped_mean <- aggregate(formula = DV ~ groupingA + groupingB, data = data, FUN = mean, na.action = na.omit)\n",
    "        grouped_sd <- aggregate(formula = DV ~ groupingA + groupingB, data = data, FUN = sd, na.action = na.omit)\n",
    "        grouped_n <- aggregate(formula = DV ~ groupingA + groupingB, data = data, FUN = length, na.action = na.omit)\n",
    "        \n",
    "        grouped_mean_wide <- acast(data = grouped_mean, formula = groupingB ~ groupingA)\n",
    "        grouped_sd_wide <- acast(data = grouped_sd, formula = groupingB ~ groupingA)\n",
    "        grouped_n_wide <- acast(data = grouped_n, formula = groupingB ~ groupingA)\n",
    "        \n",
    "        grouped_se_wide <- grouped_sd_wide / sqrt(grouped_n_wide)\n",
    "        \n",
    "        which_NAs <- apply(X = is.na(grouped_se_wide), MARGIN = 2, FUN = sum)\n",
    "        grouped_mean_wide <- grouped_mean_wide[,which_NAs == 0]\n",
    "        grouped_se_wide <- grouped_se_wide[,which_NAs == 0]\n",
    "        \n",
    "        if (bars == 'ci') {\n",
    "            t <- qt((1-alpha_ci)/2 + .5, grouped_n_wide - 1)   # tend to 1.96 if sample size is big enough\n",
    "            grouped_ci_wide <- t*grouped_se_wide\n",
    "            grouped_bars <- grouped_ci_wide\n",
    "        }\n",
    "        if (bars == 'se') {\n",
    "            grouped_bars <- grouped_se_wide\n",
    "        }\n",
    "        \n",
    "        b <- barplot(\n",
    "            height = grouped_mean_wide,\n",
    "            ylab = ylab,\n",
    "            xlab = xlab,\n",
    "            col = col,\n",
    "            beside = TRUE,\n",
    "            ylim = c(0, max(grouped_mean_wide + grouped_bars)),\n",
    "            legend.text = TRUE,\n",
    "            args.legend = legend_arguments\n",
    "        )\n",
    "        segments(\n",
    "            x0 = b,\n",
    "            x1 = b,\n",
    "            y0 = grouped_mean_wide - grouped_bars,\n",
    "            y1 = grouped_mean_wide + grouped_bars,\n",
    "            lwd = 2\n",
    "        )\n",
    "    }\n",
    "}"
   ]
  },
  {
   "cell_type": "code",
   "execution_count": null,
   "metadata": {},
   "outputs": [],
   "source": [
    "options(repr.plot.width=9, repr.plot.height=5) # this is not necessary in RStudio."
   ]
  },
  {
   "cell_type": "code",
   "execution_count": null,
   "metadata": {},
   "outputs": [],
   "source": [
    "mean_bars_with_errors(\n",
    "    dataFrame_choices_cut, \n",
    "    DV='rt', \n",
    "    groupingA = 'block_number', \n",
    "    bars='ci',\n",
    "    xlab = 'Block number',\n",
    "    ylab = 'Mean RT'\n",
    ")"
   ]
  },
  {
   "cell_type": "code",
   "execution_count": null,
   "metadata": {},
   "outputs": [],
   "source": [
    "mean_bars_with_errors(\n",
    "    dataFrame_choices_cut, \n",
    "    DV='accuracy', \n",
    "    groupingA = 'block_number', \n",
    "    bars='ci',\n",
    "    xlab = 'Block number',\n",
    "    ylab = 'Mean accuracy'\n",
    ")"
   ]
  },
  {
   "cell_type": "code",
   "execution_count": null,
   "metadata": {},
   "outputs": [],
   "source": [
    "library(\"wesanderson\")\n",
    "# See all palettes\n",
    "names(wes_palettes)"
   ]
  },
  {
   "cell_type": "code",
   "execution_count": null,
   "metadata": {},
   "outputs": [],
   "source": [
    "# We can also reorder our factor variables before plotting:\n",
    "levels(dataFrame_choices_cut$reference_IV)\n",
    "\n",
    "dataFrame_choices_cut$reference_IV <- factor(dataFrame_choices_cut$reference_IV, levels = c(\"--\", \"-\", \"+\", \"++\"))\n",
    "dataFrame_choices_cut$reward_IV <- factor(dataFrame_choices_cut$reward_IV, levels = c(\"--\", \"-\", \"+\", \"++\"))\n",
    "\n",
    "levels(dataFrame_choices_cut$reference_IV)"
   ]
  },
  {
   "cell_type": "code",
   "execution_count": null,
   "metadata": {},
   "outputs": [],
   "source": [
    "mean_bars_with_errors(\n",
    "    dataFrame_choices_cut, \n",
    "    DV='rt', \n",
    "    groupingA = 'reference_IV', \n",
    "    groupingB = 'reward_IV', \n",
    "    bars='ci',\n",
    "    xlab = 'Reference',\n",
    "    ylab = 'Mean RT',\n",
    "    col = wes_palette(n=4, name=\"Zissou1\"),\n",
    "    legend_arguments = list(y = .2, bg = 'white', title = 'Reward')\n",
    ")"
   ]
  },
  {
   "cell_type": "code",
   "execution_count": null,
   "metadata": {},
   "outputs": [],
   "source": [
    "mean_bars_with_errors(\n",
    "    dataFrame_choices_cut, \n",
    "    DV='accuracy', \n",
    "    groupingA = 'reference_IV', \n",
    "    groupingB = 'reward_IV', \n",
    "    bars='ci',\n",
    "    xlab = 'Reference',\n",
    "    ylab = 'Mean accuracy',\n",
    "    col = wes_palette(n=4, name=\"Moonrise3\"),\n",
    "    legend_arguments = list(y = .3, bg = 'white', title = 'Reward')\n",
    ")"
   ]
  },
  {
   "cell_type": "markdown",
   "metadata": {},
   "source": [
    "Let's  have a closer look at the RT distribution, and also at the continuous versions of **reference** and **reward** manipulations, that are stored as `reference_block` and `reward_trial_better_option` variables, respectively."
   ]
  },
  {
   "cell_type": "code",
   "execution_count": null,
   "metadata": {},
   "outputs": [],
   "source": [
    "dataFrame_choices_cut$log_rt <- log(dataFrame_choices_cut$rt)\n",
    "\n",
    "dataFrame_choices_cut <- na.omit(dataFrame_choices_cut)"
   ]
  },
  {
   "cell_type": "code",
   "execution_count": null,
   "metadata": {},
   "outputs": [],
   "source": [
    "options(repr.plot.width=5, repr.plot.height=5) # this is not necessary in RStudio.\n",
    "\n",
    "hist(dataFrame_choices_cut$log_rt, breaks=40, main='Log RTs', xlab='log(RT)', col='grey80', border='grey60')\n",
    "abline(v=log(.1), col='maroon3')"
   ]
  },
  {
   "cell_type": "code",
   "execution_count": null,
   "metadata": {},
   "outputs": [],
   "source": [
    "options(repr.plot.width=5, repr.plot.height=5) # this is not necessary in RStudio.\n",
    "\n",
    "hist(dataFrame_choices_cut[dataFrame_choices_cut$log_rt < log(.1), 'rt'], \n",
    "     breaks=20, main='RT distribution', xlab='RT', col='grey80', border='grey60')"
   ]
  },
  {
   "cell_type": "markdown",
   "metadata": {},
   "source": [
    "Let's put a more realistic bound to these RTs. RTs lower than 100 are usually hard to interpret."
   ]
  },
  {
   "cell_type": "code",
   "execution_count": null,
   "metadata": {},
   "outputs": [],
   "source": [
    "dataFrame_choices_cut <- dataFrame_choices_cut[dataFrame_choices_cut$rt > .1,]"
   ]
  },
  {
   "cell_type": "code",
   "execution_count": null,
   "metadata": {},
   "outputs": [],
   "source": [
    "options(repr.plot.width=9, repr.plot.height=5) # this is not necessary in RStudio."
   ]
  },
  {
   "cell_type": "code",
   "execution_count": null,
   "metadata": {},
   "outputs": [],
   "source": [
    "plot(dataFrame_choices_cut$reference_block,\n",
    "     dataFrame_choices_cut$log_rt,\n",
    "     col = rgb(0.1, 0.1, 0.1, .1), \n",
    "     pch = 20,\n",
    "     xlab = 'Reference',\n",
    "     ylab = 'RT')"
   ]
  },
  {
   "cell_type": "code",
   "execution_count": null,
   "metadata": {},
   "outputs": [],
   "source": [
    "plot(dataFrame_choices_cut$reward_trial_better_option,\n",
    "     dataFrame_choices_cut$log_rt,\n",
    "     col = rgb(0.1, 0.1, 0.1, .1), \n",
    "     pch = 20,\n",
    "     xlab = 'Reward',\n",
    "     ylab = 'RT')"
   ]
  },
  {
   "cell_type": "code",
   "execution_count": null,
   "metadata": {},
   "outputs": [],
   "source": [
    "colors <- dataFrame_choices_cut$reference_IV\n",
    "colors[colors == '--'] <- 1\n",
    "colors[colors == '-'] <- 2\n",
    "colors[colors == '+'] <- 3\n",
    "colors[colors == '++'] <- 4"
   ]
  },
  {
   "cell_type": "code",
   "execution_count": null,
   "metadata": {},
   "outputs": [],
   "source": [
    "# Let's first build a palette with number of colors the levels in he baths variable:\n",
    "colors <- c()\n",
    "gradient <- 0\n",
    "for (c in unique(dataFrame_choices_cut$reference_IV)) {\n",
    "    colors <- c(colors, rgb(gradient, .1, gradient, .3))\n",
    "    gradient <- gradient + .25\n",
    "}\n",
    "\n",
    "# And show the palette (just for fun):\n",
    "image(1:length(colors), \n",
    "      1, \n",
    "      as.matrix(1:length(colors)), \n",
    "      col=colors,\n",
    "      main = 'Reference IV',\n",
    "      xlab=\"\", ylab = \"\", xaxt = \"n\", yaxt = \"n\", bty = \"n\")\n",
    "\n",
    "for (c in unique(dataFrame_choices_cut$reference_IV)) {\n",
    "    text(c, 1, c)\n",
    "}\n",
    "\n",
    "# Now we assign a color to each data point based on the palette we created:\n",
    "zcolor <- colors[dataFrame_choices_cut$reference_IV]"
   ]
  },
  {
   "cell_type": "code",
   "execution_count": null,
   "metadata": {},
   "outputs": [],
   "source": [
    "plot(dataFrame_choices_cut$reward_trial_better_option,\n",
    "     dataFrame_choices_cut$log_rt,\n",
    "     col = zcolor, \n",
    "     pch = 20,\n",
    "     xlab = 'Reference',\n",
    "     ylab = 'log RT')"
   ]
  },
  {
   "cell_type": "markdown",
   "metadata": {},
   "source": [
    "# 5. Fit a multilevel model"
   ]
  },
  {
   "cell_type": "code",
   "execution_count": null,
   "metadata": {},
   "outputs": [],
   "source": [
    "library(lme4)"
   ]
  },
  {
   "cell_type": "code",
   "execution_count": null,
   "metadata": {},
   "outputs": [],
   "source": [
    "standardize <- function(x) {\n",
    "    return(x - mean(x)/sd(x))\n",
    "}"
   ]
  },
  {
   "cell_type": "code",
   "execution_count": null,
   "metadata": {},
   "outputs": [],
   "source": [
    "dataFrame_choices_cut_z <- dataFrame_choices_cut\n",
    "dataFrame_choices_cut_z$reward_trial_better_option <- standardize(dataFrame_choices_cut$reward_trial_better_option)\n",
    "dataFrame_choices_cut_z$reference_block <- standardize(dataFrame_choices_cut$reference_block)\n",
    "dataFrame_choices_cut_z$block_number <- standardize(dataFrame_choices_cut$block_number)"
   ]
  },
  {
   "cell_type": "code",
   "execution_count": null,
   "metadata": {},
   "outputs": [],
   "source": [
    "rts_lm <- lmer(log_rt ~ reward_trial_better_option*reference_block + block_number + (1 | participant), data=dataFrame_choices_cut_z)\n",
    "summary(rts_lm)"
   ]
  },
  {
   "cell_type": "code",
   "execution_count": null,
   "metadata": {},
   "outputs": [],
   "source": [
    "rts_lm_table_results <- as.data.frame(confint(rts_lm))\n",
    "rts_lm_table_results"
   ]
  },
  {
   "cell_type": "code",
   "execution_count": null,
   "metadata": {},
   "outputs": [],
   "source": [
    "acc_lm <- glmer(accuracy ~ reward_trial_better_option*reference_block + block_number + (1 | participant), \n",
    "                data=dataFrame_choices_cut_z,\n",
    "                family = binomial)\n",
    "summary(acc_lm)"
   ]
  }
 ],
 "metadata": {
  "kernelspec": {
   "display_name": "R",
   "language": "R",
   "name": "ir"
  },
  "language_info": {
   "codemirror_mode": "r",
   "file_extension": ".r",
   "mimetype": "text/x-r-source",
   "name": "R",
   "pygments_lexer": "r",
   "version": "3.5.1"
  }
 },
 "nbformat": 4,
 "nbformat_minor": 2
}
