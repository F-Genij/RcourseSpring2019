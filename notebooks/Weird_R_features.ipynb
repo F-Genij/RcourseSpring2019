{
 "cells": [
  {
   "cell_type": "markdown",
   "metadata": {},
   "source": [
    "# R features (that make debugging a living hell)"
   ]
  },
  {
   "cell_type": "markdown",
   "metadata": {},
   "source": [
    "#### Characters columns are treated like integers?"
   ]
  },
  {
   "cell_type": "code",
   "execution_count": 1,
   "metadata": {},
   "outputs": [],
   "source": [
    "prova <- data.frame(\n",
    "    strings = c('1', '2', '3', 'string'),\n",
    "    numbers = c(1, 2, 3, 4)\n",
    ")"
   ]
  },
  {
   "cell_type": "code",
   "execution_count": 2,
   "metadata": {},
   "outputs": [
    {
     "data": {
      "text/html": [
       "<table>\n",
       "<thead><tr><th></th><th scope=col>strings</th><th scope=col>numbers</th></tr></thead>\n",
       "<tbody>\n",
       "\t<tr><th scope=row>2</th><td>2</td><td>2</td></tr>\n",
       "</tbody>\n",
       "</table>\n"
      ],
      "text/latex": [
       "\\begin{tabular}{r|ll}\n",
       "  & strings & numbers\\\\\n",
       "\\hline\n",
       "\t2 & 2 & 2\\\\\n",
       "\\end{tabular}\n"
      ],
      "text/markdown": [
       "\n",
       "| <!--/--> | strings | numbers |\n",
       "|---|---|---|\n",
       "| 2 | 2 | 2 |\n",
       "\n"
      ],
      "text/plain": [
       "  strings numbers\n",
       "2 2       2      "
      ]
     },
     "metadata": {},
     "output_type": "display_data"
    }
   ],
   "source": [
    "prova[prova$strings == 2,]"
   ]
  },
  {
   "cell_type": "code",
   "execution_count": 3,
   "metadata": {},
   "outputs": [
    {
     "data": {
      "text/html": [
       "<table>\n",
       "<thead><tr><th></th><th scope=col>strings</th><th scope=col>numbers</th></tr></thead>\n",
       "<tbody>\n",
       "\t<tr><th scope=row>4</th><td>string</td><td>4     </td></tr>\n",
       "</tbody>\n",
       "</table>\n"
      ],
      "text/latex": [
       "\\begin{tabular}{r|ll}\n",
       "  & strings & numbers\\\\\n",
       "\\hline\n",
       "\t4 & string & 4     \\\\\n",
       "\\end{tabular}\n"
      ],
      "text/markdown": [
       "\n",
       "| <!--/--> | strings | numbers |\n",
       "|---|---|---|\n",
       "| 4 | string | 4      |\n",
       "\n"
      ],
      "text/plain": [
       "  strings numbers\n",
       "4 string  4      "
      ]
     },
     "metadata": {},
     "output_type": "display_data"
    }
   ],
   "source": [
    "prova[prova$strings == 'string',]"
   ]
  },
  {
   "cell_type": "code",
   "execution_count": 4,
   "metadata": {},
   "outputs": [
    {
     "data": {
      "text/html": [
       "'integer'"
      ],
      "text/latex": [
       "'integer'"
      ],
      "text/markdown": [
       "'integer'"
      ],
      "text/plain": [
       "[1] \"integer\""
      ]
     },
     "metadata": {},
     "output_type": "display_data"
    }
   ],
   "source": [
    "typeof(prova$strings)"
   ]
  },
  {
   "cell_type": "code",
   "execution_count": 5,
   "metadata": {},
   "outputs": [
    {
     "data": {
      "text/html": [
       "'factor'"
      ],
      "text/latex": [
       "'factor'"
      ],
      "text/markdown": [
       "'factor'"
      ],
      "text/plain": [
       "[1] \"factor\""
      ]
     },
     "metadata": {},
     "output_type": "display_data"
    }
   ],
   "source": [
    "class(prova$strings)"
   ]
  },
  {
   "cell_type": "code",
   "execution_count": 6,
   "metadata": {},
   "outputs": [
    {
     "data": {
      "text/html": [
       "<table>\n",
       "<thead><tr><th></th><th scope=col>strings</th><th scope=col>numbers</th></tr></thead>\n",
       "<tbody>\n",
       "\t<tr><th scope=row>2</th><td>2</td><td>2</td></tr>\n",
       "</tbody>\n",
       "</table>\n"
      ],
      "text/latex": [
       "\\begin{tabular}{r|ll}\n",
       "  & strings & numbers\\\\\n",
       "\\hline\n",
       "\t2 & 2 & 2\\\\\n",
       "\\end{tabular}\n"
      ],
      "text/markdown": [
       "\n",
       "| <!--/--> | strings | numbers |\n",
       "|---|---|---|\n",
       "| 2 | 2 | 2 |\n",
       "\n"
      ],
      "text/plain": [
       "  strings numbers\n",
       "2 2       2      "
      ]
     },
     "metadata": {},
     "output_type": "display_data"
    },
    {
     "data": {
      "text/html": [
       "'character'"
      ],
      "text/latex": [
       "'character'"
      ],
      "text/markdown": [
       "'character'"
      ],
      "text/plain": [
       "[1] \"character\""
      ]
     },
     "metadata": {},
     "output_type": "display_data"
    },
    {
     "data": {
      "text/html": [
       "'character'"
      ],
      "text/latex": [
       "'character'"
      ],
      "text/markdown": [
       "'character'"
      ],
      "text/plain": [
       "[1] \"character\""
      ]
     },
     "metadata": {},
     "output_type": "display_data"
    }
   ],
   "source": [
    "# Setting stringsAsFactors to false does not solve this problem!\n",
    "\n",
    "prova <- data.frame(\n",
    "    strings = c('1', '2', '3', 'string'),\n",
    "    numbers = c(1, 2, 3, 4),\n",
    "    stringsAsFactors = FALSE\n",
    ")\n",
    "\n",
    "prova[prova$strings == 2,]\n",
    "typeof(prova$strings)\n",
    "class(prova$strings)"
   ]
  },
  {
   "cell_type": "markdown",
   "metadata": {},
   "source": [
    "#### And this also works (amazing!):"
   ]
  },
  {
   "cell_type": "code",
   "execution_count": 7,
   "metadata": {},
   "outputs": [
    {
     "data": {
      "text/html": [
       "<table>\n",
       "<thead><tr><th></th><th scope=col>strings</th><th scope=col>numbers</th></tr></thead>\n",
       "<tbody>\n",
       "\t<tr><th scope=row>3</th><td>3     </td><td>3     </td></tr>\n",
       "\t<tr><th scope=row>4</th><td>string</td><td>4     </td></tr>\n",
       "</tbody>\n",
       "</table>\n"
      ],
      "text/latex": [
       "\\begin{tabular}{r|ll}\n",
       "  & strings & numbers\\\\\n",
       "\\hline\n",
       "\t3 & 3      & 3     \\\\\n",
       "\t4 & string & 4     \\\\\n",
       "\\end{tabular}\n"
      ],
      "text/markdown": [
       "\n",
       "| <!--/--> | strings | numbers |\n",
       "|---|---|---|\n",
       "| 3 | 3      | 3      |\n",
       "| 4 | string | 4      |\n",
       "\n"
      ],
      "text/plain": [
       "  strings numbers\n",
       "3 3       3      \n",
       "4 string  4      "
      ]
     },
     "metadata": {},
     "output_type": "display_data"
    },
    {
     "data": {
      "text/html": [
       "'double'"
      ],
      "text/latex": [
       "'double'"
      ],
      "text/markdown": [
       "'double'"
      ],
      "text/plain": [
       "[1] \"double\""
      ]
     },
     "metadata": {},
     "output_type": "display_data"
    },
    {
     "data": {
      "text/html": [
       "'numeric'"
      ],
      "text/latex": [
       "'numeric'"
      ],
      "text/markdown": [
       "'numeric'"
      ],
      "text/plain": [
       "[1] \"numeric\""
      ]
     },
     "metadata": {},
     "output_type": "display_data"
    }
   ],
   "source": [
    "prova[prova$numbers > '2',]\n",
    "\n",
    "typeof(prova$numbers)\n",
    "class(prova$numbers)"
   ]
  },
  {
   "cell_type": "markdown",
   "metadata": {},
   "source": [
    "#### You can index columns using abbreviations:"
   ]
  },
  {
   "cell_type": "code",
   "execution_count": 8,
   "metadata": {},
   "outputs": [
    {
     "data": {
      "text/html": [
       "<table>\n",
       "<thead><tr><th scope=col>RT_sec</th><th scope=col>participant</th></tr></thead>\n",
       "<tbody>\n",
       "\t<tr><td>0.04882217</td><td>1         </td></tr>\n",
       "\t<tr><td>0.76840749</td><td>1         </td></tr>\n",
       "\t<tr><td>2.36655653</td><td>1         </td></tr>\n",
       "\t<tr><td>0.25774999</td><td>1         </td></tr>\n",
       "\t<tr><td>0.12061689</td><td>1         </td></tr>\n",
       "\t<tr><td>0.39925668</td><td>1         </td></tr>\n",
       "</tbody>\n",
       "</table>\n"
      ],
      "text/latex": [
       "\\begin{tabular}{r|ll}\n",
       " RT\\_sec & participant\\\\\n",
       "\\hline\n",
       "\t 0.04882217 & 1         \\\\\n",
       "\t 0.76840749 & 1         \\\\\n",
       "\t 2.36655653 & 1         \\\\\n",
       "\t 0.25774999 & 1         \\\\\n",
       "\t 0.12061689 & 1         \\\\\n",
       "\t 0.39925668 & 1         \\\\\n",
       "\\end{tabular}\n"
      ],
      "text/markdown": [
       "\n",
       "| RT_sec | participant |\n",
       "|---|---|\n",
       "| 0.04882217 | 1          |\n",
       "| 0.76840749 | 1          |\n",
       "| 2.36655653 | 1          |\n",
       "| 0.25774999 | 1          |\n",
       "| 0.12061689 | 1          |\n",
       "| 0.39925668 | 1          |\n",
       "\n"
      ],
      "text/plain": [
       "  RT_sec     participant\n",
       "1 0.04882217 1          \n",
       "2 0.76840749 1          \n",
       "3 2.36655653 1          \n",
       "4 0.25774999 1          \n",
       "5 0.12061689 1          \n",
       "6 0.39925668 1          "
      ]
     },
     "metadata": {},
     "output_type": "display_data"
    }
   ],
   "source": [
    "data <- data.frame(\n",
    "    RT_sec = rgamma(10, 1, 1),\n",
    "    participant = 1\n",
    "                  )\n",
    "head(data)"
   ]
  },
  {
   "cell_type": "code",
   "execution_count": 9,
   "metadata": {},
   "outputs": [
    {
     "data": {
      "text/html": [
       "<ol class=list-inline>\n",
       "\t<li>0.0488221678704331</li>\n",
       "\t<li>0.768407485986257</li>\n",
       "\t<li>2.36655653489702</li>\n",
       "\t<li>0.257749990969974</li>\n",
       "\t<li>0.120616894991631</li>\n",
       "\t<li>0.399256684779307</li>\n",
       "\t<li>0.0957596777525549</li>\n",
       "\t<li>1.94961743270102</li>\n",
       "\t<li>0.778351306875168</li>\n",
       "\t<li>1.30779129774313</li>\n",
       "</ol>\n"
      ],
      "text/latex": [
       "\\begin{enumerate*}\n",
       "\\item 0.0488221678704331\n",
       "\\item 0.768407485986257\n",
       "\\item 2.36655653489702\n",
       "\\item 0.257749990969974\n",
       "\\item 0.120616894991631\n",
       "\\item 0.399256684779307\n",
       "\\item 0.0957596777525549\n",
       "\\item 1.94961743270102\n",
       "\\item 0.778351306875168\n",
       "\\item 1.30779129774313\n",
       "\\end{enumerate*}\n"
      ],
      "text/markdown": [
       "1. 0.0488221678704331\n",
       "2. 0.768407485986257\n",
       "3. 2.36655653489702\n",
       "4. 0.257749990969974\n",
       "5. 0.120616894991631\n",
       "6. 0.399256684779307\n",
       "7. 0.0957596777525549\n",
       "8. 1.94961743270102\n",
       "9. 0.778351306875168\n",
       "10. 1.30779129774313\n",
       "\n",
       "\n"
      ],
      "text/plain": [
       " [1] 0.04882217 0.76840749 2.36655653 0.25774999 0.12061689 0.39925668\n",
       " [7] 0.09575968 1.94961743 0.77835131 1.30779130"
      ]
     },
     "metadata": {},
     "output_type": "display_data"
    }
   ],
   "source": [
    "data$RT_"
   ]
  },
  {
   "cell_type": "code",
   "execution_count": 10,
   "metadata": {},
   "outputs": [
    {
     "data": {
      "text/html": [
       "<table>\n",
       "<thead><tr><th scope=col>RT_sec</th><th scope=col>participant</th><th scope=col>RT</th><th scope=col>RT_msec</th></tr></thead>\n",
       "<tbody>\n",
       "\t<tr><td>0.04882217</td><td>1         </td><td>0.09764434</td><td>  97.64434</td></tr>\n",
       "\t<tr><td>0.76840749</td><td>1         </td><td>1.53681497</td><td>1536.81497</td></tr>\n",
       "\t<tr><td>2.36655653</td><td>1         </td><td>4.73311307</td><td>4733.11307</td></tr>\n",
       "\t<tr><td>0.25774999</td><td>1         </td><td>0.51549998</td><td> 515.49998</td></tr>\n",
       "\t<tr><td>0.12061689</td><td>1         </td><td>0.24123379</td><td> 241.23379</td></tr>\n",
       "\t<tr><td>0.39925668</td><td>1         </td><td>0.79851337</td><td> 798.51337</td></tr>\n",
       "</tbody>\n",
       "</table>\n"
      ],
      "text/latex": [
       "\\begin{tabular}{r|llll}\n",
       " RT\\_sec & participant & RT & RT\\_msec\\\\\n",
       "\\hline\n",
       "\t 0.04882217 & 1          & 0.09764434 &   97.64434\\\\\n",
       "\t 0.76840749 & 1          & 1.53681497 & 1536.81497\\\\\n",
       "\t 2.36655653 & 1          & 4.73311307 & 4733.11307\\\\\n",
       "\t 0.25774999 & 1          & 0.51549998 &  515.49998\\\\\n",
       "\t 0.12061689 & 1          & 0.24123379 &  241.23379\\\\\n",
       "\t 0.39925668 & 1          & 0.79851337 &  798.51337\\\\\n",
       "\\end{tabular}\n"
      ],
      "text/markdown": [
       "\n",
       "| RT_sec | participant | RT | RT_msec |\n",
       "|---|---|---|---|\n",
       "| 0.04882217 | 1          | 0.09764434 |   97.64434 |\n",
       "| 0.76840749 | 1          | 1.53681497 | 1536.81497 |\n",
       "| 2.36655653 | 1          | 4.73311307 | 4733.11307 |\n",
       "| 0.25774999 | 1          | 0.51549998 |  515.49998 |\n",
       "| 0.12061689 | 1          | 0.24123379 |  241.23379 |\n",
       "| 0.39925668 | 1          | 0.79851337 |  798.51337 |\n",
       "\n"
      ],
      "text/plain": [
       "  RT_sec     participant RT         RT_msec   \n",
       "1 0.04882217 1           0.09764434   97.64434\n",
       "2 0.76840749 1           1.53681497 1536.81497\n",
       "3 2.36655653 1           4.73311307 4733.11307\n",
       "4 0.25774999 1           0.51549998  515.49998\n",
       "5 0.12061689 1           0.24123379  241.23379\n",
       "6 0.39925668 1           0.79851337  798.51337"
      ]
     },
     "metadata": {},
     "output_type": "display_data"
    }
   ],
   "source": [
    "# Beware column names:\n",
    "\n",
    "data$RT <- data$RT*2 \n",
    "\n",
    "data$RT_msec <- data$RT*1000\n",
    "\n",
    "head(data)"
   ]
  },
  {
   "cell_type": "markdown",
   "metadata": {},
   "source": [
    "#### You can index stuff that does not exist without an error:"
   ]
  },
  {
   "cell_type": "code",
   "execution_count": 11,
   "metadata": {},
   "outputs": [
    {
     "data": {
      "text/html": [],
      "text/latex": [],
      "text/markdown": [],
      "text/plain": [
       "numeric(0)"
      ]
     },
     "metadata": {},
     "output_type": "display_data"
    }
   ],
   "source": [
    "data[0, 'RT_sec']"
   ]
  },
  {
   "cell_type": "code",
   "execution_count": 12,
   "metadata": {},
   "outputs": [
    {
     "data": {
      "text/html": [
       "&lt;NA&gt;"
      ],
      "text/latex": [
       "<NA>"
      ],
      "text/markdown": [
       "&lt;NA&gt;"
      ],
      "text/plain": [
       "[1] NA"
      ]
     },
     "metadata": {},
     "output_type": "display_data"
    }
   ],
   "source": [
    "data[20, 'RT_sec']"
   ]
  },
  {
   "cell_type": "markdown",
   "metadata": {},
   "source": [
    "#### Variable names after the dollar sign can be also quoted:"
   ]
  },
  {
   "cell_type": "code",
   "execution_count": 13,
   "metadata": {},
   "outputs": [
    {
     "data": {
      "text/html": [
       "<table>\n",
       "<thead><tr><th></th><th scope=col>RT_sec</th><th scope=col>participant</th><th scope=col>RT</th><th scope=col>RT_msec</th></tr></thead>\n",
       "<tbody>\n",
       "\t<tr><th scope=row>3</th><td>2.366557</td><td>1       </td><td>4.733113</td><td>4733.113</td></tr>\n",
       "\t<tr><th scope=row>8</th><td>1.949617</td><td>1       </td><td>3.899235</td><td>3899.235</td></tr>\n",
       "\t<tr><th scope=row>10</th><td>1.307791</td><td>1       </td><td>2.615583</td><td>2615.583</td></tr>\n",
       "</tbody>\n",
       "</table>\n"
      ],
      "text/latex": [
       "\\begin{tabular}{r|llll}\n",
       "  & RT\\_sec & participant & RT & RT\\_msec\\\\\n",
       "\\hline\n",
       "\t3 & 2.366557 & 1        & 4.733113 & 4733.113\\\\\n",
       "\t8 & 1.949617 & 1        & 3.899235 & 3899.235\\\\\n",
       "\t10 & 1.307791 & 1        & 2.615583 & 2615.583\\\\\n",
       "\\end{tabular}\n"
      ],
      "text/markdown": [
       "\n",
       "| <!--/--> | RT_sec | participant | RT | RT_msec |\n",
       "|---|---|---|---|---|\n",
       "| 3 | 2.366557 | 1        | 4.733113 | 4733.113 |\n",
       "| 8 | 1.949617 | 1        | 3.899235 | 3899.235 |\n",
       "| 10 | 1.307791 | 1        | 2.615583 | 2615.583 |\n",
       "\n"
      ],
      "text/plain": [
       "   RT_sec   participant RT       RT_msec \n",
       "3  2.366557 1           4.733113 4733.113\n",
       "8  1.949617 1           3.899235 3899.235\n",
       "10 1.307791 1           2.615583 2615.583"
      ]
     },
     "metadata": {},
     "output_type": "display_data"
    }
   ],
   "source": [
    "data[data$'RT' > 2.5,]"
   ]
  },
  {
   "cell_type": "code",
   "execution_count": 14,
   "metadata": {},
   "outputs": [
    {
     "data": {
      "text/html": [
       "<table>\n",
       "<thead><tr><th></th><th scope=col>RT_sec</th><th scope=col>participant</th><th scope=col>RT</th><th scope=col>RT_msec</th></tr></thead>\n",
       "<tbody>\n",
       "\t<tr><th scope=row>3</th><td>2.366557</td><td>1       </td><td>4.733113</td><td>4733.113</td></tr>\n",
       "\t<tr><th scope=row>8</th><td>1.949617</td><td>1       </td><td>3.899235</td><td>3899.235</td></tr>\n",
       "\t<tr><th scope=row>10</th><td>1.307791</td><td>1       </td><td>2.615583</td><td>2615.583</td></tr>\n",
       "</tbody>\n",
       "</table>\n"
      ],
      "text/latex": [
       "\\begin{tabular}{r|llll}\n",
       "  & RT\\_sec & participant & RT & RT\\_msec\\\\\n",
       "\\hline\n",
       "\t3 & 2.366557 & 1        & 4.733113 & 4733.113\\\\\n",
       "\t8 & 1.949617 & 1        & 3.899235 & 3899.235\\\\\n",
       "\t10 & 1.307791 & 1        & 2.615583 & 2615.583\\\\\n",
       "\\end{tabular}\n"
      ],
      "text/markdown": [
       "\n",
       "| <!--/--> | RT_sec | participant | RT | RT_msec |\n",
       "|---|---|---|---|---|\n",
       "| 3 | 2.366557 | 1        | 4.733113 | 4733.113 |\n",
       "| 8 | 1.949617 | 1        | 3.899235 | 3899.235 |\n",
       "| 10 | 1.307791 | 1        | 2.615583 | 2615.583 |\n",
       "\n"
      ],
      "text/plain": [
       "   RT_sec   participant RT       RT_msec \n",
       "3  2.366557 1           4.733113 4733.113\n",
       "8  1.949617 1           3.899235 3899.235\n",
       "10 1.307791 1           2.615583 2615.583"
      ]
     },
     "metadata": {},
     "output_type": "display_data"
    }
   ],
   "source": [
    "data[data$RT > 2,]"
   ]
  },
  {
   "cell_type": "code",
   "execution_count": 15,
   "metadata": {},
   "outputs": [
    {
     "data": {
      "text/html": [
       "<table>\n",
       "<thead><tr><th></th><th scope=col>RT_sec</th><th scope=col>participant</th><th scope=col>RT</th><th scope=col>RT_msec</th></tr></thead>\n",
       "<tbody>\n",
       "\t<tr><th scope=row>3</th><td>2.366557</td><td>1       </td><td>4.733113</td><td>4733.113</td></tr>\n",
       "\t<tr><th scope=row>8</th><td>1.949617</td><td>1       </td><td>3.899235</td><td>3899.235</td></tr>\n",
       "\t<tr><th scope=row>10</th><td>1.307791</td><td>1       </td><td>2.615583</td><td>2615.583</td></tr>\n",
       "</tbody>\n",
       "</table>\n"
      ],
      "text/latex": [
       "\\begin{tabular}{r|llll}\n",
       "  & RT\\_sec & participant & RT & RT\\_msec\\\\\n",
       "\\hline\n",
       "\t3 & 2.366557 & 1        & 4.733113 & 4733.113\\\\\n",
       "\t8 & 1.949617 & 1        & 3.899235 & 3899.235\\\\\n",
       "\t10 & 1.307791 & 1        & 2.615583 & 2615.583\\\\\n",
       "\\end{tabular}\n"
      ],
      "text/markdown": [
       "\n",
       "| <!--/--> | RT_sec | participant | RT | RT_msec |\n",
       "|---|---|---|---|---|\n",
       "| 3 | 2.366557 | 1        | 4.733113 | 4733.113 |\n",
       "| 8 | 1.949617 | 1        | 3.899235 | 3899.235 |\n",
       "| 10 | 1.307791 | 1        | 2.615583 | 2615.583 |\n",
       "\n"
      ],
      "text/plain": [
       "   RT_sec   participant RT       RT_msec \n",
       "3  2.366557 1           4.733113 4733.113\n",
       "8  1.949617 1           3.899235 3899.235\n",
       "10 1.307791 1           2.615583 2615.583"
      ]
     },
     "metadata": {},
     "output_type": "display_data"
    }
   ],
   "source": [
    "#### I am repeating myself, but:\n",
    "data[data$'RT' > '2.5',]"
   ]
  },
  {
   "cell_type": "markdown",
   "metadata": {},
   "source": [
    "#### Argument positioning:"
   ]
  },
  {
   "cell_type": "code",
   "execution_count": null,
   "metadata": {},
   "outputs": [],
   "source": []
  },
  {
   "cell_type": "markdown",
   "metadata": {},
   "source": [
    "#### Converting from factors to numeric:\n",
    "https://cran.r-project.org/doc/FAQ/R-FAQ.html#How-do-I-convert-factors-to-numeric_003f"
   ]
  },
  {
   "cell_type": "code",
   "execution_count": null,
   "metadata": {},
   "outputs": [],
   "source": []
  }
 ],
 "metadata": {
  "kernelspec": {
   "display_name": "R",
   "language": "R",
   "name": "ir"
  },
  "language_info": {
   "codemirror_mode": "r",
   "file_extension": ".r",
   "mimetype": "text/x-r-source",
   "name": "R",
   "pygments_lexer": "r",
   "version": "3.5.1"
  }
 },
 "nbformat": 4,
 "nbformat_minor": 2
}
