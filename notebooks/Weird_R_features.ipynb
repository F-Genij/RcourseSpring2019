{
 "cells": [
  {
   "cell_type": "markdown",
   "metadata": {},
   "source": [
    "# R features (that make debugging a living hell)"
   ]
  },
  {
   "cell_type": "markdown",
   "metadata": {},
   "source": [
    "#### Characters columns are treated like integers?"
   ]
  },
  {
   "cell_type": "code",
   "execution_count": 1,
   "metadata": {},
   "outputs": [],
   "source": [
    "prova <- data.frame(\n",
    "    strings = c('1', '2', '3', 'string'),\n",
    "    numbers = c(1, 2, 3, 4)\n",
    ")"
   ]
  },
  {
   "cell_type": "code",
   "execution_count": 2,
   "metadata": {},
   "outputs": [
    {
     "data": {
      "text/html": [
       "<table>\n",
       "<thead><tr><th></th><th scope=col>strings</th><th scope=col>numbers</th></tr></thead>\n",
       "<tbody>\n",
       "\t<tr><th scope=row>2</th><td>2</td><td>2</td></tr>\n",
       "</tbody>\n",
       "</table>\n"
      ],
      "text/latex": [
       "\\begin{tabular}{r|ll}\n",
       "  & strings & numbers\\\\\n",
       "\\hline\n",
       "\t2 & 2 & 2\\\\\n",
       "\\end{tabular}\n"
      ],
      "text/markdown": [
       "\n",
       "| <!--/--> | strings | numbers |\n",
       "|---|---|---|\n",
       "| 2 | 2 | 2 |\n",
       "\n"
      ],
      "text/plain": [
       "  strings numbers\n",
       "2 2       2      "
      ]
     },
     "metadata": {},
     "output_type": "display_data"
    }
   ],
   "source": [
    "prova[prova$strings == 2,]"
   ]
  },
  {
   "cell_type": "code",
   "execution_count": 3,
   "metadata": {},
   "outputs": [
    {
     "data": {
      "text/html": [
       "<table>\n",
       "<thead><tr><th></th><th scope=col>strings</th><th scope=col>numbers</th></tr></thead>\n",
       "<tbody>\n",
       "\t<tr><th scope=row>4</th><td>string</td><td>4     </td></tr>\n",
       "</tbody>\n",
       "</table>\n"
      ],
      "text/latex": [
       "\\begin{tabular}{r|ll}\n",
       "  & strings & numbers\\\\\n",
       "\\hline\n",
       "\t4 & string & 4     \\\\\n",
       "\\end{tabular}\n"
      ],
      "text/markdown": [
       "\n",
       "| <!--/--> | strings | numbers |\n",
       "|---|---|---|\n",
       "| 4 | string | 4      |\n",
       "\n"
      ],
      "text/plain": [
       "  strings numbers\n",
       "4 string  4      "
      ]
     },
     "metadata": {},
     "output_type": "display_data"
    }
   ],
   "source": [
    "prova[prova$strings == 'string',]"
   ]
  },
  {
   "cell_type": "code",
   "execution_count": 4,
   "metadata": {},
   "outputs": [
    {
     "data": {
      "text/html": [
       "'integer'"
      ],
      "text/latex": [
       "'integer'"
      ],
      "text/markdown": [
       "'integer'"
      ],
      "text/plain": [
       "[1] \"integer\""
      ]
     },
     "metadata": {},
     "output_type": "display_data"
    }
   ],
   "source": [
    "typeof(prova$strings)"
   ]
  },
  {
   "cell_type": "code",
   "execution_count": 5,
   "metadata": {},
   "outputs": [
    {
     "data": {
      "text/html": [
       "'factor'"
      ],
      "text/latex": [
       "'factor'"
      ],
      "text/markdown": [
       "'factor'"
      ],
      "text/plain": [
       "[1] \"factor\""
      ]
     },
     "metadata": {},
     "output_type": "display_data"
    }
   ],
   "source": [
    "class(prova$strings)"
   ]
  },
  {
   "cell_type": "code",
   "execution_count": 6,
   "metadata": {},
   "outputs": [
    {
     "data": {
      "text/html": [
       "<table>\n",
       "<thead><tr><th></th><th scope=col>strings</th><th scope=col>numbers</th></tr></thead>\n",
       "<tbody>\n",
       "\t<tr><th scope=row>2</th><td>2</td><td>2</td></tr>\n",
       "</tbody>\n",
       "</table>\n"
      ],
      "text/latex": [
       "\\begin{tabular}{r|ll}\n",
       "  & strings & numbers\\\\\n",
       "\\hline\n",
       "\t2 & 2 & 2\\\\\n",
       "\\end{tabular}\n"
      ],
      "text/markdown": [
       "\n",
       "| <!--/--> | strings | numbers |\n",
       "|---|---|---|\n",
       "| 2 | 2 | 2 |\n",
       "\n"
      ],
      "text/plain": [
       "  strings numbers\n",
       "2 2       2      "
      ]
     },
     "metadata": {},
     "output_type": "display_data"
    },
    {
     "data": {
      "text/html": [
       "'character'"
      ],
      "text/latex": [
       "'character'"
      ],
      "text/markdown": [
       "'character'"
      ],
      "text/plain": [
       "[1] \"character\""
      ]
     },
     "metadata": {},
     "output_type": "display_data"
    },
    {
     "data": {
      "text/html": [
       "'character'"
      ],
      "text/latex": [
       "'character'"
      ],
      "text/markdown": [
       "'character'"
      ],
      "text/plain": [
       "[1] \"character\""
      ]
     },
     "metadata": {},
     "output_type": "display_data"
    }
   ],
   "source": [
    "# Setting stringsAsFactors to false does not solve this problem!\n",
    "\n",
    "prova <- data.frame(\n",
    "    strings = c('1', '2', '3', 'string'),\n",
    "    numbers = c(1, 2, 3, 4),\n",
    "    stringsAsFactors = FALSE\n",
    ")\n",
    "\n",
    "prova[prova$strings == 2,]\n",
    "typeof(prova$strings)\n",
    "class(prova$strings)"
   ]
  },
  {
   "cell_type": "markdown",
   "metadata": {},
   "source": [
    "#### And this also works (amazing!):"
   ]
  },
  {
   "cell_type": "code",
   "execution_count": 7,
   "metadata": {},
   "outputs": [
    {
     "data": {
      "text/html": [
       "<table>\n",
       "<thead><tr><th></th><th scope=col>strings</th><th scope=col>numbers</th></tr></thead>\n",
       "<tbody>\n",
       "\t<tr><th scope=row>3</th><td>3     </td><td>3     </td></tr>\n",
       "\t<tr><th scope=row>4</th><td>string</td><td>4     </td></tr>\n",
       "</tbody>\n",
       "</table>\n"
      ],
      "text/latex": [
       "\\begin{tabular}{r|ll}\n",
       "  & strings & numbers\\\\\n",
       "\\hline\n",
       "\t3 & 3      & 3     \\\\\n",
       "\t4 & string & 4     \\\\\n",
       "\\end{tabular}\n"
      ],
      "text/markdown": [
       "\n",
       "| <!--/--> | strings | numbers |\n",
       "|---|---|---|\n",
       "| 3 | 3      | 3      |\n",
       "| 4 | string | 4      |\n",
       "\n"
      ],
      "text/plain": [
       "  strings numbers\n",
       "3 3       3      \n",
       "4 string  4      "
      ]
     },
     "metadata": {},
     "output_type": "display_data"
    },
    {
     "data": {
      "text/html": [
       "'double'"
      ],
      "text/latex": [
       "'double'"
      ],
      "text/markdown": [
       "'double'"
      ],
      "text/plain": [
       "[1] \"double\""
      ]
     },
     "metadata": {},
     "output_type": "display_data"
    },
    {
     "data": {
      "text/html": [
       "'numeric'"
      ],
      "text/latex": [
       "'numeric'"
      ],
      "text/markdown": [
       "'numeric'"
      ],
      "text/plain": [
       "[1] \"numeric\""
      ]
     },
     "metadata": {},
     "output_type": "display_data"
    }
   ],
   "source": [
    "prova[prova$numbers > '2',]\n",
    "\n",
    "typeof(prova$numbers)\n",
    "class(prova$numbers)"
   ]
  },
  {
   "cell_type": "markdown",
   "metadata": {},
   "source": [
    "#### You can index columns using abbreviations:"
   ]
  },
  {
   "cell_type": "code",
   "execution_count": 16,
   "metadata": {},
   "outputs": [
    {
     "data": {
      "text/html": [
       "<table>\n",
       "<thead><tr><th scope=col>RT_sec</th><th scope=col>participant</th></tr></thead>\n",
       "<tbody>\n",
       "\t<tr><td>1.8257873</td><td>1        </td></tr>\n",
       "\t<tr><td>1.7941582</td><td>1        </td></tr>\n",
       "\t<tr><td>0.4874501</td><td>1        </td></tr>\n",
       "\t<tr><td>1.5136410</td><td>1        </td></tr>\n",
       "\t<tr><td>0.2750580</td><td>1        </td></tr>\n",
       "\t<tr><td>0.2621123</td><td>1        </td></tr>\n",
       "</tbody>\n",
       "</table>\n"
      ],
      "text/latex": [
       "\\begin{tabular}{r|ll}\n",
       " RT\\_sec & participant\\\\\n",
       "\\hline\n",
       "\t 1.8257873 & 1        \\\\\n",
       "\t 1.7941582 & 1        \\\\\n",
       "\t 0.4874501 & 1        \\\\\n",
       "\t 1.5136410 & 1        \\\\\n",
       "\t 0.2750580 & 1        \\\\\n",
       "\t 0.2621123 & 1        \\\\\n",
       "\\end{tabular}\n"
      ],
      "text/markdown": [
       "\n",
       "| RT_sec | participant |\n",
       "|---|---|\n",
       "| 1.8257873 | 1         |\n",
       "| 1.7941582 | 1         |\n",
       "| 0.4874501 | 1         |\n",
       "| 1.5136410 | 1         |\n",
       "| 0.2750580 | 1         |\n",
       "| 0.2621123 | 1         |\n",
       "\n"
      ],
      "text/plain": [
       "  RT_sec    participant\n",
       "1 1.8257873 1          \n",
       "2 1.7941582 1          \n",
       "3 0.4874501 1          \n",
       "4 1.5136410 1          \n",
       "5 0.2750580 1          \n",
       "6 0.2621123 1          "
      ]
     },
     "metadata": {},
     "output_type": "display_data"
    }
   ],
   "source": [
    "data <- data.frame(\n",
    "    RT_sec = rgamma(10, 1, 1),\n",
    "    participant = 1\n",
    "                  )\n",
    "head(data)"
   ]
  },
  {
   "cell_type": "code",
   "execution_count": 17,
   "metadata": {},
   "outputs": [
    {
     "data": {
      "text/html": [
       "<ol class=list-inline>\n",
       "\t<li>1.82578729923863</li>\n",
       "\t<li>1.7941581799554</li>\n",
       "\t<li>0.487450123172241</li>\n",
       "\t<li>1.51364095224311</li>\n",
       "\t<li>0.275058013712434</li>\n",
       "\t<li>0.262112250059949</li>\n",
       "\t<li>1.78662751644195</li>\n",
       "\t<li>1.75844288401691</li>\n",
       "\t<li>0.643173552692708</li>\n",
       "\t<li>0.45145406593157</li>\n",
       "</ol>\n"
      ],
      "text/latex": [
       "\\begin{enumerate*}\n",
       "\\item 1.82578729923863\n",
       "\\item 1.7941581799554\n",
       "\\item 0.487450123172241\n",
       "\\item 1.51364095224311\n",
       "\\item 0.275058013712434\n",
       "\\item 0.262112250059949\n",
       "\\item 1.78662751644195\n",
       "\\item 1.75844288401691\n",
       "\\item 0.643173552692708\n",
       "\\item 0.45145406593157\n",
       "\\end{enumerate*}\n"
      ],
      "text/markdown": [
       "1. 1.82578729923863\n",
       "2. 1.7941581799554\n",
       "3. 0.487450123172241\n",
       "4. 1.51364095224311\n",
       "5. 0.275058013712434\n",
       "6. 0.262112250059949\n",
       "7. 1.78662751644195\n",
       "8. 1.75844288401691\n",
       "9. 0.643173552692708\n",
       "10. 0.45145406593157\n",
       "\n",
       "\n"
      ],
      "text/plain": [
       " [1] 1.8257873 1.7941582 0.4874501 1.5136410 0.2750580 0.2621123 1.7866275\n",
       " [8] 1.7584429 0.6431736 0.4514541"
      ]
     },
     "metadata": {},
     "output_type": "display_data"
    }
   ],
   "source": [
    "data$RT_"
   ]
  },
  {
   "cell_type": "code",
   "execution_count": 18,
   "metadata": {},
   "outputs": [
    {
     "data": {
      "text/html": [
       "<table>\n",
       "<thead><tr><th scope=col>RT_sec</th><th scope=col>participant</th><th scope=col>RT</th><th scope=col>RT_msec</th></tr></thead>\n",
       "<tbody>\n",
       "\t<tr><td>1.8257873  </td><td>1          </td><td>3.6515746  </td><td>0.036515746</td></tr>\n",
       "\t<tr><td>1.7941582  </td><td>1          </td><td>3.5883164  </td><td>0.035883164</td></tr>\n",
       "\t<tr><td>0.4874501  </td><td>1          </td><td>0.9749002  </td><td>0.009749002</td></tr>\n",
       "\t<tr><td>1.5136410  </td><td>1          </td><td>3.0272819  </td><td>0.030272819</td></tr>\n",
       "\t<tr><td>0.2750580  </td><td>1          </td><td>0.5501160  </td><td>0.005501160</td></tr>\n",
       "\t<tr><td>0.2621123  </td><td>1          </td><td>0.5242245  </td><td>0.005242245</td></tr>\n",
       "</tbody>\n",
       "</table>\n"
      ],
      "text/latex": [
       "\\begin{tabular}{r|llll}\n",
       " RT\\_sec & participant & RT & RT\\_msec\\\\\n",
       "\\hline\n",
       "\t 1.8257873   & 1           & 3.6515746   & 0.036515746\\\\\n",
       "\t 1.7941582   & 1           & 3.5883164   & 0.035883164\\\\\n",
       "\t 0.4874501   & 1           & 0.9749002   & 0.009749002\\\\\n",
       "\t 1.5136410   & 1           & 3.0272819   & 0.030272819\\\\\n",
       "\t 0.2750580   & 1           & 0.5501160   & 0.005501160\\\\\n",
       "\t 0.2621123   & 1           & 0.5242245   & 0.005242245\\\\\n",
       "\\end{tabular}\n"
      ],
      "text/markdown": [
       "\n",
       "| RT_sec | participant | RT | RT_msec |\n",
       "|---|---|---|---|\n",
       "| 1.8257873   | 1           | 3.6515746   | 0.036515746 |\n",
       "| 1.7941582   | 1           | 3.5883164   | 0.035883164 |\n",
       "| 0.4874501   | 1           | 0.9749002   | 0.009749002 |\n",
       "| 1.5136410   | 1           | 3.0272819   | 0.030272819 |\n",
       "| 0.2750580   | 1           | 0.5501160   | 0.005501160 |\n",
       "| 0.2621123   | 1           | 0.5242245   | 0.005242245 |\n",
       "\n"
      ],
      "text/plain": [
       "  RT_sec    participant RT        RT_msec    \n",
       "1 1.8257873 1           3.6515746 0.036515746\n",
       "2 1.7941582 1           3.5883164 0.035883164\n",
       "3 0.4874501 1           0.9749002 0.009749002\n",
       "4 1.5136410 1           3.0272819 0.030272819\n",
       "5 0.2750580 1           0.5501160 0.005501160\n",
       "6 0.2621123 1           0.5242245 0.005242245"
      ]
     },
     "metadata": {},
     "output_type": "display_data"
    }
   ],
   "source": [
    "# Beware column names:\n",
    "\n",
    "data$RT <- data$RT*2 \n",
    "\n",
    "data$RT_msec <- data$RT/100\n",
    "\n",
    "head(data)"
   ]
  },
  {
   "cell_type": "markdown",
   "metadata": {},
   "source": [
    "#### You can index stuff that does not exist without an error:"
   ]
  },
  {
   "cell_type": "code",
   "execution_count": 19,
   "metadata": {},
   "outputs": [
    {
     "data": {
      "text/html": [],
      "text/latex": [],
      "text/markdown": [],
      "text/plain": [
       "numeric(0)"
      ]
     },
     "metadata": {},
     "output_type": "display_data"
    }
   ],
   "source": [
    "data[0, 'RT_sec']"
   ]
  },
  {
   "cell_type": "code",
   "execution_count": 20,
   "metadata": {},
   "outputs": [
    {
     "data": {
      "text/html": [
       "&lt;NA&gt;"
      ],
      "text/latex": [
       "<NA>"
      ],
      "text/markdown": [
       "&lt;NA&gt;"
      ],
      "text/plain": [
       "[1] NA"
      ]
     },
     "metadata": {},
     "output_type": "display_data"
    }
   ],
   "source": [
    "data[20, 'RT_sec']"
   ]
  },
  {
   "cell_type": "markdown",
   "metadata": {},
   "source": [
    "#### Variable names after the dollar sign can be also quoted:"
   ]
  },
  {
   "cell_type": "code",
   "execution_count": 21,
   "metadata": {},
   "outputs": [
    {
     "data": {
      "text/html": [
       "<table>\n",
       "<thead><tr><th></th><th scope=col>RT_sec</th><th scope=col>participant</th><th scope=col>RT</th><th scope=col>RT_msec</th></tr></thead>\n",
       "<tbody>\n",
       "\t<tr><th scope=row>1</th><td>1.825787  </td><td>1         </td><td>3.651575  </td><td>0.03651575</td></tr>\n",
       "\t<tr><th scope=row>2</th><td>1.794158  </td><td>1         </td><td>3.588316  </td><td>0.03588316</td></tr>\n",
       "\t<tr><th scope=row>4</th><td>1.513641  </td><td>1         </td><td>3.027282  </td><td>0.03027282</td></tr>\n",
       "\t<tr><th scope=row>7</th><td>1.786628  </td><td>1         </td><td>3.573255  </td><td>0.03573255</td></tr>\n",
       "\t<tr><th scope=row>8</th><td>1.758443  </td><td>1         </td><td>3.516886  </td><td>0.03516886</td></tr>\n",
       "</tbody>\n",
       "</table>\n"
      ],
      "text/latex": [
       "\\begin{tabular}{r|llll}\n",
       "  & RT\\_sec & participant & RT & RT\\_msec\\\\\n",
       "\\hline\n",
       "\t1 & 1.825787   & 1          & 3.651575   & 0.03651575\\\\\n",
       "\t2 & 1.794158   & 1          & 3.588316   & 0.03588316\\\\\n",
       "\t4 & 1.513641   & 1          & 3.027282   & 0.03027282\\\\\n",
       "\t7 & 1.786628   & 1          & 3.573255   & 0.03573255\\\\\n",
       "\t8 & 1.758443   & 1          & 3.516886   & 0.03516886\\\\\n",
       "\\end{tabular}\n"
      ],
      "text/markdown": [
       "\n",
       "| <!--/--> | RT_sec | participant | RT | RT_msec |\n",
       "|---|---|---|---|---|\n",
       "| 1 | 1.825787   | 1          | 3.651575   | 0.03651575 |\n",
       "| 2 | 1.794158   | 1          | 3.588316   | 0.03588316 |\n",
       "| 4 | 1.513641   | 1          | 3.027282   | 0.03027282 |\n",
       "| 7 | 1.786628   | 1          | 3.573255   | 0.03573255 |\n",
       "| 8 | 1.758443   | 1          | 3.516886   | 0.03516886 |\n",
       "\n"
      ],
      "text/plain": [
       "  RT_sec   participant RT       RT_msec   \n",
       "1 1.825787 1           3.651575 0.03651575\n",
       "2 1.794158 1           3.588316 0.03588316\n",
       "4 1.513641 1           3.027282 0.03027282\n",
       "7 1.786628 1           3.573255 0.03573255\n",
       "8 1.758443 1           3.516886 0.03516886"
      ]
     },
     "metadata": {},
     "output_type": "display_data"
    }
   ],
   "source": [
    "data[data$'RT' > 2.5,]"
   ]
  },
  {
   "cell_type": "code",
   "execution_count": 22,
   "metadata": {},
   "outputs": [
    {
     "data": {
      "text/html": [
       "<table>\n",
       "<thead><tr><th></th><th scope=col>RT_sec</th><th scope=col>participant</th><th scope=col>RT</th><th scope=col>RT_msec</th></tr></thead>\n",
       "<tbody>\n",
       "\t<tr><th scope=row>1</th><td>1.825787  </td><td>1         </td><td>3.651575  </td><td>0.03651575</td></tr>\n",
       "\t<tr><th scope=row>2</th><td>1.794158  </td><td>1         </td><td>3.588316  </td><td>0.03588316</td></tr>\n",
       "\t<tr><th scope=row>4</th><td>1.513641  </td><td>1         </td><td>3.027282  </td><td>0.03027282</td></tr>\n",
       "\t<tr><th scope=row>7</th><td>1.786628  </td><td>1         </td><td>3.573255  </td><td>0.03573255</td></tr>\n",
       "\t<tr><th scope=row>8</th><td>1.758443  </td><td>1         </td><td>3.516886  </td><td>0.03516886</td></tr>\n",
       "</tbody>\n",
       "</table>\n"
      ],
      "text/latex": [
       "\\begin{tabular}{r|llll}\n",
       "  & RT\\_sec & participant & RT & RT\\_msec\\\\\n",
       "\\hline\n",
       "\t1 & 1.825787   & 1          & 3.651575   & 0.03651575\\\\\n",
       "\t2 & 1.794158   & 1          & 3.588316   & 0.03588316\\\\\n",
       "\t4 & 1.513641   & 1          & 3.027282   & 0.03027282\\\\\n",
       "\t7 & 1.786628   & 1          & 3.573255   & 0.03573255\\\\\n",
       "\t8 & 1.758443   & 1          & 3.516886   & 0.03516886\\\\\n",
       "\\end{tabular}\n"
      ],
      "text/markdown": [
       "\n",
       "| <!--/--> | RT_sec | participant | RT | RT_msec |\n",
       "|---|---|---|---|---|\n",
       "| 1 | 1.825787   | 1          | 3.651575   | 0.03651575 |\n",
       "| 2 | 1.794158   | 1          | 3.588316   | 0.03588316 |\n",
       "| 4 | 1.513641   | 1          | 3.027282   | 0.03027282 |\n",
       "| 7 | 1.786628   | 1          | 3.573255   | 0.03573255 |\n",
       "| 8 | 1.758443   | 1          | 3.516886   | 0.03516886 |\n",
       "\n"
      ],
      "text/plain": [
       "  RT_sec   participant RT       RT_msec   \n",
       "1 1.825787 1           3.651575 0.03651575\n",
       "2 1.794158 1           3.588316 0.03588316\n",
       "4 1.513641 1           3.027282 0.03027282\n",
       "7 1.786628 1           3.573255 0.03573255\n",
       "8 1.758443 1           3.516886 0.03516886"
      ]
     },
     "metadata": {},
     "output_type": "display_data"
    }
   ],
   "source": [
    "data[data$RT > 2,]"
   ]
  },
  {
   "cell_type": "code",
   "execution_count": 23,
   "metadata": {},
   "outputs": [
    {
     "data": {
      "text/html": [
       "<table>\n",
       "<thead><tr><th></th><th scope=col>RT_sec</th><th scope=col>participant</th><th scope=col>RT</th><th scope=col>RT_msec</th></tr></thead>\n",
       "<tbody>\n",
       "\t<tr><th scope=row>1</th><td>1.825787  </td><td>1         </td><td>3.651575  </td><td>0.03651575</td></tr>\n",
       "\t<tr><th scope=row>2</th><td>1.794158  </td><td>1         </td><td>3.588316  </td><td>0.03588316</td></tr>\n",
       "\t<tr><th scope=row>4</th><td>1.513641  </td><td>1         </td><td>3.027282  </td><td>0.03027282</td></tr>\n",
       "\t<tr><th scope=row>7</th><td>1.786628  </td><td>1         </td><td>3.573255  </td><td>0.03573255</td></tr>\n",
       "\t<tr><th scope=row>8</th><td>1.758443  </td><td>1         </td><td>3.516886  </td><td>0.03516886</td></tr>\n",
       "</tbody>\n",
       "</table>\n"
      ],
      "text/latex": [
       "\\begin{tabular}{r|llll}\n",
       "  & RT\\_sec & participant & RT & RT\\_msec\\\\\n",
       "\\hline\n",
       "\t1 & 1.825787   & 1          & 3.651575   & 0.03651575\\\\\n",
       "\t2 & 1.794158   & 1          & 3.588316   & 0.03588316\\\\\n",
       "\t4 & 1.513641   & 1          & 3.027282   & 0.03027282\\\\\n",
       "\t7 & 1.786628   & 1          & 3.573255   & 0.03573255\\\\\n",
       "\t8 & 1.758443   & 1          & 3.516886   & 0.03516886\\\\\n",
       "\\end{tabular}\n"
      ],
      "text/markdown": [
       "\n",
       "| <!--/--> | RT_sec | participant | RT | RT_msec |\n",
       "|---|---|---|---|---|\n",
       "| 1 | 1.825787   | 1          | 3.651575   | 0.03651575 |\n",
       "| 2 | 1.794158   | 1          | 3.588316   | 0.03588316 |\n",
       "| 4 | 1.513641   | 1          | 3.027282   | 0.03027282 |\n",
       "| 7 | 1.786628   | 1          | 3.573255   | 0.03573255 |\n",
       "| 8 | 1.758443   | 1          | 3.516886   | 0.03516886 |\n",
       "\n"
      ],
      "text/plain": [
       "  RT_sec   participant RT       RT_msec   \n",
       "1 1.825787 1           3.651575 0.03651575\n",
       "2 1.794158 1           3.588316 0.03588316\n",
       "4 1.513641 1           3.027282 0.03027282\n",
       "7 1.786628 1           3.573255 0.03573255\n",
       "8 1.758443 1           3.516886 0.03516886"
      ]
     },
     "metadata": {},
     "output_type": "display_data"
    }
   ],
   "source": [
    "#### I am repeating myself, but:\n",
    "data[data$'RT' > '2.5',]"
   ]
  },
  {
   "cell_type": "code",
   "execution_count": null,
   "metadata": {},
   "outputs": [],
   "source": []
  }
 ],
 "metadata": {
  "kernelspec": {
   "display_name": "R",
   "language": "R",
   "name": "ir"
  },
  "language_info": {
   "codemirror_mode": "r",
   "file_extension": ".r",
   "mimetype": "text/x-r-source",
   "name": "R",
   "pygments_lexer": "r",
   "version": "3.5.1"
  }
 },
 "nbformat": 4,
 "nbformat_minor": 2
}
