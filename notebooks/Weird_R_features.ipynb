{
 "cells": [
  {
   "cell_type": "markdown",
   "metadata": {},
   "source": [
    "# Weird R features that make debugging a living hell"
   ]
  },
  {
   "cell_type": "markdown",
   "metadata": {},
   "source": [
    "#### Characters columns are treated like integers? Or I am not even sure how to define this feature."
   ]
  },
  {
   "cell_type": "code",
   "execution_count": 1,
   "metadata": {},
   "outputs": [],
   "source": [
    "prova <- data.frame(\n",
    "    strings = c('1', '2', '3', 'string'),\n",
    "    numbers = c(1, 2, 3, 4)\n",
    ")"
   ]
  },
  {
   "cell_type": "code",
   "execution_count": 2,
   "metadata": {},
   "outputs": [
    {
     "data": {
      "text/html": [
       "<table>\n",
       "<thead><tr><th></th><th scope=col>strings</th><th scope=col>numbers</th></tr></thead>\n",
       "<tbody>\n",
       "\t<tr><th scope=row>2</th><td>2</td><td>2</td></tr>\n",
       "</tbody>\n",
       "</table>\n"
      ],
      "text/latex": [
       "\\begin{tabular}{r|ll}\n",
       "  & strings & numbers\\\\\n",
       "\\hline\n",
       "\t2 & 2 & 2\\\\\n",
       "\\end{tabular}\n"
      ],
      "text/markdown": [
       "\n",
       "| <!--/--> | strings | numbers |\n",
       "|---|---|---|\n",
       "| 2 | 2 | 2 |\n",
       "\n"
      ],
      "text/plain": [
       "  strings numbers\n",
       "2 2       2      "
      ]
     },
     "metadata": {},
     "output_type": "display_data"
    }
   ],
   "source": [
    "prova[prova$strings == 2,]"
   ]
  },
  {
   "cell_type": "code",
   "execution_count": 3,
   "metadata": {},
   "outputs": [
    {
     "data": {
      "text/html": [
       "<table>\n",
       "<thead><tr><th></th><th scope=col>strings</th><th scope=col>numbers</th></tr></thead>\n",
       "<tbody>\n",
       "\t<tr><th scope=row>4</th><td>string</td><td>4     </td></tr>\n",
       "</tbody>\n",
       "</table>\n"
      ],
      "text/latex": [
       "\\begin{tabular}{r|ll}\n",
       "  & strings & numbers\\\\\n",
       "\\hline\n",
       "\t4 & string & 4     \\\\\n",
       "\\end{tabular}\n"
      ],
      "text/markdown": [
       "\n",
       "| <!--/--> | strings | numbers |\n",
       "|---|---|---|\n",
       "| 4 | string | 4      |\n",
       "\n"
      ],
      "text/plain": [
       "  strings numbers\n",
       "4 string  4      "
      ]
     },
     "metadata": {},
     "output_type": "display_data"
    }
   ],
   "source": [
    "prova[prova$strings == 'string',]"
   ]
  },
  {
   "cell_type": "code",
   "execution_count": 4,
   "metadata": {},
   "outputs": [
    {
     "data": {
      "text/html": [
       "'integer'"
      ],
      "text/latex": [
       "'integer'"
      ],
      "text/markdown": [
       "'integer'"
      ],
      "text/plain": [
       "[1] \"integer\""
      ]
     },
     "metadata": {},
     "output_type": "display_data"
    }
   ],
   "source": [
    "typeof(prova$strings)"
   ]
  },
  {
   "cell_type": "code",
   "execution_count": 5,
   "metadata": {},
   "outputs": [
    {
     "data": {
      "text/html": [
       "'factor'"
      ],
      "text/latex": [
       "'factor'"
      ],
      "text/markdown": [
       "'factor'"
      ],
      "text/plain": [
       "[1] \"factor\""
      ]
     },
     "metadata": {},
     "output_type": "display_data"
    }
   ],
   "source": [
    "class(prova$strings)"
   ]
  },
  {
   "cell_type": "code",
   "execution_count": 6,
   "metadata": {},
   "outputs": [
    {
     "data": {
      "text/html": [
       "<table>\n",
       "<thead><tr><th></th><th scope=col>strings</th><th scope=col>numbers</th></tr></thead>\n",
       "<tbody>\n",
       "\t<tr><th scope=row>2</th><td>2</td><td>2</td></tr>\n",
       "</tbody>\n",
       "</table>\n"
      ],
      "text/latex": [
       "\\begin{tabular}{r|ll}\n",
       "  & strings & numbers\\\\\n",
       "\\hline\n",
       "\t2 & 2 & 2\\\\\n",
       "\\end{tabular}\n"
      ],
      "text/markdown": [
       "\n",
       "| <!--/--> | strings | numbers |\n",
       "|---|---|---|\n",
       "| 2 | 2 | 2 |\n",
       "\n"
      ],
      "text/plain": [
       "  strings numbers\n",
       "2 2       2      "
      ]
     },
     "metadata": {},
     "output_type": "display_data"
    },
    {
     "data": {
      "text/html": [
       "'character'"
      ],
      "text/latex": [
       "'character'"
      ],
      "text/markdown": [
       "'character'"
      ],
      "text/plain": [
       "[1] \"character\""
      ]
     },
     "metadata": {},
     "output_type": "display_data"
    },
    {
     "data": {
      "text/html": [
       "'character'"
      ],
      "text/latex": [
       "'character'"
      ],
      "text/markdown": [
       "'character'"
      ],
      "text/plain": [
       "[1] \"character\""
      ]
     },
     "metadata": {},
     "output_type": "display_data"
    }
   ],
   "source": [
    "# Setting stringsAsFactors to false does not solve this problem!\n",
    "\n",
    "prova <- data.frame(\n",
    "    strings = c('1', '2', '3', 'string'),\n",
    "    numbers = c(1, 2, 3, 4),\n",
    "    stringsAsFactors = FALSE\n",
    ")\n",
    "\n",
    "prova[prova$strings == 2,]\n",
    "typeof(prova$strings)\n",
    "class(prova$strings)"
   ]
  },
  {
   "cell_type": "markdown",
   "metadata": {},
   "source": [
    "#### And this also works (amazing!):"
   ]
  },
  {
   "cell_type": "code",
   "execution_count": 7,
   "metadata": {},
   "outputs": [
    {
     "data": {
      "text/html": [
       "<table>\n",
       "<thead><tr><th></th><th scope=col>strings</th><th scope=col>numbers</th></tr></thead>\n",
       "<tbody>\n",
       "\t<tr><th scope=row>3</th><td>3     </td><td>3     </td></tr>\n",
       "\t<tr><th scope=row>4</th><td>string</td><td>4     </td></tr>\n",
       "</tbody>\n",
       "</table>\n"
      ],
      "text/latex": [
       "\\begin{tabular}{r|ll}\n",
       "  & strings & numbers\\\\\n",
       "\\hline\n",
       "\t3 & 3      & 3     \\\\\n",
       "\t4 & string & 4     \\\\\n",
       "\\end{tabular}\n"
      ],
      "text/markdown": [
       "\n",
       "| <!--/--> | strings | numbers |\n",
       "|---|---|---|\n",
       "| 3 | 3      | 3      |\n",
       "| 4 | string | 4      |\n",
       "\n"
      ],
      "text/plain": [
       "  strings numbers\n",
       "3 3       3      \n",
       "4 string  4      "
      ]
     },
     "metadata": {},
     "output_type": "display_data"
    },
    {
     "data": {
      "text/html": [
       "'double'"
      ],
      "text/latex": [
       "'double'"
      ],
      "text/markdown": [
       "'double'"
      ],
      "text/plain": [
       "[1] \"double\""
      ]
     },
     "metadata": {},
     "output_type": "display_data"
    },
    {
     "data": {
      "text/html": [
       "'numeric'"
      ],
      "text/latex": [
       "'numeric'"
      ],
      "text/markdown": [
       "'numeric'"
      ],
      "text/plain": [
       "[1] \"numeric\""
      ]
     },
     "metadata": {},
     "output_type": "display_data"
    }
   ],
   "source": [
    "prova[prova$numbers > '2',]\n",
    "\n",
    "typeof(prova$numbers)\n",
    "class(prova$numbers)"
   ]
  },
  {
   "cell_type": "markdown",
   "metadata": {},
   "source": [
    "#### You can index columns using abbreviations:"
   ]
  },
  {
   "cell_type": "code",
   "execution_count": 8,
   "metadata": {},
   "outputs": [
    {
     "data": {
      "text/html": [
       "<table>\n",
       "<thead><tr><th scope=col>RT_sec</th><th scope=col>participant</th></tr></thead>\n",
       "<tbody>\n",
       "\t<tr><td>0.73824928</td><td>1         </td></tr>\n",
       "\t<tr><td>0.03391821</td><td>1         </td></tr>\n",
       "\t<tr><td>0.04313119</td><td>1         </td></tr>\n",
       "\t<tr><td>1.25651342</td><td>1         </td></tr>\n",
       "\t<tr><td>0.08829880</td><td>1         </td></tr>\n",
       "\t<tr><td>0.65740257</td><td>1         </td></tr>\n",
       "</tbody>\n",
       "</table>\n"
      ],
      "text/latex": [
       "\\begin{tabular}{r|ll}\n",
       " RT\\_sec & participant\\\\\n",
       "\\hline\n",
       "\t 0.73824928 & 1         \\\\\n",
       "\t 0.03391821 & 1         \\\\\n",
       "\t 0.04313119 & 1         \\\\\n",
       "\t 1.25651342 & 1         \\\\\n",
       "\t 0.08829880 & 1         \\\\\n",
       "\t 0.65740257 & 1         \\\\\n",
       "\\end{tabular}\n"
      ],
      "text/markdown": [
       "\n",
       "| RT_sec | participant |\n",
       "|---|---|\n",
       "| 0.73824928 | 1          |\n",
       "| 0.03391821 | 1          |\n",
       "| 0.04313119 | 1          |\n",
       "| 1.25651342 | 1          |\n",
       "| 0.08829880 | 1          |\n",
       "| 0.65740257 | 1          |\n",
       "\n"
      ],
      "text/plain": [
       "  RT_sec     participant\n",
       "1 0.73824928 1          \n",
       "2 0.03391821 1          \n",
       "3 0.04313119 1          \n",
       "4 1.25651342 1          \n",
       "5 0.08829880 1          \n",
       "6 0.65740257 1          "
      ]
     },
     "metadata": {},
     "output_type": "display_data"
    }
   ],
   "source": [
    "data <- data.frame(\n",
    "    RT_sec = rgamma(10, 1, 1),\n",
    "    participant = 1\n",
    "                  )\n",
    "head(data)"
   ]
  },
  {
   "cell_type": "code",
   "execution_count": 9,
   "metadata": {},
   "outputs": [
    {
     "data": {
      "text/html": [
       "<ol class=list-inline>\n",
       "\t<li>0.738249278493088</li>\n",
       "\t<li>0.0339182142698721</li>\n",
       "\t<li>0.0431311879357735</li>\n",
       "\t<li>1.25651341927358</li>\n",
       "\t<li>0.088298799677762</li>\n",
       "\t<li>0.657402573417988</li>\n",
       "\t<li>0.52792891625983</li>\n",
       "\t<li>0.5020237359311</li>\n",
       "\t<li>0.046530238270331</li>\n",
       "\t<li>0.942962378223122</li>\n",
       "</ol>\n"
      ],
      "text/latex": [
       "\\begin{enumerate*}\n",
       "\\item 0.738249278493088\n",
       "\\item 0.0339182142698721\n",
       "\\item 0.0431311879357735\n",
       "\\item 1.25651341927358\n",
       "\\item 0.088298799677762\n",
       "\\item 0.657402573417988\n",
       "\\item 0.52792891625983\n",
       "\\item 0.5020237359311\n",
       "\\item 0.046530238270331\n",
       "\\item 0.942962378223122\n",
       "\\end{enumerate*}\n"
      ],
      "text/markdown": [
       "1. 0.738249278493088\n",
       "2. 0.0339182142698721\n",
       "3. 0.0431311879357735\n",
       "4. 1.25651341927358\n",
       "5. 0.088298799677762\n",
       "6. 0.657402573417988\n",
       "7. 0.52792891625983\n",
       "8. 0.5020237359311\n",
       "9. 0.046530238270331\n",
       "10. 0.942962378223122\n",
       "\n",
       "\n"
      ],
      "text/plain": [
       " [1] 0.73824928 0.03391821 0.04313119 1.25651342 0.08829880 0.65740257\n",
       " [7] 0.52792892 0.50202374 0.04653024 0.94296238"
      ]
     },
     "metadata": {},
     "output_type": "display_data"
    }
   ],
   "source": [
    "data$RT_"
   ]
  },
  {
   "cell_type": "code",
   "execution_count": 10,
   "metadata": {},
   "outputs": [
    {
     "data": {
      "text/html": [
       "<table>\n",
       "<thead><tr><th scope=col>RT_sec</th><th scope=col>participant</th><th scope=col>RT</th><th scope=col>RT_msec</th></tr></thead>\n",
       "<tbody>\n",
       "\t<tr><td>0.73824928  </td><td>1           </td><td>1.47649856  </td><td>0.0147649856</td></tr>\n",
       "\t<tr><td>0.03391821  </td><td>1           </td><td>0.06783643  </td><td>0.0006783643</td></tr>\n",
       "\t<tr><td>0.04313119  </td><td>1           </td><td>0.08626238  </td><td>0.0008626238</td></tr>\n",
       "\t<tr><td>1.25651342  </td><td>1           </td><td>2.51302684  </td><td>0.0251302684</td></tr>\n",
       "\t<tr><td>0.08829880  </td><td>1           </td><td>0.17659760  </td><td>0.0017659760</td></tr>\n",
       "\t<tr><td>0.65740257  </td><td>1           </td><td>1.31480515  </td><td>0.0131480515</td></tr>\n",
       "</tbody>\n",
       "</table>\n"
      ],
      "text/latex": [
       "\\begin{tabular}{r|llll}\n",
       " RT\\_sec & participant & RT & RT\\_msec\\\\\n",
       "\\hline\n",
       "\t 0.73824928   & 1            & 1.47649856   & 0.0147649856\\\\\n",
       "\t 0.03391821   & 1            & 0.06783643   & 0.0006783643\\\\\n",
       "\t 0.04313119   & 1            & 0.08626238   & 0.0008626238\\\\\n",
       "\t 1.25651342   & 1            & 2.51302684   & 0.0251302684\\\\\n",
       "\t 0.08829880   & 1            & 0.17659760   & 0.0017659760\\\\\n",
       "\t 0.65740257   & 1            & 1.31480515   & 0.0131480515\\\\\n",
       "\\end{tabular}\n"
      ],
      "text/markdown": [
       "\n",
       "| RT_sec | participant | RT | RT_msec |\n",
       "|---|---|---|---|\n",
       "| 0.73824928   | 1            | 1.47649856   | 0.0147649856 |\n",
       "| 0.03391821   | 1            | 0.06783643   | 0.0006783643 |\n",
       "| 0.04313119   | 1            | 0.08626238   | 0.0008626238 |\n",
       "| 1.25651342   | 1            | 2.51302684   | 0.0251302684 |\n",
       "| 0.08829880   | 1            | 0.17659760   | 0.0017659760 |\n",
       "| 0.65740257   | 1            | 1.31480515   | 0.0131480515 |\n",
       "\n"
      ],
      "text/plain": [
       "  RT_sec     participant RT         RT_msec     \n",
       "1 0.73824928 1           1.47649856 0.0147649856\n",
       "2 0.03391821 1           0.06783643 0.0006783643\n",
       "3 0.04313119 1           0.08626238 0.0008626238\n",
       "4 1.25651342 1           2.51302684 0.0251302684\n",
       "5 0.08829880 1           0.17659760 0.0017659760\n",
       "6 0.65740257 1           1.31480515 0.0131480515"
      ]
     },
     "metadata": {},
     "output_type": "display_data"
    }
   ],
   "source": [
    "# Beware column names:\n",
    "\n",
    "data$RT <- data$RT*2 \n",
    "\n",
    "data$RT_msec <- data$RT/100\n",
    "\n",
    "head(data)"
   ]
  },
  {
   "cell_type": "markdown",
   "metadata": {},
   "source": [
    "#### You can index stuff that does not exist without an error:"
   ]
  },
  {
   "cell_type": "code",
   "execution_count": 11,
   "metadata": {},
   "outputs": [
    {
     "data": {
      "text/html": [],
      "text/latex": [],
      "text/markdown": [],
      "text/plain": [
       "numeric(0)"
      ]
     },
     "metadata": {},
     "output_type": "display_data"
    }
   ],
   "source": [
    "data[0, 'RT_sec']"
   ]
  },
  {
   "cell_type": "code",
   "execution_count": 12,
   "metadata": {},
   "outputs": [
    {
     "data": {
      "text/html": [
       "&lt;NA&gt;"
      ],
      "text/latex": [
       "<NA>"
      ],
      "text/markdown": [
       "&lt;NA&gt;"
      ],
      "text/plain": [
       "[1] NA"
      ]
     },
     "metadata": {},
     "output_type": "display_data"
    }
   ],
   "source": [
    "data[20, 'RT_sec']"
   ]
  },
  {
   "cell_type": "markdown",
   "metadata": {},
   "source": [
    "#### Variable names after the $ sign can be also quoted:"
   ]
  },
  {
   "cell_type": "code",
   "execution_count": 13,
   "metadata": {},
   "outputs": [
    {
     "data": {
      "text/html": [
       "<table>\n",
       "<thead><tr><th></th><th scope=col>RT_sec</th><th scope=col>participant</th><th scope=col>RT</th><th scope=col>RT_msec</th></tr></thead>\n",
       "<tbody>\n",
       "\t<tr><th scope=row>4</th><td>1.256513  </td><td>1         </td><td>2.513027  </td><td>0.02513027</td></tr>\n",
       "</tbody>\n",
       "</table>\n"
      ],
      "text/latex": [
       "\\begin{tabular}{r|llll}\n",
       "  & RT\\_sec & participant & RT & RT\\_msec\\\\\n",
       "\\hline\n",
       "\t4 & 1.256513   & 1          & 2.513027   & 0.02513027\\\\\n",
       "\\end{tabular}\n"
      ],
      "text/markdown": [
       "\n",
       "| <!--/--> | RT_sec | participant | RT | RT_msec |\n",
       "|---|---|---|---|---|\n",
       "| 4 | 1.256513   | 1          | 2.513027   | 0.02513027 |\n",
       "\n"
      ],
      "text/plain": [
       "  RT_sec   participant RT       RT_msec   \n",
       "4 1.256513 1           2.513027 0.02513027"
      ]
     },
     "metadata": {},
     "output_type": "display_data"
    }
   ],
   "source": [
    "data[data$'RT' > 2.5,]"
   ]
  },
  {
   "cell_type": "code",
   "execution_count": 14,
   "metadata": {},
   "outputs": [
    {
     "data": {
      "text/html": [
       "<table>\n",
       "<thead><tr><th></th><th scope=col>RT_sec</th><th scope=col>participant</th><th scope=col>RT</th><th scope=col>RT_msec</th></tr></thead>\n",
       "<tbody>\n",
       "\t<tr><th scope=row>4</th><td>1.256513  </td><td>1         </td><td>2.513027  </td><td>0.02513027</td></tr>\n",
       "</tbody>\n",
       "</table>\n"
      ],
      "text/latex": [
       "\\begin{tabular}{r|llll}\n",
       "  & RT\\_sec & participant & RT & RT\\_msec\\\\\n",
       "\\hline\n",
       "\t4 & 1.256513   & 1          & 2.513027   & 0.02513027\\\\\n",
       "\\end{tabular}\n"
      ],
      "text/markdown": [
       "\n",
       "| <!--/--> | RT_sec | participant | RT | RT_msec |\n",
       "|---|---|---|---|---|\n",
       "| 4 | 1.256513   | 1          | 2.513027   | 0.02513027 |\n",
       "\n"
      ],
      "text/plain": [
       "  RT_sec   participant RT       RT_msec   \n",
       "4 1.256513 1           2.513027 0.02513027"
      ]
     },
     "metadata": {},
     "output_type": "display_data"
    }
   ],
   "source": [
    "data[data$RT > 2,]"
   ]
  },
  {
   "cell_type": "code",
   "execution_count": 15,
   "metadata": {},
   "outputs": [
    {
     "data": {
      "text/html": [
       "<table>\n",
       "<thead><tr><th></th><th scope=col>RT_sec</th><th scope=col>participant</th><th scope=col>RT</th><th scope=col>RT_msec</th></tr></thead>\n",
       "<tbody>\n",
       "\t<tr><th scope=row>4</th><td>1.256513  </td><td>1         </td><td>2.513027  </td><td>0.02513027</td></tr>\n",
       "</tbody>\n",
       "</table>\n"
      ],
      "text/latex": [
       "\\begin{tabular}{r|llll}\n",
       "  & RT\\_sec & participant & RT & RT\\_msec\\\\\n",
       "\\hline\n",
       "\t4 & 1.256513   & 1          & 2.513027   & 0.02513027\\\\\n",
       "\\end{tabular}\n"
      ],
      "text/markdown": [
       "\n",
       "| <!--/--> | RT_sec | participant | RT | RT_msec |\n",
       "|---|---|---|---|---|\n",
       "| 4 | 1.256513   | 1          | 2.513027   | 0.02513027 |\n",
       "\n"
      ],
      "text/plain": [
       "  RT_sec   participant RT       RT_msec   \n",
       "4 1.256513 1           2.513027 0.02513027"
      ]
     },
     "metadata": {},
     "output_type": "display_data"
    }
   ],
   "source": [
    "#### I am repeating myself, but:\n",
    "data[data$'RT' > '2.5',]"
   ]
  },
  {
   "cell_type": "code",
   "execution_count": null,
   "metadata": {},
   "outputs": [],
   "source": []
  }
 ],
 "metadata": {
  "kernelspec": {
   "display_name": "R",
   "language": "R",
   "name": "ir"
  },
  "language_info": {
   "codemirror_mode": "r",
   "file_extension": ".r",
   "mimetype": "text/x-r-source",
   "name": "R",
   "pygments_lexer": "r",
   "version": "3.5.1"
  }
 },
 "nbformat": 4,
 "nbformat_minor": 2
}
