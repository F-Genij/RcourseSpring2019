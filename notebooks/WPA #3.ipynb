{
 "cells": [
  {
   "cell_type": "markdown",
   "metadata": {},
   "source": [
    "# WPA #3 - Chapters 8 and 9"
   ]
  },
  {
   "cell_type": "markdown",
   "metadata": {},
   "source": [
    "## Project management\n",
    "\n",
    "Whenever you want to **load** or **save** data in R you need to tell R where the data is to be saved or where the data is being loaded from. Last week, for instance, we loaded data directly from a url. This week we'll load data that is saved on our machine. To do this we need to set a working directory. This is the default folder R will look in to save or load data. If we wish to load (or save) data from a different folder, we can either changed the working directory, or specify the filepath from the current working directory to the desired folder.\n",
    "\n",
    "There are two methods we can use for setting our working directory. The instructions below describe how to load your data using both methods. You only need to do one. IF you want to try both, make sure you use different folder names."
   ]
  },
  {
   "cell_type": "markdown",
   "metadata": {},
   "source": [
    "### Method One- setwd()\n",
    "\n",
    "1. Outside R, create a new folder called `Rcourse` (or any name you choose). Create two separate subfolders within `Rcourse` called `R` and `data`.\n",
    "\n",
    "2. Open a new R script called `wpa_3_LASTFIRST.R` (where LASTFIRST is your last and first name), and save it in the `R` folder.\n",
    "\n",
    "3. Use the `setwd` function to change the working directory to the `Rcourse` folder. You need to give the filepath to this folder. You can also check the current directory by using `getwd`,"
   ]
  },
  {
   "cell_type": "code",
   "execution_count": 1,
   "metadata": {},
   "outputs": [
    {
     "data": {
      "text/html": [
       "'/Users/laurafontanesi/git/RcourseSpring2019'"
      ],
      "text/latex": [
       "'/Users/laurafontanesi/git/RcourseSpring2019'"
      ],
      "text/markdown": [
       "'/Users/laurafontanesi/git/RcourseSpring2019'"
      ],
      "text/plain": [
       "[1] \"/Users/laurafontanesi/git/RcourseSpring2019\""
      ]
     },
     "metadata": {},
     "output_type": "display_data"
    }
   ],
   "source": [
    "setwd(\"~/git/RcourseSpring2019/\")\n",
    "# This should be the filepath to the Rcourse folder on your machine.\n",
    "\n",
    "getwd()\n",
    "# This matches the path you just entered."
   ]
  },
  {
   "cell_type": "markdown",
   "metadata": {},
   "source": [
    "### Method Two- R-project\n",
    "\n",
    "You can also control your working directory by creating an R-project in RStudio (see [Chapter 9](https://bookdown.org/ndphillips/YaRrr/importingdata.html) for more details on R-projects). Basically working in an R-project automatically sets your working directory to the location of the R-project file (`.RProj`).\n",
    "\n",
    "1. Start a new R-project called `RCourse` (or something similar) using the menus. Then (either within RStudio or outside of R), navigate to the location of your `RCourse` project, and add the folders `R` and `data`.\n",
    "\n",
    "2. Open a new R script called `wpa_3_LASTFIRST.R` (where LASTFIRST is your last and first name), and save it in the `R` folder."
   ]
  },
  {
   "cell_type": "markdown",
   "metadata": {},
   "source": [
    "## Loading data\n",
    "\n",
    "1. The text file containing the data is called `data_wpa3.csv`. It is available at https://github.com/laurafontanesi/RcourseSpring2019/blob/master/data/data_wpa3.csv. Save the file in the `data` folder that you previously created.\n",
    "\n",
    "2. Using `read.table()` load the data into a new R object called `priming`. Note that the text file is comma-delimited and contains a header row, so be sure to include the `sep = \",\"` and `header = TRUE` arguments! As `priming.txt` is in a subfolder of your working directory, you need to include the subfolder in the filename."
   ]
  },
  {
   "cell_type": "code",
   "execution_count": 2,
   "metadata": {},
   "outputs": [],
   "source": [
    "priming <- read.table('data/data_wpa3.csv', \n",
    "                      header=TRUE, \n",
    "                      sep=',')"
   ]
  },
  {
   "cell_type": "markdown",
   "metadata": {},
   "source": [
    "### Dataset description\n",
    "\n",
    "In a provocative paper, Bargh, Chen and Burrows (1996) sought to test whether or not priming people with trait concepts would trigger trait-consistent behavior. In one study, they primed participants with either neutral words (e.g.; bat, cookie, pen), or with words related to an elderly stereotype (e.g.; wise, stubborn, old). They then, unbeknownst to the participants, used a stopwatch to record how long it took the participants to walk down a hallway at the conclusion of an experiment. They predicted that participants primed with words related to the elderly would walk slower than those primed with neutral words. \n",
    "\n",
    "In this WPA, you will analyze *fake* data corresponding to this study. \n",
    "\n",
    "Our fake study has 3 primary independent variables:\n",
    "\n",
    "- `prime`: What kind of primes was the participant given? `neutral` means neutral primes, `elderly` means elderly primes.\n",
    "- `prime.duration`: How long (in minutes) were primes displayed to participants? There were 4 conditions: 1, 5, 10 or 30.\n",
    "- `grandparents`: Did the participant have a close relationship with their grandparents? `yes` means yes, `no` means no, `none` means they never met their grandparents.\n",
    "\n",
    "There was one primary dependent variable\n",
    "\n",
    "- `walk`: How long (in seconds) did participants take to walk down the hallway?\n",
    "\n",
    "There were 4 additional variables:\n",
    "\n",
    "- `id`: The order in which participants completed the study\n",
    "- `age`: Participants' age\n",
    "- `sex`: Participants' sex\n",
    "- `attention`: Did the participant pass an attention check? 0 means they failed the attention check, 1 means they passed."
   ]
  },
  {
   "cell_type": "markdown",
   "metadata": {},
   "source": [
    "## Now it's your turn:"
   ]
  },
  {
   "cell_type": "markdown",
   "metadata": {},
   "source": [
    "### A. Understanding and cleaning the data\n",
    "\n",
    "1. Get to know the data using `View()`, `summary()`, `head()` and `str()`.\n",
    "\n",
    "2. Look at the names of the dataframe with `names()`. Those aren't very informative are they? Change the names to the correct values (make sure to use the naming scheme I describe in the dataset description)."
   ]
  },
  {
   "cell_type": "markdown",
   "metadata": {},
   "source": [
    "### B. Applying functions to columns\n",
    "\n",
    "1. What was the mean participant age?\n",
    "\n",
    "2. How many participants were there from each sex?\n",
    "\n",
    "3. What was the median walking time?\n",
    "\n",
    "4. What *percent* of participants passed the attention check (Hint: To calculate a percentage from a 0, 1 variable, use `mean()`)\n",
    "\n",
    "5. Walking time is currently in seconds. Add a new column to the dataframe called `walking.m` That shows the walking time in minutes rather than seconds."
   ]
  },
  {
   "cell_type": "markdown",
   "metadata": {},
   "source": [
    "### C. Indexing and subsettting dataframes\n",
    "\n",
    "*Try to split your answers to these problems into two steps*\n",
    "\n",
    "*Step 1: Index or subset the original data and store as a new object with a new name.*\n",
    "\n",
    "*Step 2: Calculate the appropriate summary statistic using the new, subsetted object you just created.*\n",
    "\n",
    "1. What were the sexes of the first 10 participants?\n",
    "\n",
    "2. What was the data for the 50th participant?\n",
    "\n",
    "3. What was the mean walking time for the elderly prime condition?\n",
    "\n",
    "4. What was the mean walking time for the neutral prime condition?\n",
    "\n",
    "5. What was the mean walking time for participants less than 23 years old?\n",
    "\n",
    "6. What was the mean walking time for females with a close relationship with their grandparents?\n",
    "\n",
    "7. What was the mean walking time for males over 24 years old *without* a close relationship with their grandparents?"
   ]
  },
  {
   "cell_type": "markdown",
   "metadata": {},
   "source": [
    "### D. Creating new dataframe objects\n",
    "\n",
    "1. Create a new dataframe called `priming.att` that *only* includes rows where participants passed the attention check. (Hint: use indexing or `subset()`)\n",
    "\n",
    "2. Some of the data don't make any sense. For example, some walking times are negative, some prime values aren't correct, and some prime.duration values weren't part of the original study plan. Create a new dataframe called `priming.c` (aka., priming clean) that *only* includes rows with valid values for each column -- do this by looking for an few strange values in each column, and by looking at the original dataset description. Additionally, *only* include participants who passed the attention check.\n",
    "\n",
    "3. How many participants gave valid data and passed the attention check? (Hint: Use the result from your previous answer!)\n",
    "\n",
    "4. Of those participants who gave valid data and passed the attention check, what was the mean walking time of those given the elderly and neutral prime (calculate these separately)."
   ]
  },
  {
   "cell_type": "raw",
   "metadata": {},
   "source": [
    "# Here a skeleton of how your code should look like to answer D2:\n",
    "\n",
    "# Create priming.c, a subset of the original priming data\n",
    "#  (replace __ with the appropriate values)\n",
    "priming.c <- subset(priming,\n",
    "                    subset = sex %in% c(_____) & \n",
    "                             age > ____ &\n",
    "                             attention == ___ &\n",
    "                             prime %in% c(___) &\n",
    "                             prime.duration %in% c(___) &\n",
    "                             grandparents %in% c(___) &\n",
    "                             walk > ___ )"
   ]
  },
  {
   "cell_type": "markdown",
   "metadata": {},
   "source": [
    "### E. Saving and loading data\n",
    "\n",
    "1. Save your two dataframe objects `priming` and `priming.c` in an .RData file called `priming.RData` in the data folder of your project\n",
    "\n",
    "2. Save your `priming.c` object as a tab--delimited text file called `priming_clean.txt` in the data folder of your project.\n",
    "\n",
    "3. Clean your workspace by running `rm(list = ls())`\n",
    "\n",
    "4. Re-load your two dataframe objects using `load()`.\n",
    "\n",
    "5. A colleague of yours wants access to the data from the females given the neutral prime in your experiment. Create a dataframe called `priming.f` that only includes these data. Additionally, do *not* include the `id` column as this could be used to identify the participants.\n",
    "\n",
    "6. Save your `priming.f` object as a tab--delimited text file called `priming_females.txt` in the data folder of your project.\n",
    "\n",
    "7. Save your entire workspace using `save.image` to an .RData file called `priming_ws.RData` in the data folder of your project."
   ]
  },
  {
   "cell_type": "markdown",
   "metadata": {},
   "source": [
    "### F. Final steps...\n",
    "\n",
    "The following questions apply to your cleaned dataframe (`priming.c`)\n",
    "\n",
    "1. Did the effect of priming condition on walking times differ between the first 100 and the last 100 participants (Hint: Make sure to index the data using `id`!)?\n",
    "\n",
    "2. Due to a computer error, the data from every participant with an even id number is invalid. Remove these data from your `priming.c` dataframe.\n",
    "\n",
    "3. Do you find evidence that a participant's relationship with their grandparents affects how they responded to the primes?"
   ]
  },
  {
   "cell_type": "markdown",
   "metadata": {},
   "source": [
    "### That's it! Now it's time to submit your assignment!\n",
    "\n",
    "Save and email your `wpa_3_LastFirst.R` file to me at [laura.fontanesi@unibas.ch](mailto:laura.fontanesi@unibas.ch). \n",
    "\n",
    "Assignments sent after Sunday 24th March will not be considered (to pass the course you have to hand in all assignments for each week). "
   ]
  }
 ],
 "metadata": {
  "kernelspec": {
   "display_name": "R",
   "language": "R",
   "name": "ir"
  },
  "language_info": {
   "codemirror_mode": "r",
   "file_extension": ".r",
   "mimetype": "text/x-r-source",
   "name": "R",
   "pygments_lexer": "r",
   "version": "3.5.1"
  }
 },
 "nbformat": 4,
 "nbformat_minor": 2
}
