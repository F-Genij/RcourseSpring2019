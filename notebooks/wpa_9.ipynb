{
 "cells": [
  {
   "cell_type": "markdown",
   "metadata": {},
   "source": [
    "# WPA #9 - Regression - Chapter 15"
   ]
  },
  {
   "cell_type": "markdown",
   "metadata": {},
   "source": [
    "## Student Performance\n",
    "\n",
    "In this WPA, you will analyze data from a study on student performance in two classes: math and Portugese. These data come from the UCI Machine Learning database at http://archive.ics.uci.edu/ml/datasets/Student+Performance#\n",
    "\n",
    "The data were collected for this paper:  \n",
    "P. Cortez and A. Silva. Using Data Mining to Predict Secondary School Student Performance. In A. Brito and J. Teixeira Eds., Proceedings of 5th FUture BUsiness TEChnology Conference (FUBUTEC 2008) pp. 5-12, Porto, Portugal, April, 2008, EUROSIS, ISBN 978-9077381-39-7. \n",
    "\n",
    "Here is the data description (taken directly from the original website):\n",
    "\n",
    "*This data approach student achievement in secondary education of two Portuguese schools. The data attributes include student grades, demographic, social and school related features) and it was collected by using school reports and questionnaires. Two datasets are provided regarding the performance in two distinct subjects: Mathematics (mat) and Portuguese language (por). In [Cortez and Silva, 2008], the two datasets were modeled under binary/five-level classification and regression tasks. Important note: the target attribute G3 has a strong correlation with attributes G2 and G1. This occurs because G3 is the final year grade (issued at the 3rd period), while G1 and G2 correspond to the 1st and 2nd period grades. It is more difficult to predict G3 without G2 and G1, but such prediction is much more useful (see paper source for more details).*"
   ]
  },
  {
   "cell_type": "markdown",
   "metadata": {},
   "source": [
    "### A. Data loading and preparation\n",
    "\n",
    "1. Open a new script and enter your name, date, and the wpa number at the top. Set the working directory to the appropriate location using `setwd` (or add the script to your R Project). Save the script in the `R` folder in your project working directory as `wpa_9_LASTFIRST.R`, where LAST and FIRST are your last and first names. \n",
    "\n",
    "2. Download the data from the website (by clicking on `Data Folder`, and unzipping the downloaded `student` folder on your computer). We are going to use two of the files contained in the `student` folder: `student-mat.csv` and `student-por.csv`. Move them in the `data` folder you created (**in WPA 3**) in the `R project` folder.\n",
    "\n",
    "3. Set the working directory to the `data` folder.\n",
    "\n",
    "4. Load `student-mat.csv` and `student-por.csv` using `read.table()` as new objects, called, respectively, `student.math` and `student.por`. To load them, you shouldn't use the whole path, but just the file name. This, of course, only if you did points 2 and 3 correctly. Look back at **WPA 3** if you are having difficulties. You should not use `file.choose` to lead the data. You can help yourself using tab completion (https://support.rstudio.com/hc/en-us/articles/200404846-Working-in-the-Console#completion).\n",
    "\n",
    "5. Look at the first few rows of the dataframe with the `head()` function to make sure it loaded correctly. If you see something weird (e.g., all the values are stuck together in one column) try to change the `sep` argument: With which character do you think the values were separated with?\n",
    "\n",
    "6. How many rows and columns are there in the two dataframes? Use the `dim()` function to reply to this question."
   ]
  },
  {
   "cell_type": "markdown",
   "metadata": {},
   "source": [
    "#### Datafile description\n",
    "\n",
    "Both datafiles have 33 columns. Here they are:\n",
    "\n",
    "1 school - student's school (binary: 'GP' - Gabriel Pereira or 'MS' - Mousinho da Silveira) \n",
    "\n",
    "2 sex - student's sex (binary: 'F' - female or 'M' - male) \n",
    "\n",
    "3 age - student's age (numeric: from 15 to 22) \n",
    "\n",
    "4 address - student's home address type (binary: 'U' - urban or 'R' - rural) \n",
    "\n",
    "5 famsize - family size (binary: 'LE3' - less or equal to 3 or 'GT3' - greater than 3) \n",
    "\n",
    "6 Pstatus - parent's cohabitation status (binary: 'T' - living together or 'A' - apart) \n",
    "\n",
    "7 Medu - mother's education (numeric: 0 - none, 1 - primary education (4th grade), 2 ???????? 5th to 9th grade, 3 ???????? secondary education or 4 ???????? higher education) \n",
    "\n",
    "8 Fedu - father's education (numeric: 0 - none, 1 - primary education (4th grade), 2 - 5th to 9th grade, 3 - secondary education or 4 - higher education) \n",
    "\n",
    "9 Mjob - mother's job (nominal: 'teacher', 'health' care related, civil 'services' (e.g. administrative or police), 'at_home' or 'other') \n",
    "\n",
    "10 Fjob - father's job (nominal: 'teacher', 'health' care related, civil 'services' (e.g. administrative or police), 'at_home' or 'other') \n",
    "\n",
    "11 reason - reason to choose this school (nominal: close to 'home', school 'reputation', 'course' preference or 'other') \n",
    "\n",
    "12 guardian - student's guardian (nominal: 'mother', 'father' or 'other') \n",
    "\n",
    "13 traveltime - home to school travel time (numeric: 1 - <15 min., 2 - 15 to 30 min., 3 - 30 min. to 1 hour, or 4 - >1 hour) \n",
    "\n",
    "14 studytime - weekly study time (numeric: 1 - <2 hours, 2 - 2 to 5 hours, 3 - 5 to 10 hours, or 4 - >10 hours) \n",
    "\n",
    "15 failures - number of past class failures (numeric: n if 1<=n<3, else 4) \n",
    "\n",
    "16 schoolsup - extra educational support (binary: yes or no) \n",
    "\n",
    "17 famsup - family educational support (binary: yes or no) \n",
    "\n",
    "18 paid - extra paid classes within the course subject (Math or Portuguese) (binary: yes or no) \n",
    "\n",
    "19 activities - extra-curricular activities (binary: yes or no) \n",
    "\n",
    "20 nursery - attended nursery school (binary: yes or no) \n",
    "\n",
    "21 higher - wants to take higher education (binary: yes or no) \n",
    "\n",
    "22 internet - Internet access at home (binary: yes or no) \n",
    "\n",
    "23 romantic - with a romantic relationship (binary: yes or no) \n",
    "\n",
    "24 famrel - quality of family relationships (numeric: from 1 - very bad to 5 - excellent) \n",
    "\n",
    "25 freetime - free time after school (numeric: from 1 - very low to 5 - very high) \n",
    "\n",
    "26 goout - going out with friends (numeric: from 1 - very low to 5 - very high) \n",
    "\n",
    "27 Dalc - workday alcohol consumption (numeric: from 1 - very low to 5 - very high) \n",
    "\n",
    "28 Walc - weekend alcohol consumption (numeric: from 1 - very low to 5 - very high) \n",
    "\n",
    "29 health - current health status (numeric: from 1 - very bad to 5 - very good) \n",
    "\n",
    "30 absences - number of school absences (numeric: from 0 to 93) \n",
    "\n",
    "31 G1 - first period grade (numeric: from 0 to 20) \n",
    "\n",
    "31 G2 - second period grade (numeric: from 0 to 20) \n",
    "\n",
    "32 G3 - final grade (numeric: from 0 to 20, output target)"
   ]
  },
  {
   "cell_type": "markdown",
   "metadata": {},
   "source": [
    "## B. Regression with one IV\n",
    "\n",
    "1. Before you do anything else, look at the help file for `lm()`.\n",
    "\n",
    "2. For the math data, create a regression object called `lm.b2` predicting first period grade (G1) based on age.\n",
    "\n",
    "3. How do you interpret the relationship between age and first period grade?\n",
    "\n",
    "4. For the math data, create a regression object called `lm.b4` predicting first period grade (G1) based on absences.\n",
    "\n",
    "5. How do you interpret the relationship between absences and G1?\n",
    "\n",
    "6. For the math data, create a regression object called `lm.b6` predicting first period grade (G1) based on school support (`schoolsup`).\n",
    "\n",
    "7. How do you interpret the relationship between school support and G1? Given that school support is a nominal variable with 2 levels, how can you tell from the output (use `summary`) which direction the effect is? How does this relate to the way the data.frame has stored the levels of the school support factor (use str(student.math$schoolsup)). \n",
    "\n",
    "8. From the regression what would be your best guess for the first period grade for a student with no school support? What about for a student with school support?\n",
    "\n",
    "9. For the math data, create a regression object called `lm.b9` predicting each student's period 3 grade (G3) based on their period 1 grade (G1).\n",
    "\n",
    "10. How do you interpret the relationship between G1 and G3?"
   ]
  },
  {
   "cell_type": "markdown",
   "metadata": {},
   "source": [
    "## C. Adding a regression line to a scatterplot\n",
    "\n",
    "1. Create a scatterplot showing the relationship between G1 and G3 for the math data. Use transparency of color to show how much the points overlap (as, e.g., in **WPA 5, answer B3**). Give appropriate x and y labels.\n",
    "\n",
    "2. Add a regression line to the scatterplot from your regression object `lm.b9` (hint: use `abline()`). When doing this you need to make sure that your predictor variable (in this case G1) is th x-axis and your predicted variable (G3) is the y axis. This is because the abline plots the predictions as the y-axis and the predictors as the x-axis.\n",
    "\n",
    "3. Create a new figure in which you switch the variables so that your x-axis is now your y-axis and vice versa. Keep the model and abline the same. What happens? Remember to also switch the x and y labels appropriately..."
   ]
  },
  {
   "cell_type": "markdown",
   "metadata": {},
   "source": [
    "## D. Multiple IVs\n",
    "\n",
    "1. For the math data, create a regression object called `lm.d1` predicting third period grade (G3) based on sex, age, internet, and failures.\n",
    "\n",
    "2. How do you interpret the regression output? Which variables are significantly related to third period grade?\n",
    "\n",
    "3. Create a new regression object called `lm.d3` using the same variables as question D1 (the model was `lm.d1` where you predicted third period grade (G3) based on sex, age, internet, and failures): however, this time use the portugese dataset.\n",
    "\n",
    "4. What are the key differences between the beta values for the portugese dataset (`lm.d3`) and the math dataset (`lm.d1`)?"
   ]
  },
  {
   "cell_type": "markdown",
   "metadata": {},
   "source": [
    "## E. Nominal Variable with 3 levels"
   ]
  },
  {
   "cell_type": "markdown",
   "metadata": {},
   "source": [
    "1. For the math data, create a regression object called `lm.e1` predicting first period grade (G1) based on guardian. Guardian is a nominal variable with 3 levels.\n",
    "\n",
    "2. Use `summary` to look at the output. You should see 2 predictors listed (\"guardianmother\" and \"guardiananother\"), rather than the expected 1 (\"guardian\"). `lm` has dummy coded your variables with \"father\" set as the reference group. Look at the levels of the guardian factor to see why \"father\" is the reference group.  How would you interpret the results? \n",
    "\n",
    "3. What is the predicted grade for those with a father as their guardian? Those with a mother? Those with other? Compare these to the means of each group again."
   ]
  },
  {
   "cell_type": "markdown",
   "metadata": {},
   "source": [
    "## F. Predicting values\n",
    "\n",
    "1. For the math dataset, create a regression object called `lm.f1` predicting a student's first period grade (G1) based on all variables in the dataset (Hint: use the notation `formula = y ~ .` to include all variables!\n",
    "\n",
    "2. Save the fitted values values from the `lm.f1` object as a vector called `lm.f1.fitted`.\n",
    "\n",
    "3. For the math dataset, create a scatterplot showing the relationship between a student's first period grade (G1) and the fitted values from the model. Does the model appear to correctly fit a student's first period grade? Use `abline(a=0, b=1)` to plot the identity line and better answer to this question.\n",
    "\n",
    "4. Create a new regression object, called `lm.f4` which doesn't include G2 or G3 as predictors, but still includes all other variables. (Hint: Don't enter all the predictor names by hand. Try modifying the data.frame instead to exclude the columns you don't need, i.e. use indexing). Save the fitted values from the `lm.f4` object as a vector called `lm.f4.fitted`.\n",
    "\n",
    "5. There is also a better/easier way to do this. Just like + adds predictors, - can be used to remove predictors. Rewrite the model in aswer 4 using - instead of indexing, call it `lm.f5`. Save the fitted values from the `lm.f5` object as a vector called `lm.f5.fitted`.\n",
    "\n",
    "6. Plot the predicted grades against the actual ones, as predicted by model `lm.f5`, as in question 3. How well does the new model perform now?"
   ]
  },
  {
   "cell_type": "markdown",
   "metadata": {},
   "source": [
    "### That's it! Now it's time to submit your assignment!\n",
    "\n",
    "Save and email your `wpa_9_LastFirst.R` file to me at [laura.fontanesi@unibas.ch](mailto:laura.fontanesi@unibas.ch). \n",
    "\n",
    "Assignments sent after Sunday 5th May will not be considered (to pass the course you have to hand in all assignments for each week). "
   ]
  }
 ],
 "metadata": {
  "kernelspec": {
   "display_name": "R",
   "language": "R",
   "name": "ir"
  },
  "language_info": {
   "codemirror_mode": "r",
   "file_extension": ".r",
   "mimetype": "text/x-r-source",
   "name": "R",
   "pygments_lexer": "r",
   "version": "3.5.1"
  }
 },
 "nbformat": 4,
 "nbformat_minor": 2
}
