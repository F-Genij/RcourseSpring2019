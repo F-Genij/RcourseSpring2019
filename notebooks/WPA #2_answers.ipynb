{
 "cells": [
  {
   "cell_type": "markdown",
   "metadata": {},
   "source": [
    "# WPA #2 - Chapter 7"
   ]
  },
  {
   "cell_type": "markdown",
   "metadata": {},
   "source": [
    "Open a new R script in R and **save it as** `wpa_2_LastFirst.R` (where Last and First is your last and first name). \n",
    "\n",
    "Careful about capitalizing, and using `_` and **not**, e.g., `WPA-1-LastFirst.R`\n",
    "\n",
    "At the top of your script, write the following (**with appropriate changes**):"
   ]
  },
  {
   "cell_type": "code",
   "execution_count": 1,
   "metadata": {},
   "outputs": [],
   "source": [
    "# Assignment: WPA 2\n",
    "# Name: Your_name Your_surname\n",
    "# Date: 5 March 2019"
   ]
  },
  {
   "cell_type": "markdown",
   "metadata": {},
   "source": [
    "## Analyzing Bar survey data"
   ]
  },
  {
   "cell_type": "markdown",
   "metadata": {},
   "source": [
    "<img src=\"http://mainetoday.com/wp-content/uploads/2014/06/meet-at-bar-red-lipstick-project.jpg\" width=\"400\" />"
   ]
  },
  {
   "cell_type": "markdown",
   "metadata": {},
   "source": [
    "The following contain (fictional!) data from a survey of 200 people at one of two bars in Basel (Grenzwert and Paddy's) last Friday night at 3:00am. Each person was asked which kind of cologne they were wearing. After answering this question, a (very busy) researcher recorded how long each person spent talking to people at the bar. The data are stored in the following 5 vector objects:\n",
    "\n",
    "- `id`: An id indicating the participant in the form `x.n`, where `x` is the name of the bar the participant was at, and `n` is a random indexing number)\n",
    "- `sex`: The person's sex: `male` or `female`\n",
    "- `cologne`: Which cologne did the person wear? `gio` or `calvinklein`\n",
    "- `bar`: Where the person went out: `grenzwert` or `paddys`\n",
    "- `time`: The amount of time the person spent talking to people in minutes\n",
    "\n",
    "Thankfully, you don't need to type in the data yourself! The objects are stored in an *RData* file online."
   ]
  },
  {
   "cell_type": "markdown",
   "metadata": {},
   "source": [
    "Load the vectors into your R session by running the following code."
   ]
  },
  {
   "cell_type": "code",
   "execution_count": 2,
   "metadata": {},
   "outputs": [],
   "source": [
    "load(file = url(\"https://www.dropbox.com/s/hxdb05i2g8y50ul/wpa2.RData?dl=1\"))"
   ]
  },
  {
   "cell_type": "markdown",
   "metadata": {},
   "source": [
    "YOUR TURN (task A):\n",
    "\n",
    "The `str()` function will give you basic information about objects. Get to know the objects (`id`, `sex`, `cologne`, `bar`, `time`) by running the `str()` function on each of the 5 vectors. "
   ]
  },
  {
   "cell_type": "markdown",
   "metadata": {},
   "source": [
    "### Review"
   ]
  },
  {
   "cell_type": "markdown",
   "metadata": {},
   "source": [
    "YOUR TURN (task B):\n",
    "\n",
    "1. How many people were there of each sex? (Hint: use `table()`)\n",
    "\n",
    "2. What was the mean time?\n",
    "\n",
    "3. What was the standard deviation of times?\n",
    "\n",
    "4. Create `time.z` a z-score transformation of time. (Hint: z-score is defined as `(x - mean(x)) / sd(x)`)"
   ]
  },
  {
   "cell_type": "code",
   "execution_count": 3,
   "metadata": {},
   "outputs": [
    {
     "data": {
      "text/plain": [
       "sex\n",
       "  f   m \n",
       "100 100 "
      ]
     },
     "metadata": {},
     "output_type": "display_data"
    }
   ],
   "source": [
    "table(sex)"
   ]
  },
  {
   "cell_type": "code",
   "execution_count": 4,
   "metadata": {},
   "outputs": [
    {
     "data": {
      "text/html": [
       "165.055"
      ],
      "text/latex": [
       "165.055"
      ],
      "text/markdown": [
       "165.055"
      ],
      "text/plain": [
       "[1] 165.055"
      ]
     },
     "metadata": {},
     "output_type": "display_data"
    }
   ],
   "source": [
    "mean(time)"
   ]
  },
  {
   "cell_type": "code",
   "execution_count": 5,
   "metadata": {},
   "outputs": [
    {
     "data": {
      "text/html": [
       "45.7922112158847"
      ],
      "text/latex": [
       "45.7922112158847"
      ],
      "text/markdown": [
       "45.7922112158847"
      ],
      "text/plain": [
       "[1] 45.79221"
      ]
     },
     "metadata": {},
     "output_type": "display_data"
    }
   ],
   "source": [
    "sd(time)"
   ]
  },
  {
   "cell_type": "code",
   "execution_count": 6,
   "metadata": {},
   "outputs": [],
   "source": [
    "time.z <- (time - mean(time)) / sd(time)"
   ]
  },
  {
   "cell_type": "markdown",
   "metadata": {},
   "source": [
    "### Numerical Indexing"
   ]
  },
  {
   "cell_type": "code",
   "execution_count": 7,
   "metadata": {},
   "outputs": [
    {
     "data": {
      "text/html": [
       "5"
      ],
      "text/latex": [
       "5"
      ],
      "text/markdown": [
       "5"
      ],
      "text/plain": [
       "[1] 5"
      ]
     },
     "metadata": {},
     "output_type": "display_data"
    }
   ],
   "source": [
    "###   Example:\n",
    "###   Index the 2nd element of vector a.\n",
    "a<-c(3, 5, 2, 1)\n",
    "a[2]"
   ]
  },
  {
   "cell_type": "markdown",
   "metadata": {},
   "source": [
    "YOUR TURN (task C):\n",
    "\n",
    "\n",
    "5. What was the value of the first time?\n",
    "\n",
    "6. What were the sexes of the first five participants?\n",
    "\n",
    "7. What were the colognes of the 10th through the 20th participants\n",
    "\n",
    "8. Which bar did the last participant go to? (hint: don't write the indexing number directly; instead, index the vector using the `length()` function with the appropriate argument)"
   ]
  },
  {
   "cell_type": "code",
   "execution_count": 8,
   "metadata": {},
   "outputs": [
    {
     "data": {
      "text/html": [
       "289"
      ],
      "text/latex": [
       "289"
      ],
      "text/markdown": [
       "289"
      ],
      "text/plain": [
       "[1] 289"
      ]
     },
     "metadata": {},
     "output_type": "display_data"
    }
   ],
   "source": [
    "time[1]"
   ]
  },
  {
   "cell_type": "code",
   "execution_count": 9,
   "metadata": {},
   "outputs": [
    {
     "data": {
      "text/html": [
       "<ol class=list-inline>\n",
       "\t<li>'f'</li>\n",
       "\t<li>'f'</li>\n",
       "\t<li>'f'</li>\n",
       "\t<li>'m'</li>\n",
       "\t<li>'f'</li>\n",
       "</ol>\n"
      ],
      "text/latex": [
       "\\begin{enumerate*}\n",
       "\\item 'f'\n",
       "\\item 'f'\n",
       "\\item 'f'\n",
       "\\item 'm'\n",
       "\\item 'f'\n",
       "\\end{enumerate*}\n"
      ],
      "text/markdown": [
       "1. 'f'\n",
       "2. 'f'\n",
       "3. 'f'\n",
       "4. 'm'\n",
       "5. 'f'\n",
       "\n",
       "\n"
      ],
      "text/plain": [
       "[1] \"f\" \"f\" \"f\" \"m\" \"f\""
      ]
     },
     "metadata": {},
     "output_type": "display_data"
    }
   ],
   "source": [
    "sex[1:5]"
   ]
  },
  {
   "cell_type": "code",
   "execution_count": 10,
   "metadata": {},
   "outputs": [
    {
     "data": {
      "text/html": [
       "<ol class=list-inline>\n",
       "\t<li>'gio'</li>\n",
       "\t<li>'calvinklein'</li>\n",
       "\t<li>'gio'</li>\n",
       "\t<li>'calvinklein'</li>\n",
       "\t<li>'calvinklein'</li>\n",
       "\t<li>'calvinklein'</li>\n",
       "\t<li>'gio'</li>\n",
       "\t<li>'gio'</li>\n",
       "\t<li>'gio'</li>\n",
       "\t<li>'calvinklein'</li>\n",
       "\t<li>'gio'</li>\n",
       "</ol>\n"
      ],
      "text/latex": [
       "\\begin{enumerate*}\n",
       "\\item 'gio'\n",
       "\\item 'calvinklein'\n",
       "\\item 'gio'\n",
       "\\item 'calvinklein'\n",
       "\\item 'calvinklein'\n",
       "\\item 'calvinklein'\n",
       "\\item 'gio'\n",
       "\\item 'gio'\n",
       "\\item 'gio'\n",
       "\\item 'calvinklein'\n",
       "\\item 'gio'\n",
       "\\end{enumerate*}\n"
      ],
      "text/markdown": [
       "1. 'gio'\n",
       "2. 'calvinklein'\n",
       "3. 'gio'\n",
       "4. 'calvinklein'\n",
       "5. 'calvinklein'\n",
       "6. 'calvinklein'\n",
       "7. 'gio'\n",
       "8. 'gio'\n",
       "9. 'gio'\n",
       "10. 'calvinklein'\n",
       "11. 'gio'\n",
       "\n",
       "\n"
      ],
      "text/plain": [
       " [1] \"gio\"         \"calvinklein\" \"gio\"         \"calvinklein\" \"calvinklein\"\n",
       " [6] \"calvinklein\" \"gio\"         \"gio\"         \"gio\"         \"calvinklein\"\n",
       "[11] \"gio\"        "
      ]
     },
     "metadata": {},
     "output_type": "display_data"
    }
   ],
   "source": [
    "cologne[10:20]"
   ]
  },
  {
   "cell_type": "code",
   "execution_count": 11,
   "metadata": {},
   "outputs": [
    {
     "data": {
      "text/html": [
       "'paddys'"
      ],
      "text/latex": [
       "'paddys'"
      ],
      "text/markdown": [
       "'paddys'"
      ],
      "text/plain": [
       "[1] \"paddys\""
      ]
     },
     "metadata": {},
     "output_type": "display_data"
    },
    {
     "data": {
      "text/html": [
       "'paddys'"
      ],
      "text/latex": [
       "'paddys'"
      ],
      "text/markdown": [
       "'paddys'"
      ],
      "text/plain": [
       "[1] \"paddys\""
      ]
     },
     "metadata": {},
     "output_type": "display_data"
    },
    {
     "data": {
      "text/html": [
       "'paddys'"
      ],
      "text/latex": [
       "'paddys'"
      ],
      "text/markdown": [
       "'paddys'"
      ],
      "text/plain": [
       "[1] \"paddys\""
      ]
     },
     "metadata": {},
     "output_type": "display_data"
    }
   ],
   "source": [
    "bar[length(bar)]\n",
    "\n",
    "#Alternatively:\n",
    "tail(bar, n=1)\n",
    "rev(bar)[1]"
   ]
  },
  {
   "cell_type": "markdown",
   "metadata": {},
   "source": [
    "### Logical Indexing on one variable"
   ]
  },
  {
   "cell_type": "code",
   "execution_count": 12,
   "metadata": {},
   "outputs": [
    {
     "data": {
      "text/html": [
       "<ol class=list-inline>\n",
       "\t<li>FALSE</li>\n",
       "\t<li>FALSE</li>\n",
       "\t<li>TRUE</li>\n",
       "\t<li>TRUE</li>\n",
       "</ol>\n"
      ],
      "text/latex": [
       "\\begin{enumerate*}\n",
       "\\item FALSE\n",
       "\\item FALSE\n",
       "\\item TRUE\n",
       "\\item TRUE\n",
       "\\end{enumerate*}\n"
      ],
      "text/markdown": [
       "1. FALSE\n",
       "2. FALSE\n",
       "3. TRUE\n",
       "4. TRUE\n",
       "\n",
       "\n"
      ],
      "text/plain": [
       "[1] FALSE FALSE  TRUE  TRUE"
      ]
     },
     "metadata": {},
     "output_type": "display_data"
    },
    {
     "data": {
      "text/html": [
       "<ol class=list-inline>\n",
       "\t<li>2</li>\n",
       "\t<li>1</li>\n",
       "</ol>\n"
      ],
      "text/latex": [
       "\\begin{enumerate*}\n",
       "\\item 2\n",
       "\\item 1\n",
       "\\end{enumerate*}\n"
      ],
      "text/markdown": [
       "1. 2\n",
       "2. 1\n",
       "\n",
       "\n"
      ],
      "text/plain": [
       "[1] 2 1"
      ]
     },
     "metadata": {},
     "output_type": "display_data"
    }
   ],
   "source": [
    "###   Example:\n",
    "###   Find which elements of vector a have values less than 3\n",
    "a<3\n",
    "\n",
    "###   return only the values in a which are less than 3\n",
    "a[a<3]"
   ]
  },
  {
   "cell_type": "markdown",
   "metadata": {},
   "source": [
    "YOUR TURN (task D):\n",
    "\n",
    "9. a) How many people wore gio? b) How many wore calvinklein?\n",
    "\n",
    "10. a) How many people went to Grenzwert? b) How many went to Paddys?\n",
    "\n",
    "11. What percent of people went to Grenzert? (Hint: use `mean()` combined with a logical vector)\n",
    "\n",
    "12. How many talking times were longer than 30 minutes?\n",
    "\n",
    "13. What percent of talking times were longer than an hour?\n",
    "\n",
    "14. What percent of talking times were longer than 20 minutes but less than 40 minutes?\n",
    "\n",
    "15. Create a new vector `time.60` which contains only talking times that were less than an hour?"
   ]
  },
  {
   "cell_type": "code",
   "execution_count": 13,
   "metadata": {},
   "outputs": [
    {
     "data": {
      "text/html": [
       "100"
      ],
      "text/latex": [
       "100"
      ],
      "text/markdown": [
       "100"
      ],
      "text/plain": [
       "[1] 100"
      ]
     },
     "metadata": {},
     "output_type": "display_data"
    },
    {
     "data": {
      "text/html": [
       "100"
      ],
      "text/latex": [
       "100"
      ],
      "text/markdown": [
       "100"
      ],
      "text/plain": [
       "[1] 100"
      ]
     },
     "metadata": {},
     "output_type": "display_data"
    },
    {
     "data": {
      "text/html": [
       "100"
      ],
      "text/latex": [
       "100"
      ],
      "text/markdown": [
       "100"
      ],
      "text/plain": [
       "[1] 100"
      ]
     },
     "metadata": {},
     "output_type": "display_data"
    },
    {
     "data": {
      "text/html": [
       "100"
      ],
      "text/latex": [
       "100"
      ],
      "text/markdown": [
       "100"
      ],
      "text/plain": [
       "[1] 100"
      ]
     },
     "metadata": {},
     "output_type": "display_data"
    }
   ],
   "source": [
    "sum(cologne == \"gio\")\n",
    "sum(cologne == \"calvinklein\")\n",
    "\n",
    "#some common mistakes\n",
    "#sum[cologne==\"gio\"]     wrong brackets\n",
    "#sum(cologne=\"gio\")      single = instead of double\n",
    "#sum(cologne==gio)        no quotations\n",
    "\n",
    "#alternatively\n",
    "length(cologne[cologne == \"gio\"])\n",
    "length(cologne[cologne == \"calvinklein\"])"
   ]
  },
  {
   "cell_type": "code",
   "execution_count": 14,
   "metadata": {},
   "outputs": [
    {
     "data": {
      "text/html": [
       "100"
      ],
      "text/latex": [
       "100"
      ],
      "text/markdown": [
       "100"
      ],
      "text/plain": [
       "[1] 100"
      ]
     },
     "metadata": {},
     "output_type": "display_data"
    },
    {
     "data": {
      "text/html": [
       "100"
      ],
      "text/latex": [
       "100"
      ],
      "text/markdown": [
       "100"
      ],
      "text/plain": [
       "[1] 100"
      ]
     },
     "metadata": {},
     "output_type": "display_data"
    }
   ],
   "source": [
    "sum(bar == \"grenzwert\")\n",
    "sum(bar == \"paddys\")"
   ]
  },
  {
   "cell_type": "code",
   "execution_count": 15,
   "metadata": {},
   "outputs": [
    {
     "data": {
      "text/html": [
       "0.5"
      ],
      "text/latex": [
       "0.5"
      ],
      "text/markdown": [
       "0.5"
      ],
      "text/plain": [
       "[1] 0.5"
      ]
     },
     "metadata": {},
     "output_type": "display_data"
    },
    {
     "data": {
      "text/html": [
       "0.5"
      ],
      "text/latex": [
       "0.5"
      ],
      "text/markdown": [
       "0.5"
      ],
      "text/plain": [
       "[1] 0.5"
      ]
     },
     "metadata": {},
     "output_type": "display_data"
    }
   ],
   "source": [
    "mean(bar == \"grenzwert\")\n",
    "\n",
    "#OR\n",
    "length(bar[bar == \"grenzwert\"])/length(bar)"
   ]
  },
  {
   "cell_type": "code",
   "execution_count": 16,
   "metadata": {},
   "outputs": [
    {
     "data": {
      "text/html": [
       "199"
      ],
      "text/latex": [
       "199"
      ],
      "text/markdown": [
       "199"
      ],
      "text/plain": [
       "[1] 199"
      ]
     },
     "metadata": {},
     "output_type": "display_data"
    }
   ],
   "source": [
    "sum(time > 30)"
   ]
  },
  {
   "cell_type": "code",
   "execution_count": 17,
   "metadata": {},
   "outputs": [
    {
     "data": {
      "text/html": [
       "0.95"
      ],
      "text/latex": [
       "0.95"
      ],
      "text/markdown": [
       "0.95"
      ],
      "text/plain": [
       "[1] 0.95"
      ]
     },
     "metadata": {},
     "output_type": "display_data"
    }
   ],
   "source": [
    "mean(time > 60)"
   ]
  },
  {
   "cell_type": "code",
   "execution_count": 18,
   "metadata": {},
   "outputs": [
    {
     "data": {
      "text/html": [
       "0.03"
      ],
      "text/latex": [
       "0.03"
      ],
      "text/markdown": [
       "0.03"
      ],
      "text/plain": [
       "[1] 0.03"
      ]
     },
     "metadata": {},
     "output_type": "display_data"
    }
   ],
   "source": [
    "mean(time > 20 & time < 40)"
   ]
  },
  {
   "cell_type": "code",
   "execution_count": 19,
   "metadata": {},
   "outputs": [
    {
     "data": {
      "text/html": [
       "<ol class=list-inline>\n",
       "\t<li>37</li>\n",
       "\t<li>41</li>\n",
       "\t<li>33</li>\n",
       "\t<li>32</li>\n",
       "\t<li>24</li>\n",
       "\t<li>32</li>\n",
       "\t<li>45</li>\n",
       "\t<li>54</li>\n",
       "\t<li>31</li>\n",
       "\t<li>51</li>\n",
       "</ol>\n"
      ],
      "text/latex": [
       "\\begin{enumerate*}\n",
       "\\item 37\n",
       "\\item 41\n",
       "\\item 33\n",
       "\\item 32\n",
       "\\item 24\n",
       "\\item 32\n",
       "\\item 45\n",
       "\\item 54\n",
       "\\item 31\n",
       "\\item 51\n",
       "\\end{enumerate*}\n"
      ],
      "text/markdown": [
       "1. 37\n",
       "2. 41\n",
       "3. 33\n",
       "4. 32\n",
       "5. 24\n",
       "6. 32\n",
       "7. 45\n",
       "8. 54\n",
       "9. 31\n",
       "10. 51\n",
       "\n",
       "\n"
      ],
      "text/plain": [
       " [1] 37 41 33 32 24 32 45 54 31 51"
      ]
     },
     "metadata": {},
     "output_type": "display_data"
    }
   ],
   "source": [
    "time.60<- time[time < 60]\n",
    "time.60"
   ]
  },
  {
   "cell_type": "markdown",
   "metadata": {},
   "source": [
    "### Logical indexing and two variables"
   ]
  },
  {
   "cell_type": "markdown",
   "metadata": {},
   "source": [
    "YOUR TURN (task E):\n",
    "\n",
    "16. What were the ids of people who went to grenzwert?\n",
    "\n",
    "17. What was the mean time of people who went to Grenzwert?\n",
    "\n",
    "18. What was the mean time of people who went to Paddys?\n",
    "\n",
    "19. What was the mean time of people who wore gio?\n",
    "\n",
    "20. What was the mean time of people who wore calvinklein?\n",
    "\n",
    "21. Based on what you've learned, if someone wants to talk as long as possible, what cologne should they wear?"
   ]
  },
  {
   "cell_type": "raw",
   "metadata": {},
   "source": [
    "id[bar == \"grenzwert\"]"
   ]
  },
  {
   "cell_type": "code",
   "execution_count": 20,
   "metadata": {},
   "outputs": [
    {
     "data": {
      "text/html": [
       "134.31"
      ],
      "text/latex": [
       "134.31"
      ],
      "text/markdown": [
       "134.31"
      ],
      "text/plain": [
       "[1] 134.31"
      ]
     },
     "metadata": {},
     "output_type": "display_data"
    }
   ],
   "source": [
    "mean(time[bar == \"grenzwert\"])"
   ]
  },
  {
   "cell_type": "code",
   "execution_count": 21,
   "metadata": {},
   "outputs": [
    {
     "data": {
      "text/html": [
       "195.8"
      ],
      "text/latex": [
       "195.8"
      ],
      "text/markdown": [
       "195.8"
      ],
      "text/plain": [
       "[1] 195.8"
      ]
     },
     "metadata": {},
     "output_type": "display_data"
    }
   ],
   "source": [
    "mean(time[bar == \"paddys\"])"
   ]
  },
  {
   "cell_type": "code",
   "execution_count": 22,
   "metadata": {},
   "outputs": [
    {
     "data": {
      "text/html": [
       "159.98"
      ],
      "text/latex": [
       "159.98"
      ],
      "text/markdown": [
       "159.98"
      ],
      "text/plain": [
       "[1] 159.98"
      ]
     },
     "metadata": {},
     "output_type": "display_data"
    }
   ],
   "source": [
    "mean(time[cologne == \"gio\"])"
   ]
  },
  {
   "cell_type": "code",
   "execution_count": 23,
   "metadata": {},
   "outputs": [
    {
     "data": {
      "text/html": [
       "170.13"
      ],
      "text/latex": [
       "170.13"
      ],
      "text/markdown": [
       "170.13"
      ],
      "text/plain": [
       "[1] 170.13"
      ]
     },
     "metadata": {},
     "output_type": "display_data"
    }
   ],
   "source": [
    "mean(time[cologne == \"calvinklein\"])"
   ]
  },
  {
   "cell_type": "code",
   "execution_count": 24,
   "metadata": {},
   "outputs": [
    {
     "data": {
      "text/html": [
       "304"
      ],
      "text/latex": [
       "304"
      ],
      "text/markdown": [
       "304"
      ],
      "text/plain": [
       "[1] 304"
      ]
     },
     "metadata": {},
     "output_type": "display_data"
    },
    {
     "data": {
      "text/html": [
       "207"
      ],
      "text/latex": [
       "207"
      ],
      "text/markdown": [
       "207"
      ],
      "text/plain": [
       "[1] 207"
      ]
     },
     "metadata": {},
     "output_type": "display_data"
    }
   ],
   "source": [
    "# On average they should wear calvinklein! \n",
    "#This question is a bit ambiguous, you could also argue that the maximum time is the correct way to answer it:\n",
    "max(time[cologne==\"gio\"])\n",
    "max(time[cologne==\"calvinklein\"])\n",
    "#In this case you would respond \"gio\"."
   ]
  },
  {
   "cell_type": "markdown",
   "metadata": {},
   "source": [
    "### Changing data in a vector with indexing\n",
    "\n",
    "In the next questions, we'll use indexing and assignment to change the values within a vector. Because we don't want to change the original data, we'll make all of our adjustments on new vectors."
   ]
  },
  {
   "cell_type": "markdown",
   "metadata": {},
   "source": [
    "YOUR TURN  (task F):\n",
    "\n",
    "22. Create new objects `bar.r`, `cologne.r` and `time.r` that are copies of the original `bar`, `cologne` and `time` objects (Hint: Just assign the existing vectors to new objects)\n",
    "\n",
    "23. a) In the `bar.r` vector, change the `\"grenzwert\"` values to `\"g\"`. b) Now change the `\"paddys\"` values to `\"p\"`\n",
    "\n",
    "24. a) In the `cologne.r` vector, change the `\"gio\"` values to `\"G\"`. b) Now change the `\"calvinklein\"` values to `\"C\"`\n",
    "\n",
    "25. In the `time.r` vector, change all time values greater than 280 to 280. Confirm that you did it correctly by calculating the maximum time in `time.r`"
   ]
  },
  {
   "cell_type": "code",
   "execution_count": 25,
   "metadata": {},
   "outputs": [],
   "source": [
    "bar.r <- bar\n",
    "cologne.r <- cologne\n",
    "time.r <- time"
   ]
  },
  {
   "cell_type": "code",
   "execution_count": 26,
   "metadata": {},
   "outputs": [],
   "source": [
    "bar.r[bar == \"grenzwert\"] <- \"g\"\n",
    "bar.r[bar == \"paddys\"] <- \"p\"\n",
    "\n",
    "#Remember that R will replicate the value being assigned to fit all available slots in the vector.\n",
    "#We could do this explicitly ourself by instead using:\n",
    "bar.r[bar==\"grenzwert\"]<- rep(\"g\", sum(bar==\"grenzwert\") )\n",
    "bar.r[bar==\"paddys\"]<- rep(\"p\", sum(bar==\"paddys\") )\n",
    "\n",
    "#Alternatively:\n",
    "bar.r <- factor(bar, levels= c(\"grenzwert\", \"paddys\"), labels= c(\"g\", \"p\"))"
   ]
  },
  {
   "cell_type": "code",
   "execution_count": 27,
   "metadata": {},
   "outputs": [],
   "source": [
    "cologne.r[cologne == \"gio\"] <- \"G\"\n",
    "cologne.r[cologne == \"calvinklein\"] <- \"C\"\n",
    "\n",
    "#Alternatively:\n",
    "cologne.r <- factor(cologne, levels= c(\"gio\", \"calvinklein\"), labels= c(\"G\", \"C\"))"
   ]
  },
  {
   "cell_type": "code",
   "execution_count": 28,
   "metadata": {},
   "outputs": [
    {
     "data": {
      "text/html": [
       "280"
      ],
      "text/latex": [
       "280"
      ],
      "text/markdown": [
       "280"
      ],
      "text/plain": [
       "[1] 280"
      ]
     },
     "metadata": {},
     "output_type": "display_data"
    }
   ],
   "source": [
    "time.r[time > 280] <- 280\n",
    "max(time.r)"
   ]
  },
  {
   "cell_type": "markdown",
   "metadata": {},
   "source": [
    "### Solving a paradox..."
   ]
  },
  {
   "cell_type": "markdown",
   "metadata": {},
   "source": [
    "<img src=\"http://home.adelphi.edu/~stemkoski/mathematrix/e-waterfall.jpg\" width=\"200\" />"
   ]
  },
  {
   "cell_type": "markdown",
   "metadata": {},
   "source": [
    "YOUR TURN  (task G):\n",
    "\n",
    "26. Based on what you've learned so far, if someone wanted to talk to people as long as possible, what cologne should they wear?"
   ]
  },
  {
   "cell_type": "code",
   "execution_count": 29,
   "metadata": {},
   "outputs": [],
   "source": [
    "#I already said calvinklein...why are you asking me again?"
   ]
  },
  {
   "cell_type": "markdown",
   "metadata": {},
   "source": [
    "*Let's see if your prediction holds up!*\n",
    "\n",
    "YOUR TURN  (task H):\n",
    "\n",
    "27. What was the mean time of people who went to Grenzwert and wore gio??\n",
    "\n",
    "28. What was the mean time of people who went to Grenzwert and wore calvinklein?\n",
    "\n",
    "29. What was the mean time of people who went to Paddys who wore gio?\n",
    "\n",
    "30. What was the mean time of people who went to Paddys who wore calvinklein??\n",
    "\n",
    "31. Based on what you've learned now, if someone's goal is to talk to people as long as possible, what cologne should they wear?"
   ]
  },
  {
   "cell_type": "code",
   "execution_count": 30,
   "metadata": {},
   "outputs": [
    {
     "data": {
      "text/html": [
       "145.011111111111"
      ],
      "text/latex": [
       "145.011111111111"
      ],
      "text/markdown": [
       "145.011111111111"
      ],
      "text/plain": [
       "[1] 145.0111"
      ]
     },
     "metadata": {},
     "output_type": "display_data"
    }
   ],
   "source": [
    "mean(time[bar == \"grenzwert\" & cologne == \"gio\"])"
   ]
  },
  {
   "cell_type": "code",
   "execution_count": 31,
   "metadata": {},
   "outputs": [
    {
     "data": {
      "text/html": [
       "38"
      ],
      "text/latex": [
       "38"
      ],
      "text/markdown": [
       "38"
      ],
      "text/plain": [
       "[1] 38"
      ]
     },
     "metadata": {},
     "output_type": "display_data"
    }
   ],
   "source": [
    "mean(time[bar == \"grenzwert\" & cologne == \"calvinklein\"])"
   ]
  },
  {
   "cell_type": "code",
   "execution_count": 32,
   "metadata": {},
   "outputs": [
    {
     "data": {
      "text/html": [
       "294.7"
      ],
      "text/latex": [
       "294.7"
      ],
      "text/markdown": [
       "294.7"
      ],
      "text/plain": [
       "[1] 294.7"
      ]
     },
     "metadata": {},
     "output_type": "display_data"
    }
   ],
   "source": [
    "mean(time[bar == \"paddys\" & cologne == \"gio\"])"
   ]
  },
  {
   "cell_type": "code",
   "execution_count": 33,
   "metadata": {},
   "outputs": [
    {
     "data": {
      "text/html": [
       "184.811111111111"
      ],
      "text/latex": [
       "184.811111111111"
      ],
      "text/markdown": [
       "184.811111111111"
      ],
      "text/plain": [
       "[1] 184.8111"
      ]
     },
     "metadata": {},
     "output_type": "display_data"
    }
   ],
   "source": [
    "mean(time[bar == \"paddys\" & cologne == \"calvinklein\"])"
   ]
  },
  {
   "cell_type": "code",
   "execution_count": 34,
   "metadata": {},
   "outputs": [],
   "source": [
    "# They should wear gio! Talking times are longer for gio in BOTH bars!\n",
    "# Even though across bars talking times are longer for calvinklein. Crazy!"
   ]
  },
  {
   "cell_type": "markdown",
   "metadata": {},
   "source": [
    "#### You can visualize the data using the following code"
   ]
  },
  {
   "cell_type": "code",
   "execution_count": 35,
   "metadata": {},
   "outputs": [
    {
     "data": {
      "image/png": "[encoded data removed]",
      "text/plain": [
       "plot without title"
      ]
     },
     "metadata": {},
     "output_type": "display_data"
    }
   ],
   "source": [
    "# Combine vectors in a dataframe\n",
    "survey.df <- data.frame(bar, cologne, time)\n",
    "# Create a pirateplot of the data\n",
    "yarrr:::pirateplot(time ~ cologne + bar, data = survey.df)"
   ]
  },
  {
   "cell_type": "markdown",
   "metadata": {},
   "source": [
    "What you've just seen is an example of **Simpson's Paradox**. If you want to learn more, check out [the wikipedia page](https://en.wikipedia.org/wiki/Simpson%27s_paradox)."
   ]
  },
  {
   "cell_type": "code",
   "execution_count": 36,
   "metadata": {},
   "outputs": [],
   "source": [
    "# Yes I definitely looked at the Wikipedia page. Very interesting!"
   ]
  },
  {
   "cell_type": "code",
   "execution_count": 37,
   "metadata": {},
   "outputs": [
    {
     "data": {
      "text/plain": [
       "             \n",
       "              grenzwert paddys\n",
       "  calvinklein        10     90\n",
       "  gio                90     10"
      ]
     },
     "metadata": {},
     "output_type": "display_data"
    }
   ],
   "source": [
    "table(survey.df$cologne, survey.df$bar)"
   ]
  },
  {
   "cell_type": "code",
   "execution_count": 38,
   "metadata": {},
   "outputs": [
    {
     "data": {
      "image/png": "[encoded data removed]",
      "text/plain": [
       "plot without title"
      ]
     },
     "metadata": {},
     "output_type": "display_data"
    }
   ],
   "source": [
    "# Create a pirateplot of the data\n",
    "yarrr:::pirateplot(time ~ cologne, data = survey.df)"
   ]
  },
  {
   "cell_type": "markdown",
   "metadata": {},
   "source": [
    "### Let's wrap this up!"
   ]
  },
  {
   "cell_type": "markdown",
   "metadata": {},
   "source": [
    "YOUR TURN (task I):\n",
    "\n",
    "32. What percent of women wore calvinklein?\n",
    "\n",
    "33. What was the median time of people who went to grenzwert and wore gio but who talked more than 100 minutes?\n",
    "\n",
    "34. What percent of participants *either* went to grenzwert and talked for less than 220 minutes *or* went to paddys and talked for more than 150 minutes but no longer than 250 minutes?\n",
    "\n",
    "35. Let's make the calvinklein wearers look better. For all of the calvinklein wearers, add a random sample from a normal distribution with mean 30 and standard deviation 5 to their original talking times.\n"
   ]
  },
  {
   "cell_type": "code",
   "execution_count": 39,
   "metadata": {},
   "outputs": [
    {
     "data": {
      "text/html": [
       "0.51"
      ],
      "text/latex": [
       "0.51"
      ],
      "text/markdown": [
       "0.51"
      ],
      "text/plain": [
       "[1] 0.51"
      ]
     },
     "metadata": {},
     "output_type": "display_data"
    },
    {
     "data": {
      "text/html": [
       "0.51"
      ],
      "text/latex": [
       "0.51"
      ],
      "text/markdown": [
       "0.51"
      ],
      "text/plain": [
       "[1] 0.51"
      ]
     },
     "metadata": {},
     "output_type": "display_data"
    },
    {
     "data": {
      "text/html": [
       "0.51"
      ],
      "text/latex": [
       "0.51"
      ],
      "text/markdown": [
       "0.51"
      ],
      "text/plain": [
       "[1] 0.51"
      ]
     },
     "metadata": {},
     "output_type": "display_data"
    }
   ],
   "source": [
    "# Create a vector cologne.w with the colognes of women only\n",
    "cologne.w <- cologne[sex == \"f\"]\n",
    "\n",
    "# What percent wore calvinklein?\n",
    "mean(cologne.w == \"calvinklein\")\n",
    "\n",
    "# OR, do it all at once\n",
    "mean(cologne[sex == \"f\"] == \"calvinklein\")\n",
    "\n",
    "# to instead get the percent of calvin kelin wearers who are women use:\n",
    "mean(sex[cologne==\"calvinklein\"]== \"f\")\n",
    "# these are equivalent by chance."
   ]
  },
  {
   "cell_type": "code",
   "execution_count": 40,
   "metadata": {},
   "outputs": [
    {
     "data": {
      "text/html": [
       "144.5"
      ],
      "text/latex": [
       "144.5"
      ],
      "text/markdown": [
       "144.5"
      ],
      "text/plain": [
       "[1] 144.5"
      ]
     },
     "metadata": {},
     "output_type": "display_data"
    }
   ],
   "source": [
    "median(time[bar == \"grenzwert\" & cologne == \"gio\" & time > 100])"
   ]
  },
  {
   "cell_type": "code",
   "execution_count": 41,
   "metadata": {},
   "outputs": [
    {
     "data": {
      "text/html": [
       "0.95"
      ],
      "text/latex": [
       "0.95"
      ],
      "text/markdown": [
       "0.95"
      ],
      "text/plain": [
       "[1] 0.95"
      ]
     },
     "metadata": {},
     "output_type": "display_data"
    }
   ],
   "source": [
    "mean((bar == \"grenzwert\" & time < 220) | (bar == \"paddys\" & time > 150 & time < 250))"
   ]
  },
  {
   "cell_type": "code",
   "execution_count": 42,
   "metadata": {},
   "outputs": [],
   "source": [
    "# Step 1: Create a logical vector of who wore calvinklein\n",
    "ck.log <- cologne == \"calvinklein\"\n",
    "# Alternatively you could create a numeric vector of Indexes. Run with both and compare\n",
    "ck.num <- which(cologne == \"calvinklein\")\n",
    "\n",
    "# Step 2: Do assignment!\n",
    "time[ck.log] <- time[ck.log] + rnorm(n = sum(ck.log), mean = 30, sd = 5)\n",
    "\n",
    "\n",
    "## OR do it all at once\n",
    "time[cologne == \"calvinklein\"] <- time[cologne == \"calvinklein\"] + rnorm(n = sum(cologne == \"calvinklein\"), mean = 30, sd = 5)"
   ]
  },
  {
   "cell_type": "markdown",
   "metadata": {},
   "source": [
    "### That's it! Now it's time to submit your assignment!\n",
    "\n",
    "Save and email your `wpa_2_LastFirst.R` file to me at [laura.fontanesi@unibas.ch](mailto:laura.fontanesi@unibas.ch). "
   ]
  }
 ],
 "metadata": {
  "kernelspec": {
   "display_name": "R",
   "language": "R",
   "name": "ir"
  },
  "language_info": {
   "codemirror_mode": "r",
   "file_extension": ".r",
   "mimetype": "text/x-r-source",
   "name": "R",
   "pygments_lexer": "r",
   "version": "3.5.1"
  }
 },
 "nbformat": 4,
 "nbformat_minor": 2
}
