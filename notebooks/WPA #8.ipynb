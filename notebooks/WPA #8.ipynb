{
 "cells": [
  {
   "cell_type": "markdown",
   "metadata": {},
   "source": [
    "# WPA #8 - ANOVA Chapter 14"
   ]
  },
  {
   "cell_type": "markdown",
   "metadata": {},
   "source": [
    "## Facebook Attraction\n",
    "\n",
    "\n",
    "In this WPA, you will analyze data from a (again...fake) study on attraction. In the study, 1000 heterosexual University students viewed the Facebook profile of another student (the \"target\") of the opposite sex. Based on a target's profile, each participant made three judgments about the target - intelligence, attractiveness, and dateability. The primary judgement was a *dateability* rating indicating how dateable the person was on a scale of 0 to 100."
   ]
  },
  {
   "cell_type": "markdown",
   "metadata": {},
   "source": [
    "### A. Data loading and preparation\n",
    "\n",
    "1. Open a new script and enter your name, date, and the wpa number at the top. Set the working directory to the appropriate location using `setwd` (or add the script to your R Project). Save the script in the `R` folder in your project working directory as `wpa_8_LASTFIRST.R`, where LAST and FIRST are your last and first names. \n",
    "\n",
    "2. The data are located at https://github.com/laurafontanesi/RcourseSpring2019/blob/master/data/facebook.txt. Download the data appropriately and load them using `read.table()` as a new object called `facebook`.\n",
    "\n",
    "3. Look at the first few rows of the dataframe with the `head()` function to make sure it loaded correctly.\n",
    "\n",
    "4. Using the `str()` function, look at the structure of the dataframe to make sure everything looks ok."
   ]
  },
  {
   "cell_type": "markdown",
   "metadata": {},
   "source": [
    "#### Datafile description\n",
    "\n",
    "The data file has 1000 rows and 10 columns. Here are the columns\n",
    "\n",
    "- `session`: The experiment session in which the study was run. There were 50 total sessions.\n",
    "\n",
    "- `sex`: The sex of the target\n",
    "\n",
    "- `age`: The age of the target\n",
    "\n",
    "- `haircolor`: The haircolor of the target\n",
    "\n",
    "- `university`: The university that the target attended.\n",
    "\n",
    "- `education`: The highest level of education obtained by the target.\n",
    "\n",
    "- `shirtless`: Did the target have a shirtless profile picture? 1.No v 2.Yes\n",
    "\n",
    "- `intelligence`: How intelligent do you find this target? 1.Low, 2.Medium, 3.High\n",
    "\n",
    "- `attractiveness`: How physically attractive do you find this target? 1.Low, 2.Medium, 3.High\n",
    "\n",
    "- `dateability`: How dateable is this target? 0 to 100."
   ]
  },
  {
   "cell_type": "markdown",
   "metadata": {},
   "source": [
    "#### Answer guidelines Read carefully to save yourself time!\n",
    "\n",
    "- For each question, conduct the appropriate ANOVA. Write the conclusion in APA style. To summarize an effect in an ANOVA, use the format F(XXX, YYY) = FFF, p = PPP, where XXX is the degrees of freedom of the variable you are testing, YYY is the degrees of freedom of the residuals, FFF is the F value for the variable you are testing, and PPP is the p-value. If the p-value is less than .01, just write p < .01.\n",
    "\n",
    "- For the purposes of this class, if the p-value of the ANOVA is less than .05, conduct post-hoc tests. If you are only testing one independent variable, write APA conclusions for the post-hoc test. **If you are testing more than one independent variable in your ANOVA, you do not need to write APA style conclusions for post-hoc tests -- just print the result.**\n",
    "\n",
    "For example, here is how you would analyze and answer the question: \"Was there an effect of diets on Chicken Weights?\"\""
   ]
  },
  {
   "cell_type": "code",
   "execution_count": 2,
   "metadata": {},
   "outputs": [
    {
     "name": "stdout",
     "output_type": "stream",
     "text": [
      "[1] \"Answer Z0\"\n"
     ]
    },
    {
     "data": {
      "text/plain": [
       "             Df  Sum Sq Mean Sq F value   Pr(>F)    \n",
       "Diet          3  155863   51954   10.81 6.43e-07 ***\n",
       "Residuals   574 2758693    4806                     \n",
       "---\n",
       "Signif. codes:  0 ‘***’ 0.001 ‘**’ 0.01 ‘*’ 0.05 ‘.’ 0.1 ‘ ’ 1"
      ]
     },
     "metadata": {},
     "output_type": "display_data"
    },
    {
     "data": {
      "text/plain": [
       "  Tukey multiple comparisons of means\n",
       "    95% family-wise confidence level\n",
       "\n",
       "Fit: aov(formula = weight ~ Diet, data = ChickWeight)\n",
       "\n",
       "$Diet\n",
       "         diff         lwr      upr     p adj\n",
       "2-1 19.971212  -0.2998092 40.24223 0.0552271\n",
       "3-1 40.304545  20.0335241 60.57557 0.0000025\n",
       "4-1 32.617257  12.2353820 52.99913 0.0002501\n",
       "3-2 20.333333  -2.7268370 43.39350 0.1058474\n",
       "4-2 12.646045 -10.5116315 35.80372 0.4954239\n",
       "4-3 -7.687288 -30.8449649 15.47039 0.8277810\n"
      ]
     },
     "metadata": {},
     "output_type": "display_data"
    },
    {
     "name": "stdout",
     "output_type": "stream",
     "text": [
      "[1] \"There was a significant main effect of diets on chicken weights (F(3, 574) = 10.81, p < .01). Pairwise Tukey HSD tests showed significant differences between diets 1 and 3 (diff = 40.30, p < .01) and diets 1 and 4 (diff = 32.62, p < .01). All other pairwise differences were not significant at the 0.05 significance threshold.\"\n"
     ]
    }
   ],
   "source": [
    "# ANOVA on Chicken Weights\n",
    "#   IV = Diet, DV = weight\n",
    "\n",
    "print('Answer Z0')\n",
    "# ANOVA\n",
    "aov.z0 <- aov(formula = weight ~ Diet,\n",
    "              data = ChickWeight)\n",
    "\n",
    "summary(aov.z0)\n",
    "\n",
    "# ANOVA was significant (p < .01), so I'll conduct post-hoc tests\n",
    "\n",
    "# Tukey post-hoc tests\n",
    "TukeyHSD(aov.z0)\n",
    "\n",
    "print('There was a significant main effect of diets on chicken weights (F(3, 574) = 10.81, p < .01). Pairwise Tukey HSD tests showed significant differences between diets 1 and 3 (diff = 40.30, p < .01) and diets 1 and 4 (diff = 32.62, p < .01). All other pairwise differences were not significant at the 0.05 significance threshold.')"
   ]
  },
  {
   "cell_type": "markdown",
   "metadata": {},
   "source": [
    "## B. One-way ANOVAS\n",
    "\n",
    "1. Was there a main effect of the university on dateability? Conduct a one-way ANOVA. If the result is significant (p < .05), conduct post-hoc tests.\n",
    "\n",
    "2. Was there a main effect of intelligence on dateability? Conduct a one-way ANOVA. If the result is significant (p < .05), conduct post-hoc tests.\n",
    "\n",
    "3. Was there a main effect of haircolor on dateability? Conduct a one-way ANOVA. If the result is significant (p < .05), conduct post-hoc tests."
   ]
  },
  {
   "cell_type": "markdown",
   "metadata": {},
   "source": [
    "## C. Multi-independent ANOVAs\n",
    "\n",
    "1. Conduct a two-way ANOVA on dateability with both university and haircolor as IVs. Do your results for each variable change compared to your previous one-way ANOVAs on these variables? (You do not need to give APA results or conduct post-hoc tests, just answer the question verbally).\n",
    "\n",
    "2. Conduct a multi-way anova including sex, haircolor, university, education, shirtless, intelligence and attractiveness as independent variables predicting dateability. Do not include interactions. Which variables are significantly related to dateability? (*Do* write APA results for each variable but do *not* conduct post-hoc tests)."
   ]
  },
  {
   "cell_type": "markdown",
   "metadata": {},
   "source": [
    "## D. Interactions\n",
    "\n",
    "1. Create a plot (e.g.; `pirateplot()`, `barplot()`, `boxplot()`) showing dateability based on two independent variables: sex and shirtless. Based on what you see in the plot, do you expect there to be an interaction between sex and shirtless? Why or why not?\n",
    "\n",
    "2. Test your prediction with the appropriate ANOVA.\n",
    "\n",
    "3. Create a plot (e.g.; `pirateplot()`, `barplot()`, `boxplot()`) showing the distribution of dateability based on two independent variables: university and haircolor. Based on what you see in the plot, do you expect there to be an interaction between university and intelligence? Why or why not?\n",
    "\n",
    "4. Test your prediction with the appropriate ANOVA."
   ]
  },
  {
   "cell_type": "markdown",
   "metadata": {},
   "source": [
    "### E. ANOVAs on subsets of data\n",
    "\n",
    "1. It turns out that the experimenter who ran sessions 1 through 30 was trying to score a date and slipped in his own profile picture into the study. We can't trust these data. Repeat your multi anova from question C2 ONLY for sessions 31 through 50. Do your conclusions change compared to when you analyzed the data from all sessions?"
   ]
  },
  {
   "cell_type": "markdown",
   "metadata": {},
   "source": [
    "### That's it! Now it's time to submit your assignment!\n",
    "\n",
    "Save and email your `wpa_8_LastFirst.R` file to me at [laura.fontanesi@unibas.ch](mailto:laura.fontanesi@unibas.ch). \n",
    "\n",
    "Assignments sent after Sunday 28th April will not be considered (to pass the course you have to hand in all assignments for each week). "
   ]
  }
 ],
 "metadata": {
  "kernelspec": {
   "display_name": "R",
   "language": "R",
   "name": "ir"
  },
  "language_info": {
   "codemirror_mode": "r",
   "file_extension": ".r",
   "mimetype": "text/x-r-source",
   "name": "R",
   "pygments_lexer": "r",
   "version": "3.5.1"
  }
 },
 "nbformat": 4,
 "nbformat_minor": 2
}
