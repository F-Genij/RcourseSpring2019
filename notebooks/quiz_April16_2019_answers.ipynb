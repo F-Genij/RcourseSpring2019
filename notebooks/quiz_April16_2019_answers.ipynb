{
 "cells": [
  {
   "cell_type": "markdown",
   "metadata": {},
   "source": [
    "# Quiz"
   ]
  },
  {
   "cell_type": "markdown",
   "metadata": {},
   "source": [
    "Open a new script and enter your name and date at the top. Save the script in the `R` subfolder (situated in your R course project folder) as **`quiz_LastFirst_april16.R`**, where Last and First are your last and first names.\n",
    "\n",
    "The quiz is divided in two parts:\n",
    "- in **part A** you will have to load and analyse a provided dataset, situated at: https://github.com/laurafontanesi/RcourseSpring2019/blob/master/data/data_taskA.txt. You will have to successfully download the file and load it in R to be able to do the quiz. You should try to complete this part in maximum 1 hour.\n",
    "- in **part B** you will have to create your own dataset and save it to file. You should try to complete this part in maximum 15 minutes.\n",
    "\n",
    "This would leave you 15 minutes to revise your answers or go back to an answer in which you got stuck."
   ]
  },
  {
   "cell_type": "markdown",
   "metadata": {},
   "source": [
    "#### Response format\n",
    "You should provide your answers so that I can execute it in R, and that is clear which answer you are answering to. \n",
    "\n",
    "You do not need to provide the output of your code, but just the generating one.\n",
    "\n",
    "Here's an **example**:"
   ]
  },
  {
   "cell_type": "code",
   "execution_count": 2,
   "metadata": {},
   "outputs": [
    {
     "name": "stdout",
     "output_type": "stream",
     "text": [
      "[1] \"Answer E1\"\n"
     ]
    },
    {
     "data": {
      "text/html": [
       "<table>\n",
       "<thead><tr><th scope=col>sex</th><th scope=col>age</th><th scope=col>major</th><th scope=col>haircolor</th><th scope=col>iq</th><th scope=col>country</th><th scope=col>logic</th><th scope=col>siblings</th><th scope=col>multitasking</th><th scope=col>partners</th><th scope=col>marijuana</th><th scope=col>risk</th></tr></thead>\n",
       "<tbody>\n",
       "\t<tr><td>m          </td><td>22         </td><td>economics  </td><td>blonde     </td><td>106        </td><td>switzerland</td><td>10.994999  </td><td>1          </td><td>69         </td><td> 6         </td><td>1          </td><td>0          </td></tr>\n",
       "\t<tr><td>m          </td><td>20         </td><td>psychology </td><td>brown      </td><td>107        </td><td>germany    </td><td> 9.472549  </td><td>1          </td><td>49         </td><td> 4         </td><td>1          </td><td>1          </td></tr>\n",
       "\t<tr><td>f          </td><td>23         </td><td>chemistry  </td><td>brown      </td><td>109        </td><td>austria    </td><td>10.370062  </td><td>3          </td><td>50         </td><td>11         </td><td>1          </td><td>1          </td></tr>\n",
       "\t<tr><td>m          </td><td>27         </td><td>psychology </td><td>blonde     </td><td>114        </td><td>switzerland</td><td> 7.001693  </td><td>3          </td><td>50         </td><td>14         </td><td>1          </td><td>0          </td></tr>\n",
       "\t<tr><td>m          </td><td>18         </td><td>psychology </td><td>black      </td><td>113        </td><td>switzerland</td><td>11.193795  </td><td>2          </td><td>61         </td><td> 0         </td><td>1          </td><td>1          </td></tr>\n",
       "\t<tr><td>m          </td><td>25         </td><td>chemistry  </td><td>blonde     </td><td>108        </td><td>switzerland</td><td>10.842352  </td><td>2          </td><td>37         </td><td>14         </td><td>1          </td><td>0          </td></tr>\n",
       "</tbody>\n",
       "</table>\n"
      ],
      "text/latex": [
       "\\begin{tabular}{r|llllllllllll}\n",
       " sex & age & major & haircolor & iq & country & logic & siblings & multitasking & partners & marijuana & risk\\\\\n",
       "\\hline\n",
       "\t m           & 22          & economics   & blonde      & 106         & switzerland & 10.994999   & 1           & 69          &  6          & 1           & 0          \\\\\n",
       "\t m           & 20          & psychology  & brown       & 107         & germany     &  9.472549   & 1           & 49          &  4          & 1           & 1          \\\\\n",
       "\t f           & 23          & chemistry   & brown       & 109         & austria     & 10.370062   & 3           & 50          & 11          & 1           & 1          \\\\\n",
       "\t m           & 27          & psychology  & blonde      & 114         & switzerland &  7.001693   & 3           & 50          & 14          & 1           & 0          \\\\\n",
       "\t m           & 18          & psychology  & black       & 113         & switzerland & 11.193795   & 2           & 61          &  0          & 1           & 1          \\\\\n",
       "\t m           & 25          & chemistry   & blonde      & 108         & switzerland & 10.842352   & 2           & 37          & 14          & 1           & 0          \\\\\n",
       "\\end{tabular}\n"
      ],
      "text/markdown": [
       "\n",
       "| sex | age | major | haircolor | iq | country | logic | siblings | multitasking | partners | marijuana | risk |\n",
       "|---|---|---|---|---|---|---|---|---|---|---|---|\n",
       "| m           | 22          | economics   | blonde      | 106         | switzerland | 10.994999   | 1           | 69          |  6          | 1           | 0           |\n",
       "| m           | 20          | psychology  | brown       | 107         | germany     |  9.472549   | 1           | 49          |  4          | 1           | 1           |\n",
       "| f           | 23          | chemistry   | brown       | 109         | austria     | 10.370062   | 3           | 50          | 11          | 1           | 1           |\n",
       "| m           | 27          | psychology  | blonde      | 114         | switzerland |  7.001693   | 3           | 50          | 14          | 1           | 0           |\n",
       "| m           | 18          | psychology  | black       | 113         | switzerland | 11.193795   | 2           | 61          |  0          | 1           | 1           |\n",
       "| m           | 25          | chemistry   | blonde      | 108         | switzerland | 10.842352   | 2           | 37          | 14          | 1           | 0           |\n",
       "\n"
      ],
      "text/plain": [
       "  sex age major      haircolor iq  country     logic     siblings multitasking\n",
       "1 m   22  economics  blonde    106 switzerland 10.994999 1        69          \n",
       "2 m   20  psychology brown     107 germany      9.472549 1        49          \n",
       "3 f   23  chemistry  brown     109 austria     10.370062 3        50          \n",
       "4 m   27  psychology blonde    114 switzerland  7.001693 3        50          \n",
       "5 m   18  psychology black     113 switzerland 11.193795 2        61          \n",
       "6 m   25  chemistry  blonde    108 switzerland 10.842352 2        37          \n",
       "  partners marijuana risk\n",
       "1  6       1         0   \n",
       "2  4       1         1   \n",
       "3 11       1         1   \n",
       "4 14       1         0   \n",
       "5  0       1         1   \n",
       "6 14       1         0   "
      ]
     },
     "metadata": {},
     "output_type": "display_data"
    },
    {
     "name": "stdout",
     "output_type": "stream",
     "text": [
      "[1] \"Answer E2\"\n"
     ]
    },
    {
     "data": {
      "text/html": [
       "germany\n",
       "<details>\n",
       "\t<summary style=display:list-item;cursor:pointer>\n",
       "\t\t<strong>Levels</strong>:\n",
       "\t</summary>\n",
       "\t<ol class=list-inline>\n",
       "\t\t<li>'austria'</li>\n",
       "\t\t<li>'germany'</li>\n",
       "\t\t<li>'italy'</li>\n",
       "\t\t<li>'switzerland'</li>\n",
       "\t</ol>\n",
       "</details>"
      ],
      "text/latex": [
       "germany\n",
       "\\emph{Levels}: \\begin{enumerate*}\n",
       "\\item 'austria'\n",
       "\\item 'germany'\n",
       "\\item 'italy'\n",
       "\\item 'switzerland'\n",
       "\\end{enumerate*}\n"
      ],
      "text/markdown": [
       "germany\n",
       "**Levels**: 1. 'austria'\n",
       "2. 'germany'\n",
       "3. 'italy'\n",
       "4. 'switzerland'\n",
       "\n",
       "\n"
      ],
      "text/plain": [
       "[1] germany\n",
       "Levels: austria germany italy switzerland"
      ]
     },
     "metadata": {},
     "output_type": "display_data"
    },
    {
     "name": "stdout",
     "output_type": "stream",
     "text": [
      "[1] \"Answer E3\"\n"
     ]
    },
    {
     "data": {
      "text/html": [
       "110050"
      ],
      "text/latex": [
       "110050"
      ],
      "text/markdown": [
       "110050"
      ],
      "text/plain": [
       "[1] 110050"
      ]
     },
     "metadata": {},
     "output_type": "display_data"
    }
   ],
   "source": [
    "#Name: Laura Fontanesi\n",
    "#Date: 16 april 2019\n",
    "\n",
    "print('Answer E1')\n",
    "data_example <- read.csv('https://raw.githubusercontent.com/laurafontanesi/RcourseSpring2019/master/data/data_wpa6.csv')\n",
    "head(data_example)\n",
    "\n",
    "print('Answer E2')\n",
    "data_example$country[2]\n",
    "\n",
    "print('Answer E3')\n",
    "sum(data_example$iq*10)"
   ]
  },
  {
   "cell_type": "markdown",
   "metadata": {},
   "source": [
    "#### Good luck!\n",
    "\n",
    "You can always go back to past assignments to check how to solve things. There is nothing that you haven't seen already. Just try to not spend to much on looking up stuff, otherwise you won't be able to finish the quiz.\n",
    "\n",
    "If you are communicating with someone by, e.g., chatting, texting or e-mailing, though, it will be an automatic *fail*."
   ]
  },
  {
   "cell_type": "markdown",
   "metadata": {},
   "source": [
    "## A. Analysing a provided dataSet (max 1 h)"
   ]
  },
  {
   "cell_type": "markdown",
   "metadata": {},
   "source": [
    "  **Cleaning up and inspecting the dataset (max 45 min):**\n",
    "   \n",
    "1. Load the data file and assign it to the variable `data_taskA`.\n",
    "2. Make sure that the values are separated correctly and that the column names are loaded correctly using a function of your choice.\n",
    "3. How many rows and columns are there in the dataset? (provide the answer using a function that has number of rows and columns as output)\n",
    "4. How many participants? \n",
    "5. Is there more than 1 observation per participant? If yes, how many?\n",
    "6. How many missing responses are there in total? *Hint*: look at either the `accuracy` or the `RT_msec` columns.\n",
    "7. Redefine `data_taskA` so that is does not contain any missing responses. Check that `data_taskA` has less rows.\n",
    "8. How many females are there? (give as a proportion or percentage, e.g.: 42%) *Suggestion*: you can use the aggregate and unique functions.\n",
    "9. How many males are there? (give as absolute number, e.g.: 13) *Suggestion*: you can use the aggregate and unique functions.\n",
    "10. What is the mean age of the participants? *Make sure* that you have one value per participant when you calculate this (otherwise the answer will not count).\n",
    "11. What are the minimum and the maximum age? *Make sure* that you have one value per participant when you calculate this (otherwise the answer will not count).\n",
    "12. The response times are provided in milliseconds. Add a new column called `RT_sec` that is equal to the `RT_msec` column divided by 1000. Check your answer by calling `head(data_taskA)`.\n",
    "13. We know that when the options were `AC`  or `BD` the difficulty was `easy`, and when the options were `AB` or `CD` the difficulty was `hard`. Create a new column called `difficulty`, that has levels `easy` and `hard` depending on the presented options. Check your answer by calling `head(data_taskA)`.\n",
    "14. We know that when the options were `AB` or `AC` the value was `low`, and when the options were `BD` or `CD` the value was `high`. Create a new column called `value`, that has levels `low` and `high` depending on the presented options. Check your answer by calling `head(data_taskA)`.\n",
    "    \n",
    "    **Exploratory data analyses (max 15 min):**\n",
    "    \n",
    "15. Use the barplot function to plot the mean accuracy, separated by `difficulty` and `value`. You will have to use the columns created in answers 13 and 14. Add appropriate labels for the x and the y axis and a legend. *Hint*: look at the answer C2 from WPA_5.\n",
    "16. Do the same for mean RTs (in seconds, so use the column created in answer 12). \n",
    "17. Add error bars (either standard deviation or standard error) to the plot in answer 16.\n",
    "18. Are the response times normally distributed? Use the `hist` function, and vertical lines representing mean and median of the response times across subjects to reply to this question. Make the lines of different color or style and add a meaningful legend to be able to distinguish them. Change the title to `RT distribution` and the label of the x axis to `seconds`. "
   ]
  },
  {
   "cell_type": "code",
   "execution_count": 3,
   "metadata": {},
   "outputs": [
    {
     "name": "stdout",
     "output_type": "stream",
     "text": [
      "[1] \"Answer 1\"\n",
      "[1] \"Answer 2\"\n"
     ]
    },
    {
     "data": {
      "text/html": [
       "<table>\n",
       "<thead><tr><th scope=col>participant</th><th scope=col>gender</th><th scope=col>age</th><th scope=col>options</th><th scope=col>accuracy</th><th scope=col>RT_msec</th></tr></thead>\n",
       "<tbody>\n",
       "\t<tr><td>8   </td><td>male</td><td>18  </td><td>CD  </td><td>1   </td><td>2381</td></tr>\n",
       "\t<tr><td>8   </td><td>male</td><td>18  </td><td>CD  </td><td>1   </td><td>1730</td></tr>\n",
       "\t<tr><td>8   </td><td>male</td><td>18  </td><td>AB  </td><td>1   </td><td>1114</td></tr>\n",
       "\t<tr><td>8   </td><td>male</td><td>18  </td><td>AC  </td><td>1   </td><td> 600</td></tr>\n",
       "\t<tr><td>8   </td><td>male</td><td>18  </td><td>CD  </td><td>1   </td><td> 683</td></tr>\n",
       "\t<tr><td>8   </td><td>male</td><td>18  </td><td>AC  </td><td>0   </td><td> 854</td></tr>\n",
       "</tbody>\n",
       "</table>\n"
      ],
      "text/latex": [
       "\\begin{tabular}{r|llllll}\n",
       " participant & gender & age & options & accuracy & RT\\_msec\\\\\n",
       "\\hline\n",
       "\t 8    & male & 18   & CD   & 1    & 2381\\\\\n",
       "\t 8    & male & 18   & CD   & 1    & 1730\\\\\n",
       "\t 8    & male & 18   & AB   & 1    & 1114\\\\\n",
       "\t 8    & male & 18   & AC   & 1    &  600\\\\\n",
       "\t 8    & male & 18   & CD   & 1    &  683\\\\\n",
       "\t 8    & male & 18   & AC   & 0    &  854\\\\\n",
       "\\end{tabular}\n"
      ],
      "text/markdown": [
       "\n",
       "| participant | gender | age | options | accuracy | RT_msec |\n",
       "|---|---|---|---|---|---|\n",
       "| 8    | male | 18   | CD   | 1    | 2381 |\n",
       "| 8    | male | 18   | CD   | 1    | 1730 |\n",
       "| 8    | male | 18   | AB   | 1    | 1114 |\n",
       "| 8    | male | 18   | AC   | 1    |  600 |\n",
       "| 8    | male | 18   | CD   | 1    |  683 |\n",
       "| 8    | male | 18   | AC   | 0    |  854 |\n",
       "\n"
      ],
      "text/plain": [
       "  participant gender age options accuracy RT_msec\n",
       "1 8           male   18  CD      1        2381   \n",
       "2 8           male   18  CD      1        1730   \n",
       "3 8           male   18  AB      1        1114   \n",
       "4 8           male   18  AC      1         600   \n",
       "5 8           male   18  CD      1         683   \n",
       "6 8           male   18  AC      0         854   "
      ]
     },
     "metadata": {},
     "output_type": "display_data"
    },
    {
     "name": "stdout",
     "output_type": "stream",
     "text": [
      "[1] \"Answer 3\"\n"
     ]
    },
    {
     "data": {
      "text/html": [
       "<ol class=list-inline>\n",
       "\t<li>3648</li>\n",
       "\t<li>6</li>\n",
       "</ol>\n"
      ],
      "text/latex": [
       "\\begin{enumerate*}\n",
       "\\item 3648\n",
       "\\item 6\n",
       "\\end{enumerate*}\n"
      ],
      "text/markdown": [
       "1. 3648\n",
       "2. 6\n",
       "\n",
       "\n"
      ],
      "text/plain": [
       "[1] 3648    6"
      ]
     },
     "metadata": {},
     "output_type": "display_data"
    },
    {
     "name": "stdout",
     "output_type": "stream",
     "text": [
      "[1] \"Answer 4\"\n"
     ]
    },
    {
     "data": {
      "text/html": [
       "19"
      ],
      "text/latex": [
       "19"
      ],
      "text/markdown": [
       "19"
      ],
      "text/plain": [
       "[1] 19"
      ]
     },
     "metadata": {},
     "output_type": "display_data"
    },
    {
     "name": "stdout",
     "output_type": "stream",
     "text": [
      "[1] \"Answer 5\"\n"
     ]
    },
    {
     "data": {
      "text/plain": [
       "\n",
       "  8  10  12  16  18  22  23  24  28  32  34  36  38  40  42  44  46  48  49 \n",
       "192 192 192 192 192 192 192 192 192 192 192 192 192 192 192 192 192 192 192 "
      ]
     },
     "metadata": {},
     "output_type": "display_data"
    },
    {
     "name": "stdout",
     "output_type": "stream",
     "text": [
      "[1] \"Answer 6\"\n"
     ]
    },
    {
     "data": {
      "text/html": [
       "66"
      ],
      "text/latex": [
       "66"
      ],
      "text/markdown": [
       "66"
      ],
      "text/plain": [
       "[1] 66"
      ]
     },
     "metadata": {},
     "output_type": "display_data"
    },
    {
     "name": "stdout",
     "output_type": "stream",
     "text": [
      "[1] \"Answer 7\"\n"
     ]
    },
    {
     "data": {
      "text/html": [
       "<ol class=list-inline>\n",
       "\t<li>3582</li>\n",
       "\t<li>6</li>\n",
       "</ol>\n"
      ],
      "text/latex": [
       "\\begin{enumerate*}\n",
       "\\item 3582\n",
       "\\item 6\n",
       "\\end{enumerate*}\n"
      ],
      "text/markdown": [
       "1. 3582\n",
       "2. 6\n",
       "\n",
       "\n"
      ],
      "text/plain": [
       "[1] 3582    6"
      ]
     },
     "metadata": {},
     "output_type": "display_data"
    },
    {
     "name": "stdout",
     "output_type": "stream",
     "text": [
      "[1] \"Answer 8\"\n"
     ]
    },
    {
     "data": {
      "text/html": [
       "68.4210526315789"
      ],
      "text/latex": [
       "68.4210526315789"
      ],
      "text/markdown": [
       "68.4210526315789"
      ],
      "text/plain": [
       "[1] 68.42105"
      ]
     },
     "metadata": {},
     "output_type": "display_data"
    },
    {
     "name": "stdout",
     "output_type": "stream",
     "text": [
      "[1] \"Answer 9\"\n"
     ]
    },
    {
     "data": {
      "text/html": [
       "6"
      ],
      "text/latex": [
       "6"
      ],
      "text/markdown": [
       "6"
      ],
      "text/plain": [
       "[1] 6"
      ]
     },
     "metadata": {},
     "output_type": "display_data"
    },
    {
     "name": "stdout",
     "output_type": "stream",
     "text": [
      "[1] \"Answer 10\"\n"
     ]
    },
    {
     "data": {
      "text/html": [
       "22.3157894736842"
      ],
      "text/latex": [
       "22.3157894736842"
      ],
      "text/markdown": [
       "22.3157894736842"
      ],
      "text/plain": [
       "[1] 22.31579"
      ]
     },
     "metadata": {},
     "output_type": "display_data"
    },
    {
     "name": "stdout",
     "output_type": "stream",
     "text": [
      "[1] \"Answer 11\"\n"
     ]
    },
    {
     "data": {
      "text/html": [
       "<ol class=list-inline>\n",
       "\t<li>18</li>\n",
       "\t<li>26</li>\n",
       "</ol>\n"
      ],
      "text/latex": [
       "\\begin{enumerate*}\n",
       "\\item 18\n",
       "\\item 26\n",
       "\\end{enumerate*}\n"
      ],
      "text/markdown": [
       "1. 18\n",
       "2. 26\n",
       "\n",
       "\n"
      ],
      "text/plain": [
       "[1] 18 26"
      ]
     },
     "metadata": {},
     "output_type": "display_data"
    },
    {
     "name": "stdout",
     "output_type": "stream",
     "text": [
      "[1] \"Answer 12\"\n"
     ]
    },
    {
     "data": {
      "text/html": [
       "<table>\n",
       "<thead><tr><th scope=col>participant</th><th scope=col>gender</th><th scope=col>age</th><th scope=col>options</th><th scope=col>accuracy</th><th scope=col>RT_msec</th><th scope=col>RT_sec</th></tr></thead>\n",
       "<tbody>\n",
       "\t<tr><td>8    </td><td>male </td><td>18   </td><td>CD   </td><td>1    </td><td>2381 </td><td>2.381</td></tr>\n",
       "\t<tr><td>8    </td><td>male </td><td>18   </td><td>CD   </td><td>1    </td><td>1730 </td><td>1.730</td></tr>\n",
       "\t<tr><td>8    </td><td>male </td><td>18   </td><td>AB   </td><td>1    </td><td>1114 </td><td>1.114</td></tr>\n",
       "\t<tr><td>8    </td><td>male </td><td>18   </td><td>AC   </td><td>1    </td><td> 600 </td><td>0.600</td></tr>\n",
       "\t<tr><td>8    </td><td>male </td><td>18   </td><td>CD   </td><td>1    </td><td> 683 </td><td>0.683</td></tr>\n",
       "\t<tr><td>8    </td><td>male </td><td>18   </td><td>AC   </td><td>0    </td><td> 854 </td><td>0.854</td></tr>\n",
       "</tbody>\n",
       "</table>\n"
      ],
      "text/latex": [
       "\\begin{tabular}{r|lllllll}\n",
       " participant & gender & age & options & accuracy & RT\\_msec & RT\\_sec\\\\\n",
       "\\hline\n",
       "\t 8     & male  & 18    & CD    & 1     & 2381  & 2.381\\\\\n",
       "\t 8     & male  & 18    & CD    & 1     & 1730  & 1.730\\\\\n",
       "\t 8     & male  & 18    & AB    & 1     & 1114  & 1.114\\\\\n",
       "\t 8     & male  & 18    & AC    & 1     &  600  & 0.600\\\\\n",
       "\t 8     & male  & 18    & CD    & 1     &  683  & 0.683\\\\\n",
       "\t 8     & male  & 18    & AC    & 0     &  854  & 0.854\\\\\n",
       "\\end{tabular}\n"
      ],
      "text/markdown": [
       "\n",
       "| participant | gender | age | options | accuracy | RT_msec | RT_sec |\n",
       "|---|---|---|---|---|---|---|\n",
       "| 8     | male  | 18    | CD    | 1     | 2381  | 2.381 |\n",
       "| 8     | male  | 18    | CD    | 1     | 1730  | 1.730 |\n",
       "| 8     | male  | 18    | AB    | 1     | 1114  | 1.114 |\n",
       "| 8     | male  | 18    | AC    | 1     |  600  | 0.600 |\n",
       "| 8     | male  | 18    | CD    | 1     |  683  | 0.683 |\n",
       "| 8     | male  | 18    | AC    | 0     |  854  | 0.854 |\n",
       "\n"
      ],
      "text/plain": [
       "  participant gender age options accuracy RT_msec RT_sec\n",
       "1 8           male   18  CD      1        2381    2.381 \n",
       "2 8           male   18  CD      1        1730    1.730 \n",
       "3 8           male   18  AB      1        1114    1.114 \n",
       "4 8           male   18  AC      1         600    0.600 \n",
       "5 8           male   18  CD      1         683    0.683 \n",
       "6 8           male   18  AC      0         854    0.854 "
      ]
     },
     "metadata": {},
     "output_type": "display_data"
    },
    {
     "name": "stdout",
     "output_type": "stream",
     "text": [
      "[1] \"Answer 13\"\n"
     ]
    },
    {
     "data": {
      "text/html": [
       "<table>\n",
       "<thead><tr><th scope=col>participant</th><th scope=col>gender</th><th scope=col>age</th><th scope=col>options</th><th scope=col>accuracy</th><th scope=col>RT_msec</th><th scope=col>RT_sec</th><th scope=col>difficulty</th></tr></thead>\n",
       "<tbody>\n",
       "\t<tr><td>8    </td><td>male </td><td>18   </td><td>CD   </td><td>1    </td><td>2381 </td><td>2.381</td><td>hard </td></tr>\n",
       "\t<tr><td>8    </td><td>male </td><td>18   </td><td>CD   </td><td>1    </td><td>1730 </td><td>1.730</td><td>hard </td></tr>\n",
       "\t<tr><td>8    </td><td>male </td><td>18   </td><td>AB   </td><td>1    </td><td>1114 </td><td>1.114</td><td>hard </td></tr>\n",
       "\t<tr><td>8    </td><td>male </td><td>18   </td><td>AC   </td><td>1    </td><td> 600 </td><td>0.600</td><td>easy </td></tr>\n",
       "\t<tr><td>8    </td><td>male </td><td>18   </td><td>CD   </td><td>1    </td><td> 683 </td><td>0.683</td><td>hard </td></tr>\n",
       "\t<tr><td>8    </td><td>male </td><td>18   </td><td>AC   </td><td>0    </td><td> 854 </td><td>0.854</td><td>easy </td></tr>\n",
       "</tbody>\n",
       "</table>\n"
      ],
      "text/latex": [
       "\\begin{tabular}{r|llllllll}\n",
       " participant & gender & age & options & accuracy & RT\\_msec & RT\\_sec & difficulty\\\\\n",
       "\\hline\n",
       "\t 8     & male  & 18    & CD    & 1     & 2381  & 2.381 & hard \\\\\n",
       "\t 8     & male  & 18    & CD    & 1     & 1730  & 1.730 & hard \\\\\n",
       "\t 8     & male  & 18    & AB    & 1     & 1114  & 1.114 & hard \\\\\n",
       "\t 8     & male  & 18    & AC    & 1     &  600  & 0.600 & easy \\\\\n",
       "\t 8     & male  & 18    & CD    & 1     &  683  & 0.683 & hard \\\\\n",
       "\t 8     & male  & 18    & AC    & 0     &  854  & 0.854 & easy \\\\\n",
       "\\end{tabular}\n"
      ],
      "text/markdown": [
       "\n",
       "| participant | gender | age | options | accuracy | RT_msec | RT_sec | difficulty |\n",
       "|---|---|---|---|---|---|---|---|\n",
       "| 8     | male  | 18    | CD    | 1     | 2381  | 2.381 | hard  |\n",
       "| 8     | male  | 18    | CD    | 1     | 1730  | 1.730 | hard  |\n",
       "| 8     | male  | 18    | AB    | 1     | 1114  | 1.114 | hard  |\n",
       "| 8     | male  | 18    | AC    | 1     |  600  | 0.600 | easy  |\n",
       "| 8     | male  | 18    | CD    | 1     |  683  | 0.683 | hard  |\n",
       "| 8     | male  | 18    | AC    | 0     |  854  | 0.854 | easy  |\n",
       "\n"
      ],
      "text/plain": [
       "  participant gender age options accuracy RT_msec RT_sec difficulty\n",
       "1 8           male   18  CD      1        2381    2.381  hard      \n",
       "2 8           male   18  CD      1        1730    1.730  hard      \n",
       "3 8           male   18  AB      1        1114    1.114  hard      \n",
       "4 8           male   18  AC      1         600    0.600  easy      \n",
       "5 8           male   18  CD      1         683    0.683  hard      \n",
       "6 8           male   18  AC      0         854    0.854  easy      "
      ]
     },
     "metadata": {},
     "output_type": "display_data"
    },
    {
     "name": "stdout",
     "output_type": "stream",
     "text": [
      "[1] \"Answer 14\"\n"
     ]
    },
    {
     "data": {
      "text/html": [
       "<table>\n",
       "<thead><tr><th scope=col>participant</th><th scope=col>gender</th><th scope=col>age</th><th scope=col>options</th><th scope=col>accuracy</th><th scope=col>RT_msec</th><th scope=col>RT_sec</th><th scope=col>difficulty</th><th scope=col>value</th></tr></thead>\n",
       "<tbody>\n",
       "\t<tr><td>8    </td><td>male </td><td>18   </td><td>CD   </td><td>1    </td><td>2381 </td><td>2.381</td><td>hard </td><td>high </td></tr>\n",
       "\t<tr><td>8    </td><td>male </td><td>18   </td><td>CD   </td><td>1    </td><td>1730 </td><td>1.730</td><td>hard </td><td>high </td></tr>\n",
       "\t<tr><td>8    </td><td>male </td><td>18   </td><td>AB   </td><td>1    </td><td>1114 </td><td>1.114</td><td>hard </td><td>low  </td></tr>\n",
       "\t<tr><td>8    </td><td>male </td><td>18   </td><td>AC   </td><td>1    </td><td> 600 </td><td>0.600</td><td>easy </td><td>low  </td></tr>\n",
       "\t<tr><td>8    </td><td>male </td><td>18   </td><td>CD   </td><td>1    </td><td> 683 </td><td>0.683</td><td>hard </td><td>high </td></tr>\n",
       "\t<tr><td>8    </td><td>male </td><td>18   </td><td>AC   </td><td>0    </td><td> 854 </td><td>0.854</td><td>easy </td><td>low  </td></tr>\n",
       "</tbody>\n",
       "</table>\n"
      ],
      "text/latex": [
       "\\begin{tabular}{r|lllllllll}\n",
       " participant & gender & age & options & accuracy & RT\\_msec & RT\\_sec & difficulty & value\\\\\n",
       "\\hline\n",
       "\t 8     & male  & 18    & CD    & 1     & 2381  & 2.381 & hard  & high \\\\\n",
       "\t 8     & male  & 18    & CD    & 1     & 1730  & 1.730 & hard  & high \\\\\n",
       "\t 8     & male  & 18    & AB    & 1     & 1114  & 1.114 & hard  & low  \\\\\n",
       "\t 8     & male  & 18    & AC    & 1     &  600  & 0.600 & easy  & low  \\\\\n",
       "\t 8     & male  & 18    & CD    & 1     &  683  & 0.683 & hard  & high \\\\\n",
       "\t 8     & male  & 18    & AC    & 0     &  854  & 0.854 & easy  & low  \\\\\n",
       "\\end{tabular}\n"
      ],
      "text/markdown": [
       "\n",
       "| participant | gender | age | options | accuracy | RT_msec | RT_sec | difficulty | value |\n",
       "|---|---|---|---|---|---|---|---|---|\n",
       "| 8     | male  | 18    | CD    | 1     | 2381  | 2.381 | hard  | high  |\n",
       "| 8     | male  | 18    | CD    | 1     | 1730  | 1.730 | hard  | high  |\n",
       "| 8     | male  | 18    | AB    | 1     | 1114  | 1.114 | hard  | low   |\n",
       "| 8     | male  | 18    | AC    | 1     |  600  | 0.600 | easy  | low   |\n",
       "| 8     | male  | 18    | CD    | 1     |  683  | 0.683 | hard  | high  |\n",
       "| 8     | male  | 18    | AC    | 0     |  854  | 0.854 | easy  | low   |\n",
       "\n"
      ],
      "text/plain": [
       "  participant gender age options accuracy RT_msec RT_sec difficulty value\n",
       "1 8           male   18  CD      1        2381    2.381  hard       high \n",
       "2 8           male   18  CD      1        1730    1.730  hard       high \n",
       "3 8           male   18  AB      1        1114    1.114  hard       low  \n",
       "4 8           male   18  AC      1         600    0.600  easy       low  \n",
       "5 8           male   18  CD      1         683    0.683  hard       high \n",
       "6 8           male   18  AC      0         854    0.854  easy       low  "
      ]
     },
     "metadata": {},
     "output_type": "display_data"
    },
    {
     "name": "stdout",
     "output_type": "stream",
     "text": [
      "[1] \"Answer 15\"\n",
      "[1] \"Answers 16 and 17\"\n"
     ]
    },
    {
     "data": {
      "image/png": "[encoded data removed]",
      "text/plain": [
       "plot without title"
      ]
     },
     "metadata": {},
     "output_type": "display_data"
    },
    {
     "name": "stdout",
     "output_type": "stream",
     "text": [
      "[1] \"Answer 18\"\n"
     ]
    },
    {
     "data": {
      "image/png": "[encoded data removed]",
      "text/plain": [
       "plot without title"
      ]
     },
     "metadata": {},
     "output_type": "display_data"
    },
    {
     "data": {
      "image/png": "[encoded data removed]",
      "text/plain": [
       "Plot with title “RT distribution”"
      ]
     },
     "metadata": {},
     "output_type": "display_data"
    }
   ],
   "source": [
    "print('Answer 1')\n",
    "data_taskA <- read.csv('~/Dropbox/projects/Rcourse/quiz_april16_2019/data_taskA.txt', \n",
    "                       sep='\\t')\n",
    "\n",
    "print('Answer 2')\n",
    "head(data_taskA)\n",
    "\n",
    "print('Answer 3')\n",
    "dim(data_taskA)\n",
    "\n",
    "print('Answer 4')\n",
    "length(unique(data_taskA$participant))\n",
    "\n",
    "print('Answer 5')\n",
    "table(data_taskA$participant)\n",
    "\n",
    "print('Answer 6')\n",
    "sum(!is.finite(data_taskA$accuracy))\n",
    "\n",
    "print('Answer 7')\n",
    "data_taskA <- data_taskA[is.finite(data_taskA$accuracy),]\n",
    "dim(data_taskA)\n",
    "\n",
    "print('Answer 8')\n",
    "gender_df <- aggregate(gender ~ participant, data = data_taskA, FUN=unique)\n",
    "mean(gender_df$gender == 'female')*100\n",
    "\n",
    "print('Answer 9')\n",
    "sum(gender_df$gender == 'male')\n",
    "\n",
    "print('Answer 10')\n",
    "age_df <- aggregate(age ~ participant, data = data_taskA, FUN=unique)\n",
    "mean(age_df$age)\n",
    "\n",
    "print('Answer 11')\n",
    "range(age_df$age)\n",
    "\n",
    "print('Answer 12')\n",
    "data_taskA$RT_sec <- data_taskA$RT_msec/1000\n",
    "head(data_taskA)\n",
    "\n",
    "print('Answer 13')\n",
    "data_taskA$difficulty <- 'easy'\n",
    "data_taskA[data_taskA$options == 'AB' | data_taskA$options == 'CD', 'difficulty'] <- 'hard' \n",
    "head(data_taskA)\n",
    "\n",
    "print('Answer 14')\n",
    "data_taskA$value <- 'low'\n",
    "data_taskA[data_taskA$options == 'BD' | data_taskA$options == 'CD', 'value'] <- 'high' \n",
    "head(data_taskA)\n",
    "\n",
    "print('Answer 15')\n",
    "means <- aggregate(accuracy ~ value + difficulty, \n",
    "                   data=data_taskA, \n",
    "                   FUN=mean)\n",
    "\n",
    "means.mtx <- cbind(means[1:2, 3], means[3:4, 3])\n",
    "\n",
    "colnames(means.mtx) <- c(\"Easy\", \"Hard\")\n",
    "rownames(means.mtx) <- c(\"High\", \"Low\")\n",
    "\n",
    "bars <- barplot(height = means.mtx, \n",
    "                beside = TRUE, \n",
    "                args.legend=list(title=\"Value\", x=6.5, bg='white'),\n",
    "                legend.text = TRUE,\n",
    "                ylab = \"Accuracy\",\n",
    "                xlab = \"Difficulty\")\n",
    "\n",
    "print('Answers 16 and 17')\n",
    "means <- aggregate(RT_sec ~ value + difficulty, \n",
    "                   data=data_taskA, \n",
    "                   FUN=mean)\n",
    "\n",
    "sds <- aggregate(RT_sec ~ value + difficulty, \n",
    "                 data=data_taskA, \n",
    "                 FUN=sd)\n",
    "\n",
    "means.mtx <- cbind(means[1:2, 3], means[3:4, 3])\n",
    "colnames(means.mtx) <- c(\"Easy\", \"Hard\")\n",
    "rownames(means.mtx) <- c(\"High\", \"Low\")\n",
    "\n",
    "sds.mtx <- cbind(sds[1:2, 3], sds[3:4, 3])\n",
    "\n",
    "bars <- barplot(height = means.mtx, \n",
    "                beside = TRUE, \n",
    "                legend.text = TRUE,\n",
    "                args.legend=list(title=\"Value\", x=6.5, bg='white'),\n",
    "                ylim=c(0, 1.5),\n",
    "                ylab = \"RT (sec)\",\n",
    "                xlab = \"Difficulty\")\n",
    "\n",
    "segments(x0=bars, \n",
    "         x1=bars, \n",
    "         col=rgb(0, .5, .8, .8),\n",
    "         y0=means.mtx-sds.mtx, \n",
    "         y1=means.mtx+sds.mtx, \n",
    "         lwd=2)\n",
    "\n",
    "print(\"Answer 18\")\n",
    "hist(data_taskA$RT_sec,\n",
    "     breaks=40,\n",
    "     col=rgb(.1, .1, .1, .1),\n",
    "     main='RT distribution',\n",
    "     xlab='seconds')\n",
    "abline(v=mean(data_taskA$RT_sec),\n",
    "       col='red',\n",
    "       lty=2,\n",
    "       lw=3)\n",
    "abline(v=median(data_taskA$RT_sec),\n",
    "       col='darkred',\n",
    "       lty=2,\n",
    "       lw=3)\n",
    "legend(2, 300, legend=c(\"Mean\", \"Median\"),\n",
    "       col=c(\"red\", \"darkred\"), lty=2, bg='white', lw=3)"
   ]
  },
  {
   "cell_type": "markdown",
   "metadata": {},
   "source": [
    "## B. Making a dataSet (max 15 min)\n",
    "\n",
    "1. Create a data frame called `data_taskB` that has one column called `participant`, made of values from 1 to 41. Check the dimensions of the dataframe: there should be 41 rows and 1 column.\n",
    "2. Add a column called `age` that is made of randomly generated numbers between 18 and 35. You can use either a uniform or normal distribution with the parameters of your choice (as long as there are no values higher than 35 or lower than 18). Check that this worked using the `head` function.\n",
    "3. Use the `round` function to round the age numbers to integers. Check that this worked using the `head` function.\n",
    "4. All the participants with even number belonged to the `placebo` condition, while the participants with odd number belonged to the `treatmentA` condition. Create a new column called `condition` that reflects to which condition each participant belonged to. Check that this worked using the `head` function.\n",
    "5. Add now a participant to the dataframe: they should have 42 as participant number, 24 of age, and belonged to the `treatmentB` condition. Check that you successfully added this participant using the `tail` function."
   ]
  },
  {
   "cell_type": "code",
   "execution_count": 4,
   "metadata": {},
   "outputs": [
    {
     "name": "stdout",
     "output_type": "stream",
     "text": [
      "[1] \"Answer 1\"\n"
     ]
    },
    {
     "data": {
      "text/html": [
       "<ol class=list-inline>\n",
       "\t<li>41</li>\n",
       "\t<li>1</li>\n",
       "</ol>\n"
      ],
      "text/latex": [
       "\\begin{enumerate*}\n",
       "\\item 41\n",
       "\\item 1\n",
       "\\end{enumerate*}\n"
      ],
      "text/markdown": [
       "1. 41\n",
       "2. 1\n",
       "\n",
       "\n"
      ],
      "text/plain": [
       "[1] 41  1"
      ]
     },
     "metadata": {},
     "output_type": "display_data"
    },
    {
     "name": "stdout",
     "output_type": "stream",
     "text": [
      "[1] \"Answer 2\"\n"
     ]
    },
    {
     "data": {
      "text/html": [
       "<table>\n",
       "<thead><tr><th scope=col>participant</th><th scope=col>age</th></tr></thead>\n",
       "<tbody>\n",
       "\t<tr><td>1       </td><td>18.27233</td></tr>\n",
       "\t<tr><td>2       </td><td>32.64350</td></tr>\n",
       "\t<tr><td>3       </td><td>18.62721</td></tr>\n",
       "\t<tr><td>4       </td><td>31.70158</td></tr>\n",
       "\t<tr><td>5       </td><td>20.54207</td></tr>\n",
       "\t<tr><td>6       </td><td>25.52866</td></tr>\n",
       "</tbody>\n",
       "</table>\n"
      ],
      "text/latex": [
       "\\begin{tabular}{r|ll}\n",
       " participant & age\\\\\n",
       "\\hline\n",
       "\t 1        & 18.27233\\\\\n",
       "\t 2        & 32.64350\\\\\n",
       "\t 3        & 18.62721\\\\\n",
       "\t 4        & 31.70158\\\\\n",
       "\t 5        & 20.54207\\\\\n",
       "\t 6        & 25.52866\\\\\n",
       "\\end{tabular}\n"
      ],
      "text/markdown": [
       "\n",
       "| participant | age |\n",
       "|---|---|\n",
       "| 1        | 18.27233 |\n",
       "| 2        | 32.64350 |\n",
       "| 3        | 18.62721 |\n",
       "| 4        | 31.70158 |\n",
       "| 5        | 20.54207 |\n",
       "| 6        | 25.52866 |\n",
       "\n"
      ],
      "text/plain": [
       "  participant age     \n",
       "1 1           18.27233\n",
       "2 2           32.64350\n",
       "3 3           18.62721\n",
       "4 4           31.70158\n",
       "5 5           20.54207\n",
       "6 6           25.52866"
      ]
     },
     "metadata": {},
     "output_type": "display_data"
    },
    {
     "name": "stdout",
     "output_type": "stream",
     "text": [
      "[1] \"Answer 3\"\n"
     ]
    },
    {
     "data": {
      "text/html": [
       "<table>\n",
       "<thead><tr><th scope=col>participant</th><th scope=col>age</th></tr></thead>\n",
       "<tbody>\n",
       "\t<tr><td>1 </td><td>18</td></tr>\n",
       "\t<tr><td>2 </td><td>33</td></tr>\n",
       "\t<tr><td>3 </td><td>19</td></tr>\n",
       "\t<tr><td>4 </td><td>32</td></tr>\n",
       "\t<tr><td>5 </td><td>21</td></tr>\n",
       "\t<tr><td>6 </td><td>26</td></tr>\n",
       "</tbody>\n",
       "</table>\n"
      ],
      "text/latex": [
       "\\begin{tabular}{r|ll}\n",
       " participant & age\\\\\n",
       "\\hline\n",
       "\t 1  & 18\\\\\n",
       "\t 2  & 33\\\\\n",
       "\t 3  & 19\\\\\n",
       "\t 4  & 32\\\\\n",
       "\t 5  & 21\\\\\n",
       "\t 6  & 26\\\\\n",
       "\\end{tabular}\n"
      ],
      "text/markdown": [
       "\n",
       "| participant | age |\n",
       "|---|---|\n",
       "| 1  | 18 |\n",
       "| 2  | 33 |\n",
       "| 3  | 19 |\n",
       "| 4  | 32 |\n",
       "| 5  | 21 |\n",
       "| 6  | 26 |\n",
       "\n"
      ],
      "text/plain": [
       "  participant age\n",
       "1 1           18 \n",
       "2 2           33 \n",
       "3 3           19 \n",
       "4 4           32 \n",
       "5 5           21 \n",
       "6 6           26 "
      ]
     },
     "metadata": {},
     "output_type": "display_data"
    },
    {
     "name": "stdout",
     "output_type": "stream",
     "text": [
      "[1] \"Answer 4\"\n"
     ]
    },
    {
     "data": {
      "text/html": [
       "<table>\n",
       "<thead><tr><th scope=col>participant</th><th scope=col>age</th><th scope=col>condition</th></tr></thead>\n",
       "<tbody>\n",
       "\t<tr><td>1         </td><td>18        </td><td>treatmentA</td></tr>\n",
       "\t<tr><td>2         </td><td>33        </td><td>placebo   </td></tr>\n",
       "\t<tr><td>3         </td><td>19        </td><td>treatmentA</td></tr>\n",
       "\t<tr><td>4         </td><td>32        </td><td>placebo   </td></tr>\n",
       "\t<tr><td>5         </td><td>21        </td><td>treatmentA</td></tr>\n",
       "\t<tr><td>6         </td><td>26        </td><td>placebo   </td></tr>\n",
       "</tbody>\n",
       "</table>\n"
      ],
      "text/latex": [
       "\\begin{tabular}{r|lll}\n",
       " participant & age & condition\\\\\n",
       "\\hline\n",
       "\t 1          & 18         & treatmentA\\\\\n",
       "\t 2          & 33         & placebo   \\\\\n",
       "\t 3          & 19         & treatmentA\\\\\n",
       "\t 4          & 32         & placebo   \\\\\n",
       "\t 5          & 21         & treatmentA\\\\\n",
       "\t 6          & 26         & placebo   \\\\\n",
       "\\end{tabular}\n"
      ],
      "text/markdown": [
       "\n",
       "| participant | age | condition |\n",
       "|---|---|---|\n",
       "| 1          | 18         | treatmentA |\n",
       "| 2          | 33         | placebo    |\n",
       "| 3          | 19         | treatmentA |\n",
       "| 4          | 32         | placebo    |\n",
       "| 5          | 21         | treatmentA |\n",
       "| 6          | 26         | placebo    |\n",
       "\n"
      ],
      "text/plain": [
       "  participant age condition \n",
       "1 1           18  treatmentA\n",
       "2 2           33  placebo   \n",
       "3 3           19  treatmentA\n",
       "4 4           32  placebo   \n",
       "5 5           21  treatmentA\n",
       "6 6           26  placebo   "
      ]
     },
     "metadata": {},
     "output_type": "display_data"
    },
    {
     "name": "stdout",
     "output_type": "stream",
     "text": [
      "[1] \"Answer 5\"\n"
     ]
    },
    {
     "data": {
      "text/html": [
       "<table>\n",
       "<thead><tr><th></th><th scope=col>participant</th><th scope=col>age</th><th scope=col>condition</th></tr></thead>\n",
       "<tbody>\n",
       "\t<tr><th scope=row>37</th><td>37        </td><td>32        </td><td>treatmentA</td></tr>\n",
       "\t<tr><th scope=row>38</th><td>38        </td><td>24        </td><td>placebo   </td></tr>\n",
       "\t<tr><th scope=row>39</th><td>39        </td><td>26        </td><td>treatmentA</td></tr>\n",
       "\t<tr><th scope=row>40</th><td>40        </td><td>30        </td><td>placebo   </td></tr>\n",
       "\t<tr><th scope=row>41</th><td>41        </td><td>25        </td><td>treatmentA</td></tr>\n",
       "\t<tr><th scope=row>42</th><td>42        </td><td>24        </td><td>treatmentB</td></tr>\n",
       "</tbody>\n",
       "</table>\n"
      ],
      "text/latex": [
       "\\begin{tabular}{r|lll}\n",
       "  & participant & age & condition\\\\\n",
       "\\hline\n",
       "\t37 & 37         & 32         & treatmentA\\\\\n",
       "\t38 & 38         & 24         & placebo   \\\\\n",
       "\t39 & 39         & 26         & treatmentA\\\\\n",
       "\t40 & 40         & 30         & placebo   \\\\\n",
       "\t41 & 41         & 25         & treatmentA\\\\\n",
       "\t42 & 42         & 24         & treatmentB\\\\\n",
       "\\end{tabular}\n"
      ],
      "text/markdown": [
       "\n",
       "| <!--/--> | participant | age | condition |\n",
       "|---|---|---|---|\n",
       "| 37 | 37         | 32         | treatmentA |\n",
       "| 38 | 38         | 24         | placebo    |\n",
       "| 39 | 39         | 26         | treatmentA |\n",
       "| 40 | 40         | 30         | placebo    |\n",
       "| 41 | 41         | 25         | treatmentA |\n",
       "| 42 | 42         | 24         | treatmentB |\n",
       "\n"
      ],
      "text/plain": [
       "   participant age condition \n",
       "37 37          32  treatmentA\n",
       "38 38          24  placebo   \n",
       "39 39          26  treatmentA\n",
       "40 40          30  placebo   \n",
       "41 41          25  treatmentA\n",
       "42 42          24  treatmentB"
      ]
     },
     "metadata": {},
     "output_type": "display_data"
    }
   ],
   "source": [
    "print('Answer 1')\n",
    "data_taskB <- data.frame(participant = 1:41)\n",
    "dim(data_taskB)\n",
    "\n",
    "print('Answer 2')\n",
    "data_taskB$age <- runif(41, 18, 35)\n",
    "head(data_taskB)\n",
    "\n",
    "print('Answer 3')\n",
    "data_taskB$age <- round(data_taskB$age)\n",
    "head(data_taskB)\n",
    "\n",
    "print('Answer 4')\n",
    "data_taskB$condition <- 'treatmentA'\n",
    "data_taskB[seq(2, 41, 2), 'condition'] <- 'placebo'\n",
    "head(data_taskB)\n",
    "\n",
    "print('Answer 5')\n",
    "participant_42 <- c(42, 24, 'treatmentB')\n",
    "data_taskB <- rbind(data_taskB, participant_42)\n",
    "tail(data_taskB)"
   ]
  },
  {
   "cell_type": "markdown",
   "metadata": {},
   "source": [
    "## You are done! \n",
    "\n",
    "Use your extra 15 min to revise your answers.\n",
    "\n",
    "Save and email your `quiz_april_16_LastFirst.R` file to me at [laura.fontanesi@unibas.ch](mailto:laura.fontanesi@unibas.ch)."
   ]
  }
 ],
 "metadata": {
  "kernelspec": {
   "display_name": "R",
   "language": "R",
   "name": "ir"
  },
  "language_info": {
   "codemirror_mode": "r",
   "file_extension": ".r",
   "mimetype": "text/x-r-source",
   "name": "R",
   "pygments_lexer": "r",
   "version": "3.5.1"
  }
 },
 "nbformat": 4,
 "nbformat_minor": 2
}
