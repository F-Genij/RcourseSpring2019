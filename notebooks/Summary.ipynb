{
 "cells": [
  {
   "cell_type": "markdown",
   "metadata": {},
   "source": [
    "# Summary\n",
    "\n",
    "A. [Getting datasets](#A.-Getting-data)\n",
    "- text files stored locally\n",
    "- text files from a website\n",
    "\n",
    "B. [Cleaning and transforming datasets](#B.-Cleaning-and-transforming-data)\n",
    "- Inspecting the data frame\n",
    "- Selecting a subset of a data frame\n",
    "- Augmenting a data frame with additional columns/rows (or replacing existing columns/rows)\n",
    "- Dealing with missing values\n",
    "- Converting between the wide and long forms of a data frame\n",
    "- Sorting a data frame\n",
    "\n",
    "C. [Exploring and visualizing datasets](#C.-Exploring-and-visualizing)\n",
    "- Summary statistics and frequencies\n",
    "- Scatter plots & regression lines\n",
    "- Histograms & density lines\n",
    "- Boxplots & barplots with error bars"
   ]
  },
  {
   "cell_type": "markdown",
   "metadata": {},
   "source": [
    "# A. Getting data"
   ]
  },
  {
   "cell_type": "markdown",
   "metadata": {},
   "source": [
    "Data can come from different sources, e.g.:\n",
    "- text files stored locally (with different extensions, e.g., `.txt` or `.csv`)\n",
    "- text files from a website\n",
    "\n",
    "#### Different functions to read data from file:\n",
    "- `read.table` is the principal and more general means of reading tabular data into R\n",
    "- `read.csv` sets the default separator to a comma, and assumes that the data has a header row\n",
    "- `read.csv2` is its European cousin, using a comma for decimal places and a semicolon as a separator\n",
    "- `read.delim` and `read.delim2` import tab-delimited files with full stops or commas for decimal places, respectively\n",
    "\n",
    "#### Main arguments that you might want to tweak:\n",
    "- `header` are the names of the variables its first line?\n",
    "- `sep` how are the values separated?\n",
    "- `dec` how are the decimals coded? (dots or commas)\n",
    "- `na.strings` how are the missing values coded?"
   ]
  },
  {
   "cell_type": "code",
   "execution_count": 1,
   "metadata": {},
   "outputs": [
    {
     "data": {
      "text/html": [
       "<table>\n",
       "<thead><tr><th scope=col>participant</th><th scope=col>gender</th><th scope=col>age</th><th scope=col>options</th><th scope=col>accuracy</th><th scope=col>RT_msec</th></tr></thead>\n",
       "<tbody>\n",
       "\t<tr><td>8   </td><td>male</td><td>18  </td><td>CD  </td><td>1   </td><td>2381</td></tr>\n",
       "\t<tr><td>8   </td><td>male</td><td>18  </td><td>CD  </td><td>1   </td><td>1730</td></tr>\n",
       "\t<tr><td>8   </td><td>male</td><td>18  </td><td>AB  </td><td>1   </td><td>1114</td></tr>\n",
       "\t<tr><td>8   </td><td>male</td><td>18  </td><td>AC  </td><td>1   </td><td> 600</td></tr>\n",
       "\t<tr><td>8   </td><td>male</td><td>18  </td><td>CD  </td><td>1   </td><td> 683</td></tr>\n",
       "\t<tr><td>8   </td><td>male</td><td>18  </td><td>AC  </td><td>0   </td><td> 854</td></tr>\n",
       "</tbody>\n",
       "</table>\n"
      ],
      "text/latex": [
       "\\begin{tabular}{r|llllll}\n",
       " participant & gender & age & options & accuracy & RT\\_msec\\\\\n",
       "\\hline\n",
       "\t 8    & male & 18   & CD   & 1    & 2381\\\\\n",
       "\t 8    & male & 18   & CD   & 1    & 1730\\\\\n",
       "\t 8    & male & 18   & AB   & 1    & 1114\\\\\n",
       "\t 8    & male & 18   & AC   & 1    &  600\\\\\n",
       "\t 8    & male & 18   & CD   & 1    &  683\\\\\n",
       "\t 8    & male & 18   & AC   & 0    &  854\\\\\n",
       "\\end{tabular}\n"
      ],
      "text/markdown": [
       "\n",
       "| participant | gender | age | options | accuracy | RT_msec |\n",
       "|---|---|---|---|---|---|\n",
       "| 8    | male | 18   | CD   | 1    | 2381 |\n",
       "| 8    | male | 18   | CD   | 1    | 1730 |\n",
       "| 8    | male | 18   | AB   | 1    | 1114 |\n",
       "| 8    | male | 18   | AC   | 1    |  600 |\n",
       "| 8    | male | 18   | CD   | 1    |  683 |\n",
       "| 8    | male | 18   | AC   | 0    |  854 |\n",
       "\n"
      ],
      "text/plain": [
       "  participant gender age options accuracy RT_msec\n",
       "1 8           male   18  CD      1        2381   \n",
       "2 8           male   18  CD      1        1730   \n",
       "3 8           male   18  AB      1        1114   \n",
       "4 8           male   18  AC      1         600   \n",
       "5 8           male   18  CD      1         683   \n",
       "6 8           male   18  AC      0         854   "
      ]
     },
     "metadata": {},
     "output_type": "display_data"
    }
   ],
   "source": [
    "# Example of tab delimitated data\n",
    "data <- read.table('~/git/RcourseSpring2019/data/data_taskA.txt')\n",
    "head(data)"
   ]
  },
  {
   "cell_type": "code",
   "execution_count": 8,
   "metadata": {},
   "outputs": [
    {
     "data": {
      "text/html": [
       "<table>\n",
       "<thead><tr><th scope=col>id</th><th scope=col>gender</th><th scope=col>age</th><th scope=col>income</th><th scope=col>p1</th><th scope=col>p2</th><th scope=col>p3</th><th scope=col>p4</th><th scope=col>p5</th><th scope=col>p6</th><th scope=col>p7</th><th scope=col>p8</th><th scope=col>p9</th><th scope=col>p10</th><th scope=col>task</th><th scope=col>havemore</th><th scope=col>haveless</th><th scope=col>pcmore</th></tr></thead>\n",
       "<tbody>\n",
       "\t<tr><td>R_3PtNn51LmSFdLNM</td><td>2                </td><td>26               </td><td>7                </td><td>1                </td><td>1                </td><td>1                </td><td>1                </td><td>1                </td><td>1                </td><td>1                </td><td>1                </td><td>1                </td><td>1                </td><td>0                </td><td>NA               </td><td>50               </td><td>50               </td></tr>\n",
       "\t<tr><td>R_2AXrrg62pgFgtMV</td><td>2                </td><td>32               </td><td>4                </td><td>1                </td><td>1                </td><td>1                </td><td>1                </td><td>1                </td><td>1                </td><td>1                </td><td>1                </td><td>1                </td><td>1                </td><td>0                </td><td>NA               </td><td>25               </td><td>75               </td></tr>\n",
       "\t<tr><td>R_cwEOX3HgnMeVQHL</td><td>1                </td><td>25               </td><td>2                </td><td>0                </td><td>1                </td><td>1                </td><td>1                </td><td>1                </td><td>1                </td><td>1                </td><td>1                </td><td>0                </td><td>0                </td><td>0                </td><td>NA               </td><td>10               </td><td>90               </td></tr>\n",
       "\t<tr><td>R_d59iPwL4W6BH8qx</td><td>1                </td><td>33               </td><td>5                </td><td>1                </td><td>1                </td><td>1                </td><td>1                </td><td>1                </td><td>1                </td><td>1                </td><td>1                </td><td>1                </td><td>1                </td><td>0                </td><td>NA               </td><td>50               </td><td>50               </td></tr>\n",
       "\t<tr><td>R_1f3K2HrGzFGNelZ</td><td>1                </td><td>24               </td><td>1                </td><td>1                </td><td>1                </td><td>0                </td><td>1                </td><td>1                </td><td>1                </td><td>1                </td><td>1                </td><td>1                </td><td>1                </td><td>1                </td><td>99               </td><td>NA               </td><td>99               </td></tr>\n",
       "\t<tr><td>R_3oN5ijzTfoMy4ca</td><td>1                </td><td>22               </td><td>2                </td><td>1                </td><td>1                </td><td>0                </td><td>0                </td><td>1                </td><td>1                </td><td>1                </td><td>1                </td><td>0                </td><td>1                </td><td>0                </td><td>NA               </td><td>20               </td><td>80               </td></tr>\n",
       "</tbody>\n",
       "</table>\n"
      ],
      "text/latex": [
       "\\begin{tabular}{r|llllllllllllllllll}\n",
       " id & gender & age & income & p1 & p2 & p3 & p4 & p5 & p6 & p7 & p8 & p9 & p10 & task & havemore & haveless & pcmore\\\\\n",
       "\\hline\n",
       "\t R\\_3PtNn51LmSFdLNM & 2                   & 26                  & 7                   & 1                   & 1                   & 1                   & 1                   & 1                   & 1                   & 1                   & 1                   & 1                   & 1                   & 0                   & NA                  & 50                  & 50                 \\\\\n",
       "\t R\\_2AXrrg62pgFgtMV & 2                   & 32                  & 4                   & 1                   & 1                   & 1                   & 1                   & 1                   & 1                   & 1                   & 1                   & 1                   & 1                   & 0                   & NA                  & 25                  & 75                 \\\\\n",
       "\t R\\_cwEOX3HgnMeVQHL & 1                   & 25                  & 2                   & 0                   & 1                   & 1                   & 1                   & 1                   & 1                   & 1                   & 1                   & 0                   & 0                   & 0                   & NA                  & 10                  & 90                 \\\\\n",
       "\t R\\_d59iPwL4W6BH8qx & 1                   & 33                  & 5                   & 1                   & 1                   & 1                   & 1                   & 1                   & 1                   & 1                   & 1                   & 1                   & 1                   & 0                   & NA                  & 50                  & 50                 \\\\\n",
       "\t R\\_1f3K2HrGzFGNelZ & 1                   & 24                  & 1                   & 1                   & 1                   & 0                   & 1                   & 1                   & 1                   & 1                   & 1                   & 1                   & 1                   & 1                   & 99                  & NA                  & 99                 \\\\\n",
       "\t R\\_3oN5ijzTfoMy4ca & 1                   & 22                  & 2                   & 1                   & 1                   & 0                   & 0                   & 1                   & 1                   & 1                   & 1                   & 0                   & 1                   & 0                   & NA                  & 20                  & 80                 \\\\\n",
       "\\end{tabular}\n"
      ],
      "text/markdown": [
       "\n",
       "| id | gender | age | income | p1 | p2 | p3 | p4 | p5 | p6 | p7 | p8 | p9 | p10 | task | havemore | haveless | pcmore |\n",
       "|---|---|---|---|---|---|---|---|---|---|---|---|---|---|---|---|---|---|\n",
       "| R_3PtNn51LmSFdLNM | 2                 | 26                | 7                 | 1                 | 1                 | 1                 | 1                 | 1                 | 1                 | 1                 | 1                 | 1                 | 1                 | 0                 | NA                | 50                | 50                |\n",
       "| R_2AXrrg62pgFgtMV | 2                 | 32                | 4                 | 1                 | 1                 | 1                 | 1                 | 1                 | 1                 | 1                 | 1                 | 1                 | 1                 | 0                 | NA                | 25                | 75                |\n",
       "| R_cwEOX3HgnMeVQHL | 1                 | 25                | 2                 | 0                 | 1                 | 1                 | 1                 | 1                 | 1                 | 1                 | 1                 | 0                 | 0                 | 0                 | NA                | 10                | 90                |\n",
       "| R_d59iPwL4W6BH8qx | 1                 | 33                | 5                 | 1                 | 1                 | 1                 | 1                 | 1                 | 1                 | 1                 | 1                 | 1                 | 1                 | 0                 | NA                | 50                | 50                |\n",
       "| R_1f3K2HrGzFGNelZ | 1                 | 24                | 1                 | 1                 | 1                 | 0                 | 1                 | 1                 | 1                 | 1                 | 1                 | 1                 | 1                 | 1                 | 99                | NA                | 99                |\n",
       "| R_3oN5ijzTfoMy4ca | 1                 | 22                | 2                 | 1                 | 1                 | 0                 | 0                 | 1                 | 1                 | 1                 | 1                 | 0                 | 1                 | 0                 | NA                | 20                | 80                |\n",
       "\n"
      ],
      "text/plain": [
       "  id                gender age income p1 p2 p3 p4 p5 p6 p7 p8 p9 p10 task\n",
       "1 R_3PtNn51LmSFdLNM 2      26  7      1  1  1  1  1  1  1  1  1  1   0   \n",
       "2 R_2AXrrg62pgFgtMV 2      32  4      1  1  1  1  1  1  1  1  1  1   0   \n",
       "3 R_cwEOX3HgnMeVQHL 1      25  2      0  1  1  1  1  1  1  1  0  0   0   \n",
       "4 R_d59iPwL4W6BH8qx 1      33  5      1  1  1  1  1  1  1  1  1  1   0   \n",
       "5 R_1f3K2HrGzFGNelZ 1      24  1      1  1  0  1  1  1  1  1  1  1   1   \n",
       "6 R_3oN5ijzTfoMy4ca 1      22  2      1  1  0  0  1  1  1  1  0  1   0   \n",
       "  havemore haveless pcmore\n",
       "1 NA       50       50    \n",
       "2 NA       25       75    \n",
       "3 NA       10       90    \n",
       "4 NA       50       50    \n",
       "5 99       NA       99    \n",
       "6 NA       20       80    "
      ]
     },
     "metadata": {},
     "output_type": "display_data"
    }
   ],
   "source": [
    "# Example of comma delimitated data, with header as first line\n",
    "data <- read.table('~/git/RcourseSpring2019/data/data_wpa4.csv', \n",
    "                   sep=',',\n",
    "                   header=TRUE)\n",
    "head(data)"
   ]
  },
  {
   "cell_type": "code",
   "execution_count": 11,
   "metadata": {},
   "outputs": [
    {
     "data": {
      "text/html": [
       "<table>\n",
       "<thead><tr><th scope=col>school</th><th scope=col>sex</th><th scope=col>age</th><th scope=col>address</th><th scope=col>famsize</th><th scope=col>Pstatus</th><th scope=col>Medu</th><th scope=col>Fedu</th><th scope=col>Mjob</th><th scope=col>Fjob</th><th scope=col>⋯</th><th scope=col>famrel</th><th scope=col>freetime</th><th scope=col>goout</th><th scope=col>Dalc</th><th scope=col>Walc</th><th scope=col>health</th><th scope=col>absences</th><th scope=col>G1</th><th scope=col>G2</th><th scope=col>G3</th></tr></thead>\n",
       "<tbody>\n",
       "\t<tr><td>GP      </td><td>F       </td><td>18      </td><td>U       </td><td>GT3     </td><td>A       </td><td>4       </td><td>4       </td><td>at_home </td><td>teacher </td><td>⋯       </td><td>4       </td><td>3       </td><td>4       </td><td>1       </td><td>1       </td><td>3       </td><td>4       </td><td> 0      </td><td>11      </td><td>11      </td></tr>\n",
       "\t<tr><td>GP      </td><td>F       </td><td>17      </td><td>U       </td><td>GT3     </td><td>T       </td><td>1       </td><td>1       </td><td>at_home </td><td>other   </td><td>⋯       </td><td>5       </td><td>3       </td><td>3       </td><td>1       </td><td>1       </td><td>3       </td><td>2       </td><td> 9      </td><td>11      </td><td>11      </td></tr>\n",
       "\t<tr><td>GP      </td><td>F       </td><td>15      </td><td>U       </td><td>LE3     </td><td>T       </td><td>1       </td><td>1       </td><td>at_home </td><td>other   </td><td>⋯       </td><td>4       </td><td>3       </td><td>2       </td><td>2       </td><td>3       </td><td>3       </td><td>6       </td><td>12      </td><td>13      </td><td>12      </td></tr>\n",
       "\t<tr><td>GP      </td><td>F       </td><td>15      </td><td>U       </td><td>GT3     </td><td>T       </td><td>4       </td><td>2       </td><td>health  </td><td>services</td><td>⋯       </td><td>3       </td><td>2       </td><td>2       </td><td>1       </td><td>1       </td><td>5       </td><td>0       </td><td>14      </td><td>14      </td><td>14      </td></tr>\n",
       "\t<tr><td>GP      </td><td>F       </td><td>16      </td><td>U       </td><td>GT3     </td><td>T       </td><td>3       </td><td>3       </td><td>other   </td><td>other   </td><td>⋯       </td><td>4       </td><td>3       </td><td>2       </td><td>1       </td><td>2       </td><td>5       </td><td>0       </td><td>11      </td><td>13      </td><td>13      </td></tr>\n",
       "\t<tr><td>GP      </td><td>M       </td><td>16      </td><td>U       </td><td>LE3     </td><td>T       </td><td>4       </td><td>3       </td><td>services</td><td>other   </td><td>⋯       </td><td>5       </td><td>4       </td><td>2       </td><td>1       </td><td>2       </td><td>5       </td><td>6       </td><td>12      </td><td>12      </td><td>13      </td></tr>\n",
       "</tbody>\n",
       "</table>\n"
      ],
      "text/latex": [
       "\\begin{tabular}{r|lllllllllllllllllllllllllllllllll}\n",
       " school & sex & age & address & famsize & Pstatus & Medu & Fedu & Mjob & Fjob & ⋯ & famrel & freetime & goout & Dalc & Walc & health & absences & G1 & G2 & G3\\\\\n",
       "\\hline\n",
       "\t GP         & F          & 18         & U          & GT3        & A          & 4          & 4          & at\\_home  & teacher    & ⋯          & 4          & 3          & 4          & 1          & 1          & 3          & 4          &  0         & 11         & 11        \\\\\n",
       "\t GP         & F          & 17         & U          & GT3        & T          & 1          & 1          & at\\_home  & other      & ⋯          & 5          & 3          & 3          & 1          & 1          & 3          & 2          &  9         & 11         & 11        \\\\\n",
       "\t GP         & F          & 15         & U          & LE3        & T          & 1          & 1          & at\\_home  & other      & ⋯          & 4          & 3          & 2          & 2          & 3          & 3          & 6          & 12         & 13         & 12        \\\\\n",
       "\t GP       & F        & 15       & U        & GT3      & T        & 4        & 2        & health   & services & ⋯        & 3        & 2        & 2        & 1        & 1        & 5        & 0        & 14       & 14       & 14      \\\\\n",
       "\t GP       & F        & 16       & U        & GT3      & T        & 3        & 3        & other    & other    & ⋯        & 4        & 3        & 2        & 1        & 2        & 5        & 0        & 11       & 13       & 13      \\\\\n",
       "\t GP       & M        & 16       & U        & LE3      & T        & 4        & 3        & services & other    & ⋯        & 5        & 4        & 2        & 1        & 2        & 5        & 6        & 12       & 12       & 13      \\\\\n",
       "\\end{tabular}\n"
      ],
      "text/markdown": [
       "\n",
       "| school | sex | age | address | famsize | Pstatus | Medu | Fedu | Mjob | Fjob | ⋯ | famrel | freetime | goout | Dalc | Walc | health | absences | G1 | G2 | G3 |\n",
       "|---|---|---|---|---|---|---|---|---|---|---|---|---|---|---|---|---|---|---|---|---|\n",
       "| GP       | F        | 18       | U        | GT3      | A        | 4        | 4        | at_home  | teacher  | ⋯        | 4        | 3        | 4        | 1        | 1        | 3        | 4        |  0       | 11       | 11       |\n",
       "| GP       | F        | 17       | U        | GT3      | T        | 1        | 1        | at_home  | other    | ⋯        | 5        | 3        | 3        | 1        | 1        | 3        | 2        |  9       | 11       | 11       |\n",
       "| GP       | F        | 15       | U        | LE3      | T        | 1        | 1        | at_home  | other    | ⋯        | 4        | 3        | 2        | 2        | 3        | 3        | 6        | 12       | 13       | 12       |\n",
       "| GP       | F        | 15       | U        | GT3      | T        | 4        | 2        | health   | services | ⋯        | 3        | 2        | 2        | 1        | 1        | 5        | 0        | 14       | 14       | 14       |\n",
       "| GP       | F        | 16       | U        | GT3      | T        | 3        | 3        | other    | other    | ⋯        | 4        | 3        | 2        | 1        | 2        | 5        | 0        | 11       | 13       | 13       |\n",
       "| GP       | M        | 16       | U        | LE3      | T        | 4        | 3        | services | other    | ⋯        | 5        | 4        | 2        | 1        | 2        | 5        | 6        | 12       | 12       | 13       |\n",
       "\n"
      ],
      "text/plain": [
       "  school sex age address famsize Pstatus Medu Fedu Mjob     Fjob     ⋯ famrel\n",
       "1 GP     F   18  U       GT3     A       4    4    at_home  teacher  ⋯ 4     \n",
       "2 GP     F   17  U       GT3     T       1    1    at_home  other    ⋯ 5     \n",
       "3 GP     F   15  U       LE3     T       1    1    at_home  other    ⋯ 4     \n",
       "4 GP     F   15  U       GT3     T       4    2    health   services ⋯ 3     \n",
       "5 GP     F   16  U       GT3     T       3    3    other    other    ⋯ 4     \n",
       "6 GP     M   16  U       LE3     T       4    3    services other    ⋯ 5     \n",
       "  freetime goout Dalc Walc health absences G1 G2 G3\n",
       "1 3        4     1    1    3      4         0 11 11\n",
       "2 3        3     1    1    3      2         9 11 11\n",
       "3 3        2     2    3    3      6        12 13 12\n",
       "4 2        2     1    1    5      0        14 14 14\n",
       "5 3        2     1    2    5      0        11 13 13\n",
       "6 4        2     1    2    5      6        12 12 13"
      ]
     },
     "metadata": {},
     "output_type": "display_data"
    }
   ],
   "source": [
    "# Example of ; delimitated data, with header as first line\n",
    "data <- read.table('~/git/RcourseSpring2019/data/student-por.csv',\n",
    "                   sep=';',\n",
    "                   header=TRUE)\n",
    "head(data)"
   ]
  },
  {
   "cell_type": "code",
   "execution_count": 12,
   "metadata": {},
   "outputs": [
    {
     "data": {
      "text/html": [
       "<table>\n",
       "<thead><tr><th scope=col>X</th><th scope=col>id</th><th scope=col>height</th><th scope=col>race</th></tr></thead>\n",
       "<tbody>\n",
       "\t<tr><td>1                </td><td>R_2zOA03wY3kZPHKj</td><td>182              </td><td>black            </td></tr>\n",
       "\t<tr><td>2                </td><td>R_1f30AbYQR0D1wpt</td><td>184              </td><td>white            </td></tr>\n",
       "\t<tr><td>3                </td><td>R_2YgEERKijE2Hz6K</td><td>175              </td><td>hispanic         </td></tr>\n",
       "\t<tr><td>4                </td><td>R_1CdL2n22srUR26d</td><td>177              </td><td>white            </td></tr>\n",
       "\t<tr><td>5                </td><td>R_1HnsqBRimnKphfg</td><td>187              </td><td>white            </td></tr>\n",
       "\t<tr><td>6                </td><td>R_12PUXbJhfNF9GAE</td><td>178              </td><td>white            </td></tr>\n",
       "</tbody>\n",
       "</table>\n"
      ],
      "text/latex": [
       "\\begin{tabular}{r|llll}\n",
       " X & id & height & race\\\\\n",
       "\\hline\n",
       "\t 1                   & R\\_2zOA03wY3kZPHKj & 182                 & black              \\\\\n",
       "\t 2                   & R\\_1f30AbYQR0D1wpt & 184                 & white              \\\\\n",
       "\t 3                   & R\\_2YgEERKijE2Hz6K & 175                 & hispanic           \\\\\n",
       "\t 4                   & R\\_1CdL2n22srUR26d & 177                 & white              \\\\\n",
       "\t 5                   & R\\_1HnsqBRimnKphfg & 187                 & white              \\\\\n",
       "\t 6                   & R\\_12PUXbJhfNF9GAE & 178                 & white              \\\\\n",
       "\\end{tabular}\n"
      ],
      "text/markdown": [
       "\n",
       "| X | id | height | race |\n",
       "|---|---|---|---|\n",
       "| 1                 | R_2zOA03wY3kZPHKj | 182               | black             |\n",
       "| 2                 | R_1f30AbYQR0D1wpt | 184               | white             |\n",
       "| 3                 | R_2YgEERKijE2Hz6K | 175               | hispanic          |\n",
       "| 4                 | R_1CdL2n22srUR26d | 177               | white             |\n",
       "| 5                 | R_1HnsqBRimnKphfg | 187               | white             |\n",
       "| 6                 | R_12PUXbJhfNF9GAE | 178               | white             |\n",
       "\n"
      ],
      "text/plain": [
       "  X id                height race    \n",
       "1 1 R_2zOA03wY3kZPHKj 182    black   \n",
       "2 2 R_1f30AbYQR0D1wpt 184    white   \n",
       "3 3 R_2YgEERKijE2Hz6K 175    hispanic\n",
       "4 4 R_1CdL2n22srUR26d 177    white   \n",
       "5 5 R_1HnsqBRimnKphfg 187    white   \n",
       "6 6 R_12PUXbJhfNF9GAE 178    white   "
      ]
     },
     "metadata": {},
     "output_type": "display_data"
    }
   ],
   "source": [
    "# Example of data from github (remember to get the raw data first):\n",
    "data <- read.csv('https://raw.githubusercontent.com/laurafontanesi/RcourseSpring2019/master/data/matthews_demographics.csv',\n",
    "                 )\n",
    "head(data)\n",
    "\n",
    "# Try out on your own with data from: https://github.com/BuzzFeedNews/zika-data/tree/master/data/parsed"
   ]
  },
  {
   "cell_type": "code",
   "execution_count": 13,
   "metadata": {},
   "outputs": [
    {
     "data": {
      "text/html": [
       "<table>\n",
       "<thead><tr><th scope=col>street</th><th scope=col>city</th><th scope=col>zip</th><th scope=col>state</th><th scope=col>beds</th><th scope=col>baths</th><th scope=col>sq__ft</th><th scope=col>type</th><th scope=col>sale_date</th><th scope=col>price</th><th scope=col>latitude</th><th scope=col>longitude</th></tr></thead>\n",
       "<tbody>\n",
       "\t<tr><td>3526 HIGH ST                </td><td>SACRAMENTO                  </td><td>95838                       </td><td>CA                          </td><td>2                           </td><td>1                           </td><td> 836                        </td><td>Residential                 </td><td>Wed May 21 00:00:00 EDT 2008</td><td>59222                       </td><td>38.63191                    </td><td>-121.4349                   </td></tr>\n",
       "\t<tr><td>51 OMAHA CT                 </td><td>SACRAMENTO                  </td><td>95823                       </td><td>CA                          </td><td>3                           </td><td>1                           </td><td>1167                        </td><td>Residential                 </td><td>Wed May 21 00:00:00 EDT 2008</td><td>68212                       </td><td>38.47890                    </td><td>-121.4310                   </td></tr>\n",
       "\t<tr><td>2796 BRANCH ST              </td><td>SACRAMENTO                  </td><td>95815                       </td><td>CA                          </td><td>2                           </td><td>1                           </td><td> 796                        </td><td>Residential                 </td><td>Wed May 21 00:00:00 EDT 2008</td><td>68880                       </td><td>38.61830                    </td><td>-121.4438                   </td></tr>\n",
       "\t<tr><td>2805 JANETTE WAY            </td><td>SACRAMENTO                  </td><td>95815                       </td><td>CA                          </td><td>2                           </td><td>1                           </td><td> 852                        </td><td>Residential                 </td><td>Wed May 21 00:00:00 EDT 2008</td><td>69307                       </td><td>38.61684                    </td><td>-121.4391                   </td></tr>\n",
       "\t<tr><td>6001 MCMAHON DR             </td><td>SACRAMENTO                  </td><td>95824                       </td><td>CA                          </td><td>2                           </td><td>1                           </td><td> 797                        </td><td>Residential                 </td><td>Wed May 21 00:00:00 EDT 2008</td><td>81900                       </td><td>38.51947                    </td><td>-121.4358                   </td></tr>\n",
       "\t<tr><td>5828 PEPPERMILL CT          </td><td>SACRAMENTO                  </td><td>95841                       </td><td>CA                          </td><td>3                           </td><td>1                           </td><td>1122                        </td><td>Condo                       </td><td>Wed May 21 00:00:00 EDT 2008</td><td>89921                       </td><td>38.66260                    </td><td>-121.3278                   </td></tr>\n",
       "</tbody>\n",
       "</table>\n"
      ],
      "text/latex": [
       "\\begin{tabular}{r|llllllllllll}\n",
       " street & city & zip & state & beds & baths & sq\\_\\_ft & type & sale\\_date & price & latitude & longitude\\\\\n",
       "\\hline\n",
       "\t 3526 HIGH ST                 & SACRAMENTO                   & 95838                        & CA                           & 2                            & 1                            &  836                         & Residential                  & Wed May 21 00:00:00 EDT 2008 & 59222                        & 38.63191                     & -121.4349                   \\\\\n",
       "\t 51 OMAHA CT                  & SACRAMENTO                   & 95823                        & CA                           & 3                            & 1                            & 1167                         & Residential                  & Wed May 21 00:00:00 EDT 2008 & 68212                        & 38.47890                     & -121.4310                   \\\\\n",
       "\t 2796 BRANCH ST               & SACRAMENTO                   & 95815                        & CA                           & 2                            & 1                            &  796                         & Residential                  & Wed May 21 00:00:00 EDT 2008 & 68880                        & 38.61830                     & -121.4438                   \\\\\n",
       "\t 2805 JANETTE WAY             & SACRAMENTO                   & 95815                        & CA                           & 2                            & 1                            &  852                         & Residential                  & Wed May 21 00:00:00 EDT 2008 & 69307                        & 38.61684                     & -121.4391                   \\\\\n",
       "\t 6001 MCMAHON DR              & SACRAMENTO                   & 95824                        & CA                           & 2                            & 1                            &  797                         & Residential                  & Wed May 21 00:00:00 EDT 2008 & 81900                        & 38.51947                     & -121.4358                   \\\\\n",
       "\t 5828 PEPPERMILL CT           & SACRAMENTO                   & 95841                        & CA                           & 3                            & 1                            & 1122                         & Condo                        & Wed May 21 00:00:00 EDT 2008 & 89921                        & 38.66260                     & -121.3278                   \\\\\n",
       "\\end{tabular}\n"
      ],
      "text/markdown": [
       "\n",
       "| street | city | zip | state | beds | baths | sq__ft | type | sale_date | price | latitude | longitude |\n",
       "|---|---|---|---|---|---|---|---|---|---|---|---|\n",
       "| 3526 HIGH ST                 | SACRAMENTO                   | 95838                        | CA                           | 2                            | 1                            |  836                         | Residential                  | Wed May 21 00:00:00 EDT 2008 | 59222                        | 38.63191                     | -121.4349                    |\n",
       "| 51 OMAHA CT                  | SACRAMENTO                   | 95823                        | CA                           | 3                            | 1                            | 1167                         | Residential                  | Wed May 21 00:00:00 EDT 2008 | 68212                        | 38.47890                     | -121.4310                    |\n",
       "| 2796 BRANCH ST               | SACRAMENTO                   | 95815                        | CA                           | 2                            | 1                            |  796                         | Residential                  | Wed May 21 00:00:00 EDT 2008 | 68880                        | 38.61830                     | -121.4438                    |\n",
       "| 2805 JANETTE WAY             | SACRAMENTO                   | 95815                        | CA                           | 2                            | 1                            |  852                         | Residential                  | Wed May 21 00:00:00 EDT 2008 | 69307                        | 38.61684                     | -121.4391                    |\n",
       "| 6001 MCMAHON DR              | SACRAMENTO                   | 95824                        | CA                           | 2                            | 1                            |  797                         | Residential                  | Wed May 21 00:00:00 EDT 2008 | 81900                        | 38.51947                     | -121.4358                    |\n",
       "| 5828 PEPPERMILL CT           | SACRAMENTO                   | 95841                        | CA                           | 3                            | 1                            | 1122                         | Condo                        | Wed May 21 00:00:00 EDT 2008 | 89921                        | 38.66260                     | -121.3278                    |\n",
       "\n"
      ],
      "text/plain": [
       "  street             city       zip   state beds baths sq__ft type       \n",
       "1 3526 HIGH ST       SACRAMENTO 95838 CA    2    1      836   Residential\n",
       "2 51 OMAHA CT        SACRAMENTO 95823 CA    3    1     1167   Residential\n",
       "3 2796 BRANCH ST     SACRAMENTO 95815 CA    2    1      796   Residential\n",
       "4 2805 JANETTE WAY   SACRAMENTO 95815 CA    2    1      852   Residential\n",
       "5 6001 MCMAHON DR    SACRAMENTO 95824 CA    2    1      797   Residential\n",
       "6 5828 PEPPERMILL CT SACRAMENTO 95841 CA    3    1     1122   Condo      \n",
       "  sale_date                    price latitude longitude\n",
       "1 Wed May 21 00:00:00 EDT 2008 59222 38.63191 -121.4349\n",
       "2 Wed May 21 00:00:00 EDT 2008 68212 38.47890 -121.4310\n",
       "3 Wed May 21 00:00:00 EDT 2008 68880 38.61830 -121.4438\n",
       "4 Wed May 21 00:00:00 EDT 2008 69307 38.61684 -121.4391\n",
       "5 Wed May 21 00:00:00 EDT 2008 81900 38.51947 -121.4358\n",
       "6 Wed May 21 00:00:00 EDT 2008 89921 38.66260 -121.3278"
      ]
     },
     "metadata": {},
     "output_type": "display_data"
    }
   ],
   "source": [
    "# How to first download a file and then load it in R:\n",
    "data_url <- \"http://samplecsvs.s3.amazonaws.com/Sacramentorealestatetransactions.csv\"\n",
    "local_file_location <- \"~/git/RcourseSpring2019/data/Sacramentorealestatetransactions.csv\"\n",
    "\n",
    "download.file(data_url, local_file_location)\n",
    "\n",
    "data <- read.csv(local_file_location)\n",
    "head(data)"
   ]
  },
  {
   "cell_type": "markdown",
   "metadata": {},
   "source": [
    "# B. Cleaning and transforming data"
   ]
  },
  {
   "cell_type": "markdown",
   "metadata": {},
   "source": [
    "Much of the task of cleaning data involves manipulating data frames to get them into the desired form:\n",
    "\n",
    "0. Inspecting the data frame\n",
    "1. Selecting a subset of a data frame\n",
    "2. Augmenting a data frame with additional columns/rows (or replacing existing columns/rows)\n",
    "3. Dealing with missing values\n",
    "4. Converting between the wide and long forms of a data frame\n",
    "5. Sorting a data frame"
   ]
  },
  {
   "cell_type": "markdown",
   "metadata": {},
   "source": [
    "## 1. Inspecting the data frame"
   ]
  },
  {
   "cell_type": "code",
   "execution_count": 14,
   "metadata": {},
   "outputs": [
    {
     "data": {
      "text/html": [
       "<table>\n",
       "<thead><tr><th scope=col>participant</th><th scope=col>risk_parameter</th><th scope=col>risk_preference</th><th scope=col>age</th></tr></thead>\n",
       "<tbody>\n",
       "\t<tr><td> 1           </td><td>0.6          </td><td>risk_avoidant</td><td>21           </td></tr>\n",
       "\t<tr><td> 2           </td><td>1.3          </td><td>risk_seeking </td><td>21           </td></tr>\n",
       "\t<tr><td> 3           </td><td>0.6          </td><td>risk_avoidant</td><td>20           </td></tr>\n",
       "\t<tr><td> 4           </td><td>0.7          </td><td>risk_avoidant</td><td>21           </td></tr>\n",
       "\t<tr><td> 5           </td><td>0.1          </td><td>risk_avoidant</td><td>21           </td></tr>\n",
       "\t<tr><td> 6           </td><td>1.2          </td><td>risk_seeking </td><td>22           </td></tr>\n",
       "\t<tr><td> 7           </td><td>0.7          </td><td>risk_avoidant</td><td>22           </td></tr>\n",
       "\t<tr><td> 8           </td><td>0.6          </td><td>risk_avoidant</td><td>20           </td></tr>\n",
       "\t<tr><td> 9           </td><td>0.4          </td><td>risk_avoidant</td><td>22           </td></tr>\n",
       "\t<tr><td>10           </td><td>1.7          </td><td>risk_seeking </td><td>19           </td></tr>\n",
       "\t<tr><td>11           </td><td>0.5          </td><td>risk_avoidant</td><td>21           </td></tr>\n",
       "\t<tr><td>12           </td><td>0.5          </td><td>risk_avoidant</td><td>21           </td></tr>\n",
       "\t<tr><td>13           </td><td>0.0          </td><td>risk_avoidant</td><td>21           </td></tr>\n",
       "\t<tr><td>14           </td><td>0.5          </td><td>risk_avoidant</td><td>21           </td></tr>\n",
       "\t<tr><td>15           </td><td>1.2          </td><td>risk_seeking </td><td>22           </td></tr>\n",
       "\t<tr><td>16           </td><td>0.6          </td><td>risk_avoidant</td><td>22           </td></tr>\n",
       "\t<tr><td>17           </td><td>0.8          </td><td>risk_avoidant</td><td>22           </td></tr>\n",
       "\t<tr><td>18           </td><td>2.8          </td><td>risk_seeking </td><td>19           </td></tr>\n",
       "\t<tr><td>19           </td><td>0.3          </td><td>risk_avoidant</td><td>21           </td></tr>\n",
       "\t<tr><td>20           </td><td>0.9          </td><td>risk_avoidant</td><td>21           </td></tr>\n",
       "\t<tr><td>21           </td><td>1.1          </td><td>risk_seeking </td><td>22           </td></tr>\n",
       "\t<tr><td>22           </td><td>0.7          </td><td>risk_avoidant</td><td>22           </td></tr>\n",
       "\t<tr><td>23           </td><td>0.3          </td><td>risk_avoidant</td><td>21           </td></tr>\n",
       "\t<tr><td>24           </td><td>1.3          </td><td>risk_seeking </td><td>21           </td></tr>\n",
       "\t<tr><td>25           </td><td>0.4          </td><td>risk_avoidant</td><td>21           </td></tr>\n",
       "</tbody>\n",
       "</table>\n"
      ],
      "text/latex": [
       "\\begin{tabular}{r|llll}\n",
       " participant & risk\\_parameter & risk\\_preference & age\\\\\n",
       "\\hline\n",
       "\t  1              & 0.6             & risk\\_avoidant & 21             \\\\\n",
       "\t  2              & 1.3             & risk\\_seeking  & 21             \\\\\n",
       "\t  3              & 0.6             & risk\\_avoidant & 20             \\\\\n",
       "\t  4              & 0.7             & risk\\_avoidant & 21             \\\\\n",
       "\t  5              & 0.1             & risk\\_avoidant & 21             \\\\\n",
       "\t  6              & 1.2             & risk\\_seeking  & 22             \\\\\n",
       "\t  7              & 0.7             & risk\\_avoidant & 22             \\\\\n",
       "\t  8              & 0.6             & risk\\_avoidant & 20             \\\\\n",
       "\t  9              & 0.4             & risk\\_avoidant & 22             \\\\\n",
       "\t 10              & 1.7             & risk\\_seeking  & 19             \\\\\n",
       "\t 11              & 0.5             & risk\\_avoidant & 21             \\\\\n",
       "\t 12              & 0.5             & risk\\_avoidant & 21             \\\\\n",
       "\t 13              & 0.0             & risk\\_avoidant & 21             \\\\\n",
       "\t 14              & 0.5             & risk\\_avoidant & 21             \\\\\n",
       "\t 15              & 1.2             & risk\\_seeking  & 22             \\\\\n",
       "\t 16              & 0.6             & risk\\_avoidant & 22             \\\\\n",
       "\t 17              & 0.8             & risk\\_avoidant & 22             \\\\\n",
       "\t 18              & 2.8             & risk\\_seeking  & 19             \\\\\n",
       "\t 19              & 0.3             & risk\\_avoidant & 21             \\\\\n",
       "\t 20              & 0.9             & risk\\_avoidant & 21             \\\\\n",
       "\t 21              & 1.1             & risk\\_seeking  & 22             \\\\\n",
       "\t 22              & 0.7             & risk\\_avoidant & 22             \\\\\n",
       "\t 23              & 0.3             & risk\\_avoidant & 21             \\\\\n",
       "\t 24              & 1.3             & risk\\_seeking  & 21             \\\\\n",
       "\t 25              & 0.4             & risk\\_avoidant & 21             \\\\\n",
       "\\end{tabular}\n"
      ],
      "text/markdown": [
       "\n",
       "| participant | risk_parameter | risk_preference | age |\n",
       "|---|---|---|---|\n",
       "|  1            | 0.6           | risk_avoidant | 21            |\n",
       "|  2            | 1.3           | risk_seeking  | 21            |\n",
       "|  3            | 0.6           | risk_avoidant | 20            |\n",
       "|  4            | 0.7           | risk_avoidant | 21            |\n",
       "|  5            | 0.1           | risk_avoidant | 21            |\n",
       "|  6            | 1.2           | risk_seeking  | 22            |\n",
       "|  7            | 0.7           | risk_avoidant | 22            |\n",
       "|  8            | 0.6           | risk_avoidant | 20            |\n",
       "|  9            | 0.4           | risk_avoidant | 22            |\n",
       "| 10            | 1.7           | risk_seeking  | 19            |\n",
       "| 11            | 0.5           | risk_avoidant | 21            |\n",
       "| 12            | 0.5           | risk_avoidant | 21            |\n",
       "| 13            | 0.0           | risk_avoidant | 21            |\n",
       "| 14            | 0.5           | risk_avoidant | 21            |\n",
       "| 15            | 1.2           | risk_seeking  | 22            |\n",
       "| 16            | 0.6           | risk_avoidant | 22            |\n",
       "| 17            | 0.8           | risk_avoidant | 22            |\n",
       "| 18            | 2.8           | risk_seeking  | 19            |\n",
       "| 19            | 0.3           | risk_avoidant | 21            |\n",
       "| 20            | 0.9           | risk_avoidant | 21            |\n",
       "| 21            | 1.1           | risk_seeking  | 22            |\n",
       "| 22            | 0.7           | risk_avoidant | 22            |\n",
       "| 23            | 0.3           | risk_avoidant | 21            |\n",
       "| 24            | 1.3           | risk_seeking  | 21            |\n",
       "| 25            | 0.4           | risk_avoidant | 21            |\n",
       "\n"
      ],
      "text/plain": [
       "   participant risk_parameter risk_preference age\n",
       "1   1          0.6            risk_avoidant   21 \n",
       "2   2          1.3            risk_seeking    21 \n",
       "3   3          0.6            risk_avoidant   20 \n",
       "4   4          0.7            risk_avoidant   21 \n",
       "5   5          0.1            risk_avoidant   21 \n",
       "6   6          1.2            risk_seeking    22 \n",
       "7   7          0.7            risk_avoidant   22 \n",
       "8   8          0.6            risk_avoidant   20 \n",
       "9   9          0.4            risk_avoidant   22 \n",
       "10 10          1.7            risk_seeking    19 \n",
       "11 11          0.5            risk_avoidant   21 \n",
       "12 12          0.5            risk_avoidant   21 \n",
       "13 13          0.0            risk_avoidant   21 \n",
       "14 14          0.5            risk_avoidant   21 \n",
       "15 15          1.2            risk_seeking    22 \n",
       "16 16          0.6            risk_avoidant   22 \n",
       "17 17          0.8            risk_avoidant   22 \n",
       "18 18          2.8            risk_seeking    19 \n",
       "19 19          0.3            risk_avoidant   21 \n",
       "20 20          0.9            risk_avoidant   21 \n",
       "21 21          1.1            risk_seeking    22 \n",
       "22 22          0.7            risk_avoidant   22 \n",
       "23 23          0.3            risk_avoidant   21 \n",
       "24 24          1.3            risk_seeking    21 \n",
       "25 25          0.4            risk_avoidant   21 "
      ]
     },
     "metadata": {},
     "output_type": "display_data"
    }
   ],
   "source": [
    "# Create a fake data.frame\n",
    "N = 25\n",
    "fake_data <- data.frame(\n",
    "    participant = 1:N,\n",
    "    risk_parameter = round(rgamma(N, 1, 1), 1)\n",
    ")\n",
    "\n",
    "fake_data[fake_data$risk_parameter > 1, \"risk_preference\"] = \"risk_seeking\"\n",
    "fake_data[fake_data$risk_parameter < 1, \"risk_preference\"] = \"risk_avoidant\"\n",
    "fake_data[fake_data$risk_parameter == 1, \"risk_preference\"] = \"risk_neutral\"\n",
    "\n",
    "fake_data$age = round(22 + rnorm(N, -fake_data$risk_parameter, .8))\n",
    "\n",
    "fake_data"
   ]
  },
  {
   "cell_type": "code",
   "execution_count": 17,
   "metadata": {},
   "outputs": [
    {
     "data": {
      "text/html": [
       "4"
      ],
      "text/latex": [
       "4"
      ],
      "text/markdown": [
       "4"
      ],
      "text/plain": [
       "[1] 4"
      ]
     },
     "metadata": {},
     "output_type": "display_data"
    }
   ],
   "source": [
    "dim(fake_data)[2]"
   ]
  },
  {
   "cell_type": "code",
   "execution_count": 15,
   "metadata": {},
   "outputs": [
    {
     "data": {
      "text/html": [
       "<ol>\n",
       "\t<li><ol class=list-inline>\n",
       "\t<li>'1'</li>\n",
       "\t<li>'2'</li>\n",
       "\t<li>'3'</li>\n",
       "\t<li>'4'</li>\n",
       "\t<li>'5'</li>\n",
       "\t<li>'6'</li>\n",
       "\t<li>'7'</li>\n",
       "\t<li>'8'</li>\n",
       "\t<li>'9'</li>\n",
       "\t<li>'10'</li>\n",
       "\t<li>'11'</li>\n",
       "\t<li>'12'</li>\n",
       "\t<li>'13'</li>\n",
       "\t<li>'14'</li>\n",
       "\t<li>'15'</li>\n",
       "\t<li>'16'</li>\n",
       "\t<li>'17'</li>\n",
       "\t<li>'18'</li>\n",
       "\t<li>'19'</li>\n",
       "\t<li>'20'</li>\n",
       "\t<li>'21'</li>\n",
       "\t<li>'22'</li>\n",
       "\t<li>'23'</li>\n",
       "\t<li>'24'</li>\n",
       "\t<li>'25'</li>\n",
       "</ol>\n",
       "</li>\n",
       "\t<li><ol class=list-inline>\n",
       "\t<li>'participant'</li>\n",
       "\t<li>'risk_parameter'</li>\n",
       "\t<li>'risk_preference'</li>\n",
       "\t<li>'age'</li>\n",
       "</ol>\n",
       "</li>\n",
       "</ol>\n"
      ],
      "text/latex": [
       "\\begin{enumerate}\n",
       "\\item \\begin{enumerate*}\n",
       "\\item '1'\n",
       "\\item '2'\n",
       "\\item '3'\n",
       "\\item '4'\n",
       "\\item '5'\n",
       "\\item '6'\n",
       "\\item '7'\n",
       "\\item '8'\n",
       "\\item '9'\n",
       "\\item '10'\n",
       "\\item '11'\n",
       "\\item '12'\n",
       "\\item '13'\n",
       "\\item '14'\n",
       "\\item '15'\n",
       "\\item '16'\n",
       "\\item '17'\n",
       "\\item '18'\n",
       "\\item '19'\n",
       "\\item '20'\n",
       "\\item '21'\n",
       "\\item '22'\n",
       "\\item '23'\n",
       "\\item '24'\n",
       "\\item '25'\n",
       "\\end{enumerate*}\n",
       "\n",
       "\\item \\begin{enumerate*}\n",
       "\\item 'participant'\n",
       "\\item 'risk\\_parameter'\n",
       "\\item 'risk\\_preference'\n",
       "\\item 'age'\n",
       "\\end{enumerate*}\n",
       "\n",
       "\\end{enumerate}\n"
      ],
      "text/markdown": [
       "1. 1. '1'\n",
       "2. '2'\n",
       "3. '3'\n",
       "4. '4'\n",
       "5. '5'\n",
       "6. '6'\n",
       "7. '7'\n",
       "8. '8'\n",
       "9. '9'\n",
       "10. '10'\n",
       "11. '11'\n",
       "12. '12'\n",
       "13. '13'\n",
       "14. '14'\n",
       "15. '15'\n",
       "16. '16'\n",
       "17. '17'\n",
       "18. '18'\n",
       "19. '19'\n",
       "20. '20'\n",
       "21. '21'\n",
       "22. '22'\n",
       "23. '23'\n",
       "24. '24'\n",
       "25. '25'\n",
       "\n",
       "\n",
       "\n",
       "2. 1. 'participant'\n",
       "2. 'risk_parameter'\n",
       "3. 'risk_preference'\n",
       "4. 'age'\n",
       "\n",
       "\n",
       "\n",
       "\n",
       "\n"
      ],
      "text/plain": [
       "[[1]]\n",
       " [1] \"1\"  \"2\"  \"3\"  \"4\"  \"5\"  \"6\"  \"7\"  \"8\"  \"9\"  \"10\" \"11\" \"12\" \"13\" \"14\" \"15\"\n",
       "[16] \"16\" \"17\" \"18\" \"19\" \"20\" \"21\" \"22\" \"23\" \"24\" \"25\"\n",
       "\n",
       "[[2]]\n",
       "[1] \"participant\"     \"risk_parameter\"  \"risk_preference\" \"age\"            \n"
      ]
     },
     "metadata": {},
     "output_type": "display_data"
    },
    {
     "data": {
      "text/html": [
       "<ol class=list-inline>\n",
       "\t<li>25</li>\n",
       "\t<li>4</li>\n",
       "</ol>\n"
      ],
      "text/latex": [
       "\\begin{enumerate*}\n",
       "\\item 25\n",
       "\\item 4\n",
       "\\end{enumerate*}\n"
      ],
      "text/markdown": [
       "1. 25\n",
       "2. 4\n",
       "\n",
       "\n"
      ],
      "text/plain": [
       "[1] 25  4"
      ]
     },
     "metadata": {},
     "output_type": "display_data"
    }
   ],
   "source": [
    "# Get the row and columns names, and the number of rows and columns:\n",
    "dimnames(fake_data)\n",
    "dim(fake_data)"
   ]
  },
  {
   "cell_type": "code",
   "execution_count": 18,
   "metadata": {},
   "outputs": [
    {
     "data": {
      "text/html": [
       "4"
      ],
      "text/latex": [
       "4"
      ],
      "text/markdown": [
       "4"
      ],
      "text/plain": [
       "[1] 4"
      ]
     },
     "metadata": {},
     "output_type": "display_data"
    }
   ],
   "source": [
    "# Careful that:\n",
    "length(fake_data)"
   ]
  },
  {
   "cell_type": "code",
   "execution_count": 19,
   "metadata": {},
   "outputs": [
    {
     "data": {
      "text/html": [
       "<table>\n",
       "<thead><tr><th scope=col>participant</th><th scope=col>risk_parameter</th><th scope=col>risk_preference</th><th scope=col>age</th></tr></thead>\n",
       "<tbody>\n",
       "\t<tr><td>1            </td><td>0.6          </td><td>risk_avoidant</td><td>21           </td></tr>\n",
       "\t<tr><td>2            </td><td>1.3          </td><td>risk_seeking </td><td>21           </td></tr>\n",
       "\t<tr><td>3            </td><td>0.6          </td><td>risk_avoidant</td><td>20           </td></tr>\n",
       "\t<tr><td>4            </td><td>0.7          </td><td>risk_avoidant</td><td>21           </td></tr>\n",
       "\t<tr><td>5            </td><td>0.1          </td><td>risk_avoidant</td><td>21           </td></tr>\n",
       "\t<tr><td>6            </td><td>1.2          </td><td>risk_seeking </td><td>22           </td></tr>\n",
       "</tbody>\n",
       "</table>\n"
      ],
      "text/latex": [
       "\\begin{tabular}{r|llll}\n",
       " participant & risk\\_parameter & risk\\_preference & age\\\\\n",
       "\\hline\n",
       "\t 1               & 0.6             & risk\\_avoidant & 21             \\\\\n",
       "\t 2               & 1.3             & risk\\_seeking  & 21             \\\\\n",
       "\t 3               & 0.6             & risk\\_avoidant & 20             \\\\\n",
       "\t 4               & 0.7             & risk\\_avoidant & 21             \\\\\n",
       "\t 5               & 0.1             & risk\\_avoidant & 21             \\\\\n",
       "\t 6               & 1.2             & risk\\_seeking  & 22             \\\\\n",
       "\\end{tabular}\n"
      ],
      "text/markdown": [
       "\n",
       "| participant | risk_parameter | risk_preference | age |\n",
       "|---|---|---|---|\n",
       "| 1             | 0.6           | risk_avoidant | 21            |\n",
       "| 2             | 1.3           | risk_seeking  | 21            |\n",
       "| 3             | 0.6           | risk_avoidant | 20            |\n",
       "| 4             | 0.7           | risk_avoidant | 21            |\n",
       "| 5             | 0.1           | risk_avoidant | 21            |\n",
       "| 6             | 1.2           | risk_seeking  | 22            |\n",
       "\n"
      ],
      "text/plain": [
       "  participant risk_parameter risk_preference age\n",
       "1 1           0.6            risk_avoidant   21 \n",
       "2 2           1.3            risk_seeking    21 \n",
       "3 3           0.6            risk_avoidant   20 \n",
       "4 4           0.7            risk_avoidant   21 \n",
       "5 5           0.1            risk_avoidant   21 \n",
       "6 6           1.2            risk_seeking    22 "
      ]
     },
     "metadata": {},
     "output_type": "display_data"
    },
    {
     "data": {
      "text/html": [
       "<table>\n",
       "<thead><tr><th></th><th scope=col>participant</th><th scope=col>risk_parameter</th><th scope=col>risk_preference</th><th scope=col>age</th></tr></thead>\n",
       "<tbody>\n",
       "\t<tr><th scope=row>20</th><td>20           </td><td>0.9          </td><td>risk_avoidant</td><td>21           </td></tr>\n",
       "\t<tr><th scope=row>21</th><td>21           </td><td>1.1          </td><td>risk_seeking </td><td>22           </td></tr>\n",
       "\t<tr><th scope=row>22</th><td>22           </td><td>0.7          </td><td>risk_avoidant</td><td>22           </td></tr>\n",
       "\t<tr><th scope=row>23</th><td>23           </td><td>0.3          </td><td>risk_avoidant</td><td>21           </td></tr>\n",
       "\t<tr><th scope=row>24</th><td>24           </td><td>1.3          </td><td>risk_seeking </td><td>21           </td></tr>\n",
       "\t<tr><th scope=row>25</th><td>25           </td><td>0.4          </td><td>risk_avoidant</td><td>21           </td></tr>\n",
       "</tbody>\n",
       "</table>\n"
      ],
      "text/latex": [
       "\\begin{tabular}{r|llll}\n",
       "  & participant & risk\\_parameter & risk\\_preference & age\\\\\n",
       "\\hline\n",
       "\t20 & 20              & 0.9             & risk\\_avoidant & 21             \\\\\n",
       "\t21 & 21              & 1.1             & risk\\_seeking  & 22             \\\\\n",
       "\t22 & 22              & 0.7             & risk\\_avoidant & 22             \\\\\n",
       "\t23 & 23              & 0.3             & risk\\_avoidant & 21             \\\\\n",
       "\t24 & 24              & 1.3             & risk\\_seeking  & 21             \\\\\n",
       "\t25 & 25              & 0.4             & risk\\_avoidant & 21             \\\\\n",
       "\\end{tabular}\n"
      ],
      "text/markdown": [
       "\n",
       "| <!--/--> | participant | risk_parameter | risk_preference | age |\n",
       "|---|---|---|---|---|\n",
       "| 20 | 20            | 0.9           | risk_avoidant | 21            |\n",
       "| 21 | 21            | 1.1           | risk_seeking  | 22            |\n",
       "| 22 | 22            | 0.7           | risk_avoidant | 22            |\n",
       "| 23 | 23            | 0.3           | risk_avoidant | 21            |\n",
       "| 24 | 24            | 1.3           | risk_seeking  | 21            |\n",
       "| 25 | 25            | 0.4           | risk_avoidant | 21            |\n",
       "\n"
      ],
      "text/plain": [
       "   participant risk_parameter risk_preference age\n",
       "20 20          0.9            risk_avoidant   21 \n",
       "21 21          1.1            risk_seeking    22 \n",
       "22 22          0.7            risk_avoidant   22 \n",
       "23 23          0.3            risk_avoidant   21 \n",
       "24 24          1.3            risk_seeking    21 \n",
       "25 25          0.4            risk_avoidant   21 "
      ]
     },
     "metadata": {},
     "output_type": "display_data"
    }
   ],
   "source": [
    "# Inspect head and tail:\n",
    "head(fake_data)\n",
    "tail(fake_data)"
   ]
  },
  {
   "cell_type": "code",
   "execution_count": 20,
   "metadata": {},
   "outputs": [
    {
     "data": {
      "text/plain": [
       "  participant risk_parameter  risk_preference         age       \n",
       " Min.   : 1   Min.   :0.000   Length:25          Min.   :19.00  \n",
       " 1st Qu.: 7   1st Qu.:0.500   Class :character   1st Qu.:21.00  \n",
       " Median :13   Median :0.600   Mode  :character   Median :21.00  \n",
       " Mean   :13   Mean   :0.792                      Mean   :21.08  \n",
       " 3rd Qu.:19   3rd Qu.:1.100                      3rd Qu.:22.00  \n",
       " Max.   :25   Max.   :2.800                      Max.   :22.00  "
      ]
     },
     "metadata": {},
     "output_type": "display_data"
    }
   ],
   "source": [
    "summary(fake_data)"
   ]
  },
  {
   "cell_type": "markdown",
   "metadata": {},
   "source": [
    "## 2. Subsetting:"
   ]
  },
  {
   "cell_type": "code",
   "execution_count": 21,
   "metadata": {},
   "outputs": [
    {
     "data": {
      "text/html": [
       "1.2"
      ],
      "text/latex": [
       "1.2"
      ],
      "text/markdown": [
       "1.2"
      ],
      "text/plain": [
       "[1] 1.2"
      ]
     },
     "metadata": {},
     "output_type": "display_data"
    },
    {
     "data": {
      "text/html": [
       "<table>\n",
       "<thead><tr><th></th><th scope=col>participant</th><th scope=col>risk_parameter</th><th scope=col>risk_preference</th><th scope=col>age</th></tr></thead>\n",
       "<tbody>\n",
       "\t<tr><th scope=row>6</th><td>6           </td><td>1.2         </td><td>risk_seeking</td><td>22          </td></tr>\n",
       "</tbody>\n",
       "</table>\n"
      ],
      "text/latex": [
       "\\begin{tabular}{r|llll}\n",
       "  & participant & risk\\_parameter & risk\\_preference & age\\\\\n",
       "\\hline\n",
       "\t6 & 6              & 1.2            & risk\\_seeking & 22            \\\\\n",
       "\\end{tabular}\n"
      ],
      "text/markdown": [
       "\n",
       "| <!--/--> | participant | risk_parameter | risk_preference | age |\n",
       "|---|---|---|---|---|\n",
       "| 6 | 6            | 1.2          | risk_seeking | 22           |\n",
       "\n"
      ],
      "text/plain": [
       "  participant risk_parameter risk_preference age\n",
       "6 6           1.2            risk_seeking    22 "
      ]
     },
     "metadata": {},
     "output_type": "display_data"
    },
    {
     "data": {
      "text/html": [
       "<ol class=list-inline>\n",
       "\t<li>0.6</li>\n",
       "\t<li>1.3</li>\n",
       "\t<li>0.6</li>\n",
       "\t<li>0.7</li>\n",
       "\t<li>0.1</li>\n",
       "\t<li>1.2</li>\n",
       "\t<li>0.7</li>\n",
       "\t<li>0.6</li>\n",
       "\t<li>0.4</li>\n",
       "\t<li>1.7</li>\n",
       "\t<li>0.5</li>\n",
       "\t<li>0.5</li>\n",
       "\t<li>0</li>\n",
       "\t<li>0.5</li>\n",
       "\t<li>1.2</li>\n",
       "\t<li>0.6</li>\n",
       "\t<li>0.8</li>\n",
       "\t<li>2.8</li>\n",
       "\t<li>0.3</li>\n",
       "\t<li>0.9</li>\n",
       "\t<li>1.1</li>\n",
       "\t<li>0.7</li>\n",
       "\t<li>0.3</li>\n",
       "\t<li>1.3</li>\n",
       "\t<li>0.4</li>\n",
       "</ol>\n"
      ],
      "text/latex": [
       "\\begin{enumerate*}\n",
       "\\item 0.6\n",
       "\\item 1.3\n",
       "\\item 0.6\n",
       "\\item 0.7\n",
       "\\item 0.1\n",
       "\\item 1.2\n",
       "\\item 0.7\n",
       "\\item 0.6\n",
       "\\item 0.4\n",
       "\\item 1.7\n",
       "\\item 0.5\n",
       "\\item 0.5\n",
       "\\item 0\n",
       "\\item 0.5\n",
       "\\item 1.2\n",
       "\\item 0.6\n",
       "\\item 0.8\n",
       "\\item 2.8\n",
       "\\item 0.3\n",
       "\\item 0.9\n",
       "\\item 1.1\n",
       "\\item 0.7\n",
       "\\item 0.3\n",
       "\\item 1.3\n",
       "\\item 0.4\n",
       "\\end{enumerate*}\n"
      ],
      "text/markdown": [
       "1. 0.6\n",
       "2. 1.3\n",
       "3. 0.6\n",
       "4. 0.7\n",
       "5. 0.1\n",
       "6. 1.2\n",
       "7. 0.7\n",
       "8. 0.6\n",
       "9. 0.4\n",
       "10. 1.7\n",
       "11. 0.5\n",
       "12. 0.5\n",
       "13. 0\n",
       "14. 0.5\n",
       "15. 1.2\n",
       "16. 0.6\n",
       "17. 0.8\n",
       "18. 2.8\n",
       "19. 0.3\n",
       "20. 0.9\n",
       "21. 1.1\n",
       "22. 0.7\n",
       "23. 0.3\n",
       "24. 1.3\n",
       "25. 0.4\n",
       "\n",
       "\n"
      ],
      "text/plain": [
       " [1] 0.6 1.3 0.6 0.7 0.1 1.2 0.7 0.6 0.4 1.7 0.5 0.5 0.0 0.5 1.2 0.6 0.8 2.8 0.3\n",
       "[20] 0.9 1.1 0.7 0.3 1.3 0.4"
      ]
     },
     "metadata": {},
     "output_type": "display_data"
    }
   ],
   "source": [
    "# Index a specific cell:\n",
    "fake_data[6, \"risk_parameter\"]\n",
    "\n",
    "# or a row:\n",
    "fake_data[6,]\n",
    "\n",
    "# or a column:\n",
    "fake_data[,\"risk_parameter\"]"
   ]
  },
  {
   "cell_type": "code",
   "execution_count": 23,
   "metadata": {},
   "outputs": [
    {
     "data": {
      "text/html": [
       "<table>\n",
       "<thead><tr><th></th><th scope=col>participant</th><th scope=col>risk_parameter</th><th scope=col>risk_preference</th><th scope=col>age</th></tr></thead>\n",
       "<tbody>\n",
       "\t<tr><th scope=row>1</th><td> 1           </td><td>0.6          </td><td>risk_avoidant</td><td>21           </td></tr>\n",
       "\t<tr><th scope=row>3</th><td> 3           </td><td>0.6          </td><td>risk_avoidant</td><td>20           </td></tr>\n",
       "\t<tr><th scope=row>4</th><td> 4           </td><td>0.7          </td><td>risk_avoidant</td><td>21           </td></tr>\n",
       "\t<tr><th scope=row>5</th><td> 5           </td><td>0.1          </td><td>risk_avoidant</td><td>21           </td></tr>\n",
       "\t<tr><th scope=row>7</th><td> 7           </td><td>0.7          </td><td>risk_avoidant</td><td>22           </td></tr>\n",
       "\t<tr><th scope=row>8</th><td> 8           </td><td>0.6          </td><td>risk_avoidant</td><td>20           </td></tr>\n",
       "\t<tr><th scope=row>9</th><td> 9           </td><td>0.4          </td><td>risk_avoidant</td><td>22           </td></tr>\n",
       "\t<tr><th scope=row>11</th><td>11           </td><td>0.5          </td><td>risk_avoidant</td><td>21           </td></tr>\n",
       "\t<tr><th scope=row>12</th><td>12           </td><td>0.5          </td><td>risk_avoidant</td><td>21           </td></tr>\n",
       "\t<tr><th scope=row>13</th><td>13           </td><td>0.0          </td><td>risk_avoidant</td><td>21           </td></tr>\n",
       "\t<tr><th scope=row>14</th><td>14           </td><td>0.5          </td><td>risk_avoidant</td><td>21           </td></tr>\n",
       "\t<tr><th scope=row>16</th><td>16           </td><td>0.6          </td><td>risk_avoidant</td><td>22           </td></tr>\n",
       "\t<tr><th scope=row>17</th><td>17           </td><td>0.8          </td><td>risk_avoidant</td><td>22           </td></tr>\n",
       "\t<tr><th scope=row>19</th><td>19           </td><td>0.3          </td><td>risk_avoidant</td><td>21           </td></tr>\n",
       "\t<tr><th scope=row>20</th><td>20           </td><td>0.9          </td><td>risk_avoidant</td><td>21           </td></tr>\n",
       "\t<tr><th scope=row>22</th><td>22           </td><td>0.7          </td><td>risk_avoidant</td><td>22           </td></tr>\n",
       "\t<tr><th scope=row>23</th><td>23           </td><td>0.3          </td><td>risk_avoidant</td><td>21           </td></tr>\n",
       "\t<tr><th scope=row>25</th><td>25           </td><td>0.4          </td><td>risk_avoidant</td><td>21           </td></tr>\n",
       "</tbody>\n",
       "</table>\n"
      ],
      "text/latex": [
       "\\begin{tabular}{r|llll}\n",
       "  & participant & risk\\_parameter & risk\\_preference & age\\\\\n",
       "\\hline\n",
       "\t1 &  1              & 0.6             & risk\\_avoidant & 21             \\\\\n",
       "\t3 &  3              & 0.6             & risk\\_avoidant & 20             \\\\\n",
       "\t4 &  4              & 0.7             & risk\\_avoidant & 21             \\\\\n",
       "\t5 &  5              & 0.1             & risk\\_avoidant & 21             \\\\\n",
       "\t7 &  7              & 0.7             & risk\\_avoidant & 22             \\\\\n",
       "\t8 &  8              & 0.6             & risk\\_avoidant & 20             \\\\\n",
       "\t9 &  9              & 0.4             & risk\\_avoidant & 22             \\\\\n",
       "\t11 & 11              & 0.5             & risk\\_avoidant & 21             \\\\\n",
       "\t12 & 12              & 0.5             & risk\\_avoidant & 21             \\\\\n",
       "\t13 & 13              & 0.0             & risk\\_avoidant & 21             \\\\\n",
       "\t14 & 14              & 0.5             & risk\\_avoidant & 21             \\\\\n",
       "\t16 & 16              & 0.6             & risk\\_avoidant & 22             \\\\\n",
       "\t17 & 17              & 0.8             & risk\\_avoidant & 22             \\\\\n",
       "\t19 & 19              & 0.3             & risk\\_avoidant & 21             \\\\\n",
       "\t20 & 20              & 0.9             & risk\\_avoidant & 21             \\\\\n",
       "\t22 & 22              & 0.7             & risk\\_avoidant & 22             \\\\\n",
       "\t23 & 23              & 0.3             & risk\\_avoidant & 21             \\\\\n",
       "\t25 & 25              & 0.4             & risk\\_avoidant & 21             \\\\\n",
       "\\end{tabular}\n"
      ],
      "text/markdown": [
       "\n",
       "| <!--/--> | participant | risk_parameter | risk_preference | age |\n",
       "|---|---|---|---|---|\n",
       "| 1 |  1            | 0.6           | risk_avoidant | 21            |\n",
       "| 3 |  3            | 0.6           | risk_avoidant | 20            |\n",
       "| 4 |  4            | 0.7           | risk_avoidant | 21            |\n",
       "| 5 |  5            | 0.1           | risk_avoidant | 21            |\n",
       "| 7 |  7            | 0.7           | risk_avoidant | 22            |\n",
       "| 8 |  8            | 0.6           | risk_avoidant | 20            |\n",
       "| 9 |  9            | 0.4           | risk_avoidant | 22            |\n",
       "| 11 | 11            | 0.5           | risk_avoidant | 21            |\n",
       "| 12 | 12            | 0.5           | risk_avoidant | 21            |\n",
       "| 13 | 13            | 0.0           | risk_avoidant | 21            |\n",
       "| 14 | 14            | 0.5           | risk_avoidant | 21            |\n",
       "| 16 | 16            | 0.6           | risk_avoidant | 22            |\n",
       "| 17 | 17            | 0.8           | risk_avoidant | 22            |\n",
       "| 19 | 19            | 0.3           | risk_avoidant | 21            |\n",
       "| 20 | 20            | 0.9           | risk_avoidant | 21            |\n",
       "| 22 | 22            | 0.7           | risk_avoidant | 22            |\n",
       "| 23 | 23            | 0.3           | risk_avoidant | 21            |\n",
       "| 25 | 25            | 0.4           | risk_avoidant | 21            |\n",
       "\n"
      ],
      "text/plain": [
       "   participant risk_parameter risk_preference age\n",
       "1   1          0.6            risk_avoidant   21 \n",
       "3   3          0.6            risk_avoidant   20 \n",
       "4   4          0.7            risk_avoidant   21 \n",
       "5   5          0.1            risk_avoidant   21 \n",
       "7   7          0.7            risk_avoidant   22 \n",
       "8   8          0.6            risk_avoidant   20 \n",
       "9   9          0.4            risk_avoidant   22 \n",
       "11 11          0.5            risk_avoidant   21 \n",
       "12 12          0.5            risk_avoidant   21 \n",
       "13 13          0.0            risk_avoidant   21 \n",
       "14 14          0.5            risk_avoidant   21 \n",
       "16 16          0.6            risk_avoidant   22 \n",
       "17 17          0.8            risk_avoidant   22 \n",
       "19 19          0.3            risk_avoidant   21 \n",
       "20 20          0.9            risk_avoidant   21 \n",
       "22 22          0.7            risk_avoidant   22 \n",
       "23 23          0.3            risk_avoidant   21 \n",
       "25 25          0.4            risk_avoidant   21 "
      ]
     },
     "metadata": {},
     "output_type": "display_data"
    },
    {
     "data": {
      "text/html": [
       "<table>\n",
       "<thead><tr><th></th><th scope=col>participant</th><th scope=col>risk_parameter</th><th scope=col>risk_preference</th><th scope=col>age</th></tr></thead>\n",
       "<tbody>\n",
       "\t<tr><th scope=row>1</th><td> 1           </td><td>0.6          </td><td>risk_avoidant</td><td>21           </td></tr>\n",
       "\t<tr><th scope=row>3</th><td> 3           </td><td>0.6          </td><td>risk_avoidant</td><td>20           </td></tr>\n",
       "\t<tr><th scope=row>4</th><td> 4           </td><td>0.7          </td><td>risk_avoidant</td><td>21           </td></tr>\n",
       "\t<tr><th scope=row>5</th><td> 5           </td><td>0.1          </td><td>risk_avoidant</td><td>21           </td></tr>\n",
       "\t<tr><th scope=row>7</th><td> 7           </td><td>0.7          </td><td>risk_avoidant</td><td>22           </td></tr>\n",
       "\t<tr><th scope=row>8</th><td> 8           </td><td>0.6          </td><td>risk_avoidant</td><td>20           </td></tr>\n",
       "\t<tr><th scope=row>9</th><td> 9           </td><td>0.4          </td><td>risk_avoidant</td><td>22           </td></tr>\n",
       "\t<tr><th scope=row>11</th><td>11           </td><td>0.5          </td><td>risk_avoidant</td><td>21           </td></tr>\n",
       "\t<tr><th scope=row>12</th><td>12           </td><td>0.5          </td><td>risk_avoidant</td><td>21           </td></tr>\n",
       "\t<tr><th scope=row>13</th><td>13           </td><td>0.0          </td><td>risk_avoidant</td><td>21           </td></tr>\n",
       "\t<tr><th scope=row>14</th><td>14           </td><td>0.5          </td><td>risk_avoidant</td><td>21           </td></tr>\n",
       "\t<tr><th scope=row>16</th><td>16           </td><td>0.6          </td><td>risk_avoidant</td><td>22           </td></tr>\n",
       "\t<tr><th scope=row>17</th><td>17           </td><td>0.8          </td><td>risk_avoidant</td><td>22           </td></tr>\n",
       "\t<tr><th scope=row>19</th><td>19           </td><td>0.3          </td><td>risk_avoidant</td><td>21           </td></tr>\n",
       "\t<tr><th scope=row>20</th><td>20           </td><td>0.9          </td><td>risk_avoidant</td><td>21           </td></tr>\n",
       "\t<tr><th scope=row>22</th><td>22           </td><td>0.7          </td><td>risk_avoidant</td><td>22           </td></tr>\n",
       "\t<tr><th scope=row>23</th><td>23           </td><td>0.3          </td><td>risk_avoidant</td><td>21           </td></tr>\n",
       "\t<tr><th scope=row>25</th><td>25           </td><td>0.4          </td><td>risk_avoidant</td><td>21           </td></tr>\n",
       "</tbody>\n",
       "</table>\n"
      ],
      "text/latex": [
       "\\begin{tabular}{r|llll}\n",
       "  & participant & risk\\_parameter & risk\\_preference & age\\\\\n",
       "\\hline\n",
       "\t1 &  1              & 0.6             & risk\\_avoidant & 21             \\\\\n",
       "\t3 &  3              & 0.6             & risk\\_avoidant & 20             \\\\\n",
       "\t4 &  4              & 0.7             & risk\\_avoidant & 21             \\\\\n",
       "\t5 &  5              & 0.1             & risk\\_avoidant & 21             \\\\\n",
       "\t7 &  7              & 0.7             & risk\\_avoidant & 22             \\\\\n",
       "\t8 &  8              & 0.6             & risk\\_avoidant & 20             \\\\\n",
       "\t9 &  9              & 0.4             & risk\\_avoidant & 22             \\\\\n",
       "\t11 & 11              & 0.5             & risk\\_avoidant & 21             \\\\\n",
       "\t12 & 12              & 0.5             & risk\\_avoidant & 21             \\\\\n",
       "\t13 & 13              & 0.0             & risk\\_avoidant & 21             \\\\\n",
       "\t14 & 14              & 0.5             & risk\\_avoidant & 21             \\\\\n",
       "\t16 & 16              & 0.6             & risk\\_avoidant & 22             \\\\\n",
       "\t17 & 17              & 0.8             & risk\\_avoidant & 22             \\\\\n",
       "\t19 & 19              & 0.3             & risk\\_avoidant & 21             \\\\\n",
       "\t20 & 20              & 0.9             & risk\\_avoidant & 21             \\\\\n",
       "\t22 & 22              & 0.7             & risk\\_avoidant & 22             \\\\\n",
       "\t23 & 23              & 0.3             & risk\\_avoidant & 21             \\\\\n",
       "\t25 & 25              & 0.4             & risk\\_avoidant & 21             \\\\\n",
       "\\end{tabular}\n"
      ],
      "text/markdown": [
       "\n",
       "| <!--/--> | participant | risk_parameter | risk_preference | age |\n",
       "|---|---|---|---|---|\n",
       "| 1 |  1            | 0.6           | risk_avoidant | 21            |\n",
       "| 3 |  3            | 0.6           | risk_avoidant | 20            |\n",
       "| 4 |  4            | 0.7           | risk_avoidant | 21            |\n",
       "| 5 |  5            | 0.1           | risk_avoidant | 21            |\n",
       "| 7 |  7            | 0.7           | risk_avoidant | 22            |\n",
       "| 8 |  8            | 0.6           | risk_avoidant | 20            |\n",
       "| 9 |  9            | 0.4           | risk_avoidant | 22            |\n",
       "| 11 | 11            | 0.5           | risk_avoidant | 21            |\n",
       "| 12 | 12            | 0.5           | risk_avoidant | 21            |\n",
       "| 13 | 13            | 0.0           | risk_avoidant | 21            |\n",
       "| 14 | 14            | 0.5           | risk_avoidant | 21            |\n",
       "| 16 | 16            | 0.6           | risk_avoidant | 22            |\n",
       "| 17 | 17            | 0.8           | risk_avoidant | 22            |\n",
       "| 19 | 19            | 0.3           | risk_avoidant | 21            |\n",
       "| 20 | 20            | 0.9           | risk_avoidant | 21            |\n",
       "| 22 | 22            | 0.7           | risk_avoidant | 22            |\n",
       "| 23 | 23            | 0.3           | risk_avoidant | 21            |\n",
       "| 25 | 25            | 0.4           | risk_avoidant | 21            |\n",
       "\n"
      ],
      "text/plain": [
       "   participant risk_parameter risk_preference age\n",
       "1   1          0.6            risk_avoidant   21 \n",
       "3   3          0.6            risk_avoidant   20 \n",
       "4   4          0.7            risk_avoidant   21 \n",
       "5   5          0.1            risk_avoidant   21 \n",
       "7   7          0.7            risk_avoidant   22 \n",
       "8   8          0.6            risk_avoidant   20 \n",
       "9   9          0.4            risk_avoidant   22 \n",
       "11 11          0.5            risk_avoidant   21 \n",
       "12 12          0.5            risk_avoidant   21 \n",
       "13 13          0.0            risk_avoidant   21 \n",
       "14 14          0.5            risk_avoidant   21 \n",
       "16 16          0.6            risk_avoidant   22 \n",
       "17 17          0.8            risk_avoidant   22 \n",
       "19 19          0.3            risk_avoidant   21 \n",
       "20 20          0.9            risk_avoidant   21 \n",
       "22 22          0.7            risk_avoidant   22 \n",
       "23 23          0.3            risk_avoidant   21 \n",
       "25 25          0.4            risk_avoidant   21 "
      ]
     },
     "metadata": {},
     "output_type": "display_data"
    },
    {
     "data": {
      "text/html": [
       "<table>\n",
       "<thead><tr><th></th><th scope=col>participant</th><th scope=col>age</th></tr></thead>\n",
       "<tbody>\n",
       "\t<tr><th scope=row>6</th><td> 6</td><td>22</td></tr>\n",
       "\t<tr><th scope=row>7</th><td> 7</td><td>22</td></tr>\n",
       "\t<tr><th scope=row>9</th><td> 9</td><td>22</td></tr>\n",
       "\t<tr><th scope=row>15</th><td>15</td><td>22</td></tr>\n",
       "\t<tr><th scope=row>16</th><td>16</td><td>22</td></tr>\n",
       "\t<tr><th scope=row>17</th><td>17</td><td>22</td></tr>\n",
       "\t<tr><th scope=row>21</th><td>21</td><td>22</td></tr>\n",
       "\t<tr><th scope=row>22</th><td>22</td><td>22</td></tr>\n",
       "</tbody>\n",
       "</table>\n"
      ],
      "text/latex": [
       "\\begin{tabular}{r|ll}\n",
       "  & participant & age\\\\\n",
       "\\hline\n",
       "\t6 &  6 & 22\\\\\n",
       "\t7 &  7 & 22\\\\\n",
       "\t9 &  9 & 22\\\\\n",
       "\t15 & 15 & 22\\\\\n",
       "\t16 & 16 & 22\\\\\n",
       "\t17 & 17 & 22\\\\\n",
       "\t21 & 21 & 22\\\\\n",
       "\t22 & 22 & 22\\\\\n",
       "\\end{tabular}\n"
      ],
      "text/markdown": [
       "\n",
       "| <!--/--> | participant | age |\n",
       "|---|---|---|\n",
       "| 6 |  6 | 22 |\n",
       "| 7 |  7 | 22 |\n",
       "| 9 |  9 | 22 |\n",
       "| 15 | 15 | 22 |\n",
       "| 16 | 16 | 22 |\n",
       "| 17 | 17 | 22 |\n",
       "| 21 | 21 | 22 |\n",
       "| 22 | 22 | 22 |\n",
       "\n"
      ],
      "text/plain": [
       "   participant age\n",
       "6   6          22 \n",
       "7   7          22 \n",
       "9   9          22 \n",
       "15 15          22 \n",
       "16 16          22 \n",
       "17 17          22 \n",
       "21 21          22 \n",
       "22 22          22 "
      ]
     },
     "metadata": {},
     "output_type": "display_data"
    }
   ],
   "source": [
    "# Get rows based on a logical condition (aka Boolean indexing):\n",
    "fake_data[fake_data$risk_preference == 'risk_avoidant',]\n",
    "\n",
    "fake_data[fake_data$risk_parameter < 1,]\n",
    "\n",
    "# and maybe select only few columns to keep:\n",
    "subset(fake_data, \n",
    "       age >= 22, \n",
    "       select=c('participant', 'age'))\n",
    "\n",
    "fake_data[fake_data$age >= 22, c('participant', 'age')]"
   ]
  },
  {
   "cell_type": "code",
   "execution_count": 25,
   "metadata": {},
   "outputs": [
    {
     "data": {
      "text/html": [
       "<table>\n",
       "<thead><tr><th scope=col>risk_parameter</th><th scope=col>risk_preference</th><th scope=col>age</th></tr></thead>\n",
       "<tbody>\n",
       "\t<tr><td>0.6          </td><td>risk_avoidant</td><td>21           </td></tr>\n",
       "\t<tr><td>1.3          </td><td>risk_seeking </td><td>21           </td></tr>\n",
       "\t<tr><td>0.6          </td><td>risk_avoidant</td><td>20           </td></tr>\n",
       "\t<tr><td>0.7          </td><td>risk_avoidant</td><td>21           </td></tr>\n",
       "\t<tr><td>0.1          </td><td>risk_avoidant</td><td>21           </td></tr>\n",
       "\t<tr><td>1.2          </td><td>risk_seeking </td><td>22           </td></tr>\n",
       "</tbody>\n",
       "</table>\n"
      ],
      "text/latex": [
       "\\begin{tabular}{r|lll}\n",
       " risk\\_parameter & risk\\_preference & age\\\\\n",
       "\\hline\n",
       "\t 0.6             & risk\\_avoidant & 21             \\\\\n",
       "\t 1.3             & risk\\_seeking  & 21             \\\\\n",
       "\t 0.6             & risk\\_avoidant & 20             \\\\\n",
       "\t 0.7             & risk\\_avoidant & 21             \\\\\n",
       "\t 0.1             & risk\\_avoidant & 21             \\\\\n",
       "\t 1.2             & risk\\_seeking  & 22             \\\\\n",
       "\\end{tabular}\n"
      ],
      "text/markdown": [
       "\n",
       "| risk_parameter | risk_preference | age |\n",
       "|---|---|---|\n",
       "| 0.6           | risk_avoidant | 21            |\n",
       "| 1.3           | risk_seeking  | 21            |\n",
       "| 0.6           | risk_avoidant | 20            |\n",
       "| 0.7           | risk_avoidant | 21            |\n",
       "| 0.1           | risk_avoidant | 21            |\n",
       "| 1.2           | risk_seeking  | 22            |\n",
       "\n"
      ],
      "text/plain": [
       "  risk_parameter risk_preference age\n",
       "1 0.6            risk_avoidant   21 \n",
       "2 1.3            risk_seeking    21 \n",
       "3 0.6            risk_avoidant   20 \n",
       "4 0.7            risk_avoidant   21 \n",
       "5 0.1            risk_avoidant   21 \n",
       "6 1.2            risk_seeking    22 "
      ]
     },
     "metadata": {},
     "output_type": "display_data"
    },
    {
     "data": {
      "text/html": [
       "<table>\n",
       "<thead><tr><th scope=col>participant</th><th scope=col>risk_parameter</th><th scope=col>age</th></tr></thead>\n",
       "<tbody>\n",
       "\t<tr><td>1  </td><td>0.6</td><td>21 </td></tr>\n",
       "\t<tr><td>2  </td><td>1.3</td><td>21 </td></tr>\n",
       "\t<tr><td>3  </td><td>0.6</td><td>20 </td></tr>\n",
       "\t<tr><td>4  </td><td>0.7</td><td>21 </td></tr>\n",
       "\t<tr><td>5  </td><td>0.1</td><td>21 </td></tr>\n",
       "\t<tr><td>6  </td><td>1.2</td><td>22 </td></tr>\n",
       "</tbody>\n",
       "</table>\n"
      ],
      "text/latex": [
       "\\begin{tabular}{r|lll}\n",
       " participant & risk\\_parameter & age\\\\\n",
       "\\hline\n",
       "\t 1   & 0.6 & 21 \\\\\n",
       "\t 2   & 1.3 & 21 \\\\\n",
       "\t 3   & 0.6 & 20 \\\\\n",
       "\t 4   & 0.7 & 21 \\\\\n",
       "\t 5   & 0.1 & 21 \\\\\n",
       "\t 6   & 1.2 & 22 \\\\\n",
       "\\end{tabular}\n"
      ],
      "text/markdown": [
       "\n",
       "| participant | risk_parameter | age |\n",
       "|---|---|---|\n",
       "| 1   | 0.6 | 21  |\n",
       "| 2   | 1.3 | 21  |\n",
       "| 3   | 0.6 | 20  |\n",
       "| 4   | 0.7 | 21  |\n",
       "| 5   | 0.1 | 21  |\n",
       "| 6   | 1.2 | 22  |\n",
       "\n"
      ],
      "text/plain": [
       "  participant risk_parameter age\n",
       "1 1           0.6            21 \n",
       "2 2           1.3            21 \n",
       "3 3           0.6            20 \n",
       "4 4           0.7            21 \n",
       "5 5           0.1            21 \n",
       "6 6           1.2            22 "
      ]
     },
     "metadata": {},
     "output_type": "display_data"
    },
    {
     "data": {
      "text/html": [
       "<table>\n",
       "<thead><tr><th scope=col>participant</th><th scope=col>age</th></tr></thead>\n",
       "<tbody>\n",
       "\t<tr><td>1 </td><td>21</td></tr>\n",
       "\t<tr><td>2 </td><td>21</td></tr>\n",
       "\t<tr><td>3 </td><td>20</td></tr>\n",
       "\t<tr><td>4 </td><td>21</td></tr>\n",
       "\t<tr><td>5 </td><td>21</td></tr>\n",
       "\t<tr><td>6 </td><td>22</td></tr>\n",
       "</tbody>\n",
       "</table>\n"
      ],
      "text/latex": [
       "\\begin{tabular}{r|ll}\n",
       " participant & age\\\\\n",
       "\\hline\n",
       "\t 1  & 21\\\\\n",
       "\t 2  & 21\\\\\n",
       "\t 3  & 20\\\\\n",
       "\t 4  & 21\\\\\n",
       "\t 5  & 21\\\\\n",
       "\t 6  & 22\\\\\n",
       "\\end{tabular}\n"
      ],
      "text/markdown": [
       "\n",
       "| participant | age |\n",
       "|---|---|\n",
       "| 1  | 21 |\n",
       "| 2  | 21 |\n",
       "| 3  | 20 |\n",
       "| 4  | 21 |\n",
       "| 5  | 21 |\n",
       "| 6  | 22 |\n",
       "\n"
      ],
      "text/plain": [
       "  participant age\n",
       "1 1           21 \n",
       "2 2           21 \n",
       "3 3           20 \n",
       "4 4           21 \n",
       "5 5           21 \n",
       "6 6           22 "
      ]
     },
     "metadata": {},
     "output_type": "display_data"
    }
   ],
   "source": [
    "# Get everything apart from the first column:\n",
    "head(fake_data[,-1])\n",
    "\n",
    "# or third column:\n",
    "head(fake_data[,-3])\n",
    "\n",
    "# get specific columns based on the names:\n",
    "columns_to_keep = c('participant', 'age')\n",
    "head(fake_data[,columns_to_keep])"
   ]
  },
  {
   "cell_type": "markdown",
   "metadata": {},
   "source": [
    "## 3. Adding columns and rows:\n",
    "The usual form to add a new column is:\n",
    "\n",
    "data.frame.name$column.name <- vector,\n",
    "\n",
    "where the vector is either:\n",
    "- length = number of rows\n",
    "- lenght = 1 (in that case the same value is assigned to every row)\n",
    "- lenght < number of rows, where number of rows is a multiple of length (in that case the vector is repeated until the whole column is filled)\n",
    "\n",
    "Otherwise, you can use `cbind` and `merge`."
   ]
  },
  {
   "cell_type": "code",
   "execution_count": 27,
   "metadata": {},
   "outputs": [
    {
     "data": {
      "text/html": [
       "<table>\n",
       "<thead><tr><th scope=col>participant</th><th scope=col>gender</th><th scope=col>age</th><th scope=col>options</th><th scope=col>accuracy</th><th scope=col>RT_msec</th></tr></thead>\n",
       "<tbody>\n",
       "\t<tr><td>8   </td><td>male</td><td>18  </td><td>CD  </td><td>1   </td><td>2381</td></tr>\n",
       "\t<tr><td>8   </td><td>male</td><td>18  </td><td>CD  </td><td>1   </td><td>1730</td></tr>\n",
       "\t<tr><td>8   </td><td>male</td><td>18  </td><td>AB  </td><td>1   </td><td>1114</td></tr>\n",
       "\t<tr><td>8   </td><td>male</td><td>18  </td><td>AC  </td><td>1   </td><td> 600</td></tr>\n",
       "\t<tr><td>8   </td><td>male</td><td>18  </td><td>CD  </td><td>1   </td><td> 683</td></tr>\n",
       "\t<tr><td>8   </td><td>male</td><td>18  </td><td>AC  </td><td>0   </td><td> 854</td></tr>\n",
       "</tbody>\n",
       "</table>\n"
      ],
      "text/latex": [
       "\\begin{tabular}{r|llllll}\n",
       " participant & gender & age & options & accuracy & RT\\_msec\\\\\n",
       "\\hline\n",
       "\t 8    & male & 18   & CD   & 1    & 2381\\\\\n",
       "\t 8    & male & 18   & CD   & 1    & 1730\\\\\n",
       "\t 8    & male & 18   & AB   & 1    & 1114\\\\\n",
       "\t 8    & male & 18   & AC   & 1    &  600\\\\\n",
       "\t 8    & male & 18   & CD   & 1    &  683\\\\\n",
       "\t 8    & male & 18   & AC   & 0    &  854\\\\\n",
       "\\end{tabular}\n"
      ],
      "text/markdown": [
       "\n",
       "| participant | gender | age | options | accuracy | RT_msec |\n",
       "|---|---|---|---|---|---|\n",
       "| 8    | male | 18   | CD   | 1    | 2381 |\n",
       "| 8    | male | 18   | CD   | 1    | 1730 |\n",
       "| 8    | male | 18   | AB   | 1    | 1114 |\n",
       "| 8    | male | 18   | AC   | 1    |  600 |\n",
       "| 8    | male | 18   | CD   | 1    |  683 |\n",
       "| 8    | male | 18   | AC   | 0    |  854 |\n",
       "\n"
      ],
      "text/plain": [
       "  participant gender age options accuracy RT_msec\n",
       "1 8           male   18  CD      1        2381   \n",
       "2 8           male   18  CD      1        1730   \n",
       "3 8           male   18  AB      1        1114   \n",
       "4 8           male   18  AC      1         600   \n",
       "5 8           male   18  CD      1         683   \n",
       "6 8           male   18  AC      0         854   "
      ]
     },
     "metadata": {},
     "output_type": "display_data"
    },
    {
     "data": {
      "text/html": [
       "<table>\n",
       "<thead><tr><th></th><th scope=col>participant</th><th scope=col>gender</th><th scope=col>age</th><th scope=col>options</th><th scope=col>accuracy</th><th scope=col>RT_msec</th></tr></thead>\n",
       "<tbody>\n",
       "\t<tr><th scope=row>3643</th><td>49    </td><td>female</td><td>23    </td><td>BD    </td><td> 1    </td><td>1564  </td></tr>\n",
       "\t<tr><th scope=row>3644</th><td>49    </td><td>female</td><td>23    </td><td>BD    </td><td> 1    </td><td>1383  </td></tr>\n",
       "\t<tr><th scope=row>3645</th><td>49    </td><td>female</td><td>23    </td><td>AC    </td><td> 1    </td><td>1647  </td></tr>\n",
       "\t<tr><th scope=row>3646</th><td>49    </td><td>female</td><td>23    </td><td>AC    </td><td> 1    </td><td> 978  </td></tr>\n",
       "\t<tr><th scope=row>3647</th><td>49    </td><td>female</td><td>23    </td><td>CD    </td><td> 1    </td><td>1316  </td></tr>\n",
       "\t<tr><th scope=row>3648</th><td>49    </td><td>female</td><td>23    </td><td>CD    </td><td>NA    </td><td>  NA  </td></tr>\n",
       "</tbody>\n",
       "</table>\n"
      ],
      "text/latex": [
       "\\begin{tabular}{r|llllll}\n",
       "  & participant & gender & age & options & accuracy & RT\\_msec\\\\\n",
       "\\hline\n",
       "\t3643 & 49     & female & 23     & BD     &  1     & 1564  \\\\\n",
       "\t3644 & 49     & female & 23     & BD     &  1     & 1383  \\\\\n",
       "\t3645 & 49     & female & 23     & AC     &  1     & 1647  \\\\\n",
       "\t3646 & 49     & female & 23     & AC     &  1     &  978  \\\\\n",
       "\t3647 & 49     & female & 23     & CD     &  1     & 1316  \\\\\n",
       "\t3648 & 49     & female & 23     & CD     & NA     &   NA  \\\\\n",
       "\\end{tabular}\n"
      ],
      "text/markdown": [
       "\n",
       "| <!--/--> | participant | gender | age | options | accuracy | RT_msec |\n",
       "|---|---|---|---|---|---|---|\n",
       "| 3643 | 49     | female | 23     | BD     |  1     | 1564   |\n",
       "| 3644 | 49     | female | 23     | BD     |  1     | 1383   |\n",
       "| 3645 | 49     | female | 23     | AC     |  1     | 1647   |\n",
       "| 3646 | 49     | female | 23     | AC     |  1     |  978   |\n",
       "| 3647 | 49     | female | 23     | CD     |  1     | 1316   |\n",
       "| 3648 | 49     | female | 23     | CD     | NA     |   NA   |\n",
       "\n"
      ],
      "text/plain": [
       "     participant gender age options accuracy RT_msec\n",
       "3643 49          female 23  BD       1       1564   \n",
       "3644 49          female 23  BD       1       1383   \n",
       "3645 49          female 23  AC       1       1647   \n",
       "3646 49          female 23  AC       1        978   \n",
       "3647 49          female 23  CD       1       1316   \n",
       "3648 49          female 23  CD      NA         NA   "
      ]
     },
     "metadata": {},
     "output_type": "display_data"
    }
   ],
   "source": [
    "# Load some example data:\n",
    "data <- read.table('~/git/RcourseSpring2019/data/data_taskA.txt')\n",
    "row.names(data) <- NULL\n",
    "head(data)\n",
    "tail(data)"
   ]
  },
  {
   "cell_type": "code",
   "execution_count": 28,
   "metadata": {},
   "outputs": [
    {
     "data": {
      "text/html": [
       "<table>\n",
       "<thead><tr><th scope=col>participant</th><th scope=col>gender</th><th scope=col>age</th><th scope=col>options</th><th scope=col>accuracy</th><th scope=col>RT_msec</th><th scope=col>RT_sec</th><th scope=col>conditionA</th><th scope=col>conditionB</th></tr></thead>\n",
       "<tbody>\n",
       "\t<tr><td>8        </td><td>male     </td><td>18       </td><td>CD       </td><td>1        </td><td>2381     </td><td>2.381    </td><td>difficult</td><td>difficult</td></tr>\n",
       "\t<tr><td>8        </td><td>male     </td><td>18       </td><td>CD       </td><td>1        </td><td>1730     </td><td>1.730    </td><td>difficult</td><td>easy     </td></tr>\n",
       "\t<tr><td>8        </td><td>male     </td><td>18       </td><td>AB       </td><td>1        </td><td>1114     </td><td>1.114    </td><td>difficult</td><td>difficult</td></tr>\n",
       "\t<tr><td>8        </td><td>male     </td><td>18       </td><td>AC       </td><td>1        </td><td> 600     </td><td>0.600    </td><td>difficult</td><td>easy     </td></tr>\n",
       "\t<tr><td>8        </td><td>male     </td><td>18       </td><td>CD       </td><td>1        </td><td> 683     </td><td>0.683    </td><td>difficult</td><td>difficult</td></tr>\n",
       "\t<tr><td>8        </td><td>male     </td><td>18       </td><td>AC       </td><td>0        </td><td> 854     </td><td>0.854    </td><td>difficult</td><td>easy     </td></tr>\n",
       "</tbody>\n",
       "</table>\n"
      ],
      "text/latex": [
       "\\begin{tabular}{r|lllllllll}\n",
       " participant & gender & age & options & accuracy & RT\\_msec & RT\\_sec & conditionA & conditionB\\\\\n",
       "\\hline\n",
       "\t 8         & male      & 18        & CD        & 1         & 2381      & 2.381     & difficult & difficult\\\\\n",
       "\t 8         & male      & 18        & CD        & 1         & 1730      & 1.730     & difficult & easy     \\\\\n",
       "\t 8         & male      & 18        & AB        & 1         & 1114      & 1.114     & difficult & difficult\\\\\n",
       "\t 8         & male      & 18        & AC        & 1         &  600      & 0.600     & difficult & easy     \\\\\n",
       "\t 8         & male      & 18        & CD        & 1         &  683      & 0.683     & difficult & difficult\\\\\n",
       "\t 8         & male      & 18        & AC        & 0         &  854      & 0.854     & difficult & easy     \\\\\n",
       "\\end{tabular}\n"
      ],
      "text/markdown": [
       "\n",
       "| participant | gender | age | options | accuracy | RT_msec | RT_sec | conditionA | conditionB |\n",
       "|---|---|---|---|---|---|---|---|---|\n",
       "| 8         | male      | 18        | CD        | 1         | 2381      | 2.381     | difficult | difficult |\n",
       "| 8         | male      | 18        | CD        | 1         | 1730      | 1.730     | difficult | easy      |\n",
       "| 8         | male      | 18        | AB        | 1         | 1114      | 1.114     | difficult | difficult |\n",
       "| 8         | male      | 18        | AC        | 1         |  600      | 0.600     | difficult | easy      |\n",
       "| 8         | male      | 18        | CD        | 1         |  683      | 0.683     | difficult | difficult |\n",
       "| 8         | male      | 18        | AC        | 0         |  854      | 0.854     | difficult | easy      |\n",
       "\n"
      ],
      "text/plain": [
       "  participant gender age options accuracy RT_msec RT_sec conditionA conditionB\n",
       "1 8           male   18  CD      1        2381    2.381  difficult  difficult \n",
       "2 8           male   18  CD      1        1730    1.730  difficult  easy      \n",
       "3 8           male   18  AB      1        1114    1.114  difficult  difficult \n",
       "4 8           male   18  AC      1         600    0.600  difficult  easy      \n",
       "5 8           male   18  CD      1         683    0.683  difficult  difficult \n",
       "6 8           male   18  AC      0         854    0.854  difficult  easy      "
      ]
     },
     "metadata": {},
     "output_type": "display_data"
    },
    {
     "data": {
      "text/html": [
       "<table>\n",
       "<thead><tr><th></th><th scope=col>participant</th><th scope=col>gender</th><th scope=col>age</th><th scope=col>options</th><th scope=col>accuracy</th><th scope=col>RT_msec</th><th scope=col>RT_sec</th><th scope=col>conditionA</th><th scope=col>conditionB</th></tr></thead>\n",
       "<tbody>\n",
       "\t<tr><th scope=row>3643</th><td>49       </td><td>female   </td><td>23       </td><td>BD       </td><td> 1       </td><td>1564     </td><td>1.564    </td><td>difficult</td><td>difficult</td></tr>\n",
       "\t<tr><th scope=row>3644</th><td>49       </td><td>female   </td><td>23       </td><td>BD       </td><td> 1       </td><td>1383     </td><td>1.383    </td><td>difficult</td><td>easy     </td></tr>\n",
       "\t<tr><th scope=row>3645</th><td>49       </td><td>female   </td><td>23       </td><td>AC       </td><td> 1       </td><td>1647     </td><td>1.647    </td><td>difficult</td><td>difficult</td></tr>\n",
       "\t<tr><th scope=row>3646</th><td>49       </td><td>female   </td><td>23       </td><td>AC       </td><td> 1       </td><td> 978     </td><td>0.978    </td><td>difficult</td><td>easy     </td></tr>\n",
       "\t<tr><th scope=row>3647</th><td>49       </td><td>female   </td><td>23       </td><td>CD       </td><td> 1       </td><td>1316     </td><td>1.316    </td><td>difficult</td><td>difficult</td></tr>\n",
       "\t<tr><th scope=row>3648</th><td>49       </td><td>female   </td><td>23       </td><td>CD       </td><td>NA       </td><td>  NA     </td><td>   NA    </td><td>difficult</td><td>easy     </td></tr>\n",
       "</tbody>\n",
       "</table>\n"
      ],
      "text/latex": [
       "\\begin{tabular}{r|lllllllll}\n",
       "  & participant & gender & age & options & accuracy & RT\\_msec & RT\\_sec & conditionA & conditionB\\\\\n",
       "\\hline\n",
       "\t3643 & 49        & female    & 23        & BD        &  1        & 1564      & 1.564     & difficult & difficult\\\\\n",
       "\t3644 & 49        & female    & 23        & BD        &  1        & 1383      & 1.383     & difficult & easy     \\\\\n",
       "\t3645 & 49        & female    & 23        & AC        &  1        & 1647      & 1.647     & difficult & difficult\\\\\n",
       "\t3646 & 49        & female    & 23        & AC        &  1        &  978      & 0.978     & difficult & easy     \\\\\n",
       "\t3647 & 49        & female    & 23        & CD        &  1        & 1316      & 1.316     & difficult & difficult\\\\\n",
       "\t3648 & 49        & female    & 23        & CD        & NA        &   NA      &    NA     & difficult & easy     \\\\\n",
       "\\end{tabular}\n"
      ],
      "text/markdown": [
       "\n",
       "| <!--/--> | participant | gender | age | options | accuracy | RT_msec | RT_sec | conditionA | conditionB |\n",
       "|---|---|---|---|---|---|---|---|---|---|\n",
       "| 3643 | 49        | female    | 23        | BD        |  1        | 1564      | 1.564     | difficult | difficult |\n",
       "| 3644 | 49        | female    | 23        | BD        |  1        | 1383      | 1.383     | difficult | easy      |\n",
       "| 3645 | 49        | female    | 23        | AC        |  1        | 1647      | 1.647     | difficult | difficult |\n",
       "| 3646 | 49        | female    | 23        | AC        |  1        |  978      | 0.978     | difficult | easy      |\n",
       "| 3647 | 49        | female    | 23        | CD        |  1        | 1316      | 1.316     | difficult | difficult |\n",
       "| 3648 | 49        | female    | 23        | CD        | NA        |   NA      |    NA     | difficult | easy      |\n",
       "\n"
      ],
      "text/plain": [
       "     participant gender age options accuracy RT_msec RT_sec conditionA\n",
       "3643 49          female 23  BD       1       1564    1.564  difficult \n",
       "3644 49          female 23  BD       1       1383    1.383  difficult \n",
       "3645 49          female 23  AC       1       1647    1.647  difficult \n",
       "3646 49          female 23  AC       1        978    0.978  difficult \n",
       "3647 49          female 23  CD       1       1316    1.316  difficult \n",
       "3648 49          female 23  CD      NA         NA       NA  difficult \n",
       "     conditionB\n",
       "3643 difficult \n",
       "3644 easy      \n",
       "3645 difficult \n",
       "3646 easy      \n",
       "3647 difficult \n",
       "3648 easy      "
      ]
     },
     "metadata": {},
     "output_type": "display_data"
    }
   ],
   "source": [
    "# Add a column:\n",
    "data$RT_sec <- data$RT_msec/1000\n",
    "data$conditionA <- 'difficult'\n",
    "data$conditionB <- c('difficult', 'easy')\n",
    "\n",
    "head(data)\n",
    "\n",
    "tail(data)"
   ]
  },
  {
   "cell_type": "code",
   "execution_count": 33,
   "metadata": {},
   "outputs": [
    {
     "ename": "ERROR",
     "evalue": "Error in `$<-.data.frame`(`*tmp*`, conditionC, value = c(\"a\", \"b\", \"c\", : replacement has 5 rows, data has 3648\n",
     "output_type": "error",
     "traceback": [
      "Error in `$<-.data.frame`(`*tmp*`, conditionC, value = c(\"a\", \"b\", \"c\", : replacement has 5 rows, data has 3648\nTraceback:\n",
      "1. `$<-`(`*tmp*`, conditionC, value = c(\"a\", \"b\", \"c\", \"d\", \"e\"))",
      "2. `$<-.data.frame`(`*tmp*`, conditionC, value = c(\"a\", \"b\", \"c\", \n . \"d\", \"e\"))",
      "3. stop(sprintf(ngettext(N, \"replacement has %d row, data has %d\", \n .     \"replacement has %d rows, data has %d\"), N, nrows), domain = NA)"
     ]
    }
   ],
   "source": [
    "# But:\n",
    "data$conditionC <- c('a', 'b', 'c', 'd', 'e')"
   ]
  },
  {
   "cell_type": "markdown",
   "metadata": {},
   "source": [
    "To add rows, you simply need to index a \"new line\" (as with adding columns), by either the row number or row name.\n",
    "\n",
    "Otherwise, you can simply use `rbind`."
   ]
  },
  {
   "cell_type": "code",
   "execution_count": 34,
   "metadata": {},
   "outputs": [
    {
     "data": {
      "text/html": [
       "3649"
      ],
      "text/latex": [
       "3649"
      ],
      "text/markdown": [
       "3649"
      ],
      "text/plain": [
       "[1] 3649"
      ]
     },
     "metadata": {},
     "output_type": "display_data"
    },
    {
     "data": {
      "text/html": [
       "<table>\n",
       "<thead><tr><th></th><th scope=col>participant</th><th scope=col>gender</th><th scope=col>age</th><th scope=col>options</th><th scope=col>accuracy</th><th scope=col>RT_msec</th><th scope=col>RT_sec</th><th scope=col>conditionA</th><th scope=col>conditionB</th><th scope=col>conditionC</th></tr></thead>\n",
       "<tbody>\n",
       "\t<tr><th scope=row>3644</th><td>49       </td><td>female   </td><td>23       </td><td>BD       </td><td> 1       </td><td>1383     </td><td>1.383    </td><td>difficult</td><td>easy     </td><td>d        </td></tr>\n",
       "\t<tr><th scope=row>3645</th><td>49       </td><td>female   </td><td>23       </td><td>AC       </td><td> 1       </td><td>1647     </td><td>1.647    </td><td>difficult</td><td>difficult</td><td>a        </td></tr>\n",
       "\t<tr><th scope=row>3646</th><td>49       </td><td>female   </td><td>23       </td><td>AC       </td><td> 1       </td><td> 978     </td><td>0.978    </td><td>difficult</td><td>easy     </td><td>b        </td></tr>\n",
       "\t<tr><th scope=row>3647</th><td>49       </td><td>female   </td><td>23       </td><td>CD       </td><td> 1       </td><td>1316     </td><td>1.316    </td><td>difficult</td><td>difficult</td><td>c        </td></tr>\n",
       "\t<tr><th scope=row>3648</th><td>49       </td><td>female   </td><td>23       </td><td>CD       </td><td>NA       </td><td>  NA     </td><td>   NA    </td><td>difficult</td><td>easy     </td><td>d        </td></tr>\n",
       "\t<tr><th scope=row>3649</th><td>50       </td><td>female   </td><td>NA       </td><td>NA       </td><td>NA       </td><td>  NA     </td><td>   NA    </td><td>NA       </td><td>NA       </td><td>NA       </td></tr>\n",
       "</tbody>\n",
       "</table>\n"
      ],
      "text/latex": [
       "\\begin{tabular}{r|llllllllll}\n",
       "  & participant & gender & age & options & accuracy & RT\\_msec & RT\\_sec & conditionA & conditionB & conditionC\\\\\n",
       "\\hline\n",
       "\t3644 & 49        & female    & 23        & BD        &  1        & 1383      & 1.383     & difficult & easy      & d        \\\\\n",
       "\t3645 & 49        & female    & 23        & AC        &  1        & 1647      & 1.647     & difficult & difficult & a        \\\\\n",
       "\t3646 & 49        & female    & 23        & AC        &  1        &  978      & 0.978     & difficult & easy      & b        \\\\\n",
       "\t3647 & 49        & female    & 23        & CD        &  1        & 1316      & 1.316     & difficult & difficult & c        \\\\\n",
       "\t3648 & 49        & female    & 23        & CD        & NA        &   NA      &    NA     & difficult & easy      & d        \\\\\n",
       "\t3649 & 50        & female    & NA        & NA        & NA        &   NA      &    NA     & NA        & NA        & NA       \\\\\n",
       "\\end{tabular}\n"
      ],
      "text/markdown": [
       "\n",
       "| <!--/--> | participant | gender | age | options | accuracy | RT_msec | RT_sec | conditionA | conditionB | conditionC |\n",
       "|---|---|---|---|---|---|---|---|---|---|---|\n",
       "| 3644 | 49        | female    | 23        | BD        |  1        | 1383      | 1.383     | difficult | easy      | d         |\n",
       "| 3645 | 49        | female    | 23        | AC        |  1        | 1647      | 1.647     | difficult | difficult | a         |\n",
       "| 3646 | 49        | female    | 23        | AC        |  1        |  978      | 0.978     | difficult | easy      | b         |\n",
       "| 3647 | 49        | female    | 23        | CD        |  1        | 1316      | 1.316     | difficult | difficult | c         |\n",
       "| 3648 | 49        | female    | 23        | CD        | NA        |   NA      |    NA     | difficult | easy      | d         |\n",
       "| 3649 | 50        | female    | NA        | NA        | NA        |   NA      |    NA     | NA        | NA        | NA        |\n",
       "\n"
      ],
      "text/plain": [
       "     participant gender age options accuracy RT_msec RT_sec conditionA\n",
       "3644 49          female 23  BD       1       1383    1.383  difficult \n",
       "3645 49          female 23  AC       1       1647    1.647  difficult \n",
       "3646 49          female 23  AC       1        978    0.978  difficult \n",
       "3647 49          female 23  CD       1       1316    1.316  difficult \n",
       "3648 49          female 23  CD      NA         NA       NA  difficult \n",
       "3649 50          female NA  NA      NA         NA       NA  NA        \n",
       "     conditionB conditionC\n",
       "3644 easy       d         \n",
       "3645 difficult  a         \n",
       "3646 easy       b         \n",
       "3647 difficult  c         \n",
       "3648 easy       d         \n",
       "3649 NA         NA        "
      ]
     },
     "metadata": {},
     "output_type": "display_data"
    }
   ],
   "source": [
    "# Add a row with values for specific columns:\n",
    "new_row <- dim(data)[1] + 1\n",
    "new_row\n",
    "\n",
    "data[new_row, c(1, 2)] <- c(50, 'female')\n",
    "\n",
    "tail(data)"
   ]
  },
  {
   "cell_type": "code",
   "execution_count": 35,
   "metadata": {},
   "outputs": [
    {
     "data": {
      "text/html": [
       "3650"
      ],
      "text/latex": [
       "3650"
      ],
      "text/markdown": [
       "3650"
      ],
      "text/plain": [
       "[1] 3650"
      ]
     },
     "metadata": {},
     "output_type": "display_data"
    },
    {
     "data": {
      "text/html": [
       "<table>\n",
       "<thead><tr><th></th><th scope=col>participant</th><th scope=col>gender</th><th scope=col>age</th><th scope=col>options</th><th scope=col>accuracy</th><th scope=col>RT_msec</th><th scope=col>RT_sec</th><th scope=col>conditionA</th><th scope=col>conditionB</th><th scope=col>conditionC</th></tr></thead>\n",
       "<tbody>\n",
       "\t<tr><th scope=row>3645</th><td>49       </td><td>female   </td><td>23       </td><td>AC       </td><td> 1       </td><td>1647     </td><td>1.647    </td><td>difficult</td><td>difficult</td><td>a        </td></tr>\n",
       "\t<tr><th scope=row>3646</th><td>49       </td><td>female   </td><td>23       </td><td>AC       </td><td> 1       </td><td> 978     </td><td>0.978    </td><td>difficult</td><td>easy     </td><td>b        </td></tr>\n",
       "\t<tr><th scope=row>3647</th><td>49       </td><td>female   </td><td>23       </td><td>CD       </td><td> 1       </td><td>1316     </td><td>1.316    </td><td>difficult</td><td>difficult</td><td>c        </td></tr>\n",
       "\t<tr><th scope=row>3648</th><td>49       </td><td>female   </td><td>23       </td><td>CD       </td><td>NA       </td><td>  NA     </td><td>   NA    </td><td>difficult</td><td>easy     </td><td>d        </td></tr>\n",
       "\t<tr><th scope=row>3649</th><td>50       </td><td>female   </td><td>NA       </td><td>NA       </td><td>NA       </td><td>  NA     </td><td>   NA    </td><td>NA       </td><td>NA       </td><td>NA       </td></tr>\n",
       "\t<tr><th scope=row>3650</th><td>NA       </td><td>NA       </td><td>NA       </td><td>NA       </td><td>NA       </td><td>  NA     </td><td>   NA    </td><td>NA       </td><td>NA       </td><td>NA       </td></tr>\n",
       "</tbody>\n",
       "</table>\n"
      ],
      "text/latex": [
       "\\begin{tabular}{r|llllllllll}\n",
       "  & participant & gender & age & options & accuracy & RT\\_msec & RT\\_sec & conditionA & conditionB & conditionC\\\\\n",
       "\\hline\n",
       "\t3645 & 49        & female    & 23        & AC        &  1        & 1647      & 1.647     & difficult & difficult & a        \\\\\n",
       "\t3646 & 49        & female    & 23        & AC        &  1        &  978      & 0.978     & difficult & easy      & b        \\\\\n",
       "\t3647 & 49        & female    & 23        & CD        &  1        & 1316      & 1.316     & difficult & difficult & c        \\\\\n",
       "\t3648 & 49        & female    & 23        & CD        & NA        &   NA      &    NA     & difficult & easy      & d        \\\\\n",
       "\t3649 & 50        & female    & NA        & NA        & NA        &   NA      &    NA     & NA        & NA        & NA       \\\\\n",
       "\t3650 & NA        & NA        & NA        & NA        & NA        &   NA      &    NA     & NA        & NA        & NA       \\\\\n",
       "\\end{tabular}\n"
      ],
      "text/markdown": [
       "\n",
       "| <!--/--> | participant | gender | age | options | accuracy | RT_msec | RT_sec | conditionA | conditionB | conditionC |\n",
       "|---|---|---|---|---|---|---|---|---|---|---|\n",
       "| 3645 | 49        | female    | 23        | AC        |  1        | 1647      | 1.647     | difficult | difficult | a         |\n",
       "| 3646 | 49        | female    | 23        | AC        |  1        |  978      | 0.978     | difficult | easy      | b         |\n",
       "| 3647 | 49        | female    | 23        | CD        |  1        | 1316      | 1.316     | difficult | difficult | c         |\n",
       "| 3648 | 49        | female    | 23        | CD        | NA        |   NA      |    NA     | difficult | easy      | d         |\n",
       "| 3649 | 50        | female    | NA        | NA        | NA        |   NA      |    NA     | NA        | NA        | NA        |\n",
       "| 3650 | NA        | NA        | NA        | NA        | NA        |   NA      |    NA     | NA        | NA        | NA        |\n",
       "\n"
      ],
      "text/plain": [
       "     participant gender age options accuracy RT_msec RT_sec conditionA\n",
       "3645 49          female 23  AC       1       1647    1.647  difficult \n",
       "3646 49          female 23  AC       1        978    0.978  difficult \n",
       "3647 49          female 23  CD       1       1316    1.316  difficult \n",
       "3648 49          female 23  CD      NA         NA       NA  difficult \n",
       "3649 50          female NA  NA      NA         NA       NA  NA        \n",
       "3650 NA          NA     NA  NA      NA         NA       NA  NA        \n",
       "     conditionB conditionC\n",
       "3645 difficult  a         \n",
       "3646 easy       b         \n",
       "3647 difficult  c         \n",
       "3648 easy       d         \n",
       "3649 NA         NA        \n",
       "3650 NA         NA        "
      ]
     },
     "metadata": {},
     "output_type": "display_data"
    }
   ],
   "source": [
    "# Add a row with the same value for all columns:\n",
    "new_row <- new_row + 1\n",
    "new_row\n",
    "\n",
    "data[new_row,] <- NA\n",
    "\n",
    "tail(data)"
   ]
  },
  {
   "cell_type": "markdown",
   "metadata": {},
   "source": [
    "## 4. Missing values"
   ]
  },
  {
   "cell_type": "code",
   "execution_count": 37,
   "metadata": {},
   "outputs": [
    {
     "data": {
      "text/html": [
       "<table>\n",
       "<thead><tr><th></th><th scope=col>participant</th><th scope=col>gender</th><th scope=col>age</th><th scope=col>options</th><th scope=col>accuracy</th><th scope=col>RT_msec</th><th scope=col>RT_sec</th><th scope=col>conditionA</th><th scope=col>conditionB</th><th scope=col>conditionC</th></tr></thead>\n",
       "<tbody>\n",
       "\t<tr><th scope=row>3642</th><td>49       </td><td>female   </td><td>23       </td><td>CD       </td><td>0        </td><td>1156     </td><td>1.156    </td><td>difficult</td><td>easy     </td><td>b        </td></tr>\n",
       "\t<tr><th scope=row>3643</th><td>49       </td><td>female   </td><td>23       </td><td>BD       </td><td>1        </td><td>1564     </td><td>1.564    </td><td>difficult</td><td>difficult</td><td>c        </td></tr>\n",
       "\t<tr><th scope=row>3644</th><td>49       </td><td>female   </td><td>23       </td><td>BD       </td><td>1        </td><td>1383     </td><td>1.383    </td><td>difficult</td><td>easy     </td><td>d        </td></tr>\n",
       "\t<tr><th scope=row>3645</th><td>49       </td><td>female   </td><td>23       </td><td>AC       </td><td>1        </td><td>1647     </td><td>1.647    </td><td>difficult</td><td>difficult</td><td>a        </td></tr>\n",
       "\t<tr><th scope=row>3646</th><td>49       </td><td>female   </td><td>23       </td><td>AC       </td><td>1        </td><td> 978     </td><td>0.978    </td><td>difficult</td><td>easy     </td><td>b        </td></tr>\n",
       "\t<tr><th scope=row>3647</th><td>49       </td><td>female   </td><td>23       </td><td>CD       </td><td>1        </td><td>1316     </td><td>1.316    </td><td>difficult</td><td>difficult</td><td>c        </td></tr>\n",
       "</tbody>\n",
       "</table>\n"
      ],
      "text/latex": [
       "\\begin{tabular}{r|llllllllll}\n",
       "  & participant & gender & age & options & accuracy & RT\\_msec & RT\\_sec & conditionA & conditionB & conditionC\\\\\n",
       "\\hline\n",
       "\t3642 & 49        & female    & 23        & CD        & 0         & 1156      & 1.156     & difficult & easy      & b        \\\\\n",
       "\t3643 & 49        & female    & 23        & BD        & 1         & 1564      & 1.564     & difficult & difficult & c        \\\\\n",
       "\t3644 & 49        & female    & 23        & BD        & 1         & 1383      & 1.383     & difficult & easy      & d        \\\\\n",
       "\t3645 & 49        & female    & 23        & AC        & 1         & 1647      & 1.647     & difficult & difficult & a        \\\\\n",
       "\t3646 & 49        & female    & 23        & AC        & 1         &  978      & 0.978     & difficult & easy      & b        \\\\\n",
       "\t3647 & 49        & female    & 23        & CD        & 1         & 1316      & 1.316     & difficult & difficult & c        \\\\\n",
       "\\end{tabular}\n"
      ],
      "text/markdown": [
       "\n",
       "| <!--/--> | participant | gender | age | options | accuracy | RT_msec | RT_sec | conditionA | conditionB | conditionC |\n",
       "|---|---|---|---|---|---|---|---|---|---|---|\n",
       "| 3642 | 49        | female    | 23        | CD        | 0         | 1156      | 1.156     | difficult | easy      | b         |\n",
       "| 3643 | 49        | female    | 23        | BD        | 1         | 1564      | 1.564     | difficult | difficult | c         |\n",
       "| 3644 | 49        | female    | 23        | BD        | 1         | 1383      | 1.383     | difficult | easy      | d         |\n",
       "| 3645 | 49        | female    | 23        | AC        | 1         | 1647      | 1.647     | difficult | difficult | a         |\n",
       "| 3646 | 49        | female    | 23        | AC        | 1         |  978      | 0.978     | difficult | easy      | b         |\n",
       "| 3647 | 49        | female    | 23        | CD        | 1         | 1316      | 1.316     | difficult | difficult | c         |\n",
       "\n"
      ],
      "text/plain": [
       "     participant gender age options accuracy RT_msec RT_sec conditionA\n",
       "3642 49          female 23  CD      0        1156    1.156  difficult \n",
       "3643 49          female 23  BD      1        1564    1.564  difficult \n",
       "3644 49          female 23  BD      1        1383    1.383  difficult \n",
       "3645 49          female 23  AC      1        1647    1.647  difficult \n",
       "3646 49          female 23  AC      1         978    0.978  difficult \n",
       "3647 49          female 23  CD      1        1316    1.316  difficult \n",
       "     conditionB conditionC\n",
       "3642 easy       b         \n",
       "3643 difficult  c         \n",
       "3644 easy       d         \n",
       "3645 difficult  a         \n",
       "3646 easy       b         \n",
       "3647 difficult  c         "
      ]
     },
     "metadata": {},
     "output_type": "display_data"
    },
    {
     "data": {
      "text/html": [
       "68"
      ],
      "text/latex": [
       "68"
      ],
      "text/markdown": [
       "68"
      ],
      "text/plain": [
       "[1] 68"
      ]
     },
     "metadata": {},
     "output_type": "display_data"
    }
   ],
   "source": [
    "# Remove any row containing missing values:\n",
    "data_noNA <- na.omit(data)\n",
    "\n",
    "tail(data_noNA)\n",
    "\n",
    "nrows_with_NA <- dim(data)[1] - dim(data_noNA)[1]\n",
    "nrows_with_NA"
   ]
  },
  {
   "cell_type": "code",
   "execution_count": 40,
   "metadata": {},
   "outputs": [
    {
     "data": {
      "text/html": [
       "<table>\n",
       "<thead><tr><th></th><th scope=col>participant</th><th scope=col>gender</th><th scope=col>age</th><th scope=col>options</th><th scope=col>accuracy</th><th scope=col>RT_msec</th><th scope=col>RT_sec</th><th scope=col>conditionA</th><th scope=col>conditionB</th><th scope=col>conditionC</th></tr></thead>\n",
       "<tbody>\n",
       "\t<tr><th scope=row>3644</th><td>49       </td><td>female   </td><td>23       </td><td>BD       </td><td> 1       </td><td>1383     </td><td>1.383    </td><td>difficult</td><td>easy     </td><td>d        </td></tr>\n",
       "\t<tr><th scope=row>3645</th><td>49       </td><td>female   </td><td>23       </td><td>AC       </td><td> 1       </td><td>1647     </td><td>1.647    </td><td>difficult</td><td>difficult</td><td>a        </td></tr>\n",
       "\t<tr><th scope=row>3646</th><td>49       </td><td>female   </td><td>23       </td><td>AC       </td><td> 1       </td><td> 978     </td><td>0.978    </td><td>difficult</td><td>easy     </td><td>b        </td></tr>\n",
       "\t<tr><th scope=row>3647</th><td>49       </td><td>female   </td><td>23       </td><td>CD       </td><td> 1       </td><td>1316     </td><td>1.316    </td><td>difficult</td><td>difficult</td><td>c        </td></tr>\n",
       "\t<tr><th scope=row>3648</th><td>49       </td><td>female   </td><td>23       </td><td>CD       </td><td>NA       </td><td>  NA     </td><td>   NA    </td><td>difficult</td><td>easy     </td><td>d        </td></tr>\n",
       "\t<tr><th scope=row>3649</th><td>50       </td><td>female   </td><td>NA       </td><td>NA       </td><td>NA       </td><td>  NA     </td><td>   NA    </td><td>NA       </td><td>NA       </td><td>NA       </td></tr>\n",
       "</tbody>\n",
       "</table>\n"
      ],
      "text/latex": [
       "\\begin{tabular}{r|llllllllll}\n",
       "  & participant & gender & age & options & accuracy & RT\\_msec & RT\\_sec & conditionA & conditionB & conditionC\\\\\n",
       "\\hline\n",
       "\t3644 & 49        & female    & 23        & BD        &  1        & 1383      & 1.383     & difficult & easy      & d        \\\\\n",
       "\t3645 & 49        & female    & 23        & AC        &  1        & 1647      & 1.647     & difficult & difficult & a        \\\\\n",
       "\t3646 & 49        & female    & 23        & AC        &  1        &  978      & 0.978     & difficult & easy      & b        \\\\\n",
       "\t3647 & 49        & female    & 23        & CD        &  1        & 1316      & 1.316     & difficult & difficult & c        \\\\\n",
       "\t3648 & 49        & female    & 23        & CD        & NA        &   NA      &    NA     & difficult & easy      & d        \\\\\n",
       "\t3649 & 50        & female    & NA        & NA        & NA        &   NA      &    NA     & NA        & NA        & NA       \\\\\n",
       "\\end{tabular}\n"
      ],
      "text/markdown": [
       "\n",
       "| <!--/--> | participant | gender | age | options | accuracy | RT_msec | RT_sec | conditionA | conditionB | conditionC |\n",
       "|---|---|---|---|---|---|---|---|---|---|---|\n",
       "| 3644 | 49        | female    | 23        | BD        |  1        | 1383      | 1.383     | difficult | easy      | d         |\n",
       "| 3645 | 49        | female    | 23        | AC        |  1        | 1647      | 1.647     | difficult | difficult | a         |\n",
       "| 3646 | 49        | female    | 23        | AC        |  1        |  978      | 0.978     | difficult | easy      | b         |\n",
       "| 3647 | 49        | female    | 23        | CD        |  1        | 1316      | 1.316     | difficult | difficult | c         |\n",
       "| 3648 | 49        | female    | 23        | CD        | NA        |   NA      |    NA     | difficult | easy      | d         |\n",
       "| 3649 | 50        | female    | NA        | NA        | NA        |   NA      |    NA     | NA        | NA        | NA        |\n",
       "\n"
      ],
      "text/plain": [
       "     participant gender age options accuracy RT_msec RT_sec conditionA\n",
       "3644 49          female 23  BD       1       1383    1.383  difficult \n",
       "3645 49          female 23  AC       1       1647    1.647  difficult \n",
       "3646 49          female 23  AC       1        978    0.978  difficult \n",
       "3647 49          female 23  CD       1       1316    1.316  difficult \n",
       "3648 49          female 23  CD      NA         NA       NA  difficult \n",
       "3649 50          female NA  NA      NA         NA       NA  NA        \n",
       "     conditionB conditionC\n",
       "3644 easy       d         \n",
       "3645 difficult  a         \n",
       "3646 easy       b         \n",
       "3647 difficult  c         \n",
       "3648 easy       d         \n",
       "3649 NA         NA        "
      ]
     },
     "metadata": {},
     "output_type": "display_data"
    },
    {
     "data": {
      "text/html": [
       "1"
      ],
      "text/latex": [
       "1"
      ],
      "text/markdown": [
       "1"
      ],
      "text/plain": [
       "[1] 1"
      ]
     },
     "metadata": {},
     "output_type": "display_data"
    }
   ],
   "source": [
    "# Remove any row contanining missed participant number:\n",
    "data_noNA_participant <- data[!is.na(data$participant),]\n",
    "\n",
    "tail(data_noNA_participant)\n",
    "\n",
    "nrows_with_NA_participant <- dim(data)[1] - dim(data_noNA_participant)[1]\n",
    "nrows_with_NA_participant"
   ]
  },
  {
   "cell_type": "code",
   "execution_count": 42,
   "metadata": {},
   "outputs": [
    {
     "data": {
      "text/html": [
       "<table>\n",
       "<thead><tr><th scope=col>participant</th><th scope=col>gender</th></tr></thead>\n",
       "<tbody>\n",
       "\t<tr><td>8   </td><td>male</td></tr>\n",
       "\t<tr><td>8   </td><td>male</td></tr>\n",
       "\t<tr><td>8   </td><td>male</td></tr>\n",
       "\t<tr><td>8   </td><td>male</td></tr>\n",
       "\t<tr><td>8   </td><td>male</td></tr>\n",
       "\t<tr><td>8   </td><td>male</td></tr>\n",
       "</tbody>\n",
       "</table>\n"
      ],
      "text/latex": [
       "\\begin{tabular}{r|ll}\n",
       " participant & gender\\\\\n",
       "\\hline\n",
       "\t 8    & male\\\\\n",
       "\t 8    & male\\\\\n",
       "\t 8    & male\\\\\n",
       "\t 8    & male\\\\\n",
       "\t 8    & male\\\\\n",
       "\t 8    & male\\\\\n",
       "\\end{tabular}\n"
      ],
      "text/markdown": [
       "\n",
       "| participant | gender |\n",
       "|---|---|\n",
       "| 8    | male |\n",
       "| 8    | male |\n",
       "| 8    | male |\n",
       "| 8    | male |\n",
       "| 8    | male |\n",
       "| 8    | male |\n",
       "\n"
      ],
      "text/plain": [
       "  participant gender\n",
       "1 8           male  \n",
       "2 8           male  \n",
       "3 8           male  \n",
       "4 8           male  \n",
       "5 8           male  \n",
       "6 8           male  "
      ]
     },
     "metadata": {},
     "output_type": "display_data"
    }
   ],
   "source": [
    "# Remove any column containing missing values (in this case it doesn't make much sense, but might be useful to know):\n",
    "which_NAs <- apply(\n",
    "    X = is.na(data_noNA_participant),\n",
    "    MARGIN = 2,\n",
    "    FUN = sum\n",
    ")\n",
    "\n",
    "data_noNA_participant <- data_noNA_participant[,which_NAs == 0]\n",
    "\n",
    "head(data_noNA_participant)"
   ]
  },
  {
   "cell_type": "markdown",
   "metadata": {},
   "source": [
    "## 5. Converting between the wide and long forms of a data frame"
   ]
  },
  {
   "cell_type": "markdown",
   "metadata": {},
   "source": [
    "The data shown before are in the **long** format: repeated measurements from each participants are stored in different rows. This format is relatively common in cognitive psychology, as we often present participants with tasks in which they have to provide multiple responses for the same item/condition.\n",
    "\n",
    "Another common format is the **wide** format: here, participants' repeated responses will be in a single row, and each response is in a separate column."
   ]
  },
  {
   "cell_type": "code",
   "execution_count": 44,
   "metadata": {},
   "outputs": [
    {
     "data": {
      "text/html": [
       "<table>\n",
       "<thead><tr><th scope=col>student</th><th scope=col>age</th><th scope=col>score_WPA1</th><th scope=col>score_WPA2</th><th scope=col>score_WPA3</th><th scope=col>score_WPA4</th></tr></thead>\n",
       "<tbody>\n",
       "\t<tr><td> 1      </td><td>33      </td><td>7.465305</td><td>6.566121</td><td>2.428329</td><td>5.070700</td></tr>\n",
       "\t<tr><td> 2      </td><td>25      </td><td>5.563230</td><td>5.077531</td><td>2.900265</td><td>3.405148</td></tr>\n",
       "\t<tr><td> 3      </td><td>26      </td><td>8.391329</td><td>7.632993</td><td>2.467448</td><td>6.202602</td></tr>\n",
       "\t<tr><td> 4      </td><td>27      </td><td>8.315804</td><td>7.448699</td><td>3.562714</td><td>5.930934</td></tr>\n",
       "\t<tr><td> 5      </td><td>28      </td><td>8.059461</td><td>7.015749</td><td>1.933812</td><td>5.815380</td></tr>\n",
       "\t<tr><td> 6      </td><td>34      </td><td>8.104104</td><td>7.270133</td><td>5.396254</td><td>5.369029</td></tr>\n",
       "\t<tr><td> 7      </td><td>26      </td><td>8.651319</td><td>7.681615</td><td>4.601520</td><td>5.767613</td></tr>\n",
       "\t<tr><td> 8      </td><td>31      </td><td>6.460707</td><td>5.705090</td><td>4.969605</td><td>4.314259</td></tr>\n",
       "\t<tr><td> 9      </td><td>34      </td><td>8.748730</td><td>7.707122</td><td>4.125574</td><td>5.997675</td></tr>\n",
       "\t<tr><td>10      </td><td>30      </td><td>7.301819</td><td>6.364615</td><td>2.710512</td><td>5.084473</td></tr>\n",
       "</tbody>\n",
       "</table>\n"
      ],
      "text/latex": [
       "\\begin{tabular}{r|llllll}\n",
       " student & age & score\\_WPA1 & score\\_WPA2 & score\\_WPA3 & score\\_WPA4\\\\\n",
       "\\hline\n",
       "\t  1       & 33       & 7.465305 & 6.566121 & 2.428329 & 5.070700\\\\\n",
       "\t  2       & 25       & 5.563230 & 5.077531 & 2.900265 & 3.405148\\\\\n",
       "\t  3       & 26       & 8.391329 & 7.632993 & 2.467448 & 6.202602\\\\\n",
       "\t  4       & 27       & 8.315804 & 7.448699 & 3.562714 & 5.930934\\\\\n",
       "\t  5       & 28       & 8.059461 & 7.015749 & 1.933812 & 5.815380\\\\\n",
       "\t  6       & 34       & 8.104104 & 7.270133 & 5.396254 & 5.369029\\\\\n",
       "\t  7       & 26       & 8.651319 & 7.681615 & 4.601520 & 5.767613\\\\\n",
       "\t  8       & 31       & 6.460707 & 5.705090 & 4.969605 & 4.314259\\\\\n",
       "\t  9       & 34       & 8.748730 & 7.707122 & 4.125574 & 5.997675\\\\\n",
       "\t 10       & 30       & 7.301819 & 6.364615 & 2.710512 & 5.084473\\\\\n",
       "\\end{tabular}\n"
      ],
      "text/markdown": [
       "\n",
       "| student | age | score_WPA1 | score_WPA2 | score_WPA3 | score_WPA4 |\n",
       "|---|---|---|---|---|---|\n",
       "|  1       | 33       | 7.465305 | 6.566121 | 2.428329 | 5.070700 |\n",
       "|  2       | 25       | 5.563230 | 5.077531 | 2.900265 | 3.405148 |\n",
       "|  3       | 26       | 8.391329 | 7.632993 | 2.467448 | 6.202602 |\n",
       "|  4       | 27       | 8.315804 | 7.448699 | 3.562714 | 5.930934 |\n",
       "|  5       | 28       | 8.059461 | 7.015749 | 1.933812 | 5.815380 |\n",
       "|  6       | 34       | 8.104104 | 7.270133 | 5.396254 | 5.369029 |\n",
       "|  7       | 26       | 8.651319 | 7.681615 | 4.601520 | 5.767613 |\n",
       "|  8       | 31       | 6.460707 | 5.705090 | 4.969605 | 4.314259 |\n",
       "|  9       | 34       | 8.748730 | 7.707122 | 4.125574 | 5.997675 |\n",
       "| 10       | 30       | 7.301819 | 6.364615 | 2.710512 | 5.084473 |\n",
       "\n"
      ],
      "text/plain": [
       "   student age score_WPA1 score_WPA2 score_WPA3 score_WPA4\n",
       "1   1      33  7.465305   6.566121   2.428329   5.070700  \n",
       "2   2      25  5.563230   5.077531   2.900265   3.405148  \n",
       "3   3      26  8.391329   7.632993   2.467448   6.202602  \n",
       "4   4      27  8.315804   7.448699   3.562714   5.930934  \n",
       "5   5      28  8.059461   7.015749   1.933812   5.815380  \n",
       "6   6      34  8.104104   7.270133   5.396254   5.369029  \n",
       "7   7      26  8.651319   7.681615   4.601520   5.767613  \n",
       "8   8      31  6.460707   5.705090   4.969605   4.314259  \n",
       "9   9      34  8.748730   7.707122   4.125574   5.997675  \n",
       "10 10      30  7.301819   6.364615   2.710512   5.084473  "
      ]
     },
     "metadata": {},
     "output_type": "display_data"
    }
   ],
   "source": [
    "# Create fake data:\n",
    "N = 10\n",
    "mean_score_students = runif(N, 5, 10)\n",
    "fake_data_wide <- data.frame(\n",
    "    student = 1:N,\n",
    "    age = round(rnorm(N, 30, 5)),\n",
    "    score_WPA1 = mean_score_students,\n",
    "    score_WPA2 = mean_score_students*0.9 + rnorm(N, 0, 0.1),\n",
    "    score_WPA3 = mean_score_students*0.5 + rnorm(N, 0, 1),\n",
    "    score_WPA4 = mean_score_students*0.7 + rnorm(N, 0, 0.2)\n",
    ")\n",
    "\n",
    "fake_data_wide"
   ]
  },
  {
   "cell_type": "code",
   "execution_count": 45,
   "metadata": {},
   "outputs": [
    {
     "data": {
      "text/html": [
       "<table>\n",
       "<thead><tr><th></th><th scope=col>student</th><th scope=col>variable</th><th scope=col>value</th></tr></thead>\n",
       "<tbody>\n",
       "\t<tr><th scope=row>1</th><td> 1        </td><td>score_WPA1</td><td>7.465305  </td></tr>\n",
       "\t<tr><th scope=row>11</th><td> 1        </td><td>score_WPA2</td><td>6.566121  </td></tr>\n",
       "\t<tr><th scope=row>21</th><td> 1        </td><td>score_WPA3</td><td>2.428329  </td></tr>\n",
       "\t<tr><th scope=row>31</th><td> 1        </td><td>score_WPA4</td><td>5.070700  </td></tr>\n",
       "\t<tr><th scope=row>2</th><td> 2        </td><td>score_WPA1</td><td>5.563230  </td></tr>\n",
       "\t<tr><th scope=row>12</th><td> 2        </td><td>score_WPA2</td><td>5.077531  </td></tr>\n",
       "\t<tr><th scope=row>22</th><td> 2        </td><td>score_WPA3</td><td>2.900265  </td></tr>\n",
       "\t<tr><th scope=row>32</th><td> 2        </td><td>score_WPA4</td><td>3.405148  </td></tr>\n",
       "\t<tr><th scope=row>3</th><td> 3        </td><td>score_WPA1</td><td>8.391329  </td></tr>\n",
       "\t<tr><th scope=row>13</th><td> 3        </td><td>score_WPA2</td><td>7.632993  </td></tr>\n",
       "\t<tr><th scope=row>23</th><td> 3        </td><td>score_WPA3</td><td>2.467448  </td></tr>\n",
       "\t<tr><th scope=row>33</th><td> 3        </td><td>score_WPA4</td><td>6.202602  </td></tr>\n",
       "\t<tr><th scope=row>4</th><td> 4        </td><td>score_WPA1</td><td>8.315804  </td></tr>\n",
       "\t<tr><th scope=row>14</th><td> 4        </td><td>score_WPA2</td><td>7.448699  </td></tr>\n",
       "\t<tr><th scope=row>24</th><td> 4        </td><td>score_WPA3</td><td>3.562714  </td></tr>\n",
       "\t<tr><th scope=row>34</th><td> 4        </td><td>score_WPA4</td><td>5.930934  </td></tr>\n",
       "\t<tr><th scope=row>5</th><td> 5        </td><td>score_WPA1</td><td>8.059461  </td></tr>\n",
       "\t<tr><th scope=row>15</th><td> 5        </td><td>score_WPA2</td><td>7.015749  </td></tr>\n",
       "\t<tr><th scope=row>25</th><td> 5        </td><td>score_WPA3</td><td>1.933812  </td></tr>\n",
       "\t<tr><th scope=row>35</th><td> 5        </td><td>score_WPA4</td><td>5.815380  </td></tr>\n",
       "\t<tr><th scope=row>6</th><td> 6        </td><td>score_WPA1</td><td>8.104104  </td></tr>\n",
       "\t<tr><th scope=row>16</th><td> 6        </td><td>score_WPA2</td><td>7.270133  </td></tr>\n",
       "\t<tr><th scope=row>26</th><td> 6        </td><td>score_WPA3</td><td>5.396254  </td></tr>\n",
       "\t<tr><th scope=row>36</th><td> 6        </td><td>score_WPA4</td><td>5.369029  </td></tr>\n",
       "\t<tr><th scope=row>7</th><td> 7        </td><td>score_WPA1</td><td>8.651319  </td></tr>\n",
       "\t<tr><th scope=row>17</th><td> 7        </td><td>score_WPA2</td><td>7.681615  </td></tr>\n",
       "\t<tr><th scope=row>27</th><td> 7        </td><td>score_WPA3</td><td>4.601520  </td></tr>\n",
       "\t<tr><th scope=row>37</th><td> 7        </td><td>score_WPA4</td><td>5.767613  </td></tr>\n",
       "\t<tr><th scope=row>8</th><td> 8        </td><td>score_WPA1</td><td>6.460707  </td></tr>\n",
       "\t<tr><th scope=row>18</th><td> 8        </td><td>score_WPA2</td><td>5.705090  </td></tr>\n",
       "\t<tr><th scope=row>28</th><td> 8        </td><td>score_WPA3</td><td>4.969605  </td></tr>\n",
       "\t<tr><th scope=row>38</th><td> 8        </td><td>score_WPA4</td><td>4.314259  </td></tr>\n",
       "\t<tr><th scope=row>9</th><td> 9        </td><td>score_WPA1</td><td>8.748730  </td></tr>\n",
       "\t<tr><th scope=row>19</th><td> 9        </td><td>score_WPA2</td><td>7.707122  </td></tr>\n",
       "\t<tr><th scope=row>29</th><td> 9        </td><td>score_WPA3</td><td>4.125574  </td></tr>\n",
       "\t<tr><th scope=row>39</th><td> 9        </td><td>score_WPA4</td><td>5.997675  </td></tr>\n",
       "\t<tr><th scope=row>10</th><td>10        </td><td>score_WPA1</td><td>7.301819  </td></tr>\n",
       "\t<tr><th scope=row>20</th><td>10        </td><td>score_WPA2</td><td>6.364615  </td></tr>\n",
       "\t<tr><th scope=row>30</th><td>10        </td><td>score_WPA3</td><td>2.710512  </td></tr>\n",
       "\t<tr><th scope=row>40</th><td>10        </td><td>score_WPA4</td><td>5.084473  </td></tr>\n",
       "</tbody>\n",
       "</table>\n"
      ],
      "text/latex": [
       "\\begin{tabular}{r|lll}\n",
       "  & student & variable & value\\\\\n",
       "\\hline\n",
       "\t1 &  1           & score\\_WPA1 & 7.465305    \\\\\n",
       "\t11 &  1           & score\\_WPA2 & 6.566121    \\\\\n",
       "\t21 &  1           & score\\_WPA3 & 2.428329    \\\\\n",
       "\t31 &  1           & score\\_WPA4 & 5.070700    \\\\\n",
       "\t2 &  2           & score\\_WPA1 & 5.563230    \\\\\n",
       "\t12 &  2           & score\\_WPA2 & 5.077531    \\\\\n",
       "\t22 &  2           & score\\_WPA3 & 2.900265    \\\\\n",
       "\t32 &  2           & score\\_WPA4 & 3.405148    \\\\\n",
       "\t3 &  3           & score\\_WPA1 & 8.391329    \\\\\n",
       "\t13 &  3           & score\\_WPA2 & 7.632993    \\\\\n",
       "\t23 &  3           & score\\_WPA3 & 2.467448    \\\\\n",
       "\t33 &  3           & score\\_WPA4 & 6.202602    \\\\\n",
       "\t4 &  4           & score\\_WPA1 & 8.315804    \\\\\n",
       "\t14 &  4           & score\\_WPA2 & 7.448699    \\\\\n",
       "\t24 &  4           & score\\_WPA3 & 3.562714    \\\\\n",
       "\t34 &  4           & score\\_WPA4 & 5.930934    \\\\\n",
       "\t5 &  5           & score\\_WPA1 & 8.059461    \\\\\n",
       "\t15 &  5           & score\\_WPA2 & 7.015749    \\\\\n",
       "\t25 &  5           & score\\_WPA3 & 1.933812    \\\\\n",
       "\t35 &  5           & score\\_WPA4 & 5.815380    \\\\\n",
       "\t6 &  6           & score\\_WPA1 & 8.104104    \\\\\n",
       "\t16 &  6           & score\\_WPA2 & 7.270133    \\\\\n",
       "\t26 &  6           & score\\_WPA3 & 5.396254    \\\\\n",
       "\t36 &  6           & score\\_WPA4 & 5.369029    \\\\\n",
       "\t7 &  7           & score\\_WPA1 & 8.651319    \\\\\n",
       "\t17 &  7           & score\\_WPA2 & 7.681615    \\\\\n",
       "\t27 &  7           & score\\_WPA3 & 4.601520    \\\\\n",
       "\t37 &  7           & score\\_WPA4 & 5.767613    \\\\\n",
       "\t8 &  8           & score\\_WPA1 & 6.460707    \\\\\n",
       "\t18 &  8           & score\\_WPA2 & 5.705090    \\\\\n",
       "\t28 &  8           & score\\_WPA3 & 4.969605    \\\\\n",
       "\t38 &  8           & score\\_WPA4 & 4.314259    \\\\\n",
       "\t9 &  9           & score\\_WPA1 & 8.748730    \\\\\n",
       "\t19 &  9           & score\\_WPA2 & 7.707122    \\\\\n",
       "\t29 &  9           & score\\_WPA3 & 4.125574    \\\\\n",
       "\t39 &  9           & score\\_WPA4 & 5.997675    \\\\\n",
       "\t10 & 10           & score\\_WPA1 & 7.301819    \\\\\n",
       "\t20 & 10           & score\\_WPA2 & 6.364615    \\\\\n",
       "\t30 & 10           & score\\_WPA3 & 2.710512    \\\\\n",
       "\t40 & 10           & score\\_WPA4 & 5.084473    \\\\\n",
       "\\end{tabular}\n"
      ],
      "text/markdown": [
       "\n",
       "| <!--/--> | student | variable | value |\n",
       "|---|---|---|---|\n",
       "| 1 |  1         | score_WPA1 | 7.465305   |\n",
       "| 11 |  1         | score_WPA2 | 6.566121   |\n",
       "| 21 |  1         | score_WPA3 | 2.428329   |\n",
       "| 31 |  1         | score_WPA4 | 5.070700   |\n",
       "| 2 |  2         | score_WPA1 | 5.563230   |\n",
       "| 12 |  2         | score_WPA2 | 5.077531   |\n",
       "| 22 |  2         | score_WPA3 | 2.900265   |\n",
       "| 32 |  2         | score_WPA4 | 3.405148   |\n",
       "| 3 |  3         | score_WPA1 | 8.391329   |\n",
       "| 13 |  3         | score_WPA2 | 7.632993   |\n",
       "| 23 |  3         | score_WPA3 | 2.467448   |\n",
       "| 33 |  3         | score_WPA4 | 6.202602   |\n",
       "| 4 |  4         | score_WPA1 | 8.315804   |\n",
       "| 14 |  4         | score_WPA2 | 7.448699   |\n",
       "| 24 |  4         | score_WPA3 | 3.562714   |\n",
       "| 34 |  4         | score_WPA4 | 5.930934   |\n",
       "| 5 |  5         | score_WPA1 | 8.059461   |\n",
       "| 15 |  5         | score_WPA2 | 7.015749   |\n",
       "| 25 |  5         | score_WPA3 | 1.933812   |\n",
       "| 35 |  5         | score_WPA4 | 5.815380   |\n",
       "| 6 |  6         | score_WPA1 | 8.104104   |\n",
       "| 16 |  6         | score_WPA2 | 7.270133   |\n",
       "| 26 |  6         | score_WPA3 | 5.396254   |\n",
       "| 36 |  6         | score_WPA4 | 5.369029   |\n",
       "| 7 |  7         | score_WPA1 | 8.651319   |\n",
       "| 17 |  7         | score_WPA2 | 7.681615   |\n",
       "| 27 |  7         | score_WPA3 | 4.601520   |\n",
       "| 37 |  7         | score_WPA4 | 5.767613   |\n",
       "| 8 |  8         | score_WPA1 | 6.460707   |\n",
       "| 18 |  8         | score_WPA2 | 5.705090   |\n",
       "| 28 |  8         | score_WPA3 | 4.969605   |\n",
       "| 38 |  8         | score_WPA4 | 4.314259   |\n",
       "| 9 |  9         | score_WPA1 | 8.748730   |\n",
       "| 19 |  9         | score_WPA2 | 7.707122   |\n",
       "| 29 |  9         | score_WPA3 | 4.125574   |\n",
       "| 39 |  9         | score_WPA4 | 5.997675   |\n",
       "| 10 | 10         | score_WPA1 | 7.301819   |\n",
       "| 20 | 10         | score_WPA2 | 6.364615   |\n",
       "| 30 | 10         | score_WPA3 | 2.710512   |\n",
       "| 40 | 10         | score_WPA4 | 5.084473   |\n",
       "\n"
      ],
      "text/plain": [
       "   student variable   value   \n",
       "1   1      score_WPA1 7.465305\n",
       "11  1      score_WPA2 6.566121\n",
       "21  1      score_WPA3 2.428329\n",
       "31  1      score_WPA4 5.070700\n",
       "2   2      score_WPA1 5.563230\n",
       "12  2      score_WPA2 5.077531\n",
       "22  2      score_WPA3 2.900265\n",
       "32  2      score_WPA4 3.405148\n",
       "3   3      score_WPA1 8.391329\n",
       "13  3      score_WPA2 7.632993\n",
       "23  3      score_WPA3 2.467448\n",
       "33  3      score_WPA4 6.202602\n",
       "4   4      score_WPA1 8.315804\n",
       "14  4      score_WPA2 7.448699\n",
       "24  4      score_WPA3 3.562714\n",
       "34  4      score_WPA4 5.930934\n",
       "5   5      score_WPA1 8.059461\n",
       "15  5      score_WPA2 7.015749\n",
       "25  5      score_WPA3 1.933812\n",
       "35  5      score_WPA4 5.815380\n",
       "6   6      score_WPA1 8.104104\n",
       "16  6      score_WPA2 7.270133\n",
       "26  6      score_WPA3 5.396254\n",
       "36  6      score_WPA4 5.369029\n",
       "7   7      score_WPA1 8.651319\n",
       "17  7      score_WPA2 7.681615\n",
       "27  7      score_WPA3 4.601520\n",
       "37  7      score_WPA4 5.767613\n",
       "8   8      score_WPA1 6.460707\n",
       "18  8      score_WPA2 5.705090\n",
       "28  8      score_WPA3 4.969605\n",
       "38  8      score_WPA4 4.314259\n",
       "9   9      score_WPA1 8.748730\n",
       "19  9      score_WPA2 7.707122\n",
       "29  9      score_WPA3 4.125574\n",
       "39  9      score_WPA4 5.997675\n",
       "10 10      score_WPA1 7.301819\n",
       "20 10      score_WPA2 6.364615\n",
       "30 10      score_WPA3 2.710512\n",
       "40 10      score_WPA4 5.084473"
      ]
     },
     "metadata": {},
     "output_type": "display_data"
    }
   ],
   "source": [
    "# Load library reshape2 to easily transform to long format:\n",
    "library(reshape2)\n",
    "fake_data_long <- melt(fake_data_wide, id.vars = \"student\", measure.vars = c(\"score_WPA1\", \"score_WPA2\", \"score_WPA3\", \"score_WPA4\"))\n",
    "\n",
    "# Re-order based on student number:\n",
    "fake_data_long[order(fake_data_long$student),]"
   ]
  },
  {
   "cell_type": "code",
   "execution_count": 46,
   "metadata": {},
   "outputs": [
    {
     "data": {
      "text/html": [
       "<table>\n",
       "<thead><tr><th scope=col>student</th><th scope=col>score_WPA1</th><th scope=col>score_WPA2</th><th scope=col>score_WPA3</th><th scope=col>score_WPA4</th></tr></thead>\n",
       "<tbody>\n",
       "\t<tr><td> 1      </td><td>7.465305</td><td>6.566121</td><td>2.428329</td><td>5.070700</td></tr>\n",
       "\t<tr><td> 2      </td><td>5.563230</td><td>5.077531</td><td>2.900265</td><td>3.405148</td></tr>\n",
       "\t<tr><td> 3      </td><td>8.391329</td><td>7.632993</td><td>2.467448</td><td>6.202602</td></tr>\n",
       "\t<tr><td> 4      </td><td>8.315804</td><td>7.448699</td><td>3.562714</td><td>5.930934</td></tr>\n",
       "\t<tr><td> 5      </td><td>8.059461</td><td>7.015749</td><td>1.933812</td><td>5.815380</td></tr>\n",
       "\t<tr><td> 6      </td><td>8.104104</td><td>7.270133</td><td>5.396254</td><td>5.369029</td></tr>\n",
       "\t<tr><td> 7      </td><td>8.651319</td><td>7.681615</td><td>4.601520</td><td>5.767613</td></tr>\n",
       "\t<tr><td> 8      </td><td>6.460707</td><td>5.705090</td><td>4.969605</td><td>4.314259</td></tr>\n",
       "\t<tr><td> 9      </td><td>8.748730</td><td>7.707122</td><td>4.125574</td><td>5.997675</td></tr>\n",
       "\t<tr><td>10      </td><td>7.301819</td><td>6.364615</td><td>2.710512</td><td>5.084473</td></tr>\n",
       "</tbody>\n",
       "</table>\n"
      ],
      "text/latex": [
       "\\begin{tabular}{r|lllll}\n",
       " student & score\\_WPA1 & score\\_WPA2 & score\\_WPA3 & score\\_WPA4\\\\\n",
       "\\hline\n",
       "\t  1       & 7.465305 & 6.566121 & 2.428329 & 5.070700\\\\\n",
       "\t  2       & 5.563230 & 5.077531 & 2.900265 & 3.405148\\\\\n",
       "\t  3       & 8.391329 & 7.632993 & 2.467448 & 6.202602\\\\\n",
       "\t  4       & 8.315804 & 7.448699 & 3.562714 & 5.930934\\\\\n",
       "\t  5       & 8.059461 & 7.015749 & 1.933812 & 5.815380\\\\\n",
       "\t  6       & 8.104104 & 7.270133 & 5.396254 & 5.369029\\\\\n",
       "\t  7       & 8.651319 & 7.681615 & 4.601520 & 5.767613\\\\\n",
       "\t  8       & 6.460707 & 5.705090 & 4.969605 & 4.314259\\\\\n",
       "\t  9       & 8.748730 & 7.707122 & 4.125574 & 5.997675\\\\\n",
       "\t 10       & 7.301819 & 6.364615 & 2.710512 & 5.084473\\\\\n",
       "\\end{tabular}\n"
      ],
      "text/markdown": [
       "\n",
       "| student | score_WPA1 | score_WPA2 | score_WPA3 | score_WPA4 |\n",
       "|---|---|---|---|---|\n",
       "|  1       | 7.465305 | 6.566121 | 2.428329 | 5.070700 |\n",
       "|  2       | 5.563230 | 5.077531 | 2.900265 | 3.405148 |\n",
       "|  3       | 8.391329 | 7.632993 | 2.467448 | 6.202602 |\n",
       "|  4       | 8.315804 | 7.448699 | 3.562714 | 5.930934 |\n",
       "|  5       | 8.059461 | 7.015749 | 1.933812 | 5.815380 |\n",
       "|  6       | 8.104104 | 7.270133 | 5.396254 | 5.369029 |\n",
       "|  7       | 8.651319 | 7.681615 | 4.601520 | 5.767613 |\n",
       "|  8       | 6.460707 | 5.705090 | 4.969605 | 4.314259 |\n",
       "|  9       | 8.748730 | 7.707122 | 4.125574 | 5.997675 |\n",
       "| 10       | 7.301819 | 6.364615 | 2.710512 | 5.084473 |\n",
       "\n"
      ],
      "text/plain": [
       "   student score_WPA1 score_WPA2 score_WPA3 score_WPA4\n",
       "1   1      7.465305   6.566121   2.428329   5.070700  \n",
       "2   2      5.563230   5.077531   2.900265   3.405148  \n",
       "3   3      8.391329   7.632993   2.467448   6.202602  \n",
       "4   4      8.315804   7.448699   3.562714   5.930934  \n",
       "5   5      8.059461   7.015749   1.933812   5.815380  \n",
       "6   6      8.104104   7.270133   5.396254   5.369029  \n",
       "7   7      8.651319   7.681615   4.601520   5.767613  \n",
       "8   8      6.460707   5.705090   4.969605   4.314259  \n",
       "9   9      8.748730   7.707122   4.125574   5.997675  \n",
       "10 10      7.301819   6.364615   2.710512   5.084473  "
      ]
     },
     "metadata": {},
     "output_type": "display_data"
    },
    {
     "data": {
      "text/html": [
       "<table>\n",
       "<thead><tr><th scope=col>score_WPA1</th><th scope=col>score_WPA2</th><th scope=col>score_WPA3</th><th scope=col>score_WPA4</th></tr></thead>\n",
       "<tbody>\n",
       "\t<tr><td>7.465305</td><td>6.566121</td><td>2.428329</td><td>5.070700</td></tr>\n",
       "\t<tr><td>5.563230</td><td>5.077531</td><td>2.900265</td><td>3.405148</td></tr>\n",
       "\t<tr><td>8.391329</td><td>7.632993</td><td>2.467448</td><td>6.202602</td></tr>\n",
       "\t<tr><td>8.315804</td><td>7.448699</td><td>3.562714</td><td>5.930934</td></tr>\n",
       "\t<tr><td>8.059461</td><td>7.015749</td><td>1.933812</td><td>5.815380</td></tr>\n",
       "\t<tr><td>8.104104</td><td>7.270133</td><td>5.396254</td><td>5.369029</td></tr>\n",
       "\t<tr><td>8.651319</td><td>7.681615</td><td>4.601520</td><td>5.767613</td></tr>\n",
       "\t<tr><td>6.460707</td><td>5.705090</td><td>4.969605</td><td>4.314259</td></tr>\n",
       "\t<tr><td>8.748730</td><td>7.707122</td><td>4.125574</td><td>5.997675</td></tr>\n",
       "\t<tr><td>7.301819</td><td>6.364615</td><td>2.710512</td><td>5.084473</td></tr>\n",
       "</tbody>\n",
       "</table>\n"
      ],
      "text/latex": [
       "\\begin{tabular}{r|llll}\n",
       " score\\_WPA1 & score\\_WPA2 & score\\_WPA3 & score\\_WPA4\\\\\n",
       "\\hline\n",
       "\t 7.465305 & 6.566121 & 2.428329 & 5.070700\\\\\n",
       "\t 5.563230 & 5.077531 & 2.900265 & 3.405148\\\\\n",
       "\t 8.391329 & 7.632993 & 2.467448 & 6.202602\\\\\n",
       "\t 8.315804 & 7.448699 & 3.562714 & 5.930934\\\\\n",
       "\t 8.059461 & 7.015749 & 1.933812 & 5.815380\\\\\n",
       "\t 8.104104 & 7.270133 & 5.396254 & 5.369029\\\\\n",
       "\t 8.651319 & 7.681615 & 4.601520 & 5.767613\\\\\n",
       "\t 6.460707 & 5.705090 & 4.969605 & 4.314259\\\\\n",
       "\t 8.748730 & 7.707122 & 4.125574 & 5.997675\\\\\n",
       "\t 7.301819 & 6.364615 & 2.710512 & 5.084473\\\\\n",
       "\\end{tabular}\n"
      ],
      "text/markdown": [
       "\n",
       "| score_WPA1 | score_WPA2 | score_WPA3 | score_WPA4 |\n",
       "|---|---|---|---|\n",
       "| 7.465305 | 6.566121 | 2.428329 | 5.070700 |\n",
       "| 5.563230 | 5.077531 | 2.900265 | 3.405148 |\n",
       "| 8.391329 | 7.632993 | 2.467448 | 6.202602 |\n",
       "| 8.315804 | 7.448699 | 3.562714 | 5.930934 |\n",
       "| 8.059461 | 7.015749 | 1.933812 | 5.815380 |\n",
       "| 8.104104 | 7.270133 | 5.396254 | 5.369029 |\n",
       "| 8.651319 | 7.681615 | 4.601520 | 5.767613 |\n",
       "| 6.460707 | 5.705090 | 4.969605 | 4.314259 |\n",
       "| 8.748730 | 7.707122 | 4.125574 | 5.997675 |\n",
       "| 7.301819 | 6.364615 | 2.710512 | 5.084473 |\n",
       "\n"
      ],
      "text/plain": [
       "   score_WPA1 score_WPA2 score_WPA3 score_WPA4\n",
       "1  7.465305   6.566121   2.428329   5.070700  \n",
       "2  5.563230   5.077531   2.900265   3.405148  \n",
       "3  8.391329   7.632993   2.467448   6.202602  \n",
       "4  8.315804   7.448699   3.562714   5.930934  \n",
       "5  8.059461   7.015749   1.933812   5.815380  \n",
       "6  8.104104   7.270133   5.396254   5.369029  \n",
       "7  8.651319   7.681615   4.601520   5.767613  \n",
       "8  6.460707   5.705090   4.969605   4.314259  \n",
       "9  8.748730   7.707122   4.125574   5.997675  \n",
       "10 7.301819   6.364615   2.710512   5.084473  "
      ]
     },
     "metadata": {},
     "output_type": "display_data"
    }
   ],
   "source": [
    "# To go back to wide format, use dcast and acast (see the difference):\n",
    "dcast(\n",
    "    fake_data_long,\n",
    "    student ~ variable\n",
    "     )\n",
    "\n",
    "acast(\n",
    "    fake_data_long,\n",
    "    student ~ variable\n",
    "     )"
   ]
  },
  {
   "cell_type": "code",
   "execution_count": 47,
   "metadata": {},
   "outputs": [
    {
     "data": {
      "text/html": [
       "<table>\n",
       "<thead><tr><th scope=col>student</th><th scope=col>age</th></tr></thead>\n",
       "<tbody>\n",
       "\t<tr><td> 1</td><td>33</td></tr>\n",
       "\t<tr><td> 2</td><td>25</td></tr>\n",
       "\t<tr><td> 3</td><td>26</td></tr>\n",
       "\t<tr><td> 4</td><td>27</td></tr>\n",
       "\t<tr><td> 5</td><td>28</td></tr>\n",
       "\t<tr><td> 6</td><td>34</td></tr>\n",
       "\t<tr><td> 7</td><td>26</td></tr>\n",
       "\t<tr><td> 8</td><td>31</td></tr>\n",
       "\t<tr><td> 9</td><td>34</td></tr>\n",
       "\t<tr><td>10</td><td>30</td></tr>\n",
       "</tbody>\n",
       "</table>\n"
      ],
      "text/latex": [
       "\\begin{tabular}{r|ll}\n",
       " student & age\\\\\n",
       "\\hline\n",
       "\t  1 & 33\\\\\n",
       "\t  2 & 25\\\\\n",
       "\t  3 & 26\\\\\n",
       "\t  4 & 27\\\\\n",
       "\t  5 & 28\\\\\n",
       "\t  6 & 34\\\\\n",
       "\t  7 & 26\\\\\n",
       "\t  8 & 31\\\\\n",
       "\t  9 & 34\\\\\n",
       "\t 10 & 30\\\\\n",
       "\\end{tabular}\n"
      ],
      "text/markdown": [
       "\n",
       "| student | age |\n",
       "|---|---|\n",
       "|  1 | 33 |\n",
       "|  2 | 25 |\n",
       "|  3 | 26 |\n",
       "|  4 | 27 |\n",
       "|  5 | 28 |\n",
       "|  6 | 34 |\n",
       "|  7 | 26 |\n",
       "|  8 | 31 |\n",
       "|  9 | 34 |\n",
       "| 10 | 30 |\n",
       "\n"
      ],
      "text/plain": [
       "   student age\n",
       "1   1      33 \n",
       "2   2      25 \n",
       "3   3      26 \n",
       "4   4      27 \n",
       "5   5      28 \n",
       "6   6      34 \n",
       "7   7      26 \n",
       "8   8      31 \n",
       "9   9      34 \n",
       "10 10      30 "
      ]
     },
     "metadata": {},
     "output_type": "display_data"
    }
   ],
   "source": [
    "# What if you just want to have the unique value per participant of 1 variable, e.g., age? \n",
    "\n",
    "# When data is in the wide format:\n",
    "age_df <- aggregate(age ~ student, data = fake_data_wide, FUN=unique)\n",
    "age_df"
   ]
  },
  {
   "cell_type": "code",
   "execution_count": 48,
   "metadata": {},
   "outputs": [
    {
     "data": {
      "text/html": [
       "<table>\n",
       "<thead><tr><th scope=col>participant</th><th scope=col>age</th></tr></thead>\n",
       "<tbody>\n",
       "\t<tr><td>10</td><td>26</td></tr>\n",
       "\t<tr><td>12</td><td>21</td></tr>\n",
       "\t<tr><td>16</td><td>25</td></tr>\n",
       "\t<tr><td>18</td><td>21</td></tr>\n",
       "\t<tr><td>22</td><td>23</td></tr>\n",
       "\t<tr><td>23</td><td>25</td></tr>\n",
       "\t<tr><td>24</td><td>20</td></tr>\n",
       "\t<tr><td>28</td><td>20</td></tr>\n",
       "\t<tr><td>32</td><td>25</td></tr>\n",
       "\t<tr><td>34</td><td>22</td></tr>\n",
       "\t<tr><td>36</td><td>20</td></tr>\n",
       "\t<tr><td>38</td><td>22</td></tr>\n",
       "\t<tr><td>40</td><td>20</td></tr>\n",
       "\t<tr><td>42</td><td>25</td></tr>\n",
       "\t<tr><td>44</td><td>23</td></tr>\n",
       "\t<tr><td>46</td><td>24</td></tr>\n",
       "\t<tr><td>48</td><td>21</td></tr>\n",
       "\t<tr><td>49</td><td>23</td></tr>\n",
       "\t<tr><td>8 </td><td>18</td></tr>\n",
       "</tbody>\n",
       "</table>\n"
      ],
      "text/latex": [
       "\\begin{tabular}{r|ll}\n",
       " participant & age\\\\\n",
       "\\hline\n",
       "\t 10 & 26\\\\\n",
       "\t 12 & 21\\\\\n",
       "\t 16 & 25\\\\\n",
       "\t 18 & 21\\\\\n",
       "\t 22 & 23\\\\\n",
       "\t 23 & 25\\\\\n",
       "\t 24 & 20\\\\\n",
       "\t 28 & 20\\\\\n",
       "\t 32 & 25\\\\\n",
       "\t 34 & 22\\\\\n",
       "\t 36 & 20\\\\\n",
       "\t 38 & 22\\\\\n",
       "\t 40 & 20\\\\\n",
       "\t 42 & 25\\\\\n",
       "\t 44 & 23\\\\\n",
       "\t 46 & 24\\\\\n",
       "\t 48 & 21\\\\\n",
       "\t 49 & 23\\\\\n",
       "\t 8  & 18\\\\\n",
       "\\end{tabular}\n"
      ],
      "text/markdown": [
       "\n",
       "| participant | age |\n",
       "|---|---|\n",
       "| 10 | 26 |\n",
       "| 12 | 21 |\n",
       "| 16 | 25 |\n",
       "| 18 | 21 |\n",
       "| 22 | 23 |\n",
       "| 23 | 25 |\n",
       "| 24 | 20 |\n",
       "| 28 | 20 |\n",
       "| 32 | 25 |\n",
       "| 34 | 22 |\n",
       "| 36 | 20 |\n",
       "| 38 | 22 |\n",
       "| 40 | 20 |\n",
       "| 42 | 25 |\n",
       "| 44 | 23 |\n",
       "| 46 | 24 |\n",
       "| 48 | 21 |\n",
       "| 49 | 23 |\n",
       "| 8  | 18 |\n",
       "\n"
      ],
      "text/plain": [
       "   participant age\n",
       "1  10          26 \n",
       "2  12          21 \n",
       "3  16          25 \n",
       "4  18          21 \n",
       "5  22          23 \n",
       "6  23          25 \n",
       "7  24          20 \n",
       "8  28          20 \n",
       "9  32          25 \n",
       "10 34          22 \n",
       "11 36          20 \n",
       "12 38          22 \n",
       "13 40          20 \n",
       "14 42          25 \n",
       "15 44          23 \n",
       "16 46          24 \n",
       "17 48          21 \n",
       "18 49          23 \n",
       "19 8           18 "
      ]
     },
     "metadata": {},
     "output_type": "display_data"
    }
   ],
   "source": [
    "# But it's actually the same for long format:\n",
    "age_df <- aggregate(age ~ participant, data = data, FUN=unique)\n",
    "age_df"
   ]
  },
  {
   "cell_type": "code",
   "execution_count": 49,
   "metadata": {},
   "outputs": [
    {
     "name": "stderr",
     "output_type": "stream",
     "text": [
      "\n",
      "Attaching package: ‘dplyr’\n",
      "\n",
      "The following objects are masked from ‘package:stats’:\n",
      "\n",
      "    filter, lag\n",
      "\n",
      "The following objects are masked from ‘package:base’:\n",
      "\n",
      "    intersect, setdiff, setequal, union\n",
      "\n"
     ]
    }
   ],
   "source": [
    "# Alternatively, we can use the dplyr package: https://dplyr.tidyverse.org/\n",
    "library(dplyr)\n",
    "\n",
    "grouped_data = group_by(data, participant)\n",
    "\n",
    "mean_performance = summarise(grouped_data, \n",
    "                             mean_accuracy=mean(accuracy, na.rm=TRUE), \n",
    "                             mean_rt=mean(RT_sec, na.rm=TRUE), \n",
    "                             age=unique(age))"
   ]
  },
  {
   "cell_type": "code",
   "execution_count": 50,
   "metadata": {},
   "outputs": [
    {
     "data": {
      "text/html": [
       "<table>\n",
       "<thead><tr><th scope=col>participant</th><th scope=col>mean_accuracy</th><th scope=col>mean_rt</th><th scope=col>age</th></tr></thead>\n",
       "<tbody>\n",
       "\t<tr><td>10       </td><td>0.8376963</td><td>0.9775916</td><td>26       </td></tr>\n",
       "\t<tr><td>12       </td><td>0.7326203</td><td>0.7297807</td><td>21       </td></tr>\n",
       "\t<tr><td>16       </td><td>0.7789474</td><td>1.2329421</td><td>25       </td></tr>\n",
       "\t<tr><td>18       </td><td>0.5156250</td><td>0.7781510</td><td>21       </td></tr>\n",
       "\t<tr><td>22       </td><td>0.5721925</td><td>0.8690695</td><td>23       </td></tr>\n",
       "\t<tr><td>23       </td><td>0.7027027</td><td>0.9377946</td><td>25       </td></tr>\n",
       "\t<tr><td>24       </td><td>0.7643979</td><td>0.9938691</td><td>20       </td></tr>\n",
       "\t<tr><td>28       </td><td>0.8376963</td><td>0.8150838</td><td>20       </td></tr>\n",
       "\t<tr><td>32       </td><td>0.6648936</td><td>1.2098989</td><td>25       </td></tr>\n",
       "\t<tr><td>34       </td><td>0.6178010</td><td>1.2487958</td><td>22       </td></tr>\n",
       "\t<tr><td>36       </td><td>0.4224599</td><td>1.2123904</td><td>20       </td></tr>\n",
       "\t<tr><td>38       </td><td>0.8994709</td><td>0.8951005</td><td>22       </td></tr>\n",
       "\t<tr><td>40       </td><td>0.5860215</td><td>1.1931237</td><td>20       </td></tr>\n",
       "\t<tr><td>42       </td><td>0.8052632</td><td>1.0280316</td><td>25       </td></tr>\n",
       "\t<tr><td>44       </td><td>0.8191489</td><td>0.6165000</td><td>23       </td></tr>\n",
       "\t<tr><td>46       </td><td>0.8750000</td><td>1.1774728</td><td>24       </td></tr>\n",
       "\t<tr><td>48       </td><td>0.7315789</td><td>1.2159316</td><td>21       </td></tr>\n",
       "\t<tr><td>49       </td><td>0.7287234</td><td>1.2383032</td><td>23       </td></tr>\n",
       "\t<tr><td>50       </td><td>      NaN</td><td>      NaN</td><td>NA       </td></tr>\n",
       "\t<tr><td>8        </td><td>0.7914439</td><td>0.8701016</td><td>18       </td></tr>\n",
       "\t<tr><td>NA       </td><td>      NaN</td><td>      NaN</td><td>NA       </td></tr>\n",
       "</tbody>\n",
       "</table>\n"
      ],
      "text/latex": [
       "\\begin{tabular}{r|llll}\n",
       " participant & mean\\_accuracy & mean\\_rt & age\\\\\n",
       "\\hline\n",
       "\t 10        & 0.8376963 & 0.9775916 & 26       \\\\\n",
       "\t 12        & 0.7326203 & 0.7297807 & 21       \\\\\n",
       "\t 16        & 0.7789474 & 1.2329421 & 25       \\\\\n",
       "\t 18        & 0.5156250 & 0.7781510 & 21       \\\\\n",
       "\t 22        & 0.5721925 & 0.8690695 & 23       \\\\\n",
       "\t 23        & 0.7027027 & 0.9377946 & 25       \\\\\n",
       "\t 24        & 0.7643979 & 0.9938691 & 20       \\\\\n",
       "\t 28        & 0.8376963 & 0.8150838 & 20       \\\\\n",
       "\t 32        & 0.6648936 & 1.2098989 & 25       \\\\\n",
       "\t 34        & 0.6178010 & 1.2487958 & 22       \\\\\n",
       "\t 36        & 0.4224599 & 1.2123904 & 20       \\\\\n",
       "\t 38        & 0.8994709 & 0.8951005 & 22       \\\\\n",
       "\t 40        & 0.5860215 & 1.1931237 & 20       \\\\\n",
       "\t 42        & 0.8052632 & 1.0280316 & 25       \\\\\n",
       "\t 44        & 0.8191489 & 0.6165000 & 23       \\\\\n",
       "\t 46        & 0.8750000 & 1.1774728 & 24       \\\\\n",
       "\t 48        & 0.7315789 & 1.2159316 & 21       \\\\\n",
       "\t 49        & 0.7287234 & 1.2383032 & 23       \\\\\n",
       "\t 50        &       NaN &       NaN & NA       \\\\\n",
       "\t 8         & 0.7914439 & 0.8701016 & 18       \\\\\n",
       "\t NA        &       NaN &       NaN & NA       \\\\\n",
       "\\end{tabular}\n"
      ],
      "text/markdown": [
       "\n",
       "| participant | mean_accuracy | mean_rt | age |\n",
       "|---|---|---|---|\n",
       "| 10        | 0.8376963 | 0.9775916 | 26        |\n",
       "| 12        | 0.7326203 | 0.7297807 | 21        |\n",
       "| 16        | 0.7789474 | 1.2329421 | 25        |\n",
       "| 18        | 0.5156250 | 0.7781510 | 21        |\n",
       "| 22        | 0.5721925 | 0.8690695 | 23        |\n",
       "| 23        | 0.7027027 | 0.9377946 | 25        |\n",
       "| 24        | 0.7643979 | 0.9938691 | 20        |\n",
       "| 28        | 0.8376963 | 0.8150838 | 20        |\n",
       "| 32        | 0.6648936 | 1.2098989 | 25        |\n",
       "| 34        | 0.6178010 | 1.2487958 | 22        |\n",
       "| 36        | 0.4224599 | 1.2123904 | 20        |\n",
       "| 38        | 0.8994709 | 0.8951005 | 22        |\n",
       "| 40        | 0.5860215 | 1.1931237 | 20        |\n",
       "| 42        | 0.8052632 | 1.0280316 | 25        |\n",
       "| 44        | 0.8191489 | 0.6165000 | 23        |\n",
       "| 46        | 0.8750000 | 1.1774728 | 24        |\n",
       "| 48        | 0.7315789 | 1.2159316 | 21        |\n",
       "| 49        | 0.7287234 | 1.2383032 | 23        |\n",
       "| 50        |       NaN |       NaN | NA        |\n",
       "| 8         | 0.7914439 | 0.8701016 | 18        |\n",
       "| NA        |       NaN |       NaN | NA        |\n",
       "\n"
      ],
      "text/plain": [
       "   participant mean_accuracy mean_rt   age\n",
       "1  10          0.8376963     0.9775916 26 \n",
       "2  12          0.7326203     0.7297807 21 \n",
       "3  16          0.7789474     1.2329421 25 \n",
       "4  18          0.5156250     0.7781510 21 \n",
       "5  22          0.5721925     0.8690695 23 \n",
       "6  23          0.7027027     0.9377946 25 \n",
       "7  24          0.7643979     0.9938691 20 \n",
       "8  28          0.8376963     0.8150838 20 \n",
       "9  32          0.6648936     1.2098989 25 \n",
       "10 34          0.6178010     1.2487958 22 \n",
       "11 36          0.4224599     1.2123904 20 \n",
       "12 38          0.8994709     0.8951005 22 \n",
       "13 40          0.5860215     1.1931237 20 \n",
       "14 42          0.8052632     1.0280316 25 \n",
       "15 44          0.8191489     0.6165000 23 \n",
       "16 46          0.8750000     1.1774728 24 \n",
       "17 48          0.7315789     1.2159316 21 \n",
       "18 49          0.7287234     1.2383032 23 \n",
       "19 50                NaN           NaN NA \n",
       "20 8           0.7914439     0.8701016 18 \n",
       "21 NA                NaN           NaN NA "
      ]
     },
     "metadata": {},
     "output_type": "display_data"
    }
   ],
   "source": [
    "mean_performance"
   ]
  },
  {
   "cell_type": "markdown",
   "metadata": {},
   "source": [
    "## 6. Sorting the data frame by value:"
   ]
  },
  {
   "cell_type": "code",
   "execution_count": 51,
   "metadata": {},
   "outputs": [
    {
     "data": {
      "text/html": [
       "<table>\n",
       "<thead><tr><th></th><th scope=col>participant</th><th scope=col>age</th></tr></thead>\n",
       "<tbody>\n",
       "\t<tr><th scope=row>19</th><td>8 </td><td>18</td></tr>\n",
       "\t<tr><th scope=row>7</th><td>24</td><td>20</td></tr>\n",
       "\t<tr><th scope=row>8</th><td>28</td><td>20</td></tr>\n",
       "\t<tr><th scope=row>11</th><td>36</td><td>20</td></tr>\n",
       "\t<tr><th scope=row>13</th><td>40</td><td>20</td></tr>\n",
       "\t<tr><th scope=row>2</th><td>12</td><td>21</td></tr>\n",
       "\t<tr><th scope=row>4</th><td>18</td><td>21</td></tr>\n",
       "\t<tr><th scope=row>17</th><td>48</td><td>21</td></tr>\n",
       "\t<tr><th scope=row>10</th><td>34</td><td>22</td></tr>\n",
       "\t<tr><th scope=row>12</th><td>38</td><td>22</td></tr>\n",
       "\t<tr><th scope=row>5</th><td>22</td><td>23</td></tr>\n",
       "\t<tr><th scope=row>15</th><td>44</td><td>23</td></tr>\n",
       "\t<tr><th scope=row>18</th><td>49</td><td>23</td></tr>\n",
       "\t<tr><th scope=row>16</th><td>46</td><td>24</td></tr>\n",
       "\t<tr><th scope=row>3</th><td>16</td><td>25</td></tr>\n",
       "\t<tr><th scope=row>6</th><td>23</td><td>25</td></tr>\n",
       "\t<tr><th scope=row>9</th><td>32</td><td>25</td></tr>\n",
       "\t<tr><th scope=row>14</th><td>42</td><td>25</td></tr>\n",
       "\t<tr><th scope=row>1</th><td>10</td><td>26</td></tr>\n",
       "</tbody>\n",
       "</table>\n"
      ],
      "text/latex": [
       "\\begin{tabular}{r|ll}\n",
       "  & participant & age\\\\\n",
       "\\hline\n",
       "\t19 & 8  & 18\\\\\n",
       "\t7 & 24 & 20\\\\\n",
       "\t8 & 28 & 20\\\\\n",
       "\t11 & 36 & 20\\\\\n",
       "\t13 & 40 & 20\\\\\n",
       "\t2 & 12 & 21\\\\\n",
       "\t4 & 18 & 21\\\\\n",
       "\t17 & 48 & 21\\\\\n",
       "\t10 & 34 & 22\\\\\n",
       "\t12 & 38 & 22\\\\\n",
       "\t5 & 22 & 23\\\\\n",
       "\t15 & 44 & 23\\\\\n",
       "\t18 & 49 & 23\\\\\n",
       "\t16 & 46 & 24\\\\\n",
       "\t3 & 16 & 25\\\\\n",
       "\t6 & 23 & 25\\\\\n",
       "\t9 & 32 & 25\\\\\n",
       "\t14 & 42 & 25\\\\\n",
       "\t1 & 10 & 26\\\\\n",
       "\\end{tabular}\n"
      ],
      "text/markdown": [
       "\n",
       "| <!--/--> | participant | age |\n",
       "|---|---|---|\n",
       "| 19 | 8  | 18 |\n",
       "| 7 | 24 | 20 |\n",
       "| 8 | 28 | 20 |\n",
       "| 11 | 36 | 20 |\n",
       "| 13 | 40 | 20 |\n",
       "| 2 | 12 | 21 |\n",
       "| 4 | 18 | 21 |\n",
       "| 17 | 48 | 21 |\n",
       "| 10 | 34 | 22 |\n",
       "| 12 | 38 | 22 |\n",
       "| 5 | 22 | 23 |\n",
       "| 15 | 44 | 23 |\n",
       "| 18 | 49 | 23 |\n",
       "| 16 | 46 | 24 |\n",
       "| 3 | 16 | 25 |\n",
       "| 6 | 23 | 25 |\n",
       "| 9 | 32 | 25 |\n",
       "| 14 | 42 | 25 |\n",
       "| 1 | 10 | 26 |\n",
       "\n"
      ],
      "text/plain": [
       "   participant age\n",
       "19 8           18 \n",
       "7  24          20 \n",
       "8  28          20 \n",
       "11 36          20 \n",
       "13 40          20 \n",
       "2  12          21 \n",
       "4  18          21 \n",
       "17 48          21 \n",
       "10 34          22 \n",
       "12 38          22 \n",
       "5  22          23 \n",
       "15 44          23 \n",
       "18 49          23 \n",
       "16 46          24 \n",
       "3  16          25 \n",
       "6  23          25 \n",
       "9  32          25 \n",
       "14 42          25 \n",
       "1  10          26 "
      ]
     },
     "metadata": {},
     "output_type": "display_data"
    }
   ],
   "source": [
    "# The most usual way to do this is by using the function order:\n",
    "age_df[order(age_df$age),]"
   ]
  },
  {
   "cell_type": "code",
   "execution_count": 52,
   "metadata": {},
   "outputs": [
    {
     "name": "stderr",
     "output_type": "stream",
     "text": [
      "------------------------------------------------------------------------------\n",
      "You have loaded plyr after dplyr - this is likely to cause problems.\n",
      "If you need functions from both plyr and dplyr, please load plyr first, then dplyr:\n",
      "library(plyr); library(dplyr)\n",
      "------------------------------------------------------------------------------\n",
      "\n",
      "Attaching package: ‘plyr’\n",
      "\n",
      "The following objects are masked from ‘package:dplyr’:\n",
      "\n",
      "    arrange, count, desc, failwith, id, mutate, rename, summarise,\n",
      "    summarize\n",
      "\n"
     ]
    },
    {
     "data": {
      "text/html": [
       "<table>\n",
       "<thead><tr><th scope=col>participant</th><th scope=col>age</th></tr></thead>\n",
       "<tbody>\n",
       "\t<tr><td>8 </td><td>18</td></tr>\n",
       "\t<tr><td>24</td><td>20</td></tr>\n",
       "\t<tr><td>28</td><td>20</td></tr>\n",
       "\t<tr><td>36</td><td>20</td></tr>\n",
       "\t<tr><td>40</td><td>20</td></tr>\n",
       "\t<tr><td>12</td><td>21</td></tr>\n",
       "\t<tr><td>18</td><td>21</td></tr>\n",
       "\t<tr><td>48</td><td>21</td></tr>\n",
       "\t<tr><td>34</td><td>22</td></tr>\n",
       "\t<tr><td>38</td><td>22</td></tr>\n",
       "\t<tr><td>22</td><td>23</td></tr>\n",
       "\t<tr><td>44</td><td>23</td></tr>\n",
       "\t<tr><td>49</td><td>23</td></tr>\n",
       "\t<tr><td>46</td><td>24</td></tr>\n",
       "\t<tr><td>16</td><td>25</td></tr>\n",
       "\t<tr><td>23</td><td>25</td></tr>\n",
       "\t<tr><td>32</td><td>25</td></tr>\n",
       "\t<tr><td>42</td><td>25</td></tr>\n",
       "\t<tr><td>10</td><td>26</td></tr>\n",
       "</tbody>\n",
       "</table>\n"
      ],
      "text/latex": [
       "\\begin{tabular}{r|ll}\n",
       " participant & age\\\\\n",
       "\\hline\n",
       "\t 8  & 18\\\\\n",
       "\t 24 & 20\\\\\n",
       "\t 28 & 20\\\\\n",
       "\t 36 & 20\\\\\n",
       "\t 40 & 20\\\\\n",
       "\t 12 & 21\\\\\n",
       "\t 18 & 21\\\\\n",
       "\t 48 & 21\\\\\n",
       "\t 34 & 22\\\\\n",
       "\t 38 & 22\\\\\n",
       "\t 22 & 23\\\\\n",
       "\t 44 & 23\\\\\n",
       "\t 49 & 23\\\\\n",
       "\t 46 & 24\\\\\n",
       "\t 16 & 25\\\\\n",
       "\t 23 & 25\\\\\n",
       "\t 32 & 25\\\\\n",
       "\t 42 & 25\\\\\n",
       "\t 10 & 26\\\\\n",
       "\\end{tabular}\n"
      ],
      "text/markdown": [
       "\n",
       "| participant | age |\n",
       "|---|---|\n",
       "| 8  | 18 |\n",
       "| 24 | 20 |\n",
       "| 28 | 20 |\n",
       "| 36 | 20 |\n",
       "| 40 | 20 |\n",
       "| 12 | 21 |\n",
       "| 18 | 21 |\n",
       "| 48 | 21 |\n",
       "| 34 | 22 |\n",
       "| 38 | 22 |\n",
       "| 22 | 23 |\n",
       "| 44 | 23 |\n",
       "| 49 | 23 |\n",
       "| 46 | 24 |\n",
       "| 16 | 25 |\n",
       "| 23 | 25 |\n",
       "| 32 | 25 |\n",
       "| 42 | 25 |\n",
       "| 10 | 26 |\n",
       "\n"
      ],
      "text/plain": [
       "   participant age\n",
       "1  8           18 \n",
       "2  24          20 \n",
       "3  28          20 \n",
       "4  36          20 \n",
       "5  40          20 \n",
       "6  12          21 \n",
       "7  18          21 \n",
       "8  48          21 \n",
       "9  34          22 \n",
       "10 38          22 \n",
       "11 22          23 \n",
       "12 44          23 \n",
       "13 49          23 \n",
       "14 46          24 \n",
       "15 16          25 \n",
       "16 23          25 \n",
       "17 32          25 \n",
       "18 42          25 \n",
       "19 10          26 "
      ]
     },
     "metadata": {},
     "output_type": "display_data"
    }
   ],
   "source": [
    "# Or you can use the custom function arrange from the plyr library (easier syntax...):\n",
    "library(plyr)\n",
    "\n",
    "arrange(age_df, age)"
   ]
  },
  {
   "cell_type": "markdown",
   "metadata": {},
   "source": [
    "# C. Exploring and visualizing"
   ]
  },
  {
   "cell_type": "markdown",
   "metadata": {},
   "source": [
    "1. Summary statistics and frequencies\n",
    "2. Scatter plots & regression lines\n",
    "3. Histograms & density lines\n",
    "4. Boxplots & barplots with error bars"
   ]
  },
  {
   "cell_type": "markdown",
   "metadata": {},
   "source": [
    "## 1. Summary statistics and frequencies:"
   ]
  },
  {
   "cell_type": "code",
   "execution_count": 53,
   "metadata": {},
   "outputs": [
    {
     "data": {
      "text/html": [
       "<table>\n",
       "<thead><tr><th scope=col>street</th><th scope=col>city</th><th scope=col>zip</th><th scope=col>state</th><th scope=col>beds</th><th scope=col>baths</th><th scope=col>sq__ft</th><th scope=col>type</th><th scope=col>sale_date</th><th scope=col>price</th><th scope=col>latitude</th><th scope=col>longitude</th></tr></thead>\n",
       "<tbody>\n",
       "\t<tr><td>3526 HIGH ST                </td><td>SACRAMENTO                  </td><td>95838                       </td><td>CA                          </td><td>2                           </td><td>1                           </td><td> 836                        </td><td>Residential                 </td><td>Wed May 21 00:00:00 EDT 2008</td><td>59222                       </td><td>38.63191                    </td><td>-121.4349                   </td></tr>\n",
       "\t<tr><td>51 OMAHA CT                 </td><td>SACRAMENTO                  </td><td>95823                       </td><td>CA                          </td><td>3                           </td><td>1                           </td><td>1167                        </td><td>Residential                 </td><td>Wed May 21 00:00:00 EDT 2008</td><td>68212                       </td><td>38.47890                    </td><td>-121.4310                   </td></tr>\n",
       "\t<tr><td>2796 BRANCH ST              </td><td>SACRAMENTO                  </td><td>95815                       </td><td>CA                          </td><td>2                           </td><td>1                           </td><td> 796                        </td><td>Residential                 </td><td>Wed May 21 00:00:00 EDT 2008</td><td>68880                       </td><td>38.61830                    </td><td>-121.4438                   </td></tr>\n",
       "\t<tr><td>2805 JANETTE WAY            </td><td>SACRAMENTO                  </td><td>95815                       </td><td>CA                          </td><td>2                           </td><td>1                           </td><td> 852                        </td><td>Residential                 </td><td>Wed May 21 00:00:00 EDT 2008</td><td>69307                       </td><td>38.61684                    </td><td>-121.4391                   </td></tr>\n",
       "\t<tr><td>6001 MCMAHON DR             </td><td>SACRAMENTO                  </td><td>95824                       </td><td>CA                          </td><td>2                           </td><td>1                           </td><td> 797                        </td><td>Residential                 </td><td>Wed May 21 00:00:00 EDT 2008</td><td>81900                       </td><td>38.51947                    </td><td>-121.4358                   </td></tr>\n",
       "\t<tr><td>5828 PEPPERMILL CT          </td><td>SACRAMENTO                  </td><td>95841                       </td><td>CA                          </td><td>3                           </td><td>1                           </td><td>1122                        </td><td>Condo                       </td><td>Wed May 21 00:00:00 EDT 2008</td><td>89921                       </td><td>38.66260                    </td><td>-121.3278                   </td></tr>\n",
       "</tbody>\n",
       "</table>\n"
      ],
      "text/latex": [
       "\\begin{tabular}{r|llllllllllll}\n",
       " street & city & zip & state & beds & baths & sq\\_\\_ft & type & sale\\_date & price & latitude & longitude\\\\\n",
       "\\hline\n",
       "\t 3526 HIGH ST                 & SACRAMENTO                   & 95838                        & CA                           & 2                            & 1                            &  836                         & Residential                  & Wed May 21 00:00:00 EDT 2008 & 59222                        & 38.63191                     & -121.4349                   \\\\\n",
       "\t 51 OMAHA CT                  & SACRAMENTO                   & 95823                        & CA                           & 3                            & 1                            & 1167                         & Residential                  & Wed May 21 00:00:00 EDT 2008 & 68212                        & 38.47890                     & -121.4310                   \\\\\n",
       "\t 2796 BRANCH ST               & SACRAMENTO                   & 95815                        & CA                           & 2                            & 1                            &  796                         & Residential                  & Wed May 21 00:00:00 EDT 2008 & 68880                        & 38.61830                     & -121.4438                   \\\\\n",
       "\t 2805 JANETTE WAY             & SACRAMENTO                   & 95815                        & CA                           & 2                            & 1                            &  852                         & Residential                  & Wed May 21 00:00:00 EDT 2008 & 69307                        & 38.61684                     & -121.4391                   \\\\\n",
       "\t 6001 MCMAHON DR              & SACRAMENTO                   & 95824                        & CA                           & 2                            & 1                            &  797                         & Residential                  & Wed May 21 00:00:00 EDT 2008 & 81900                        & 38.51947                     & -121.4358                   \\\\\n",
       "\t 5828 PEPPERMILL CT           & SACRAMENTO                   & 95841                        & CA                           & 3                            & 1                            & 1122                         & Condo                        & Wed May 21 00:00:00 EDT 2008 & 89921                        & 38.66260                     & -121.3278                   \\\\\n",
       "\\end{tabular}\n"
      ],
      "text/markdown": [
       "\n",
       "| street | city | zip | state | beds | baths | sq__ft | type | sale_date | price | latitude | longitude |\n",
       "|---|---|---|---|---|---|---|---|---|---|---|---|\n",
       "| 3526 HIGH ST                 | SACRAMENTO                   | 95838                        | CA                           | 2                            | 1                            |  836                         | Residential                  | Wed May 21 00:00:00 EDT 2008 | 59222                        | 38.63191                     | -121.4349                    |\n",
       "| 51 OMAHA CT                  | SACRAMENTO                   | 95823                        | CA                           | 3                            | 1                            | 1167                         | Residential                  | Wed May 21 00:00:00 EDT 2008 | 68212                        | 38.47890                     | -121.4310                    |\n",
       "| 2796 BRANCH ST               | SACRAMENTO                   | 95815                        | CA                           | 2                            | 1                            |  796                         | Residential                  | Wed May 21 00:00:00 EDT 2008 | 68880                        | 38.61830                     | -121.4438                    |\n",
       "| 2805 JANETTE WAY             | SACRAMENTO                   | 95815                        | CA                           | 2                            | 1                            |  852                         | Residential                  | Wed May 21 00:00:00 EDT 2008 | 69307                        | 38.61684                     | -121.4391                    |\n",
       "| 6001 MCMAHON DR              | SACRAMENTO                   | 95824                        | CA                           | 2                            | 1                            |  797                         | Residential                  | Wed May 21 00:00:00 EDT 2008 | 81900                        | 38.51947                     | -121.4358                    |\n",
       "| 5828 PEPPERMILL CT           | SACRAMENTO                   | 95841                        | CA                           | 3                            | 1                            | 1122                         | Condo                        | Wed May 21 00:00:00 EDT 2008 | 89921                        | 38.66260                     | -121.3278                    |\n",
       "\n"
      ],
      "text/plain": [
       "  street             city       zip   state beds baths sq__ft type       \n",
       "1 3526 HIGH ST       SACRAMENTO 95838 CA    2    1      836   Residential\n",
       "2 51 OMAHA CT        SACRAMENTO 95823 CA    3    1     1167   Residential\n",
       "3 2796 BRANCH ST     SACRAMENTO 95815 CA    2    1      796   Residential\n",
       "4 2805 JANETTE WAY   SACRAMENTO 95815 CA    2    1      852   Residential\n",
       "5 6001 MCMAHON DR    SACRAMENTO 95824 CA    2    1      797   Residential\n",
       "6 5828 PEPPERMILL CT SACRAMENTO 95841 CA    3    1     1122   Condo      \n",
       "  sale_date                    price latitude longitude\n",
       "1 Wed May 21 00:00:00 EDT 2008 59222 38.63191 -121.4349\n",
       "2 Wed May 21 00:00:00 EDT 2008 68212 38.47890 -121.4310\n",
       "3 Wed May 21 00:00:00 EDT 2008 68880 38.61830 -121.4438\n",
       "4 Wed May 21 00:00:00 EDT 2008 69307 38.61684 -121.4391\n",
       "5 Wed May 21 00:00:00 EDT 2008 81900 38.51947 -121.4358\n",
       "6 Wed May 21 00:00:00 EDT 2008 89921 38.66260 -121.3278"
      ]
     },
     "metadata": {},
     "output_type": "display_data"
    },
    {
     "data": {
      "text/plain": [
       "                street                city          zip        state   \n",
       " 1223 LAMBERTON CIR:  2   SACRAMENTO    :439   Min.   :95603   CA:985  \n",
       " 4734 14TH AVE     :  2   ELK GROVE     :114   1st Qu.:95660           \n",
       " 7 CRYSTALWOOD CIR :  2   LINCOLN       : 72   Median :95762           \n",
       " 8306 CURLEW CT    :  2   ROSEVILLE     : 48   Mean   :95751           \n",
       " 1 KENNELFORD CIR  :  1   CITRUS HEIGHTS: 35   3rd Qu.:95828           \n",
       " 10 SEA FOAM CT    :  1   ANTELOPE      : 33   Max.   :95864           \n",
       " (Other)           :975   (Other)       :244                           \n",
       "      beds           baths           sq__ft               type    \n",
       " Min.   :0.000   Min.   :0.000   Min.   :   0   Condo       : 54  \n",
       " 1st Qu.:2.000   1st Qu.:1.000   1st Qu.: 952   Multi-Family: 13  \n",
       " Median :3.000   Median :2.000   Median :1304   Residential :917  \n",
       " Mean   :2.912   Mean   :1.777   Mean   :1315   Unkown      :  1  \n",
       " 3rd Qu.:4.000   3rd Qu.:2.000   3rd Qu.:1718                     \n",
       " Max.   :8.000   Max.   :5.000   Max.   :5822                     \n",
       "                                                                  \n",
       "                        sale_date       price           latitude    \n",
       " Fri May 16 00:00:00 EDT 2008:264   Min.   :  1551   Min.   :38.24  \n",
       " Mon May 19 00:00:00 EDT 2008:268   1st Qu.:145000   1st Qu.:38.48  \n",
       " Thu May 15 00:00:00 EDT 2008:118   Median :213750   Median :38.63  \n",
       " Tue May 20 00:00:00 EDT 2008:177   Mean   :234144   Mean   :38.61  \n",
       " Wed May 21 00:00:00 EDT 2008:158   3rd Qu.:300000   3rd Qu.:38.70  \n",
       "                                    Max.   :884790   Max.   :39.02  \n",
       "                                                                    \n",
       "   longitude     \n",
       " Min.   :-121.6  \n",
       " 1st Qu.:-121.4  \n",
       " Median :-121.4  \n",
       " Mean   :-121.4  \n",
       " 3rd Qu.:-121.3  \n",
       " Max.   :-120.6  \n",
       "                 "
      ]
     },
     "metadata": {},
     "output_type": "display_data"
    },
    {
     "data": {
      "text/html": [
       "<ol class=list-inline>\n",
       "\t<li>985</li>\n",
       "\t<li>12</li>\n",
       "</ol>\n"
      ],
      "text/latex": [
       "\\begin{enumerate*}\n",
       "\\item 985\n",
       "\\item 12\n",
       "\\end{enumerate*}\n"
      ],
      "text/markdown": [
       "1. 985\n",
       "2. 12\n",
       "\n",
       "\n"
      ],
      "text/plain": [
       "[1] 985  12"
      ]
     },
     "metadata": {},
     "output_type": "display_data"
    }
   ],
   "source": [
    "data <- read.csv(local_file_location)\n",
    "head(data)\n",
    "summary(data)\n",
    "dim(data)"
   ]
  },
  {
   "cell_type": "code",
   "execution_count": 54,
   "metadata": {},
   "outputs": [
    {
     "data": {
      "text/html": [
       "<ol class=list-inline>\n",
       "\t<li>1551</li>\n",
       "\t<li>884790</li>\n",
       "</ol>\n"
      ],
      "text/latex": [
       "\\begin{enumerate*}\n",
       "\\item 1551\n",
       "\\item 884790\n",
       "\\end{enumerate*}\n"
      ],
      "text/markdown": [
       "1. 1551\n",
       "2. 884790\n",
       "\n",
       "\n"
      ],
      "text/plain": [
       "[1]   1551 884790"
      ]
     },
     "metadata": {},
     "output_type": "display_data"
    },
    {
     "data": {
      "text/html": [
       "1551"
      ],
      "text/latex": [
       "1551"
      ],
      "text/markdown": [
       "1551"
      ],
      "text/plain": [
       "[1] 1551"
      ]
     },
     "metadata": {},
     "output_type": "display_data"
    },
    {
     "data": {
      "text/html": [
       "884790"
      ],
      "text/latex": [
       "884790"
      ],
      "text/markdown": [
       "884790"
      ],
      "text/plain": [
       "[1] 884790"
      ]
     },
     "metadata": {},
     "output_type": "display_data"
    },
    {
     "data": {
      "text/html": [
       "<dl class=dl-horizontal>\n",
       "\t<dt>25%</dt>\n",
       "\t\t<dd>145000</dd>\n",
       "\t<dt>50%</dt>\n",
       "\t\t<dd>213750</dd>\n",
       "\t<dt>75%</dt>\n",
       "\t\t<dd>3e+05</dd>\n",
       "</dl>\n"
      ],
      "text/latex": [
       "\\begin{description*}\n",
       "\\item[25\\textbackslash{}\\%] 145000\n",
       "\\item[50\\textbackslash{}\\%] 213750\n",
       "\\item[75\\textbackslash{}\\%] 3e+05\n",
       "\\end{description*}\n"
      ],
      "text/markdown": [
       "25%\n",
       ":   14500050%\n",
       ":   21375075%\n",
       ":   3e+05\n",
       "\n"
      ],
      "text/plain": [
       "   25%    50%    75% \n",
       "145000 213750 300000 "
      ]
     },
     "metadata": {},
     "output_type": "display_data"
    },
    {
     "data": {
      "text/html": [
       "213750"
      ],
      "text/latex": [
       "213750"
      ],
      "text/markdown": [
       "213750"
      ],
      "text/plain": [
       "[1] 213750"
      ]
     },
     "metadata": {},
     "output_type": "display_data"
    },
    {
     "data": {
      "text/html": [
       "234144.263959391"
      ],
      "text/latex": [
       "234144.263959391"
      ],
      "text/markdown": [
       "234144.263959391"
      ],
      "text/plain": [
       "[1] 234144.3"
      ]
     },
     "metadata": {},
     "output_type": "display_data"
    }
   ],
   "source": [
    "# The single functions for the summary statistics above would be:\n",
    "range(data$price)\n",
    "min(data$price)\n",
    "max(data$price)\n",
    "\n",
    "quantile(data$price, c(.25, .5, .75))\n",
    "\n",
    "median(data$price)\n",
    "\n",
    "mean(data$price)"
   ]
  },
  {
   "cell_type": "code",
   "execution_count": 55,
   "metadata": {},
   "outputs": [
    {
     "data": {
      "text/html": [
       "155000"
      ],
      "text/latex": [
       "155000"
      ],
      "text/markdown": [
       "155000"
      ],
      "text/plain": [
       "[1] 155000"
      ]
     },
     "metadata": {},
     "output_type": "display_data"
    }
   ],
   "source": [
    "# IQR wraps quantile to give the interquartile range (the 75th percentile minus the 25th percentile):\n",
    "IQR(data$price)"
   ]
  },
  {
   "cell_type": "code",
   "execution_count": 56,
   "metadata": {},
   "outputs": [
    {
     "data": {
      "text/html": [
       "234144.263959391"
      ],
      "text/latex": [
       "234144.263959391"
      ],
      "text/markdown": [
       "234144.263959391"
      ],
      "text/plain": [
       "[1] 234144.3"
      ]
     },
     "metadata": {},
     "output_type": "display_data"
    }
   ],
   "source": [
    "# You can use with to make the syntax a bit more digestible:\n",
    "with(data, mean(price))"
   ]
  },
  {
   "cell_type": "code",
   "execution_count": 57,
   "metadata": {},
   "outputs": [
    {
     "ename": "ERROR",
     "evalue": "Error in colMeans(data): 'x' must be numeric\n",
     "output_type": "error",
     "traceback": [
      "Error in colMeans(data): 'x' must be numeric\nTraceback:\n",
      "1. colMeans(data)"
     ]
    }
   ],
   "source": [
    "# Careful that:\n",
    "colMeans(data)"
   ]
  },
  {
   "cell_type": "code",
   "execution_count": 58,
   "metadata": {},
   "outputs": [
    {
     "data": {
      "text/html": [
       "<dl class=dl-horizontal>\n",
       "\t<dt>beds</dt>\n",
       "\t\t<dd>2.91167512690355</dd>\n",
       "\t<dt>baths</dt>\n",
       "\t\t<dd>1.77664974619289</dd>\n",
       "\t<dt>sq__ft</dt>\n",
       "\t\t<dd>1314.91675126904</dd>\n",
       "\t<dt>price</dt>\n",
       "\t\t<dd>234144.263959391</dd>\n",
       "</dl>\n"
      ],
      "text/latex": [
       "\\begin{description*}\n",
       "\\item[beds] 2.91167512690355\n",
       "\\item[baths] 1.77664974619289\n",
       "\\item[sq\\textbackslash{}\\_\\textbackslash{}\\_ft] 1314.91675126904\n",
       "\\item[price] 234144.263959391\n",
       "\\end{description*}\n"
      ],
      "text/markdown": [
       "beds\n",
       ":   2.91167512690355baths\n",
       ":   1.77664974619289sq__ft\n",
       ":   1314.91675126904price\n",
       ":   234144.263959391\n",
       "\n"
      ],
      "text/plain": [
       "        beds        baths       sq__ft        price \n",
       "2.911675e+00 1.776650e+00 1.314917e+03 2.341443e+05 "
      ]
     },
     "metadata": {},
     "output_type": "display_data"
    }
   ],
   "source": [
    "# So you should only select numerical variables:\n",
    "colMeans(data[,c('beds', 'baths', 'sq__ft', 'price')])"
   ]
  },
  {
   "cell_type": "code",
   "execution_count": 61,
   "metadata": {},
   "outputs": [
    {
     "data": {
      "text/html": [
       "<dl class=dl-horizontal>\n",
       "\t<dt>beds</dt>\n",
       "\t\t<dd>2.91167512690355</dd>\n",
       "\t<dt>baths</dt>\n",
       "\t\t<dd>1.77664974619289</dd>\n",
       "\t<dt>sq__ft</dt>\n",
       "\t\t<dd>1314.91675126904</dd>\n",
       "\t<dt>price</dt>\n",
       "\t\t<dd>234144.263959391</dd>\n",
       "</dl>\n"
      ],
      "text/latex": [
       "\\begin{description*}\n",
       "\\item[beds] 2.91167512690355\n",
       "\\item[baths] 1.77664974619289\n",
       "\\item[sq\\textbackslash{}\\_\\textbackslash{}\\_ft] 1314.91675126904\n",
       "\\item[price] 234144.263959391\n",
       "\\end{description*}\n"
      ],
      "text/markdown": [
       "beds\n",
       ":   2.91167512690355baths\n",
       ":   1.77664974619289sq__ft\n",
       ":   1314.91675126904price\n",
       ":   234144.263959391\n",
       "\n"
      ],
      "text/plain": [
       "        beds        baths       sq__ft        price \n",
       "2.911675e+00 1.776650e+00 1.314917e+03 2.341443e+05 "
      ]
     },
     "metadata": {},
     "output_type": "display_data"
    },
    {
     "data": {
      "text/html": [
       "<dl class=dl-horizontal>\n",
       "\t<dt>beds</dt>\n",
       "\t\t<dd>1.30793223204358</dd>\n",
       "\t<dt>baths</dt>\n",
       "\t\t<dd>0.895371422318646</dd>\n",
       "\t<dt>sq__ft</dt>\n",
       "\t\t<dd>853.048242503444</dd>\n",
       "\t<dt>price</dt>\n",
       "\t\t<dd>138365.839084928</dd>\n",
       "</dl>\n"
      ],
      "text/latex": [
       "\\begin{description*}\n",
       "\\item[beds] 1.30793223204358\n",
       "\\item[baths] 0.895371422318646\n",
       "\\item[sq\\textbackslash{}\\_\\textbackslash{}\\_ft] 853.048242503444\n",
       "\\item[price] 138365.839084928\n",
       "\\end{description*}\n"
      ],
      "text/markdown": [
       "beds\n",
       ":   1.30793223204358baths\n",
       ":   0.895371422318646sq__ft\n",
       ":   853.048242503444price\n",
       ":   138365.839084928\n",
       "\n"
      ],
      "text/plain": [
       "        beds        baths       sq__ft        price \n",
       "1.307932e+00 8.953714e-01 8.530482e+02 1.383658e+05 "
      ]
     },
     "metadata": {},
     "output_type": "display_data"
    }
   ],
   "source": [
    "# A more general function is apply, that lets you apply any function to either columns or rows of a dataframe:\n",
    "apply(\n",
    "    data[,c('beds', 'baths', 'sq__ft', 'price')],\n",
    "    MARGIN = 2, # 2 is for columns, 1 is for rows\n",
    "    FUN = mean\n",
    ")\n",
    "\n",
    "apply(\n",
    "    data[,c('beds', 'baths', 'sq__ft', 'price')],\n",
    "    MARGIN = 2, # 2 is for columns\n",
    "    FUN = sd\n",
    ")"
   ]
  },
  {
   "cell_type": "code",
   "execution_count": 62,
   "metadata": {},
   "outputs": [
    {
     "ename": "ERROR",
     "evalue": "Error in table(data): attempt to make a table with >= 2^31 elements\n",
     "output_type": "error",
     "traceback": [
      "Error in table(data): attempt to make a table with >= 2^31 elements\nTraceback:\n",
      "1. table(data)",
      "2. stop(\"attempt to make a table with >= 2^31 elements\")"
     ]
    }
   ],
   "source": [
    "# Similarly, for frequencies:\n",
    "table(data)"
   ]
  },
  {
   "cell_type": "code",
   "execution_count": 63,
   "metadata": {},
   "outputs": [
    {
     "data": {
      "text/plain": [
       "                 type\n",
       "city              Condo Multi-Family Residential Unkown\n",
       "  ANTELOPE            1            0          32      0\n",
       "  AUBURN              1            1           3      0\n",
       "  CAMERON PARK        1            0           8      0\n",
       "  CARMICHAEL          3            0          17      0\n",
       "  CITRUS HEIGHTS      2            1          32      0\n",
       "  COOL                0            0           1      0\n",
       "  DIAMOND SPRINGS     0            0           1      0\n",
       "  EL DORADO           0            0           2      0\n",
       "  EL DORADO HILLS     0            0          23      0\n",
       "  ELK GROVE           6            0         108      0\n",
       "  ELVERTA             0            0           4      0\n",
       "  FAIR OAKS           1            0           8      0\n",
       "  FOLSOM              1            0          16      0\n",
       "  FORESTHILL          0            0           1      0\n",
       "  GALT                0            0          21      0\n",
       "  GARDEN VALLEY       0            0           1      0\n",
       "  GOLD RIVER          1            0           3      0\n",
       "  GRANITE BAY         0            0           3      0\n",
       "  GREENWOOD           0            0           1      0\n",
       "  LINCOLN             2            0          70      0\n",
       "  LOOMIS              0            0           2      0\n",
       "  MATHER              0            0           1      0\n",
       "  MEADOW VISTA        0            0           1      0\n",
       "  NORTH HIGHLANDS     0            0          21      0\n",
       "  ORANGEVALE          0            0          11      0\n",
       "  PENRYN              0            0           1      0\n",
       "  PLACERVILLE         0            0          10      0\n",
       "  POLLOCK PINES       0            0           3      0\n",
       "  RANCHO CORDOVA      1            1          26      0\n",
       "  RANCHO MURIETA      0            0           3      0\n",
       "  RIO LINDA           0            0          13      0\n",
       "  ROCKLIN             0            0          17      0\n",
       "  ROSEVILLE           7            0          41      0\n",
       "  SACRAMENTO         27           10         402      0\n",
       "  SHINGLE SPRINGS     0            0           0      1\n",
       "  SLOUGHHOUSE         0            0           1      0\n",
       "  WALNUT GROVE        0            0           1      0\n",
       "  WEST SACRAMENTO     0            0           3      0\n",
       "  WILTON              0            0           5      0"
      ]
     },
     "metadata": {},
     "output_type": "display_data"
    }
   ],
   "source": [
    "# Here you want to select categorical variables:\n",
    "table(data[,c('city', 'type')])"
   ]
  },
  {
   "cell_type": "code",
   "execution_count": 64,
   "metadata": {},
   "outputs": [
    {
     "data": {
      "text/plain": [
       "\n",
       "    (0,1e+03] (1e+03,2e+03] (2e+03,3e+03] (3e+03,4e+03] (4e+03,5e+03] \n",
       "          103           551           120            36             3 \n",
       "(5e+03,6e+03] \n",
       "            1 "
      ]
     },
     "metadata": {},
     "output_type": "display_data"
    }
   ],
   "source": [
    "# You can also combine cut with bins, to get the frequencies per bin of a certain variable.\n",
    "\n",
    "# For example, we can look how many properties are there depending on the squared meters, in bins of 1000:\n",
    "table(cut(data$sq__ft, seq.int(0, 6000, 1000)))"
   ]
  },
  {
   "cell_type": "code",
   "execution_count": 65,
   "metadata": {},
   "outputs": [
    {
     "data": {
      "text/html": [
       "0.333896955406177"
      ],
      "text/latex": [
       "0.333896955406177"
      ],
      "text/markdown": [
       "0.333896955406177"
      ],
      "text/plain": [
       "[1] 0.333897"
      ]
     },
     "metadata": {},
     "output_type": "display_data"
    },
    {
     "data": {
      "text/html": [
       "39410771.1398828"
      ],
      "text/latex": [
       "39410771.1398828"
      ],
      "text/markdown": [
       "39410771.1398828"
      ],
      "text/plain": [
       "[1] 39410771"
      ]
     },
     "metadata": {},
     "output_type": "display_data"
    }
   ],
   "source": [
    "# You can also calculate correlations and covariances:\n",
    "with(data, cor(price, sq__ft))\n",
    "\n",
    "with(data, cov(price, sq__ft))"
   ]
  },
  {
   "cell_type": "code",
   "execution_count": 66,
   "metadata": {},
   "outputs": [
    {
     "data": {
      "text/html": [
       "<table>\n",
       "<thead><tr><th></th><th scope=col>price</th><th scope=col>sq__ft</th><th scope=col>beds</th><th scope=col>baths</th></tr></thead>\n",
       "<tbody>\n",
       "\t<tr><th scope=row>price</th><td>1.00</td><td>0.33</td><td>0.34</td><td>0.42</td></tr>\n",
       "\t<tr><th scope=row>sq__ft</th><td>0.33</td><td>1.00</td><td>0.68</td><td>0.67</td></tr>\n",
       "\t<tr><th scope=row>beds</th><td>0.34</td><td>0.68</td><td>1.00</td><td>0.84</td></tr>\n",
       "\t<tr><th scope=row>baths</th><td>0.42</td><td>0.67</td><td>0.84</td><td>1.00</td></tr>\n",
       "</tbody>\n",
       "</table>\n"
      ],
      "text/latex": [
       "\\begin{tabular}{r|llll}\n",
       "  & price & sq\\_\\_ft & beds & baths\\\\\n",
       "\\hline\n",
       "\tprice & 1.00 & 0.33 & 0.34 & 0.42\\\\\n",
       "\tsq\\_\\_ft & 0.33 & 1.00 & 0.68 & 0.67\\\\\n",
       "\tbeds & 0.34 & 0.68 & 1.00 & 0.84\\\\\n",
       "\tbaths & 0.42 & 0.67 & 0.84 & 1.00\\\\\n",
       "\\end{tabular}\n"
      ],
      "text/markdown": [
       "\n",
       "| <!--/--> | price | sq__ft | beds | baths |\n",
       "|---|---|---|---|---|\n",
       "| price | 1.00 | 0.33 | 0.34 | 0.42 |\n",
       "| sq__ft | 0.33 | 1.00 | 0.68 | 0.67 |\n",
       "| beds | 0.34 | 0.68 | 1.00 | 0.84 |\n",
       "| baths | 0.42 | 0.67 | 0.84 | 1.00 |\n",
       "\n"
      ],
      "text/plain": [
       "       price sq__ft beds baths\n",
       "price  1.00  0.33   0.34 0.42 \n",
       "sq__ft 0.33  1.00   0.68 0.67 \n",
       "beds   0.34  0.68   1.00 0.84 \n",
       "baths  0.42  0.67   0.84 1.00 "
      ]
     },
     "metadata": {},
     "output_type": "display_data"
    },
    {
     "data": {
      "text/html": [
       "<table>\n",
       "<thead><tr><th></th><th scope=col>price</th><th scope=col>sq__ft</th><th scope=col>beds</th><th scope=col>baths</th></tr></thead>\n",
       "<tbody>\n",
       "\t<tr><th scope=row>price</th><td>1.914511e+10</td><td>3.941077e+07</td><td>6.189717e+04</td><td>5.156353e+04</td></tr>\n",
       "\t<tr><th scope=row>sq__ft</th><td>3.941077e+07</td><td>7.276913e+05</td><td>7.632050e+02</td><td>5.084509e+02</td></tr>\n",
       "\t<tr><th scope=row>beds</th><td>6.189717e+04</td><td>7.632050e+02</td><td>1.710687e+00</td><td>9.833013e-01</td></tr>\n",
       "\t<tr><th scope=row>baths</th><td>5.156353e+04</td><td>5.084509e+02</td><td>9.833013e-01</td><td>8.016900e-01</td></tr>\n",
       "</tbody>\n",
       "</table>\n"
      ],
      "text/latex": [
       "\\begin{tabular}{r|llll}\n",
       "  & price & sq\\_\\_ft & beds & baths\\\\\n",
       "\\hline\n",
       "\tprice & 1.914511e+10 & 3.941077e+07 & 6.189717e+04 & 5.156353e+04\\\\\n",
       "\tsq\\_\\_ft & 3.941077e+07 & 7.276913e+05 & 7.632050e+02 & 5.084509e+02\\\\\n",
       "\tbeds & 6.189717e+04 & 7.632050e+02 & 1.710687e+00 & 9.833013e-01\\\\\n",
       "\tbaths & 5.156353e+04 & 5.084509e+02 & 9.833013e-01 & 8.016900e-01\\\\\n",
       "\\end{tabular}\n"
      ],
      "text/markdown": [
       "\n",
       "| <!--/--> | price | sq__ft | beds | baths |\n",
       "|---|---|---|---|---|\n",
       "| price | 1.914511e+10 | 3.941077e+07 | 6.189717e+04 | 5.156353e+04 |\n",
       "| sq__ft | 3.941077e+07 | 7.276913e+05 | 7.632050e+02 | 5.084509e+02 |\n",
       "| beds | 6.189717e+04 | 7.632050e+02 | 1.710687e+00 | 9.833013e-01 |\n",
       "| baths | 5.156353e+04 | 5.084509e+02 | 9.833013e-01 | 8.016900e-01 |\n",
       "\n"
      ],
      "text/plain": [
       "       price        sq__ft       beds         baths       \n",
       "price  1.914511e+10 3.941077e+07 6.189717e+04 5.156353e+04\n",
       "sq__ft 3.941077e+07 7.276913e+05 7.632050e+02 5.084509e+02\n",
       "beds   6.189717e+04 7.632050e+02 1.710687e+00 9.833013e-01\n",
       "baths  5.156353e+04 5.084509e+02 9.833013e-01 8.016900e-01"
      ]
     },
     "metadata": {},
     "output_type": "display_data"
    }
   ],
   "source": [
    "# But if you want a correlation or covariance matrix you should use:\n",
    "cor_mat <- round(cor(data[,c('price', 'sq__ft', 'beds', 'baths')]), 2)\n",
    "cor_mat\n",
    "\n",
    "cov_mat <- cov(data[,c('price', 'sq__ft', 'beds', 'baths')])\n",
    "cov_mat"
   ]
  },
  {
   "cell_type": "markdown",
   "metadata": {},
   "source": [
    "## 2. Scatter plots & regression lines:"
   ]
  },
  {
   "cell_type": "code",
   "execution_count": null,
   "metadata": {},
   "outputs": [],
   "source": [
    "options(repr.plot.width=5, repr.plot.height=5) # this is not necessary in RStudio.\n",
    "\n",
    "plot(x = data$sq__ft, \n",
    "     y = data$price, \n",
    "     col = rgb(.1, .1, .1, .3), \n",
    "     pch = 20,\n",
    "     xlab = 'Squared feet',\n",
    "     ylab = 'Price',\n",
    "     bty = 'l'\n",
    "    )\n",
    "\n",
    "abline( # add regression line\n",
    "    lm(price ~ sq__ft, data),\n",
    "    col = 'maroon4',\n",
    "    lw = 2\n",
    ")"
   ]
  },
  {
   "cell_type": "code",
   "execution_count": null,
   "metadata": {},
   "outputs": [],
   "source": [
    "# From this plot we see that there are a lot of 0 squared feet houses... \n",
    "# this does not seem to be plausible.\n",
    "# Let's fit a regression without these houses.\n",
    "\n",
    "options(repr.plot.width=5, repr.plot.height=5) # this is not necessary in RStudio.\n",
    "\n",
    "plot(x = data$sq__ft, \n",
    "     y = data$price, \n",
    "     col = rgb(0.1, 0.1, 0.1, .3), \n",
    "     pch = 20,\n",
    "     xlab = 'Squared feet',\n",
    "     ylab = 'Price',\n",
    "     bty = 'l'\n",
    "    )\n",
    "\n",
    "\n",
    "\n",
    "# Model 1:\n",
    "lm_1 <- lm(price ~ sq__ft, data) # calculate the regression model\n",
    "slope_1 <- lm_1$coefficients['sq__ft'] # extract the slope for the label positioning \n",
    "intercept_1 <- lm_1$coefficients['(Intercept)'] # extract the intercept for the label positioning \n",
    "\n",
    "abline( # add regression line\n",
    "    lm_1,\n",
    "    col = 'maroon4',\n",
    "    lw = 2\n",
    ")\n",
    "text(x = max(data$sq__ft)*.9, # add label at the end of the regression line\n",
    "     y = slope_1 * max(data$sq__ft) + intercept_1, \n",
    "     \"Including 0\", \n",
    "     srt=0.2)\n",
    "\n",
    "\n",
    "\n",
    "# Model 2:\n",
    "lm_2 <- lm(price ~ sq__ft, data[data$sq__ft > 0,]) # calculate the regression model\n",
    "slope_2 <- lm_2$coefficients['sq__ft'] # extract the slope for the label positioning \n",
    "intercept_2 <- lm_2$coefficients['(Intercept)'] # extract the intercept for the label positioning\n",
    "\n",
    "abline( # add regression line\n",
    "    lm_2,\n",
    "    col = 'maroon1',\n",
    "    lw = 2\n",
    ")\n",
    "text(x = max(data$sq__ft)*.9,  # add label at the end of the regression line\n",
    "     y = slope_2 * max(data$sq__ft) + intercept_2, \n",
    "     \"Excluding 0\", \n",
    "     srt=0.2)"
   ]
  },
  {
   "cell_type": "code",
   "execution_count": null,
   "metadata": {},
   "outputs": [],
   "source": [
    "# Good checks to do: residual plot\n",
    "options(repr.plot.width=10, repr.plot.height=5) # this is not necessary in RStudio.\n",
    "\n",
    "# First calculate the residuals for both models\n",
    "residuals_1 <- resid(lm_1)\n",
    "residuals_2 <- resid(lm_2)\n",
    "\n",
    "# We should change the layout: we want now the two models' residuals next to each other.\n",
    "# We can use the mfrow argument in the par function, that is a general plotting function for changing standard\n",
    "# plotting parameters. This means that we should always remember to change it back to the default at the \n",
    "# end of the plotting.\n",
    "par(mfrow = c(1, 2))\n",
    "\n",
    "plot(x = data[, 'sq__ft'], \n",
    "     y = residuals_1, \n",
    "     col = rgb(0.1, 0.1, 0.1, .3), \n",
    "     pch = 20,\n",
    "     main = 'Including 0',\n",
    "     xlab = 'Squared feet',\n",
    "     ylab = 'Residuals',\n",
    "     bty = 'l'\n",
    "    )\n",
    "abline(h=0, lty=3) # plot a dotted horizontal line at 0\n",
    "\n",
    "plot(x = data[data$sq__ft > 0, 'sq__ft'], \n",
    "     y = residuals_2, \n",
    "     col = rgb(0.1, 0.1, 0.1, .3), \n",
    "     pch = 20,\n",
    "     main = 'Excluding 0',\n",
    "     xlab = 'Squared feet',\n",
    "     ylab = 'Residuals',\n",
    "     bty = 'l'\n",
    "    )\n",
    "abline(h=0, lty=3) # plot a dotted horizontal line at 0\n",
    "\n",
    "# Reset layout:\n",
    "par(mfrow = c(1, 1))"
   ]
  },
  {
   "cell_type": "code",
   "execution_count": null,
   "metadata": {},
   "outputs": [],
   "source": [
    "# The residuals do not seem to be exactly normally distributed.\n",
    "# Let's try to log transform the data (both x and y).\n",
    "\n",
    "options(repr.plot.width=5, repr.plot.height=5) # this is not necessary in RStudio.\n",
    "\n",
    "data_excluding0 = data[data$sq__ft > 0,]\n",
    "data_excluding0$log_price = log(data_excluding0$price)\n",
    "data_excluding0$log_sq__ft = log(data_excluding0$sq__ft)\n",
    "\n",
    "plot(x = data_excluding0$log_sq__ft, \n",
    "     y = data_excluding0$log_price, \n",
    "     col = rgb(0.1, 0.1, 0.1, .3), \n",
    "     pch = 20,\n",
    "     xlab = 'Log squared feet',\n",
    "     ylab = ' Log price',\n",
    "     bty = 'l',\n",
    "     log = 'xy'\n",
    "    )"
   ]
  },
  {
   "cell_type": "code",
   "execution_count": null,
   "metadata": {},
   "outputs": [],
   "source": [
    "# Although the data seem now much more suitable for linear regression, there seem to be an outlier:\n",
    "data_excluding0[data_excluding0$log_price < 10,]\n",
    "\n",
    "# Because a a price of 2000 also seems quite unrealistic, we can just exclude this property:\n",
    "data_excluding0 <- data_excluding0[data_excluding0$log_price > 10,]"
   ]
  },
  {
   "cell_type": "code",
   "execution_count": null,
   "metadata": {},
   "outputs": [],
   "source": [
    "# Let's try again, this time refitting the regression and checking the residuals:\n",
    "\n",
    "options(repr.plot.width=10, repr.plot.height=5) # this is not necessary in RStudio.\n",
    "\n",
    "par(mfrow = c(1, 2))\n",
    "\n",
    "plot(x = data_excluding0$log_sq__ft, \n",
    "     y = data_excluding0$log_price, \n",
    "     col = rgb(0.1, 0.1, 0.1, .3), \n",
    "     pch = 20,\n",
    "     xlab = 'Log squared feet',\n",
    "     ylab = ' Log price',\n",
    "     bty = 'l',\n",
    "    )\n",
    "\n",
    "lm_3 <- lm(log_price ~ log_sq__ft, data_excluding0) # calculate the regression model\n",
    "residuals_3 <- resid(lm_3) # calculate residuals\n",
    "\n",
    "abline( # add regression line\n",
    "    lm_3,\n",
    "    col = 'maroon',\n",
    "    lw = 2\n",
    ")\n",
    "\n",
    "plot(x = data_excluding0$log_sq__ft, \n",
    "     y = residuals_3, \n",
    "     col = rgb(0.1, 0.1, 0.1, .3), \n",
    "     pch = 20,\n",
    "     xlab = 'Log squared feet',\n",
    "     ylab = 'Residuals',\n",
    "     bty = 'l'\n",
    "    )\n",
    "abline(h=0, lty=3) # plot a dotted horizontal line at 0\n",
    "\n",
    "par(mfrow = c(1, 1))\n",
    "\n",
    "# Much better!"
   ]
  },
  {
   "cell_type": "code",
   "execution_count": null,
   "metadata": {},
   "outputs": [],
   "source": [
    "# Lastly, we might want to now represent a third variable as a color code, e.g., the number of bathrooms:\n",
    "\n",
    "# And now let's plot a scatter plot where the color indicates the number of bathrooms:\n",
    "options(repr.plot.width=5, repr.plot.height=5) # this is not necessary in RStudio.\n",
    "\n",
    "plot(x = data_excluding0$log_sq__ft, \n",
    "     y = data_excluding0$log_price, \n",
    "     col = data_excluding0$baths, \n",
    "     pch = 20,\n",
    "     xlab = 'Log squared feet',\n",
    "     ylab = ' Log price',\n",
    "     bty = 'l',\n",
    "    )"
   ]
  },
  {
   "cell_type": "code",
   "execution_count": null,
   "metadata": {},
   "outputs": [],
   "source": [
    "# The colors are not the best :D\n",
    "# Here some code to make it slightly more pleasing to the eyes:\n",
    "\n",
    "options(repr.plot.width=4, repr.plot.height=3) # this is not necessary in RStudio.\n",
    "\n",
    "# Let's first build a palette with number of colors the levels in he baths variable:\n",
    "colors <- c()\n",
    "gradient <- 0\n",
    "for (c in unique(data_excluding0$baths)) {\n",
    "    colors <- c(colors, rgb(gradient, .1, gradient, .3))\n",
    "    gradient <- gradient + .25\n",
    "}\n",
    "\n",
    "# And show the palette (just for fun):\n",
    "image(1:length(colors), \n",
    "      1, \n",
    "      as.matrix(1:length(colors)), \n",
    "      col=colors,\n",
    "      main = 'Number of bathrooms',\n",
    "      xlab=\"\", ylab = \"\", xaxt = \"n\", yaxt = \"n\", bty = \"n\")\n",
    "\n",
    "for (c in unique(data_excluding0$baths)) {\n",
    "    text(c, 1, c)\n",
    "}\n",
    "\n",
    "# Now we assign a color to each data point based on the palette we created:\n",
    "zcolor <- colors[data_excluding0$baths]\n",
    "\n",
    "# And now let's plot a scatter plot where the color indicates the number of bathrooms:\n",
    "options(repr.plot.width=5, repr.plot.height=5) # this is not necessary in RStudio.\n",
    "\n",
    "plot(x = data_excluding0$log_sq__ft, \n",
    "     y = data_excluding0$log_price, \n",
    "     col = zcolor, \n",
    "     pch = 20,\n",
    "     xlab = 'Log squared feet',\n",
    "     ylab = ' Log price',\n",
    "     bty = 'l',\n",
    "    )"
   ]
  },
  {
   "cell_type": "markdown",
   "metadata": {},
   "source": [
    "## 3. Histograms & density lines:"
   ]
  },
  {
   "cell_type": "markdown",
   "metadata": {},
   "source": [
    "What we saw in this scatteplot and regression exercise, is that it is important to inspect the **distribution** of the data, before we even try to attempt to fit models (as most statistical models assume the data to be distributed in certain ways...)."
   ]
  },
  {
   "cell_type": "code",
   "execution_count": null,
   "metadata": {},
   "outputs": [],
   "source": [
    "options(repr.plot.width=10, repr.plot.height=5) # this is not necessary in RStudio.\n",
    "\n",
    "hist(data$sq__ft,\n",
    "     main = '',\n",
    "     xlab = 'Squared feet',\n",
    "     breaks = 50\n",
    "    )"
   ]
  },
  {
   "cell_type": "markdown",
   "metadata": {},
   "source": [
    "From this plot would have been already easy to **conclude** that:\n",
    "- there are a lot of data to be excluded, having 0 squared feet\n",
    "- the remaining data are positively skewed (therefore might be a good idea to log transform)\n",
    "\n",
    "You can also help the interpretation by plotting **mean** and **median** as vertical lines.\n",
    "\n",
    "When the median is lower than the mean, we are likely to have positively skewed data:"
   ]
  },
  {
   "cell_type": "code",
   "execution_count": null,
   "metadata": {},
   "outputs": [],
   "source": [
    "options(repr.plot.width=8, repr.plot.height=5) # this is not necessary in RStudio.\n",
    "\n",
    "h <- hist( # assign it to variable to be able to access the frequencies\n",
    "    data$sq__ft,\n",
    "    main = '',\n",
    "    xlab = 'Squared feet',\n",
    "    breaks = 50\n",
    ")\n",
    "\n",
    "abline( # add the mean (calculated excluding the 0s)\n",
    "    v=mean(data[data$sq__ft > 0, 'sq__ft']),\n",
    "    col='blue3',\n",
    "    lty=3,\n",
    "    lw=3\n",
    "      )\n",
    "abline( # add the median (calculated excluding the 0s)\n",
    "    v=median(data[data$sq__ft > 0, 'sq__ft']),\n",
    "    col='blue3',\n",
    "    lty=2,\n",
    "    lw=3\n",
    "      )\n",
    "\n",
    "# To better position the legend, we can get the max frequency in the histogram:\n",
    "max_frequency <- max(h$counts)\n",
    "\n",
    "legend(\n",
    "    max(data$sq__ft)*.6, \n",
    "    max_frequency, \n",
    "    legend=c(\"Mean\", \"Median\"),\n",
    "    col='blue3',\n",
    "    lty=c(3, 2), \n",
    "    bg='white', \n",
    "    lw=3)"
   ]
  },
  {
   "cell_type": "markdown",
   "metadata": {},
   "source": [
    "To better control the binning of the histograms, we should give a specific vector to the **breaks** argument, instead of just a number:"
   ]
  },
  {
   "cell_type": "code",
   "execution_count": null,
   "metadata": {},
   "outputs": [],
   "source": [
    "options(repr.plot.width=4, repr.plot.height=4) # this is not necessary in RStudio.\n",
    "\n",
    "# So, instead of:\n",
    "\n",
    "hist(\n",
    "    data$baths,\n",
    "    main = '',\n",
    "    xlab = 'Number of Bathrooms',\n",
    "    breaks = 6\n",
    ")\n",
    "\n",
    "# We do:\n",
    "\n",
    "hist(\n",
    "    data$baths,\n",
    "    main = '',\n",
    "    xlab = 'Number of Bathrooms',\n",
    "    breaks = seq(-.5, max(data$baths)+.5, 1)\n",
    ")\n",
    "\n",
    "# Not only in the top histogram there are 5 instead of the specified 6 bins, but it's unclear if the first bar\n",
    "# includes 0 or also 1s...\n",
    "# So always specify the breaks as a vector to increase interpretability!"
   ]
  },
  {
   "cell_type": "markdown",
   "metadata": {},
   "source": [
    "Instead of the frequencies, we often want to plot **densities**."
   ]
  },
  {
   "cell_type": "code",
   "execution_count": null,
   "metadata": {},
   "outputs": [],
   "source": [
    "options(repr.plot.width=10, repr.plot.height=5) # this is not necessary in RStudio.\n",
    "\n",
    "better_color <- rgb(.2, .4, .5, .3) # Già che ci siamo, we also change the color\n",
    "\n",
    "hist(\n",
    "    data_excluding0$price,\n",
    "    main = '',\n",
    "    xlab = 'Price',\n",
    "    breaks = 50,\n",
    "    freq = FALSE, # set this to false to get densities,\n",
    "    col = better_color,\n",
    "    border = better_color # you can change the color of the border to make it nicer...\n",
    ")\n",
    "\n",
    "# So that's good, but it's also super nice to add a density line on top of the histogram:\n",
    "density_price <- density(data_excluding0$price)\n",
    "\n",
    "better_color_denser <- rgb(.2, .4, .5, .8)\n",
    "\n",
    "lines(\n",
    "    density_price,\n",
    "    lw=3,\n",
    "    col= better_color_denser\n",
    "    )"
   ]
  },
  {
   "cell_type": "code",
   "execution_count": null,
   "metadata": {},
   "outputs": [],
   "source": [
    "# Sometimes we want to compare distributions with each other:\n",
    "col_1 <- rgb(.5, .3, .2, .3)\n",
    "col_2 <- rgb(.2, .5, .2, .3)\n",
    "\n",
    "breaks <- seq(min(data_excluding0$price), max(data_excluding0$price)*1.1, 50000)\n",
    "\n",
    "options(repr.plot.width=10, repr.plot.height=6) # this is not necessary in RStudio.\n",
    "\n",
    "hist(\n",
    "    data_excluding0$price[data_excluding0$beds <= 3],\n",
    "    main = '',\n",
    "    xlab = 'Price',\n",
    "    breaks = breaks,\n",
    "    freq = FALSE,\n",
    "    col = col_1,\n",
    "    border = col_1\n",
    ")\n",
    "\n",
    "hist(\n",
    "    data_excluding0$price[data_excluding0$beds > 3],\n",
    "    main = '',\n",
    "    xlab = 'Price',\n",
    "    breaks = breaks,\n",
    "    freq = FALSE,\n",
    "    col = col_2,\n",
    "    border = col_2,\n",
    "    add = TRUE # set this to true to overlap!\n",
    ")\n",
    "\n",
    "legend('topright', \n",
    "       legend = c(\"Up to 3\", \"More than 3\"), \n",
    "       col = c(col_1, col_2), \n",
    "       pch = c(15, 15))\n",
    "\n",
    "lines(\n",
    "    density(data_excluding0$price[data_excluding0$beds <= 3]),\n",
    "    lw=3,\n",
    "    col= col_1\n",
    "    )\n",
    "\n",
    "lines(\n",
    "    density(data_excluding0$price[data_excluding0$beds > 3]),\n",
    "    lw=3,\n",
    "    col= col_2\n",
    "    )"
   ]
  },
  {
   "cell_type": "markdown",
   "metadata": {},
   "source": [
    "## 4. Boxplots & barplots with error bars:"
   ]
  },
  {
   "cell_type": "markdown",
   "metadata": {},
   "source": [
    "The plots above are very good when we have continuous variables. Often though, we have continuous measurements for different experimental conditions, or groups of subjects, etc. With 2 or 3 levels of such variables, it's still relatively convenient to plot overlapping histograms or density lines alone. But when the number of levels increases, we might want to switch to **boxplots**:"
   ]
  },
  {
   "cell_type": "code",
   "execution_count": null,
   "metadata": {},
   "outputs": [],
   "source": [
    "options(repr.plot.width=6, repr.plot.height=5) # this is not necessary in RStudio.\n",
    "\n",
    "# Example:\n",
    "boxplot(\n",
    "    price ~ baths, \n",
    "    data = data_excluding0,\n",
    "    xlab = 'Number of bathrooms',\n",
    "    ylab = 'Price'\n",
    ")"
   ]
  },
  {
   "cell_type": "markdown",
   "metadata": {},
   "source": [
    "In the plot above, it is not necessarily clear how many observations we have per level of the categorical variable. To explore that, we can use **barplots**.\n",
    "\n",
    "Remember that **barplots** are a bit more stupid than **histograms** and **boxplots**. They often require us to calculate stuff first:"
   ]
  },
  {
   "cell_type": "code",
   "execution_count": null,
   "metadata": {},
   "outputs": [],
   "source": [
    "# How many properties are there per level of bedrooms?\n",
    "table_beds <- table(data_excluding0$beds) # Calculate the y values\n",
    "\n",
    "barplot(\n",
    "    table_beds,\n",
    "    col = better_color,\n",
    "    border = better_color,\n",
    "    ylab = 'Counts',\n",
    "    xlab = 'Number of bedrooms'\n",
    ")"
   ]
  },
  {
   "cell_type": "code",
   "execution_count": null,
   "metadata": {},
   "outputs": [],
   "source": [
    "# When we have a lot of categorical variables, it's nice to make it horizontal, \n",
    "# and order it by frequency:\n",
    "\n",
    "options(repr.plot.width=10, repr.plot.height=9) # this is not necessary in RStudio.\n",
    "\n",
    "table_city <- table(data_excluding0$city) # Calculate the y values\n",
    "table_city <- sort(table_city) # Order it by frequency\n",
    "\n",
    "par(las=1, # make the labels horizontal\n",
    "    mar=c(5.1,7.1,4.1,2.1)) # increase left margin\n",
    "\n",
    "barplot(\n",
    "    table_city,\n",
    "    col = better_color,\n",
    "    border = better_color,\n",
    "    xlab = 'Counts',\n",
    "    ylab = '',\n",
    "    horiz = TRUE,\n",
    "    cex.names = .6\n",
    ")"
   ]
  },
  {
   "cell_type": "markdown",
   "metadata": {},
   "source": [
    "**barplots** are also very flexible. Another important thing we might want to do is to for example compare the mean of X aggregated by either 1 or two independent variables."
   ]
  },
  {
   "cell_type": "code",
   "execution_count": null,
   "metadata": {},
   "outputs": [],
   "source": [
    "# Data retrieved from https://www.kaggle.com/ronitf/heart-disease-uci\n",
    "data <- read.csv('~/git/RcourseSpring2019/data/heart.csv')\n",
    "head(data)"
   ]
  },
  {
   "cell_type": "markdown",
   "metadata": {},
   "source": [
    "#### One grouping variable, confidence intervals:"
   ]
  },
  {
   "cell_type": "code",
   "execution_count": null,
   "metadata": {},
   "outputs": [],
   "source": [
    "# Plot the mean cholestoral per sex(1 = male; 0 = female), with CONFIDENCE INTERVALS:\n",
    "\n",
    "# 1. First calculate the grouped mean, steandard deviation, and number of observations\n",
    "grouped_mean <- aggregate(\n",
    "    formula = chol ~ sex,\n",
    "    data = data,\n",
    "    FUN = mean\n",
    ")\n",
    "\n",
    "grouped_sd <- aggregate(\n",
    "    formula = chol ~ sex,\n",
    "    data = data,\n",
    "    FUN = sd\n",
    ")\n",
    "\n",
    "grouped_n <- aggregate(\n",
    "    formula = chol ~ sex,\n",
    "    data = data,\n",
    "    FUN = length\n",
    ")\n",
    "\n",
    "# 2. Then calculate the standard error of the grouped means:\n",
    "\n",
    "# It is the standard deviation of the vector sampling distribution. \n",
    "# Calculated as the SD divided by the square root of the sample size. \n",
    "# By construction, SE is smaller than SD. With a very big sample size, SE tends toward 0.\n",
    "\n",
    "grouped_se <- grouped_sd$chol / sqrt(grouped_n$chol)\n",
    "grouped_se\n",
    "\n",
    "# 3. Then calculate the confidence intervals:\n",
    "\n",
    "# This interval is defined so that there is a specified probability that a value lies within it. \n",
    "# It is calculated as t * SE. Where t is the value of the Student’s t-distribution for a specific alpha. \n",
    "# Its value is often rounded to 1.96 (its value with a big sample size). \n",
    "# If the sample size is huge or the distribution not normal, it is better to calculate the CI using the bootstrap method.\n",
    "\n",
    "alpha <- 0.05 # Significance level\n",
    "t <- qt((1-alpha)/2 + .5, grouped_n$chol - 1)   # tend to 1.96 if sample size is big enough\n",
    "grouped_ci <- t*grouped_se\n",
    "grouped_ci"
   ]
  },
  {
   "cell_type": "code",
   "execution_count": null,
   "metadata": {},
   "outputs": [],
   "source": [
    "options(repr.plot.width=5, repr.plot.height=5) # this is not necessary in RStudio.\n",
    "\n",
    "b <- barplot(\n",
    "    height = grouped_mean$chol,\n",
    "    names.arg = grouped_mean$sex,\n",
    "    col = better_color,\n",
    "    border = better_color,\n",
    "    ylim = c(0, max(grouped_mean$chol+grouped_ci)),\n",
    "    xlab = 'Sex',\n",
    "    ylab = 'Serum cholestoral in mg/dl'\n",
    "       )\n",
    "\n",
    "segments(\n",
    "    x0 = b, \n",
    "    x1 = b, \n",
    "    y0 = grouped_mean$chol-grouped_ci, \n",
    "    y1 = grouped_mean$chol+grouped_ci, \n",
    "    lwd = 2\n",
    ")"
   ]
  },
  {
   "cell_type": "markdown",
   "metadata": {},
   "source": [
    "#### One grouping variable, Standard errors:"
   ]
  },
  {
   "cell_type": "code",
   "execution_count": null,
   "metadata": {},
   "outputs": [],
   "source": [
    "# Plot the mean resting maximum heart rate per age, with STANDARD ERRORS:\n",
    "\n",
    "# 1. First calculate the grouped mean, steandard deviation, and number of observations\n",
    "grouped_mean <- aggregate(\n",
    "    formula = thalach ~ age,\n",
    "    data = data,\n",
    "    FUN = mean\n",
    ")\n",
    "\n",
    "grouped_sd <- aggregate(\n",
    "    formula = thalach ~ age,\n",
    "    data = data,\n",
    "    FUN = sd\n",
    ")\n",
    "\n",
    "grouped_n <- aggregate(\n",
    "    formula = thalach ~ age,\n",
    "    data = data,\n",
    "    FUN = length\n",
    ")\n",
    "\n",
    "# 2. Then calculate the standard error of the grouped means:\n",
    "\n",
    "grouped_se <- grouped_sd$thalach / sqrt(grouped_n$thalach)\n",
    "\n",
    "# Eliminate the NA:\n",
    "grouped_mean <- grouped_mean[!is.na(grouped_se),]\n",
    "grouped_se <- grouped_se[!is.na(grouped_se)]"
   ]
  },
  {
   "cell_type": "code",
   "execution_count": null,
   "metadata": {},
   "outputs": [],
   "source": [
    "options(repr.plot.width=9, repr.plot.height=5) # this is not necessary in RStudio.\n",
    "\n",
    "b <- barplot(\n",
    "    height = grouped_mean$thalach,\n",
    "    names.arg = grouped_mean$age,\n",
    "    col = better_color,\n",
    "    border = better_color,\n",
    "    ylim = c(0, max(grouped_mean$thalach + grouped_se)),\n",
    "    xlab = 'Age',\n",
    "    ylab = 'Maximum heart rate '\n",
    "       )\n",
    "\n",
    "segments(\n",
    "    x0 = b, \n",
    "    x1 = b, \n",
    "    y0 = grouped_mean$thalach - grouped_se, \n",
    "    y1 = grouped_mean$thalach + grouped_se, \n",
    "    lwd = 2\n",
    ")"
   ]
  },
  {
   "cell_type": "markdown",
   "metadata": {},
   "source": [
    "#### Two grouping variables, confidence intervals:"
   ]
  },
  {
   "cell_type": "code",
   "execution_count": null,
   "metadata": {},
   "outputs": [],
   "source": [
    "# 1. First calculate the grouped mean, steandard deviation, and number of observations\n",
    "grouped_mean <- aggregate(\n",
    "    formula = trestbps ~ sex + cp,\n",
    "    data = data,\n",
    "    FUN = mean\n",
    ")\n",
    "\n",
    "grouped_sd <- aggregate(\n",
    "    formula = trestbps ~ sex + cp,\n",
    "    data = data,\n",
    "    FUN = sd\n",
    ")\n",
    "\n",
    "grouped_n <- aggregate(\n",
    "    formula = trestbps ~ sex + cp,\n",
    "    data = data,\n",
    "    FUN = length\n",
    ")\n",
    "\n",
    "head(grouped_mean)"
   ]
  },
  {
   "cell_type": "code",
   "execution_count": null,
   "metadata": {},
   "outputs": [],
   "source": [
    "# To feed into the barplot function, we need a table-like object, with, e.g, age as rows and sex as columns.\n",
    "# We can thus use the reshape2 package for this purpose and transform our data to wide format using the function acast:\n",
    "\n",
    "grouped_mean_wide <- acast(\n",
    "    data = grouped_mean, \n",
    "    formula = sex ~ cp\n",
    ")\n",
    "\n",
    "grouped_sd_wide <- acast(\n",
    "    data = grouped_sd, \n",
    "    formula = sex ~ cp\n",
    ")\n",
    "\n",
    "grouped_n_wide <- acast(\n",
    "    data = grouped_n, \n",
    "    formula = sex ~ cp\n",
    ")\n",
    "\n",
    "grouped_mean_wide"
   ]
  },
  {
   "cell_type": "code",
   "execution_count": null,
   "metadata": {},
   "outputs": [],
   "source": [
    "# 2. Then calculate the standard error of the grouped means:\n",
    "grouped_se_wide <- grouped_sd_wide / sqrt(grouped_n_wide)\n",
    "\n",
    "# 3. Then calculate the confidence intervals:\n",
    "\n",
    "alpha <- 0.05 # Significance level\n",
    "t <- qt((1-alpha)/2 + .5, grouped_n_wide - 1)   # tend to 1.96 if sample size is big enough\n",
    "grouped_ci_wide <- t*grouped_se_wide\n",
    "\n",
    "grouped_ci_wide"
   ]
  },
  {
   "cell_type": "code",
   "execution_count": null,
   "metadata": {},
   "outputs": [],
   "source": [
    "# Eliminate NAs:\n",
    "which_NAs <- apply(\n",
    "    X = is.na(grouped_ci_wide),\n",
    "    MARGIN = 2,\n",
    "    FUN = sum\n",
    ")\n",
    "\n",
    "grouped_mean_wide <- grouped_mean_wide[,which_NAs == 0]\n",
    "grouped_ci_wide <- grouped_ci_wide[,which_NAs == 0]"
   ]
  },
  {
   "cell_type": "code",
   "execution_count": null,
   "metadata": {},
   "outputs": [],
   "source": [
    "# Now we are ready to plot:\n",
    "b <- barplot(\n",
    "    height = grouped_mean_wide,\n",
    "    names.arg = c('typical angina', 'atypical angina', 'non-anginal pain', 'asymptomatic'),\n",
    "    ylab = 'Resting blood pressure',\n",
    "    xlab = 'Chest pain type',\n",
    "    col = c('pink3', 'lightblue3'),\n",
    "    beside = TRUE, \n",
    "    legend.text = TRUE,\n",
    "    ylim = c(0, max(grouped_mean_wide + grouped_ci_wide))\n",
    ")\n",
    "\n",
    "segments(\n",
    "    x0 = b,\n",
    "    x1 = b,\n",
    "    y0 = grouped_mean_wide - grouped_ci_wide,\n",
    "    y1 = grouped_mean_wide + grouped_ci_wide,\n",
    "\n",
    ")"
   ]
  },
  {
   "cell_type": "markdown",
   "metadata": {},
   "source": [
    "#### Two grouping variables, standard errors:"
   ]
  },
  {
   "cell_type": "code",
   "execution_count": null,
   "metadata": {},
   "outputs": [],
   "source": [
    "# 1. First calculate the grouped mean, steandard deviation, and number of observations\n",
    "grouped_mean <- aggregate(\n",
    "    formula = chol ~ sex + age,\n",
    "    data = data,\n",
    "    FUN = mean\n",
    ")\n",
    "\n",
    "grouped_sd <- aggregate(\n",
    "    formula = chol ~ sex + age,\n",
    "    data = data,\n",
    "    FUN = sd\n",
    ")\n",
    "\n",
    "grouped_n <- aggregate(\n",
    "    formula = chol ~ sex + age,\n",
    "    data = data,\n",
    "    FUN = length\n",
    ")\n",
    "\n",
    "head(grouped_mean)"
   ]
  },
  {
   "cell_type": "code",
   "execution_count": null,
   "metadata": {},
   "outputs": [],
   "source": [
    "grouped_mean_wide <- acast(\n",
    "    data = grouped_mean, \n",
    "    formula = sex ~ age\n",
    ")\n",
    "\n",
    "grouped_sd_wide <- acast(\n",
    "    data = grouped_sd, \n",
    "    formula = sex ~ age\n",
    ")\n",
    "\n",
    "grouped_n_wide <- acast(\n",
    "    data = grouped_n, \n",
    "    formula = sex ~ age\n",
    ")\n",
    "\n",
    "grouped_mean_wide"
   ]
  },
  {
   "cell_type": "code",
   "execution_count": null,
   "metadata": {},
   "outputs": [],
   "source": [
    "# 2. Then calculate the standard error of the grouped means:\n",
    "grouped_se_wide <- grouped_sd_wide / sqrt(grouped_n_wide)"
   ]
  },
  {
   "cell_type": "code",
   "execution_count": null,
   "metadata": {},
   "outputs": [],
   "source": [
    "# Eliminate NAs:\n",
    "which_NAs <- apply(\n",
    "    X = is.na(grouped_se_wide),\n",
    "    MARGIN = 2,\n",
    "    FUN = sum\n",
    ")\n",
    "\n",
    "grouped_mean_wide <- grouped_mean_wide[,which_NAs == 0]\n",
    "grouped_se_wide <- grouped_se_wide[,which_NAs == 0]"
   ]
  },
  {
   "cell_type": "code",
   "execution_count": null,
   "metadata": {},
   "outputs": [],
   "source": [
    "# Now we are ready to plot:\n",
    "b <- barplot(\n",
    "    height = grouped_mean_wide,\n",
    "    ylab = 'Serum cholestoral in mg/dl',\n",
    "    xlab = 'Age',\n",
    "    col = c('pink3', 'lightblue3'),\n",
    "    beside = TRUE, \n",
    "    legend.text = TRUE,\n",
    "    ylim = c(0, max(grouped_mean_wide + grouped_se_wide))\n",
    ")\n",
    "\n",
    "segments(\n",
    "    x0 = b,\n",
    "    x1 = b,\n",
    "    y0 = grouped_mean_wide - grouped_se_wide,\n",
    "    y1 = grouped_mean_wide + grouped_se_wide,\n",
    "\n",
    ")"
   ]
  }
 ],
 "metadata": {
  "kernelspec": {
   "display_name": "R",
   "language": "R",
   "name": "ir"
  },
  "language_info": {
   "codemirror_mode": "r",
   "file_extension": ".r",
   "mimetype": "text/x-r-source",
   "name": "R",
   "pygments_lexer": "r",
   "version": "3.5.1"
  }
 },
 "nbformat": 4,
 "nbformat_minor": 2
}
