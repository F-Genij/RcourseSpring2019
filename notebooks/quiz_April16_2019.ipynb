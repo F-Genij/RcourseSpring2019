{
 "cells": [
  {
   "cell_type": "markdown",
   "metadata": {},
   "source": [
    "# Quiz"
   ]
  },
  {
   "cell_type": "markdown",
   "metadata": {},
   "source": [
    "Open a new script and enter your name and date at the top. Save the script in the `R` subfolder (situated in your R course project folder) as **`quiz_LastFirst_april16.R`**, where Last and First are your last and first names.\n",
    "\n",
    "The quiz is divided in two parts:\n",
    "- in **part A** you will have to load and analyse a provided dataset, situated at: https://github.com/laurafontanesi/RcourseSpring2019/tree/master/data. You will have to successfully download the file and load it in R to be able to do the quiz. You should try to complete this part in maximum 1 hour.\n",
    "- in **part B** you will have to create your own dataset and save it to file. You should try to complete this part in maximum 15 minutes.\n",
    "\n",
    "This would leave you 15 minutes to revise your answers or go back to an answer in which you got stuck."
   ]
  },
  {
   "cell_type": "markdown",
   "metadata": {},
   "source": [
    "#### Response format\n",
    "You should provide your answers so that I can execute it in R, and that is clear which answer you are answering to. \n",
    "\n",
    "You do not need to provide the output of your code, but just the generating one.\n",
    "\n",
    "Here's an **example**:"
   ]
  },
  {
   "cell_type": "raw",
   "metadata": {},
   "source": [
    "Name: Laura Fontanesi\n",
    "Date: 16 april 2019\n",
    "\n",
    "print('Answer E1')\n",
    "data_example <- read.csv('https://raw.githubusercontent.com/laurafontanesi/RcourseSpring2019/master/data/data_wpa6.csv')\n",
    "head(data_example)\n",
    "\n",
    "print('Answer E2')\n",
    "data_example$country[2]\n",
    "\n",
    "print('Answer E3')\n",
    "sum(data_example$iq*10)"
   ]
  },
  {
   "cell_type": "markdown",
   "metadata": {},
   "source": [
    "#### Good luck!\n",
    "\n",
    "You can always go back to past assignments to check how to solve things. There is nothing that you haven't seen already. Just try to not spend to much on looking up stuff, otherwise you won't be able to finish the quiz.\n",
    "\n",
    "If you are communicating with someone by, e.g., chatting, texting or e-mailing, though, it will be an automatic *fail*."
   ]
  },
  {
   "cell_type": "markdown",
   "metadata": {},
   "source": [
    "## A. Analysing a provided dataSet (max 1 h)"
   ]
  },
  {
   "cell_type": "markdown",
   "metadata": {},
   "source": [
    "  **Cleaning up and inspecting the dataset (max 45 min):**\n",
    "   \n",
    "1. Load the data file and assign it to the variable `data_taskA`.\n",
    "2. Make sure that the values are separated correctly and that the column names are loaded correctly using a function of your choice.\n",
    "3. How many rows and columns are there in the dataset? (provide the answer using a function that has number of rows and columns as output)\n",
    "4. How many participants? \n",
    "5. Is there more than 1 observation per participant? If yes, how many?\n",
    "6. How many missing responses are there in total? *Hint*: look at either the `accuracy` or the `RT_msec` columns.\n",
    "7. Redefine `data_taskA` so that is does not contain any missing responses. Check that `data_taskA` has less rows.\n",
    "8. How many females are there? (give as a proportion or percentage, e.g.: 42%) *Suggestion*: you can use the aggregate and unique functions.\n",
    "9. How many males are there? (give as absolute number, e.g.: 13) *Suggestion*: you can use the aggregate and unique functions.\n",
    "10. What is the mean age of the participants? *Make sure* that you have one value per participant when you calculate this (otherwise the answer will not count).\n",
    "11. What are the minimum and the maximum age? *Make sure* that you have one value per participant when you calculate this (otherwise the answer will not count).\n",
    "12. The response times are provided in milliseconds. Add a new column called `RT_sec` that is equal to the `RT_msec` column divided by 1000. Check your answer by calling `head(data_taskA)`.\n",
    "13. We know that when the options were `AC`  or `BD` the difficulty was `easy`, and when the options were `AB` or `CD` the difficulty was `hard`. Create a new column called `difficulty`, that has levels `easy` and `hard` depending on the presented options. Check your answer by calling `head(data_taskA)`.\n",
    "14. We know that when the options were `AB` or `AC` the value was `low`, and when the options were `BD` or `CD` the value was `high`. Create a new column called `value`, that has levels `low` and `high` depending on the presented options. Check your answer by calling `head(data_taskA)`.\n",
    "    \n",
    "    **Exploratory data analyses (max 15 min):**\n",
    "    \n",
    "15. Use the barplot function to plot the mean accuracy, separated by `difficulty` and `value`. You will have to use the columns created in answers 13 and 14. Add appropriate labels for the x and the y axis and a legend. *Hint*: look at the answer C2 from WPA_5.\n",
    "16. Do the same for mean RTs (in seconds, so use the column created in answer 12). \n",
    "17. Add error bars (either standard deviation or standard error) to the plot in answer 16.\n",
    "18. Are the response times normally distributed? Use the `hist` function, and vertical lines representing mean and median of the response times across subjects to reply to this question. Make the lines of different color or style and add a meaningful legend to be able to distinguish them. Change the title to `RT distribution` and the label of the x axis to `seconds`. "
   ]
  },
  {
   "cell_type": "markdown",
   "metadata": {},
   "source": [
    "## B. Making a dataSet (max 15 min)\n",
    "\n",
    "1. Create a data frame called `data_taskB` that has one column called `participant`, made of values from 1 to 41. Check the dimensions of the dataframe: there should be 41 rows and 1 column.\n",
    "2. Add a column called `age` that is made of randomly generated numbers between 18 and 35. You can use either a uniform or normal distribution with the parameters of your choice (as long as there are no values higher than 35 or lower than 18). Check that this worked using the `head` function.\n",
    "3. Use the `round` function to round the age numbers to integers. Check that this worked using the `head` function.\n",
    "4. All the participants with even number belonged to the `placebo` condition, while the participants with odd number belonged to the `treatmentA` condition. Create a new column called `condition` that reflects to which condition each participant belonged to. Check that this worked using the `head` function.\n",
    "5. Add now a participant to the dataframe: they should have 42 as participant number, 24 of age, and belonged to the `treatmentB` condition. Check that you successfully added this participant using the `tail` function."
   ]
  },
  {
   "cell_type": "markdown",
   "metadata": {},
   "source": [
    "## You are done! \n",
    "\n",
    "Use your extra 15 min to revise your answers.\n",
    "\n",
    "Save and email your `quiz_april_16_LastFirst.R` file to me at [laura.fontanesi@unibas.ch](mailto:laura.fontanesi@unibas.ch)."
   ]
  }
 ],
 "metadata": {
  "kernelspec": {
   "display_name": "R",
   "language": "R",
   "name": "ir"
  },
  "language_info": {
   "codemirror_mode": "r",
   "file_extension": ".r",
   "mimetype": "text/x-r-source",
   "name": "R",
   "pygments_lexer": "r",
   "version": "3.5.1"
  }
 },
 "nbformat": 4,
 "nbformat_minor": 2
}
