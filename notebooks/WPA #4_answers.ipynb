{
 "cells": [
  {
   "cell_type": "markdown",
   "metadata": {},
   "source": [
    "# WPA #4 - Chapter 10"
   ]
  },
  {
   "cell_type": "markdown",
   "metadata": {},
   "source": [
    "## Why do we overestimate others' willingness to pay?"
   ]
  },
  {
   "cell_type": "markdown",
   "metadata": {},
   "source": [
    "<img src=\"https://virginialord.files.wordpress.com/2008/03/shack1.jpg\" height=\"200\" />"
   ]
  },
  {
   "cell_type": "markdown",
   "metadata": {},
   "source": [
    "In this WPA, we will analyze data from Matthews et al. (2016): Why do we overestimate others' willingness to pay? The purpose of this research was to test if our beliefs about other people's affluence (i.e.; wealth) affect how much we think they will be willing to pay for items. You can find the full paper at http://journal.sjdm.org/15/15909/jdm15909.pdf."
   ]
  },
  {
   "cell_type": "markdown",
   "metadata": {},
   "source": [
    "### Study 1\n",
    "\n",
    "In this WPA, we will analyze data from their first study. In study 1, participants indicated the proportion of other people taking part in the survey who have more than themselves, and then whether other people would be willing to pay more than them for each of 10 items.\n",
    "\n",
    "The following table shows a table of the 10 projects and proportion of participants who indicated that others would be more willing to pay for the product than themselves (Table 1 in Matthews et al., 2016).\n",
    "\n",
    "Product Number| Product | Reported p(other > self)\n",
    "------------  | ------- | --------\n",
    "1             | A freshly-squeezed glass of apple juice | .695\n",
    "2             | A Parker ballpoint pen | .863\n",
    "3             | A pair of Bose noise-cancelling headphones | .705\n",
    "4             | A voucher giving dinner for two at Applebee's | .853\n",
    "5             | A 16 oz jar of Planters dry-roasted peanuts | .774\n",
    "6             | A one-month movie pass | .800\n",
    "7             | An Ikea desk lamp | .863\n",
    "8             | A Casio digital watch | .900\n",
    "9             | A large, ripe pineapple| .674\n",
    "10             | A handmade wooden chess set | .732\n",
    "\n",
    "**Table 1**: Proportion of participants who indicated that the \"typical participant\" would pay more than they would for each product in Study 1."
   ]
  },
  {
   "cell_type": "markdown",
   "metadata": {},
   "source": [
    "**Study 1 variables description**\n",
    "\n",
    "Here are descriptions of the data variables (taken from the author's dataset notes available at http://journal.sjdm.org/15/15909/Notes.txt)\n",
    "\n",
    "- `id`: participant id code\n",
    "- `gender`: participant gender. 1 = male, 2 = female\n",
    "- `age`: participant age\n",
    "- `income`: participant annual household income on categorical scale with 8 categorical options: Less than 5,000; 15,001–25,000; 25,001–35,000; 35,001–50,000; 50,001–75,000; 75,001–100,000; 100,001–150,000; greater than 150,000.\n",
    "- `p1-p10`: whether the \"typical\" survey respondent would pay more (coded 1) or less (coded 0) than oneself, for each of the 10 products \n",
    "- `task`: whether the participant had to judge the proportion of other people who \"have more money than you do\" (coded 1) or the proportion who \"have less money than you do\" (coded 0)\n",
    "- `havemore`: participant's response when task = 1\n",
    "- `haveless`: participant's response when task = 0\n",
    "- `pcmore`: participant's estimate of the proportion of people who have more than they do (calculated as 100-haveless when task=0)"
   ]
  },
  {
   "cell_type": "markdown",
   "metadata": {},
   "source": [
    "## A. Revision: Loading and Saving data\n",
    "\n",
    "1. If you created an R project last week (I recommended calling it `RCourse` or something similar), open this R project again. If you did not create an R project, instead set your working directory (using `setwd()`) to the location of the `Rcourse` folder you created last week. There should be at least two folders in this working directory: `data` and `R`.\n",
    "\n",
    "2. Open a new R script and save it as **wpa_4_LastFirst.R** in the **R** folder.\n",
    "\n",
    "3. The data are stored at https://github.com/laurafontanesi/RcourseSpring2019/blob/master/data/data_wpa4.csv. Load the data into R by using `read.csv()` into a new object called `matthews.df`. \n",
    "\n",
    "4. Using `write.table()`, save the data as a tab--delimited text file called `matthews.txt` in the data folder of your working directory.\n",
    "\n",
    "5. `R` also has its own file format in which you can save data. Using `save()`, save a copy of the `matthews.df` data in the `.Rdata` format.\n",
    "\n",
    "6. Look at the first few rows of `matthews.df` using `head()`, `View()`, and `str()`\n",
    "\n",
    "7. Clean your workspace by running `rm(list = ls())`. You can check it has worked by re-running `head()`, `View()`, or `str()` on `matthews.df`\n",
    "\n",
    "8. Reload the matthews data by using either `load()` or `read.table()`. Remember to use the correct file extension. "
   ]
  },
  {
   "cell_type": "code",
   "execution_count": 1,
   "metadata": {},
   "outputs": [],
   "source": [
    "# For Example:\n",
    "setwd(\"~/git/RcourseSpring2019/\")"
   ]
  },
  {
   "cell_type": "code",
   "execution_count": 2,
   "metadata": {},
   "outputs": [],
   "source": [
    "matthews.df <- read.csv(file = \"data/data_wpa4.csv\", \n",
    "                        header = TRUE)"
   ]
  },
  {
   "cell_type": "code",
   "execution_count": 3,
   "metadata": {},
   "outputs": [],
   "source": [
    "write.table(x = matthews.df, \n",
    "            file = \"data/matthews.txt\", \n",
    "            sep = \"\\t\")"
   ]
  },
  {
   "cell_type": "code",
   "execution_count": 4,
   "metadata": {},
   "outputs": [],
   "source": [
    "save(x = matthews.df, \n",
    "     file = \"data/matthews.Rdata\")"
   ]
  },
  {
   "cell_type": "code",
   "execution_count": 5,
   "metadata": {},
   "outputs": [
    {
     "data": {
      "text/html": [
       "<table>\n",
       "<thead><tr><th scope=col>id</th><th scope=col>gender</th><th scope=col>age</th><th scope=col>income</th><th scope=col>p1</th><th scope=col>p2</th><th scope=col>p3</th><th scope=col>p4</th><th scope=col>p5</th><th scope=col>p6</th><th scope=col>p7</th><th scope=col>p8</th><th scope=col>p9</th><th scope=col>p10</th><th scope=col>task</th><th scope=col>havemore</th><th scope=col>haveless</th><th scope=col>pcmore</th></tr></thead>\n",
       "<tbody>\n",
       "\t<tr><td>R_3PtNn51LmSFdLNM</td><td>2                </td><td>26               </td><td>7                </td><td>1                </td><td>1                </td><td>1                </td><td>1                </td><td>1                </td><td>1                </td><td>1                </td><td>1                </td><td>1                </td><td>1                </td><td>0                </td><td>NA               </td><td>50               </td><td>50               </td></tr>\n",
       "\t<tr><td>R_2AXrrg62pgFgtMV</td><td>2                </td><td>32               </td><td>4                </td><td>1                </td><td>1                </td><td>1                </td><td>1                </td><td>1                </td><td>1                </td><td>1                </td><td>1                </td><td>1                </td><td>1                </td><td>0                </td><td>NA               </td><td>25               </td><td>75               </td></tr>\n",
       "\t<tr><td>R_cwEOX3HgnMeVQHL</td><td>1                </td><td>25               </td><td>2                </td><td>0                </td><td>1                </td><td>1                </td><td>1                </td><td>1                </td><td>1                </td><td>1                </td><td>1                </td><td>0                </td><td>0                </td><td>0                </td><td>NA               </td><td>10               </td><td>90               </td></tr>\n",
       "\t<tr><td>R_d59iPwL4W6BH8qx</td><td>1                </td><td>33               </td><td>5                </td><td>1                </td><td>1                </td><td>1                </td><td>1                </td><td>1                </td><td>1                </td><td>1                </td><td>1                </td><td>1                </td><td>1                </td><td>0                </td><td>NA               </td><td>50               </td><td>50               </td></tr>\n",
       "\t<tr><td>R_1f3K2HrGzFGNelZ</td><td>1                </td><td>24               </td><td>1                </td><td>1                </td><td>1                </td><td>0                </td><td>1                </td><td>1                </td><td>1                </td><td>1                </td><td>1                </td><td>1                </td><td>1                </td><td>1                </td><td>99               </td><td>NA               </td><td>99               </td></tr>\n",
       "\t<tr><td>R_3oN5ijzTfoMy4ca</td><td>1                </td><td>22               </td><td>2                </td><td>1                </td><td>1                </td><td>0                </td><td>0                </td><td>1                </td><td>1                </td><td>1                </td><td>1                </td><td>0                </td><td>1                </td><td>0                </td><td>NA               </td><td>20               </td><td>80               </td></tr>\n",
       "</tbody>\n",
       "</table>\n"
      ],
      "text/latex": [
       "\\begin{tabular}{r|llllllllllllllllll}\n",
       " id & gender & age & income & p1 & p2 & p3 & p4 & p5 & p6 & p7 & p8 & p9 & p10 & task & havemore & haveless & pcmore\\\\\n",
       "\\hline\n",
       "\t R\\_3PtNn51LmSFdLNM & 2                   & 26                  & 7                   & 1                   & 1                   & 1                   & 1                   & 1                   & 1                   & 1                   & 1                   & 1                   & 1                   & 0                   & NA                  & 50                  & 50                 \\\\\n",
       "\t R\\_2AXrrg62pgFgtMV & 2                   & 32                  & 4                   & 1                   & 1                   & 1                   & 1                   & 1                   & 1                   & 1                   & 1                   & 1                   & 1                   & 0                   & NA                  & 25                  & 75                 \\\\\n",
       "\t R\\_cwEOX3HgnMeVQHL & 1                   & 25                  & 2                   & 0                   & 1                   & 1                   & 1                   & 1                   & 1                   & 1                   & 1                   & 0                   & 0                   & 0                   & NA                  & 10                  & 90                 \\\\\n",
       "\t R\\_d59iPwL4W6BH8qx & 1                   & 33                  & 5                   & 1                   & 1                   & 1                   & 1                   & 1                   & 1                   & 1                   & 1                   & 1                   & 1                   & 0                   & NA                  & 50                  & 50                 \\\\\n",
       "\t R\\_1f3K2HrGzFGNelZ & 1                   & 24                  & 1                   & 1                   & 1                   & 0                   & 1                   & 1                   & 1                   & 1                   & 1                   & 1                   & 1                   & 1                   & 99                  & NA                  & 99                 \\\\\n",
       "\t R\\_3oN5ijzTfoMy4ca & 1                   & 22                  & 2                   & 1                   & 1                   & 0                   & 0                   & 1                   & 1                   & 1                   & 1                   & 0                   & 1                   & 0                   & NA                  & 20                  & 80                 \\\\\n",
       "\\end{tabular}\n"
      ],
      "text/markdown": [
       "\n",
       "| id | gender | age | income | p1 | p2 | p3 | p4 | p5 | p6 | p7 | p8 | p9 | p10 | task | havemore | haveless | pcmore |\n",
       "|---|---|---|---|---|---|---|---|---|---|---|---|---|---|---|---|---|---|\n",
       "| R_3PtNn51LmSFdLNM | 2                 | 26                | 7                 | 1                 | 1                 | 1                 | 1                 | 1                 | 1                 | 1                 | 1                 | 1                 | 1                 | 0                 | NA                | 50                | 50                |\n",
       "| R_2AXrrg62pgFgtMV | 2                 | 32                | 4                 | 1                 | 1                 | 1                 | 1                 | 1                 | 1                 | 1                 | 1                 | 1                 | 1                 | 0                 | NA                | 25                | 75                |\n",
       "| R_cwEOX3HgnMeVQHL | 1                 | 25                | 2                 | 0                 | 1                 | 1                 | 1                 | 1                 | 1                 | 1                 | 1                 | 0                 | 0                 | 0                 | NA                | 10                | 90                |\n",
       "| R_d59iPwL4W6BH8qx | 1                 | 33                | 5                 | 1                 | 1                 | 1                 | 1                 | 1                 | 1                 | 1                 | 1                 | 1                 | 1                 | 0                 | NA                | 50                | 50                |\n",
       "| R_1f3K2HrGzFGNelZ | 1                 | 24                | 1                 | 1                 | 1                 | 0                 | 1                 | 1                 | 1                 | 1                 | 1                 | 1                 | 1                 | 1                 | 99                | NA                | 99                |\n",
       "| R_3oN5ijzTfoMy4ca | 1                 | 22                | 2                 | 1                 | 1                 | 0                 | 0                 | 1                 | 1                 | 1                 | 1                 | 0                 | 1                 | 0                 | NA                | 20                | 80                |\n",
       "\n"
      ],
      "text/plain": [
       "  id                gender age income p1 p2 p3 p4 p5 p6 p7 p8 p9 p10 task\n",
       "1 R_3PtNn51LmSFdLNM 2      26  7      1  1  1  1  1  1  1  1  1  1   0   \n",
       "2 R_2AXrrg62pgFgtMV 2      32  4      1  1  1  1  1  1  1  1  1  1   0   \n",
       "3 R_cwEOX3HgnMeVQHL 1      25  2      0  1  1  1  1  1  1  1  0  0   0   \n",
       "4 R_d59iPwL4W6BH8qx 1      33  5      1  1  1  1  1  1  1  1  1  1   0   \n",
       "5 R_1f3K2HrGzFGNelZ 1      24  1      1  1  0  1  1  1  1  1  1  1   1   \n",
       "6 R_3oN5ijzTfoMy4ca 1      22  2      1  1  0  0  1  1  1  1  0  1   0   \n",
       "  havemore haveless pcmore\n",
       "1 NA       50       50    \n",
       "2 NA       25       75    \n",
       "3 NA       10       90    \n",
       "4 NA       50       50    \n",
       "5 99       NA       99    \n",
       "6 NA       20       80    "
      ]
     },
     "metadata": {},
     "output_type": "display_data"
    }
   ],
   "source": [
    "head(matthews.df)"
   ]
  },
  {
   "cell_type": "code",
   "execution_count": 6,
   "metadata": {},
   "outputs": [
    {
     "ename": "ERROR",
     "evalue": "Error in head(matthews.df): object 'matthews.df' not found\n",
     "output_type": "error",
     "traceback": [
      "Error in head(matthews.df): object 'matthews.df' not found\nTraceback:\n",
      "1. head(matthews.df)"
     ]
    }
   ],
   "source": [
    "rm(list = ls())\n",
    "head(matthews.df)"
   ]
  },
  {
   "cell_type": "code",
   "execution_count": 7,
   "metadata": {},
   "outputs": [],
   "source": [
    "load(file = \"data/matthews.Rdata\")\n",
    "\n",
    "#or\n",
    "\n",
    "matthews.df<- read.table(file = \"data/matthews.txt\", \n",
    "                         sep = \"\\t\",\n",
    "                         header = TRUE)"
   ]
  },
  {
   "cell_type": "markdown",
   "metadata": {},
   "source": [
    "## B. Data Frame Manipulation"
   ]
  },
  {
   "cell_type": "markdown",
   "metadata": {},
   "source": [
    "9. What are the names of the data columns?\n",
    "\n",
    "10. Currently gender is coded as 1 and 2. Let's create a new character column called `gender.a` that codes the data as `male` and `female`. \n",
    "\n",
    "11. What percent of participants were male?\n",
    "\n",
    "12. What was the mean age?\n",
    "\n",
    "13. Create a new dataframe called `product.df` that only contain columns p1, p2, ... p10 from `matthews.df`. (Hint: Use `paste()`)\n",
    "\n",
    "14. The `colMeans()` function takes a dataframe as an argument, and returns a vector showing means across rows for each column of data. Using `colMeans()`, calculate the percentage of participants who indicated that the 'typical' participant would be willing to pay more than them for each item. Do your values match what the authors reported in Table 1?\n",
    "\n",
    "15. The `rowMeans()` function is like `colMeans()`, but for calculating means across columns for every row of data. Using `rowMeans()` calculate, for each participant, the percentage of the 10 items that the participant believed other people would spend more on. Save this data as a vector called `pall`.\n",
    "\n",
    "16. Add the `pall` vector as a new column called `pall` to the `matthews.df` dataframe\n",
    "\n",
    "17. What was the mean value of `pall` across participants? This value is the answer to the question: \"How often does the average participant think that someone else would pay more for an item than themselves?\"\n",
    "\n",
    "18. I created a new table containing fictional demographic information about each participant. The data are stored at https://github.com/laurafontanesi/RcourseSpring2019/blob/master/data/matthews_demographics.csv. Load the data into an object called  `demo.df` into R.\n",
    "\n",
    "19. Using `merge` add the demographic data to `matthews.df`\n",
    "\n",
    "20. Using either basic indexing or `subset()`, calculate the mean age for males only.\n",
    "\n",
    "21. Using either basic indexing or `subset()`, calculate the mean age for females only.\n",
    "\n",
    "22. Using `aggregate()` calculate the mean age of male and female participants separately. Do you get the same answers as before?\n",
    "\n",
    "23. Using `aggregate()` calculate the mean `pall` value for male and female participants separately. Which gender tends to think that others would pay more for products than them?\n",
    "\n",
    "24.  Using `aggregate()` calculate the mean `pall` value of participants for each level of income. Do you find a consistent relationship between `pall` and income?\n",
    "\n",
    "25.  Now repeat the previous analysis, but only for females (Hint: use the `subset` argument within the `aggregate` function)\n",
    "\n",
    "26. What was the mean age for participants for each combination of gender and income?\n",
    "\n",
    "27. The variable `pcmore` reflects the question: \"What percent of people taking part in this survey do you think earn more than you do?\". Using `aggregate()`, calculate the median value of this variable separately for each level of income. What does the result tell you?"
   ]
  },
  {
   "cell_type": "code",
   "execution_count": 8,
   "metadata": {},
   "outputs": [
    {
     "data": {
      "text/html": [
       "<ol class=list-inline>\n",
       "\t<li>'id'</li>\n",
       "\t<li>'gender'</li>\n",
       "\t<li>'age'</li>\n",
       "\t<li>'income'</li>\n",
       "\t<li>'p1'</li>\n",
       "\t<li>'p2'</li>\n",
       "\t<li>'p3'</li>\n",
       "\t<li>'p4'</li>\n",
       "\t<li>'p5'</li>\n",
       "\t<li>'p6'</li>\n",
       "\t<li>'p7'</li>\n",
       "\t<li>'p8'</li>\n",
       "\t<li>'p9'</li>\n",
       "\t<li>'p10'</li>\n",
       "\t<li>'task'</li>\n",
       "\t<li>'havemore'</li>\n",
       "\t<li>'haveless'</li>\n",
       "\t<li>'pcmore'</li>\n",
       "</ol>\n"
      ],
      "text/latex": [
       "\\begin{enumerate*}\n",
       "\\item 'id'\n",
       "\\item 'gender'\n",
       "\\item 'age'\n",
       "\\item 'income'\n",
       "\\item 'p1'\n",
       "\\item 'p2'\n",
       "\\item 'p3'\n",
       "\\item 'p4'\n",
       "\\item 'p5'\n",
       "\\item 'p6'\n",
       "\\item 'p7'\n",
       "\\item 'p8'\n",
       "\\item 'p9'\n",
       "\\item 'p10'\n",
       "\\item 'task'\n",
       "\\item 'havemore'\n",
       "\\item 'haveless'\n",
       "\\item 'pcmore'\n",
       "\\end{enumerate*}\n"
      ],
      "text/markdown": [
       "1. 'id'\n",
       "2. 'gender'\n",
       "3. 'age'\n",
       "4. 'income'\n",
       "5. 'p1'\n",
       "6. 'p2'\n",
       "7. 'p3'\n",
       "8. 'p4'\n",
       "9. 'p5'\n",
       "10. 'p6'\n",
       "11. 'p7'\n",
       "12. 'p8'\n",
       "13. 'p9'\n",
       "14. 'p10'\n",
       "15. 'task'\n",
       "16. 'havemore'\n",
       "17. 'haveless'\n",
       "18. 'pcmore'\n",
       "\n",
       "\n"
      ],
      "text/plain": [
       " [1] \"id\"       \"gender\"   \"age\"      \"income\"   \"p1\"       \"p2\"      \n",
       " [7] \"p3\"       \"p4\"       \"p5\"       \"p6\"       \"p7\"       \"p8\"      \n",
       "[13] \"p9\"       \"p10\"      \"task\"     \"havemore\" \"haveless\" \"pcmore\"  "
      ]
     },
     "metadata": {},
     "output_type": "display_data"
    },
    {
     "data": {
      "text/html": [
       "<ol class=list-inline>\n",
       "\t<li>'id'</li>\n",
       "\t<li>'gender'</li>\n",
       "\t<li>'age'</li>\n",
       "\t<li>'income'</li>\n",
       "\t<li>'p1'</li>\n",
       "\t<li>'p2'</li>\n",
       "\t<li>'p3'</li>\n",
       "\t<li>'p4'</li>\n",
       "\t<li>'p5'</li>\n",
       "\t<li>'p6'</li>\n",
       "\t<li>'p7'</li>\n",
       "\t<li>'p8'</li>\n",
       "\t<li>'p9'</li>\n",
       "\t<li>'p10'</li>\n",
       "\t<li>'task'</li>\n",
       "\t<li>'havemore'</li>\n",
       "\t<li>'haveless'</li>\n",
       "\t<li>'pcmore'</li>\n",
       "</ol>\n"
      ],
      "text/latex": [
       "\\begin{enumerate*}\n",
       "\\item 'id'\n",
       "\\item 'gender'\n",
       "\\item 'age'\n",
       "\\item 'income'\n",
       "\\item 'p1'\n",
       "\\item 'p2'\n",
       "\\item 'p3'\n",
       "\\item 'p4'\n",
       "\\item 'p5'\n",
       "\\item 'p6'\n",
       "\\item 'p7'\n",
       "\\item 'p8'\n",
       "\\item 'p9'\n",
       "\\item 'p10'\n",
       "\\item 'task'\n",
       "\\item 'havemore'\n",
       "\\item 'haveless'\n",
       "\\item 'pcmore'\n",
       "\\end{enumerate*}\n"
      ],
      "text/markdown": [
       "1. 'id'\n",
       "2. 'gender'\n",
       "3. 'age'\n",
       "4. 'income'\n",
       "5. 'p1'\n",
       "6. 'p2'\n",
       "7. 'p3'\n",
       "8. 'p4'\n",
       "9. 'p5'\n",
       "10. 'p6'\n",
       "11. 'p7'\n",
       "12. 'p8'\n",
       "13. 'p9'\n",
       "14. 'p10'\n",
       "15. 'task'\n",
       "16. 'havemore'\n",
       "17. 'haveless'\n",
       "18. 'pcmore'\n",
       "\n",
       "\n"
      ],
      "text/plain": [
       " [1] \"id\"       \"gender\"   \"age\"      \"income\"   \"p1\"       \"p2\"      \n",
       " [7] \"p3\"       \"p4\"       \"p5\"       \"p6\"       \"p7\"       \"p8\"      \n",
       "[13] \"p9\"       \"p10\"      \"task\"     \"havemore\" \"haveless\" \"pcmore\"  "
      ]
     },
     "metadata": {},
     "output_type": "display_data"
    }
   ],
   "source": [
    "names(matthews.df)\n",
    "\n",
    "#or \n",
    "colnames(matthews.df)"
   ]
  },
  {
   "cell_type": "code",
   "execution_count": 9,
   "metadata": {},
   "outputs": [],
   "source": [
    "# Create a new column called gender.a that codes gender as a string\n",
    "matthews.df$gender.a <- \"male\"\n",
    "matthews.df$gender.a[matthews.df$gender == 2] <- \"female\"\n",
    "\n",
    "\n",
    "# or:\n",
    "matthews.df$gender.a <- factor(matthews.df$gender, \n",
    "                               levels = c(1, 2), \n",
    "                               labels = c(\"male\", \"female\"))"
   ]
  },
  {
   "cell_type": "code",
   "execution_count": 10,
   "metadata": {},
   "outputs": [
    {
     "data": {
      "text/html": [
       "62.6315789473684"
      ],
      "text/latex": [
       "62.6315789473684"
      ],
      "text/markdown": [
       "62.6315789473684"
      ],
      "text/plain": [
       "[1] 62.63158"
      ]
     },
     "metadata": {},
     "output_type": "display_data"
    }
   ],
   "source": [
    "mean(matthews.df$gender.a == \"male\")*100"
   ]
  },
  {
   "cell_type": "code",
   "execution_count": 11,
   "metadata": {},
   "outputs": [
    {
     "data": {
      "text/html": [
       "31.7157894736842"
      ],
      "text/latex": [
       "31.7157894736842"
      ],
      "text/markdown": [
       "31.7157894736842"
      ],
      "text/plain": [
       "[1] 31.71579"
      ]
     },
     "metadata": {},
     "output_type": "display_data"
    }
   ],
   "source": [
    "mean(matthews.df$age)"
   ]
  },
  {
   "cell_type": "code",
   "execution_count": 12,
   "metadata": {},
   "outputs": [],
   "source": [
    "# Create product.df, a dataframe containing only columns p1, p2, ... p10\n",
    "product.df <- matthews.df[,paste(\"p\", 1:10, sep = \"\")]"
   ]
  },
  {
   "cell_type": "code",
   "execution_count": 13,
   "metadata": {},
   "outputs": [
    {
     "data": {
      "text/html": [
       "<dl class=dl-horizontal>\n",
       "\t<dt>p1</dt>\n",
       "\t\t<dd>0.694736842105263</dd>\n",
       "\t<dt>p2</dt>\n",
       "\t\t<dd>0.863157894736842</dd>\n",
       "\t<dt>p3</dt>\n",
       "\t\t<dd>0.705263157894737</dd>\n",
       "\t<dt>p4</dt>\n",
       "\t\t<dd>0.852631578947368</dd>\n",
       "\t<dt>p5</dt>\n",
       "\t\t<dd>0.773684210526316</dd>\n",
       "\t<dt>p6</dt>\n",
       "\t\t<dd>0.8</dd>\n",
       "\t<dt>p7</dt>\n",
       "\t\t<dd>0.863157894736842</dd>\n",
       "\t<dt>p8</dt>\n",
       "\t\t<dd>0.9</dd>\n",
       "\t<dt>p9</dt>\n",
       "\t\t<dd>0.673684210526316</dd>\n",
       "\t<dt>p10</dt>\n",
       "\t\t<dd>0.731578947368421</dd>\n",
       "</dl>\n"
      ],
      "text/latex": [
       "\\begin{description*}\n",
       "\\item[p1] 0.694736842105263\n",
       "\\item[p2] 0.863157894736842\n",
       "\\item[p3] 0.705263157894737\n",
       "\\item[p4] 0.852631578947368\n",
       "\\item[p5] 0.773684210526316\n",
       "\\item[p6] 0.8\n",
       "\\item[p7] 0.863157894736842\n",
       "\\item[p8] 0.9\n",
       "\\item[p9] 0.673684210526316\n",
       "\\item[p10] 0.731578947368421\n",
       "\\end{description*}\n"
      ],
      "text/markdown": [
       "p1\n",
       ":   0.694736842105263p2\n",
       ":   0.863157894736842p3\n",
       ":   0.705263157894737p4\n",
       ":   0.852631578947368p5\n",
       ":   0.773684210526316p6\n",
       ":   0.8p7\n",
       ":   0.863157894736842p8\n",
       ":   0.9p9\n",
       ":   0.673684210526316p10\n",
       ":   0.731578947368421\n",
       "\n"
      ],
      "text/plain": [
       "       p1        p2        p3        p4        p5        p6        p7        p8 \n",
       "0.6947368 0.8631579 0.7052632 0.8526316 0.7736842 0.8000000 0.8631579 0.9000000 \n",
       "       p9       p10 \n",
       "0.6736842 0.7315789 "
      ]
     },
     "metadata": {},
     "output_type": "display_data"
    },
    {
     "data": {
      "text/html": [
       "<dl class=dl-horizontal>\n",
       "\t<dt>p1</dt>\n",
       "\t\t<dd>0.694736842105263</dd>\n",
       "\t<dt>p2</dt>\n",
       "\t\t<dd>0.863157894736842</dd>\n",
       "\t<dt>p3</dt>\n",
       "\t\t<dd>0.705263157894737</dd>\n",
       "\t<dt>p4</dt>\n",
       "\t\t<dd>0.852631578947368</dd>\n",
       "\t<dt>p5</dt>\n",
       "\t\t<dd>0.773684210526316</dd>\n",
       "\t<dt>p6</dt>\n",
       "\t\t<dd>0.8</dd>\n",
       "\t<dt>p7</dt>\n",
       "\t\t<dd>0.863157894736842</dd>\n",
       "\t<dt>p8</dt>\n",
       "\t\t<dd>0.9</dd>\n",
       "\t<dt>p9</dt>\n",
       "\t\t<dd>0.673684210526316</dd>\n",
       "\t<dt>p10</dt>\n",
       "\t\t<dd>0.731578947368421</dd>\n",
       "</dl>\n"
      ],
      "text/latex": [
       "\\begin{description*}\n",
       "\\item[p1] 0.694736842105263\n",
       "\\item[p2] 0.863157894736842\n",
       "\\item[p3] 0.705263157894737\n",
       "\\item[p4] 0.852631578947368\n",
       "\\item[p5] 0.773684210526316\n",
       "\\item[p6] 0.8\n",
       "\\item[p7] 0.863157894736842\n",
       "\\item[p8] 0.9\n",
       "\\item[p9] 0.673684210526316\n",
       "\\item[p10] 0.731578947368421\n",
       "\\end{description*}\n"
      ],
      "text/markdown": [
       "p1\n",
       ":   0.694736842105263p2\n",
       ":   0.863157894736842p3\n",
       ":   0.705263157894737p4\n",
       ":   0.852631578947368p5\n",
       ":   0.773684210526316p6\n",
       ":   0.8p7\n",
       ":   0.863157894736842p8\n",
       ":   0.9p9\n",
       ":   0.673684210526316p10\n",
       ":   0.731578947368421\n",
       "\n"
      ],
      "text/plain": [
       "       p1        p2        p3        p4        p5        p6        p7        p8 \n",
       "0.6947368 0.8631579 0.7052632 0.8526316 0.7736842 0.8000000 0.8631579 0.9000000 \n",
       "       p9       p10 \n",
       "0.6736842 0.7315789 "
      ]
     },
     "metadata": {},
     "output_type": "display_data"
    }
   ],
   "source": [
    "colMeans(product.df)\n",
    "# or: \n",
    "colMeans(product.df==1)"
   ]
  },
  {
   "cell_type": "code",
   "execution_count": 14,
   "metadata": {},
   "outputs": [],
   "source": [
    "pall <- rowMeans(product.df)"
   ]
  },
  {
   "cell_type": "code",
   "execution_count": 15,
   "metadata": {},
   "outputs": [],
   "source": [
    "matthews.df$pall <- pall"
   ]
  },
  {
   "cell_type": "code",
   "execution_count": 16,
   "metadata": {},
   "outputs": [
    {
     "data": {
      "text/html": [
       "0.78578947368421"
      ],
      "text/latex": [
       "0.78578947368421"
      ],
      "text/markdown": [
       "0.78578947368421"
      ],
      "text/plain": [
       "[1] 0.7857895"
      ]
     },
     "metadata": {},
     "output_type": "display_data"
    }
   ],
   "source": [
    "mean(matthews.df$pall)"
   ]
  },
  {
   "cell_type": "code",
   "execution_count": 17,
   "metadata": {},
   "outputs": [],
   "source": [
    "demo.df <- read.csv(\"https://raw.githubusercontent.com/laurafontanesi/RcourseSpring2019/master/data/matthews_demographics.csv\", \n",
    "                    header = TRUE)"
   ]
  },
  {
   "cell_type": "code",
   "execution_count": 18,
   "metadata": {},
   "outputs": [],
   "source": [
    "matthews.df <- merge(x = matthews.df,\n",
    "                     y = demo.df,\n",
    "                     by = \"id\")"
   ]
  },
  {
   "cell_type": "code",
   "execution_count": 19,
   "metadata": {},
   "outputs": [
    {
     "data": {
      "text/html": [
       "29.7647058823529"
      ],
      "text/latex": [
       "29.7647058823529"
      ],
      "text/markdown": [
       "29.7647058823529"
      ],
      "text/plain": [
       "[1] 29.76471"
      ]
     },
     "metadata": {},
     "output_type": "display_data"
    },
    {
     "data": {
      "text/html": [
       "29.7647058823529"
      ],
      "text/latex": [
       "29.7647058823529"
      ],
      "text/markdown": [
       "29.7647058823529"
      ],
      "text/plain": [
       "[1] 29.76471"
      ]
     },
     "metadata": {},
     "output_type": "display_data"
    }
   ],
   "source": [
    "mean(matthews.df$age[matthews.df$gender.a==\"male\"])\n",
    "\n",
    "# or\n",
    "with(subset(matthews.df, gender.a == \"male\"), mean(age))"
   ]
  },
  {
   "cell_type": "code",
   "execution_count": 20,
   "metadata": {},
   "outputs": [
    {
     "data": {
      "text/html": [
       "34.9859154929577"
      ],
      "text/latex": [
       "34.9859154929577"
      ],
      "text/markdown": [
       "34.9859154929577"
      ],
      "text/plain": [
       "[1] 34.98592"
      ]
     },
     "metadata": {},
     "output_type": "display_data"
    }
   ],
   "source": [
    "mean(matthews.df$age[matthews.df$gender.a==\"female\"])"
   ]
  },
  {
   "cell_type": "code",
   "execution_count": 21,
   "metadata": {},
   "outputs": [
    {
     "data": {
      "text/html": [
       "<table>\n",
       "<thead><tr><th scope=col>gender.a</th><th scope=col>age</th></tr></thead>\n",
       "<tbody>\n",
       "\t<tr><td>male    </td><td>29.76471</td></tr>\n",
       "\t<tr><td>female  </td><td>34.98592</td></tr>\n",
       "</tbody>\n",
       "</table>\n"
      ],
      "text/latex": [
       "\\begin{tabular}{r|ll}\n",
       " gender.a & age\\\\\n",
       "\\hline\n",
       "\t male     & 29.76471\\\\\n",
       "\t female   & 34.98592\\\\\n",
       "\\end{tabular}\n"
      ],
      "text/markdown": [
       "\n",
       "| gender.a | age |\n",
       "|---|---|\n",
       "| male     | 29.76471 |\n",
       "| female   | 34.98592 |\n",
       "\n"
      ],
      "text/plain": [
       "  gender.a age     \n",
       "1 male     29.76471\n",
       "2 female   34.98592"
      ]
     },
     "metadata": {},
     "output_type": "display_data"
    }
   ],
   "source": [
    "aggregate(formula = age ~ gender.a,\n",
    "          FUN = mean,\n",
    "          data = matthews.df)"
   ]
  },
  {
   "cell_type": "code",
   "execution_count": 22,
   "metadata": {},
   "outputs": [
    {
     "data": {
      "text/html": [
       "<table>\n",
       "<thead><tr><th scope=col>gender.a</th><th scope=col>pall</th></tr></thead>\n",
       "<tbody>\n",
       "\t<tr><td>male     </td><td>0.7764706</td></tr>\n",
       "\t<tr><td>female   </td><td>0.8014085</td></tr>\n",
       "</tbody>\n",
       "</table>\n"
      ],
      "text/latex": [
       "\\begin{tabular}{r|ll}\n",
       " gender.a & pall\\\\\n",
       "\\hline\n",
       "\t male      & 0.7764706\\\\\n",
       "\t female    & 0.8014085\\\\\n",
       "\\end{tabular}\n"
      ],
      "text/markdown": [
       "\n",
       "| gender.a | pall |\n",
       "|---|---|\n",
       "| male      | 0.7764706 |\n",
       "| female    | 0.8014085 |\n",
       "\n"
      ],
      "text/plain": [
       "  gender.a pall     \n",
       "1 male     0.7764706\n",
       "2 female   0.8014085"
      ]
     },
     "metadata": {},
     "output_type": "display_data"
    }
   ],
   "source": [
    "aggregate(formula = pall ~ gender.a,\n",
    "          FUN = mean,\n",
    "          data = matthews.df)"
   ]
  },
  {
   "cell_type": "code",
   "execution_count": 23,
   "metadata": {},
   "outputs": [
    {
     "data": {
      "text/html": [
       "<table>\n",
       "<thead><tr><th scope=col>income</th><th scope=col>pall</th></tr></thead>\n",
       "<tbody>\n",
       "\t<tr><td>1        </td><td>0.9037037</td></tr>\n",
       "\t<tr><td>2        </td><td>0.8044444</td></tr>\n",
       "\t<tr><td>3        </td><td>0.7370370</td></tr>\n",
       "\t<tr><td>4        </td><td>0.7862069</td></tr>\n",
       "\t<tr><td>5        </td><td>0.7500000</td></tr>\n",
       "\t<tr><td>6        </td><td>0.6958333</td></tr>\n",
       "\t<tr><td>7        </td><td>0.8142857</td></tr>\n",
       "\t<tr><td>8        </td><td>0.8666667</td></tr>\n",
       "</tbody>\n",
       "</table>\n"
      ],
      "text/latex": [
       "\\begin{tabular}{r|ll}\n",
       " income & pall\\\\\n",
       "\\hline\n",
       "\t 1         & 0.9037037\\\\\n",
       "\t 2         & 0.8044444\\\\\n",
       "\t 3         & 0.7370370\\\\\n",
       "\t 4         & 0.7862069\\\\\n",
       "\t 5         & 0.7500000\\\\\n",
       "\t 6         & 0.6958333\\\\\n",
       "\t 7         & 0.8142857\\\\\n",
       "\t 8         & 0.8666667\\\\\n",
       "\\end{tabular}\n"
      ],
      "text/markdown": [
       "\n",
       "| income | pall |\n",
       "|---|---|\n",
       "| 1         | 0.9037037 |\n",
       "| 2         | 0.8044444 |\n",
       "| 3         | 0.7370370 |\n",
       "| 4         | 0.7862069 |\n",
       "| 5         | 0.7500000 |\n",
       "| 6         | 0.6958333 |\n",
       "| 7         | 0.8142857 |\n",
       "| 8         | 0.8666667 |\n",
       "\n"
      ],
      "text/plain": [
       "  income pall     \n",
       "1 1      0.9037037\n",
       "2 2      0.8044444\n",
       "3 3      0.7370370\n",
       "4 4      0.7862069\n",
       "5 5      0.7500000\n",
       "6 6      0.6958333\n",
       "7 7      0.8142857\n",
       "8 8      0.8666667"
      ]
     },
     "metadata": {},
     "output_type": "display_data"
    }
   ],
   "source": [
    "aggregate(formula = pall ~ income,\n",
    "          FUN = mean,\n",
    "          data = matthews.df)"
   ]
  },
  {
   "cell_type": "code",
   "execution_count": 24,
   "metadata": {},
   "outputs": [
    {
     "data": {
      "text/html": [
       "<table>\n",
       "<thead><tr><th scope=col>income</th><th scope=col>pall</th></tr></thead>\n",
       "<tbody>\n",
       "\t<tr><td>1        </td><td>0.8875000</td></tr>\n",
       "\t<tr><td>2        </td><td>0.8294118</td></tr>\n",
       "\t<tr><td>3        </td><td>0.8857143</td></tr>\n",
       "\t<tr><td>4        </td><td>0.8625000</td></tr>\n",
       "\t<tr><td>5        </td><td>0.7500000</td></tr>\n",
       "\t<tr><td>6        </td><td>0.6785714</td></tr>\n",
       "\t<tr><td>7        </td><td>0.7600000</td></tr>\n",
       "\t<tr><td>8        </td><td>0.9000000</td></tr>\n",
       "</tbody>\n",
       "</table>\n"
      ],
      "text/latex": [
       "\\begin{tabular}{r|ll}\n",
       " income & pall\\\\\n",
       "\\hline\n",
       "\t 1         & 0.8875000\\\\\n",
       "\t 2         & 0.8294118\\\\\n",
       "\t 3         & 0.8857143\\\\\n",
       "\t 4         & 0.8625000\\\\\n",
       "\t 5         & 0.7500000\\\\\n",
       "\t 6         & 0.6785714\\\\\n",
       "\t 7         & 0.7600000\\\\\n",
       "\t 8         & 0.9000000\\\\\n",
       "\\end{tabular}\n"
      ],
      "text/markdown": [
       "\n",
       "| income | pall |\n",
       "|---|---|\n",
       "| 1         | 0.8875000 |\n",
       "| 2         | 0.8294118 |\n",
       "| 3         | 0.8857143 |\n",
       "| 4         | 0.8625000 |\n",
       "| 5         | 0.7500000 |\n",
       "| 6         | 0.6785714 |\n",
       "| 7         | 0.7600000 |\n",
       "| 8         | 0.9000000 |\n",
       "\n"
      ],
      "text/plain": [
       "  income pall     \n",
       "1 1      0.8875000\n",
       "2 2      0.8294118\n",
       "3 3      0.8857143\n",
       "4 4      0.8625000\n",
       "5 5      0.7500000\n",
       "6 6      0.6785714\n",
       "7 7      0.7600000\n",
       "8 8      0.9000000"
      ]
     },
     "metadata": {},
     "output_type": "display_data"
    }
   ],
   "source": [
    "aggregate(formula = pall ~ income,\n",
    "          FUN = mean,\n",
    "          data = matthews.df,\n",
    "          subset = gender.a == \"female\")"
   ]
  },
  {
   "cell_type": "code",
   "execution_count": 25,
   "metadata": {},
   "outputs": [
    {
     "data": {
      "text/html": [
       "<table>\n",
       "<thead><tr><th scope=col>income</th><th scope=col>gender.a</th><th scope=col>age</th></tr></thead>\n",
       "<tbody>\n",
       "\t<tr><td>1       </td><td>male    </td><td>28.73684</td></tr>\n",
       "\t<tr><td>2       </td><td>male    </td><td>30.14286</td></tr>\n",
       "\t<tr><td>3       </td><td>male    </td><td>29.45000</td></tr>\n",
       "\t<tr><td>4       </td><td>male    </td><td>28.52381</td></tr>\n",
       "\t<tr><td>5       </td><td>male    </td><td>31.00000</td></tr>\n",
       "\t<tr><td>6       </td><td>male    </td><td>29.60000</td></tr>\n",
       "\t<tr><td>7       </td><td>male    </td><td>43.50000</td></tr>\n",
       "\t<tr><td>8       </td><td>male    </td><td>23.00000</td></tr>\n",
       "\t<tr><td>1       </td><td>female  </td><td>31.12500</td></tr>\n",
       "\t<tr><td>2       </td><td>female  </td><td>36.35294</td></tr>\n",
       "\t<tr><td>3       </td><td>female  </td><td>33.14286</td></tr>\n",
       "\t<tr><td>4       </td><td>female  </td><td>36.75000</td></tr>\n",
       "\t<tr><td>5       </td><td>female  </td><td>35.00000</td></tr>\n",
       "\t<tr><td>6       </td><td>female  </td><td>34.00000</td></tr>\n",
       "\t<tr><td>7       </td><td>female  </td><td>37.60000</td></tr>\n",
       "\t<tr><td>8       </td><td>female  </td><td>38.50000</td></tr>\n",
       "</tbody>\n",
       "</table>\n"
      ],
      "text/latex": [
       "\\begin{tabular}{r|lll}\n",
       " income & gender.a & age\\\\\n",
       "\\hline\n",
       "\t 1        & male     & 28.73684\\\\\n",
       "\t 2        & male     & 30.14286\\\\\n",
       "\t 3        & male     & 29.45000\\\\\n",
       "\t 4        & male     & 28.52381\\\\\n",
       "\t 5        & male     & 31.00000\\\\\n",
       "\t 6        & male     & 29.60000\\\\\n",
       "\t 7        & male     & 43.50000\\\\\n",
       "\t 8        & male     & 23.00000\\\\\n",
       "\t 1        & female   & 31.12500\\\\\n",
       "\t 2        & female   & 36.35294\\\\\n",
       "\t 3        & female   & 33.14286\\\\\n",
       "\t 4        & female   & 36.75000\\\\\n",
       "\t 5        & female   & 35.00000\\\\\n",
       "\t 6        & female   & 34.00000\\\\\n",
       "\t 7        & female   & 37.60000\\\\\n",
       "\t 8        & female   & 38.50000\\\\\n",
       "\\end{tabular}\n"
      ],
      "text/markdown": [
       "\n",
       "| income | gender.a | age |\n",
       "|---|---|---|\n",
       "| 1        | male     | 28.73684 |\n",
       "| 2        | male     | 30.14286 |\n",
       "| 3        | male     | 29.45000 |\n",
       "| 4        | male     | 28.52381 |\n",
       "| 5        | male     | 31.00000 |\n",
       "| 6        | male     | 29.60000 |\n",
       "| 7        | male     | 43.50000 |\n",
       "| 8        | male     | 23.00000 |\n",
       "| 1        | female   | 31.12500 |\n",
       "| 2        | female   | 36.35294 |\n",
       "| 3        | female   | 33.14286 |\n",
       "| 4        | female   | 36.75000 |\n",
       "| 5        | female   | 35.00000 |\n",
       "| 6        | female   | 34.00000 |\n",
       "| 7        | female   | 37.60000 |\n",
       "| 8        | female   | 38.50000 |\n",
       "\n"
      ],
      "text/plain": [
       "   income gender.a age     \n",
       "1  1      male     28.73684\n",
       "2  2      male     30.14286\n",
       "3  3      male     29.45000\n",
       "4  4      male     28.52381\n",
       "5  5      male     31.00000\n",
       "6  6      male     29.60000\n",
       "7  7      male     43.50000\n",
       "8  8      male     23.00000\n",
       "9  1      female   31.12500\n",
       "10 2      female   36.35294\n",
       "11 3      female   33.14286\n",
       "12 4      female   36.75000\n",
       "13 5      female   35.00000\n",
       "14 6      female   34.00000\n",
       "15 7      female   37.60000\n",
       "16 8      female   38.50000"
      ]
     },
     "metadata": {},
     "output_type": "display_data"
    }
   ],
   "source": [
    "aggregate(formula = age ~ income + gender.a,\n",
    "          FUN = mean,\n",
    "          data = matthews.df)"
   ]
  },
  {
   "cell_type": "code",
   "execution_count": 26,
   "metadata": {},
   "outputs": [
    {
     "data": {
      "text/html": [
       "<table>\n",
       "<thead><tr><th scope=col>income</th><th scope=col>pcmore</th></tr></thead>\n",
       "<tbody>\n",
       "\t<tr><td>1 </td><td>80</td></tr>\n",
       "\t<tr><td>2 </td><td>75</td></tr>\n",
       "\t<tr><td>3 </td><td>50</td></tr>\n",
       "\t<tr><td>4 </td><td>60</td></tr>\n",
       "\t<tr><td>5 </td><td>50</td></tr>\n",
       "\t<tr><td>6 </td><td>45</td></tr>\n",
       "\t<tr><td>7 </td><td>50</td></tr>\n",
       "\t<tr><td>8 </td><td>50</td></tr>\n",
       "</tbody>\n",
       "</table>\n"
      ],
      "text/latex": [
       "\\begin{tabular}{r|ll}\n",
       " income & pcmore\\\\\n",
       "\\hline\n",
       "\t 1  & 80\\\\\n",
       "\t 2  & 75\\\\\n",
       "\t 3  & 50\\\\\n",
       "\t 4  & 60\\\\\n",
       "\t 5  & 50\\\\\n",
       "\t 6  & 45\\\\\n",
       "\t 7  & 50\\\\\n",
       "\t 8  & 50\\\\\n",
       "\\end{tabular}\n"
      ],
      "text/markdown": [
       "\n",
       "| income | pcmore |\n",
       "|---|---|\n",
       "| 1  | 80 |\n",
       "| 2  | 75 |\n",
       "| 3  | 50 |\n",
       "| 4  | 60 |\n",
       "| 5  | 50 |\n",
       "| 6  | 45 |\n",
       "| 7  | 50 |\n",
       "| 8  | 50 |\n",
       "\n"
      ],
      "text/plain": [
       "  income pcmore\n",
       "1 1      80    \n",
       "2 2      75    \n",
       "3 3      50    \n",
       "4 4      60    \n",
       "5 5      50    \n",
       "6 6      45    \n",
       "7 7      50    \n",
       "8 8      50    "
      ]
     },
     "metadata": {},
     "output_type": "display_data"
    }
   ],
   "source": [
    "aggregate(formula = pcmore ~ income,\n",
    "          FUN = median,\n",
    "          data = matthews.df)"
   ]
  },
  {
   "cell_type": "markdown",
   "metadata": {},
   "source": [
    "## C. Matrices"
   ]
  },
  {
   "cell_type": "markdown",
   "metadata": {},
   "source": [
    "28. Columns 2 to 18 of `matthews.df` contain only numeric values. Using the `as.matrix` function on these columns, create a matrix of these values, and call it `matthews.mx`.\n",
    "\n",
    "29. Use `head()`, `View()` and `str` to see how this matrix compares to the original data.frame.\n",
    "\n",
    "30. We can use the `apply(X, MARGIN, FUN)` function to perform vector functions on either every row or every column of our matrix. The `MARGIN` argument determines whether the function is applied to the rows (1), columns (2) or both (1:2) of the matrix, and the `FUN` argument specifies the function to be applied. Use `?apply` to see details. For instance the code below returns the mean for each of the 10 item columns (p1, p2 ... p10), similar to colMeans.\n",
    "\n",
    "31. `apply()` is more flexible than `colMeans` or `rowMeans`, as we can specify different functions. Use `apply()` and `table` to obtain the frequency of each response for each of the 10 items.\n",
    "\n",
    "32. Pretend we just discovered there was another particpant whose data we lost. We decide to estimate the data for this participant (including their gender, age, income etc.) by calculating the median of the other participants' scores. Use `apply` to calculate these medians, and save the results as `participant.191`.\n",
    "\n",
    "33. Add a new row to the matrix `matthews.mx` containing participant 191's estimated data. (Hint use rbind). Call this new matrix `new.matthews`\n",
    "\n",
    "34. Add the column containing gender coded as `male`, `female` from `matthews.df` to `matthews.mx` (Hint: use `cbind`). Call the resuling matrix `matthews.gender.mx`. What happens to the data?\n",
    "\n",
    "35. Using `save()`, save `matthews.df`, `matthews.mx`, `matthews.gender.mx` and `new.matthews` objects to a file called `wpa4data.RData` in the `data` folder in your working directory."
   ]
  },
  {
   "cell_type": "code",
   "execution_count": 27,
   "metadata": {},
   "outputs": [],
   "source": [
    "matthews.mx <- as.matrix(matthews.df[,2:18])"
   ]
  },
  {
   "cell_type": "code",
   "execution_count": 28,
   "metadata": {},
   "outputs": [
    {
     "name": "stdout",
     "output_type": "stream",
     "text": [
      "'data.frame':\t190 obs. of  17 variables:\n",
      " $ gender  : int  2 1 1 2 1 1 1 1 1 1 ...\n",
      " $ age     : int  45 25 28 44 30 29 33 24 27 24 ...\n",
      " $ income  : int  4 3 1 6 2 3 1 6 2 5 ...\n",
      " $ p1      : int  1 1 0 1 1 0 1 0 1 1 ...\n",
      " $ p2      : int  1 0 1 1 1 1 1 1 0 0 ...\n",
      " $ p3      : int  1 1 1 0 1 0 1 0 1 1 ...\n",
      " $ p4      : int  1 0 1 0 1 1 1 1 1 1 ...\n",
      " $ p5      : int  1 1 1 1 1 1 1 1 1 1 ...\n",
      " $ p6      : int  0 1 0 1 0 1 1 1 1 1 ...\n",
      " $ p7      : int  1 1 1 1 1 1 1 0 1 0 ...\n",
      " $ p8      : int  1 1 1 1 1 1 1 0 1 1 ...\n",
      " $ p9      : int  1 0 1 1 0 0 1 1 1 1 ...\n",
      " $ p10     : int  1 0 1 1 0 1 1 1 0 0 ...\n",
      " $ task    : int  1 1 1 1 1 1 1 0 0 0 ...\n",
      " $ havemore: int  80 60 75 50 65 50 70 NA NA NA ...\n",
      " $ haveless: int  NA NA NA NA NA NA NA 50 40 45 ...\n",
      " $ pcmore  : int  80 60 75 50 65 50 70 50 60 55 ...\n"
     ]
    }
   ],
   "source": [
    "str(matthews.df[,2:18])"
   ]
  },
  {
   "cell_type": "code",
   "execution_count": 29,
   "metadata": {},
   "outputs": [
    {
     "name": "stdout",
     "output_type": "stream",
     "text": [
      " int [1:190, 1:17] 2 1 1 2 1 1 1 1 1 1 ...\n",
      " - attr(*, \"dimnames\")=List of 2\n",
      "  ..$ : NULL\n",
      "  ..$ : chr [1:17] \"gender\" \"age\" \"income\" \"p1\" ...\n"
     ]
    }
   ],
   "source": [
    "str(matthews.mx)\n",
    "\n",
    "# The matrix version doesn't give information on the data in each column. \n",
    "# Instead it treats it like a single vector of data.\n",
    "# You can think of a matrix as a vector which has been given dimensionality, while \n",
    "# a data.frame is more like a collection of lists."
   ]
  },
  {
   "cell_type": "code",
   "execution_count": 30,
   "metadata": {},
   "outputs": [
    {
     "data": {
      "text/html": [
       "<dl class=dl-horizontal>\n",
       "\t<dt>p1</dt>\n",
       "\t\t<dd>0.694736842105263</dd>\n",
       "\t<dt>p2</dt>\n",
       "\t\t<dd>0.863157894736842</dd>\n",
       "\t<dt>p3</dt>\n",
       "\t\t<dd>0.705263157894737</dd>\n",
       "\t<dt>p4</dt>\n",
       "\t\t<dd>0.852631578947368</dd>\n",
       "\t<dt>p5</dt>\n",
       "\t\t<dd>0.773684210526316</dd>\n",
       "\t<dt>p6</dt>\n",
       "\t\t<dd>0.8</dd>\n",
       "\t<dt>p7</dt>\n",
       "\t\t<dd>0.863157894736842</dd>\n",
       "\t<dt>p8</dt>\n",
       "\t\t<dd>0.9</dd>\n",
       "\t<dt>p9</dt>\n",
       "\t\t<dd>0.673684210526316</dd>\n",
       "\t<dt>p10</dt>\n",
       "\t\t<dd>0.731578947368421</dd>\n",
       "</dl>\n"
      ],
      "text/latex": [
       "\\begin{description*}\n",
       "\\item[p1] 0.694736842105263\n",
       "\\item[p2] 0.863157894736842\n",
       "\\item[p3] 0.705263157894737\n",
       "\\item[p4] 0.852631578947368\n",
       "\\item[p5] 0.773684210526316\n",
       "\\item[p6] 0.8\n",
       "\\item[p7] 0.863157894736842\n",
       "\\item[p8] 0.9\n",
       "\\item[p9] 0.673684210526316\n",
       "\\item[p10] 0.731578947368421\n",
       "\\end{description*}\n"
      ],
      "text/markdown": [
       "p1\n",
       ":   0.694736842105263p2\n",
       ":   0.863157894736842p3\n",
       ":   0.705263157894737p4\n",
       ":   0.852631578947368p5\n",
       ":   0.773684210526316p6\n",
       ":   0.8p7\n",
       ":   0.863157894736842p8\n",
       ":   0.9p9\n",
       ":   0.673684210526316p10\n",
       ":   0.731578947368421\n",
       "\n"
      ],
      "text/plain": [
       "       p1        p2        p3        p4        p5        p6        p7        p8 \n",
       "0.6947368 0.8631579 0.7052632 0.8526316 0.7736842 0.8000000 0.8631579 0.9000000 \n",
       "       p9       p10 \n",
       "0.6736842 0.7315789 "
      ]
     },
     "metadata": {},
     "output_type": "display_data"
    },
    {
     "data": {
      "text/html": [
       "<dl class=dl-horizontal>\n",
       "\t<dt>p1</dt>\n",
       "\t\t<dd>0.694736842105263</dd>\n",
       "\t<dt>p2</dt>\n",
       "\t\t<dd>0.863157894736842</dd>\n",
       "\t<dt>p3</dt>\n",
       "\t\t<dd>0.705263157894737</dd>\n",
       "\t<dt>p4</dt>\n",
       "\t\t<dd>0.852631578947368</dd>\n",
       "\t<dt>p5</dt>\n",
       "\t\t<dd>0.773684210526316</dd>\n",
       "\t<dt>p6</dt>\n",
       "\t\t<dd>0.8</dd>\n",
       "\t<dt>p7</dt>\n",
       "\t\t<dd>0.863157894736842</dd>\n",
       "\t<dt>p8</dt>\n",
       "\t\t<dd>0.9</dd>\n",
       "\t<dt>p9</dt>\n",
       "\t\t<dd>0.673684210526316</dd>\n",
       "\t<dt>p10</dt>\n",
       "\t\t<dd>0.731578947368421</dd>\n",
       "</dl>\n"
      ],
      "text/latex": [
       "\\begin{description*}\n",
       "\\item[p1] 0.694736842105263\n",
       "\\item[p2] 0.863157894736842\n",
       "\\item[p3] 0.705263157894737\n",
       "\\item[p4] 0.852631578947368\n",
       "\\item[p5] 0.773684210526316\n",
       "\\item[p6] 0.8\n",
       "\\item[p7] 0.863157894736842\n",
       "\\item[p8] 0.9\n",
       "\\item[p9] 0.673684210526316\n",
       "\\item[p10] 0.731578947368421\n",
       "\\end{description*}\n"
      ],
      "text/markdown": [
       "p1\n",
       ":   0.694736842105263p2\n",
       ":   0.863157894736842p3\n",
       ":   0.705263157894737p4\n",
       ":   0.852631578947368p5\n",
       ":   0.773684210526316p6\n",
       ":   0.8p7\n",
       ":   0.863157894736842p8\n",
       ":   0.9p9\n",
       ":   0.673684210526316p10\n",
       ":   0.731578947368421\n",
       "\n"
      ],
      "text/plain": [
       "       p1        p2        p3        p4        p5        p6        p7        p8 \n",
       "0.6947368 0.8631579 0.7052632 0.8526316 0.7736842 0.8000000 0.8631579 0.9000000 \n",
       "       p9       p10 \n",
       "0.6736842 0.7315789 "
      ]
     },
     "metadata": {},
     "output_type": "display_data"
    }
   ],
   "source": [
    "apply(X=matthews.mx[,4:13], MARGIN=2, FUN=mean)\n",
    "\n",
    "# similar to:\n",
    "apply(product.df, 2, mean)"
   ]
  },
  {
   "cell_type": "code",
   "execution_count": 31,
   "metadata": {},
   "outputs": [
    {
     "data": {
      "text/html": [
       "<table>\n",
       "<thead><tr><th></th><th scope=col>p1</th><th scope=col>p2</th><th scope=col>p3</th><th scope=col>p4</th><th scope=col>p5</th><th scope=col>p6</th><th scope=col>p7</th><th scope=col>p8</th><th scope=col>p9</th><th scope=col>p10</th></tr></thead>\n",
       "<tbody>\n",
       "\t<tr><th scope=row>0</th><td> 58</td><td> 26</td><td> 56</td><td> 28</td><td> 43</td><td> 38</td><td> 26</td><td> 19</td><td> 62</td><td> 51</td></tr>\n",
       "\t<tr><th scope=row>1</th><td>132</td><td>164</td><td>134</td><td>162</td><td>147</td><td>152</td><td>164</td><td>171</td><td>128</td><td>139</td></tr>\n",
       "</tbody>\n",
       "</table>\n"
      ],
      "text/latex": [
       "\\begin{tabular}{r|llllllllll}\n",
       "  & p1 & p2 & p3 & p4 & p5 & p6 & p7 & p8 & p9 & p10\\\\\n",
       "\\hline\n",
       "\t0 &  58 &  26 &  56 &  28 &  43 &  38 &  26 &  19 &  62 &  51\\\\\n",
       "\t1 & 132 & 164 & 134 & 162 & 147 & 152 & 164 & 171 & 128 & 139\\\\\n",
       "\\end{tabular}\n"
      ],
      "text/markdown": [
       "\n",
       "| <!--/--> | p1 | p2 | p3 | p4 | p5 | p6 | p7 | p8 | p9 | p10 |\n",
       "|---|---|---|---|---|---|---|---|---|---|---|\n",
       "| 0 |  58 |  26 |  56 |  28 |  43 |  38 |  26 |  19 |  62 |  51 |\n",
       "| 1 | 132 | 164 | 134 | 162 | 147 | 152 | 164 | 171 | 128 | 139 |\n",
       "\n"
      ],
      "text/plain": [
       "  p1  p2  p3  p4  p5  p6  p7  p8  p9  p10\n",
       "0  58  26  56  28  43  38  26  19  62  51\n",
       "1 132 164 134 162 147 152 164 171 128 139"
      ]
     },
     "metadata": {},
     "output_type": "display_data"
    },
    {
     "data": {
      "text/html": [
       "<dl class=dl-horizontal>\n",
       "\t<dt>p1</dt>\n",
       "\t\t<dd>1</dd>\n",
       "\t<dt>p2</dt>\n",
       "\t\t<dd>1</dd>\n",
       "\t<dt>p3</dt>\n",
       "\t\t<dd>1</dd>\n",
       "\t<dt>p4</dt>\n",
       "\t\t<dd>1</dd>\n",
       "\t<dt>p5</dt>\n",
       "\t\t<dd>1</dd>\n",
       "\t<dt>p6</dt>\n",
       "\t\t<dd>1</dd>\n",
       "\t<dt>p7</dt>\n",
       "\t\t<dd>1</dd>\n",
       "\t<dt>p8</dt>\n",
       "\t\t<dd>1</dd>\n",
       "\t<dt>p9</dt>\n",
       "\t\t<dd>1</dd>\n",
       "\t<dt>p10</dt>\n",
       "\t\t<dd>1</dd>\n",
       "</dl>\n"
      ],
      "text/latex": [
       "\\begin{description*}\n",
       "\\item[p1] 1\n",
       "\\item[p2] 1\n",
       "\\item[p3] 1\n",
       "\\item[p4] 1\n",
       "\\item[p5] 1\n",
       "\\item[p6] 1\n",
       "\\item[p7] 1\n",
       "\\item[p8] 1\n",
       "\\item[p9] 1\n",
       "\\item[p10] 1\n",
       "\\end{description*}\n"
      ],
      "text/markdown": [
       "p1\n",
       ":   1p2\n",
       ":   1p3\n",
       ":   1p4\n",
       ":   1p5\n",
       ":   1p6\n",
       ":   1p7\n",
       ":   1p8\n",
       ":   1p9\n",
       ":   1p10\n",
       ":   1\n",
       "\n"
      ],
      "text/plain": [
       " p1  p2  p3  p4  p5  p6  p7  p8  p9 p10 \n",
       "  1   1   1   1   1   1   1   1   1   1 "
      ]
     },
     "metadata": {},
     "output_type": "display_data"
    }
   ],
   "source": [
    "apply(X=matthews.mx[,4:13], MARGIN=2, FUN=table)\n",
    "\n",
    "# using frequency is wrong, look:\n",
    "apply(matthews.mx[,4:13], 2, frequency)"
   ]
  },
  {
   "cell_type": "code",
   "execution_count": 32,
   "metadata": {},
   "outputs": [
    {
     "data": {
      "text/html": [
       "<dl class=dl-horizontal>\n",
       "\t<dt>gender</dt>\n",
       "\t\t<dd>1</dd>\n",
       "\t<dt>age</dt>\n",
       "\t\t<dd>30</dd>\n",
       "\t<dt>income</dt>\n",
       "\t\t<dd>3</dd>\n",
       "\t<dt>p1</dt>\n",
       "\t\t<dd>1</dd>\n",
       "\t<dt>p2</dt>\n",
       "\t\t<dd>1</dd>\n",
       "\t<dt>p3</dt>\n",
       "\t\t<dd>1</dd>\n",
       "\t<dt>p4</dt>\n",
       "\t\t<dd>1</dd>\n",
       "\t<dt>p5</dt>\n",
       "\t\t<dd>1</dd>\n",
       "\t<dt>p6</dt>\n",
       "\t\t<dd>1</dd>\n",
       "\t<dt>p7</dt>\n",
       "\t\t<dd>1</dd>\n",
       "\t<dt>p8</dt>\n",
       "\t\t<dd>1</dd>\n",
       "\t<dt>p9</dt>\n",
       "\t\t<dd>1</dd>\n",
       "\t<dt>p10</dt>\n",
       "\t\t<dd>1</dd>\n",
       "\t<dt>task</dt>\n",
       "\t\t<dd>1</dd>\n",
       "\t<dt>havemore</dt>\n",
       "\t\t<dd>&lt;NA&gt;</dd>\n",
       "\t<dt>haveless</dt>\n",
       "\t\t<dd>&lt;NA&gt;</dd>\n",
       "\t<dt>pcmore</dt>\n",
       "\t\t<dd>60</dd>\n",
       "</dl>\n"
      ],
      "text/latex": [
       "\\begin{description*}\n",
       "\\item[gender] 1\n",
       "\\item[age] 30\n",
       "\\item[income] 3\n",
       "\\item[p1] 1\n",
       "\\item[p2] 1\n",
       "\\item[p3] 1\n",
       "\\item[p4] 1\n",
       "\\item[p5] 1\n",
       "\\item[p6] 1\n",
       "\\item[p7] 1\n",
       "\\item[p8] 1\n",
       "\\item[p9] 1\n",
       "\\item[p10] 1\n",
       "\\item[task] 1\n",
       "\\item[havemore] <NA>\n",
       "\\item[haveless] <NA>\n",
       "\\item[pcmore] 60\n",
       "\\end{description*}\n"
      ],
      "text/markdown": [
       "gender\n",
       ":   1age\n",
       ":   30income\n",
       ":   3p1\n",
       ":   1p2\n",
       ":   1p3\n",
       ":   1p4\n",
       ":   1p5\n",
       ":   1p6\n",
       ":   1p7\n",
       ":   1p8\n",
       ":   1p9\n",
       ":   1p10\n",
       ":   1task\n",
       ":   1havemore\n",
       ":   &lt;NA&gt;haveless\n",
       ":   &lt;NA&gt;pcmore\n",
       ":   60\n",
       "\n"
      ],
      "text/plain": [
       "  gender      age   income       p1       p2       p3       p4       p5 \n",
       "       1       30        3        1        1        1        1        1 \n",
       "      p6       p7       p8       p9      p10     task havemore haveless \n",
       "       1        1        1        1        1        1       NA       NA \n",
       "  pcmore \n",
       "      60 "
      ]
     },
     "metadata": {},
     "output_type": "display_data"
    },
    {
     "data": {
      "text/html": [
       "<dl class=dl-horizontal>\n",
       "\t<dt>gender</dt>\n",
       "\t\t<dd>1</dd>\n",
       "\t<dt>age</dt>\n",
       "\t\t<dd>30</dd>\n",
       "\t<dt>income</dt>\n",
       "\t\t<dd>3</dd>\n",
       "\t<dt>p1</dt>\n",
       "\t\t<dd>1</dd>\n",
       "\t<dt>p2</dt>\n",
       "\t\t<dd>1</dd>\n",
       "\t<dt>p3</dt>\n",
       "\t\t<dd>1</dd>\n",
       "\t<dt>p4</dt>\n",
       "\t\t<dd>1</dd>\n",
       "\t<dt>p5</dt>\n",
       "\t\t<dd>1</dd>\n",
       "\t<dt>p6</dt>\n",
       "\t\t<dd>1</dd>\n",
       "\t<dt>p7</dt>\n",
       "\t\t<dd>1</dd>\n",
       "\t<dt>p8</dt>\n",
       "\t\t<dd>1</dd>\n",
       "\t<dt>p9</dt>\n",
       "\t\t<dd>1</dd>\n",
       "\t<dt>p10</dt>\n",
       "\t\t<dd>1</dd>\n",
       "\t<dt>task</dt>\n",
       "\t\t<dd>1</dd>\n",
       "\t<dt>havemore</dt>\n",
       "\t\t<dd>60</dd>\n",
       "\t<dt>haveless</dt>\n",
       "\t\t<dd>35</dd>\n",
       "\t<dt>pcmore</dt>\n",
       "\t\t<dd>60</dd>\n",
       "</dl>\n"
      ],
      "text/latex": [
       "\\begin{description*}\n",
       "\\item[gender] 1\n",
       "\\item[age] 30\n",
       "\\item[income] 3\n",
       "\\item[p1] 1\n",
       "\\item[p2] 1\n",
       "\\item[p3] 1\n",
       "\\item[p4] 1\n",
       "\\item[p5] 1\n",
       "\\item[p6] 1\n",
       "\\item[p7] 1\n",
       "\\item[p8] 1\n",
       "\\item[p9] 1\n",
       "\\item[p10] 1\n",
       "\\item[task] 1\n",
       "\\item[havemore] 60\n",
       "\\item[haveless] 35\n",
       "\\item[pcmore] 60\n",
       "\\end{description*}\n"
      ],
      "text/markdown": [
       "gender\n",
       ":   1age\n",
       ":   30income\n",
       ":   3p1\n",
       ":   1p2\n",
       ":   1p3\n",
       ":   1p4\n",
       ":   1p5\n",
       ":   1p6\n",
       ":   1p7\n",
       ":   1p8\n",
       ":   1p9\n",
       ":   1p10\n",
       ":   1task\n",
       ":   1havemore\n",
       ":   60haveless\n",
       ":   35pcmore\n",
       ":   60\n",
       "\n"
      ],
      "text/plain": [
       "  gender      age   income       p1       p2       p3       p4       p5 \n",
       "       1       30        3        1        1        1        1        1 \n",
       "      p6       p7       p8       p9      p10     task havemore haveless \n",
       "       1        1        1        1        1        1       60       35 \n",
       "  pcmore \n",
       "      60 "
      ]
     },
     "metadata": {},
     "output_type": "display_data"
    }
   ],
   "source": [
    "participant.191<- apply(X=matthews.mx, MARGIN=2, FUN=median)\n",
    "participant.191\n",
    "\n",
    "# You can also pass additional arguments to a function when using apply. \n",
    "#For instance the median function allows you to specify how to treat NA values.\n",
    "#By passing TRUE to na.rm, we can ignore NAs when calculating the medians.\n",
    "\n",
    "apply(X=matthews.mx, MARGIN=2, FUN=median, na.rm=T)"
   ]
  },
  {
   "cell_type": "code",
   "execution_count": 33,
   "metadata": {},
   "outputs": [],
   "source": [
    "new.matthews<- rbind(matthews.mx, participant.191)"
   ]
  },
  {
   "cell_type": "code",
   "execution_count": 34,
   "metadata": {},
   "outputs": [
    {
     "data": {
      "text/html": [
       "<table>\n",
       "<thead><tr><th scope=col>gender</th><th scope=col>age</th><th scope=col>income</th><th scope=col>p1</th><th scope=col>p2</th><th scope=col>p3</th><th scope=col>p4</th><th scope=col>p5</th><th scope=col>p6</th><th scope=col>p7</th><th scope=col>p8</th><th scope=col>p9</th><th scope=col>p10</th><th scope=col>task</th><th scope=col>havemore</th><th scope=col>haveless</th><th scope=col>pcmore</th><th scope=col></th></tr></thead>\n",
       "<tbody>\n",
       "\t<tr><td>2 </td><td>45</td><td>4 </td><td>1 </td><td>1 </td><td>1 </td><td>1 </td><td>1 </td><td>0 </td><td>1 </td><td>1 </td><td>1 </td><td>1 </td><td>1 </td><td>80</td><td>NA</td><td>80</td><td>2 </td></tr>\n",
       "\t<tr><td>1 </td><td>25</td><td>3 </td><td>1 </td><td>0 </td><td>1 </td><td>0 </td><td>1 </td><td>1 </td><td>1 </td><td>1 </td><td>0 </td><td>0 </td><td>1 </td><td>60</td><td>NA</td><td>60</td><td>1 </td></tr>\n",
       "\t<tr><td>1 </td><td>28</td><td>1 </td><td>0 </td><td>1 </td><td>1 </td><td>1 </td><td>1 </td><td>0 </td><td>1 </td><td>1 </td><td>1 </td><td>1 </td><td>1 </td><td>75</td><td>NA</td><td>75</td><td>1 </td></tr>\n",
       "\t<tr><td>2 </td><td>44</td><td>6 </td><td>1 </td><td>1 </td><td>0 </td><td>0 </td><td>1 </td><td>1 </td><td>1 </td><td>1 </td><td>1 </td><td>1 </td><td>1 </td><td>50</td><td>NA</td><td>50</td><td>2 </td></tr>\n",
       "\t<tr><td>1 </td><td>30</td><td>2 </td><td>1 </td><td>1 </td><td>1 </td><td>1 </td><td>1 </td><td>0 </td><td>1 </td><td>1 </td><td>0 </td><td>0 </td><td>1 </td><td>65</td><td>NA</td><td>65</td><td>1 </td></tr>\n",
       "\t<tr><td>1 </td><td>29</td><td>3 </td><td>0 </td><td>1 </td><td>0 </td><td>1 </td><td>1 </td><td>1 </td><td>1 </td><td>1 </td><td>0 </td><td>1 </td><td>1 </td><td>50</td><td>NA</td><td>50</td><td>1 </td></tr>\n",
       "</tbody>\n",
       "</table>\n"
      ],
      "text/latex": [
       "\\begin{tabular}{llllllllllllllllll}\n",
       " gender & age & income & p1 & p2 & p3 & p4 & p5 & p6 & p7 & p8 & p9 & p10 & task & havemore & haveless & pcmore & \\\\\n",
       "\\hline\n",
       "\t 2  & 45 & 4  & 1  & 1  & 1  & 1  & 1  & 0  & 1  & 1  & 1  & 1  & 1  & 80 & NA & 80 & 2 \\\\\n",
       "\t 1  & 25 & 3  & 1  & 0  & 1  & 0  & 1  & 1  & 1  & 1  & 0  & 0  & 1  & 60 & NA & 60 & 1 \\\\\n",
       "\t 1  & 28 & 1  & 0  & 1  & 1  & 1  & 1  & 0  & 1  & 1  & 1  & 1  & 1  & 75 & NA & 75 & 1 \\\\\n",
       "\t 2  & 44 & 6  & 1  & 1  & 0  & 0  & 1  & 1  & 1  & 1  & 1  & 1  & 1  & 50 & NA & 50 & 2 \\\\\n",
       "\t 1  & 30 & 2  & 1  & 1  & 1  & 1  & 1  & 0  & 1  & 1  & 0  & 0  & 1  & 65 & NA & 65 & 1 \\\\\n",
       "\t 1  & 29 & 3  & 0  & 1  & 0  & 1  & 1  & 1  & 1  & 1  & 0  & 1  & 1  & 50 & NA & 50 & 1 \\\\\n",
       "\\end{tabular}\n"
      ],
      "text/markdown": [
       "\n",
       "| gender | age | income | p1 | p2 | p3 | p4 | p5 | p6 | p7 | p8 | p9 | p10 | task | havemore | haveless | pcmore |  |\n",
       "|---|---|---|---|---|---|---|---|---|---|---|---|---|---|---|---|---|---|\n",
       "| 2  | 45 | 4  | 1  | 1  | 1  | 1  | 1  | 0  | 1  | 1  | 1  | 1  | 1  | 80 | NA | 80 | 2  |\n",
       "| 1  | 25 | 3  | 1  | 0  | 1  | 0  | 1  | 1  | 1  | 1  | 0  | 0  | 1  | 60 | NA | 60 | 1  |\n",
       "| 1  | 28 | 1  | 0  | 1  | 1  | 1  | 1  | 0  | 1  | 1  | 1  | 1  | 1  | 75 | NA | 75 | 1  |\n",
       "| 2  | 44 | 6  | 1  | 1  | 0  | 0  | 1  | 1  | 1  | 1  | 1  | 1  | 1  | 50 | NA | 50 | 2  |\n",
       "| 1  | 30 | 2  | 1  | 1  | 1  | 1  | 1  | 0  | 1  | 1  | 0  | 0  | 1  | 65 | NA | 65 | 1  |\n",
       "| 1  | 29 | 3  | 0  | 1  | 0  | 1  | 1  | 1  | 1  | 1  | 0  | 1  | 1  | 50 | NA | 50 | 1  |\n",
       "\n"
      ],
      "text/plain": [
       "     gender age income p1 p2 p3 p4 p5 p6 p7 p8 p9 p10 task havemore haveless\n",
       "[1,] 2      45  4      1  1  1  1  1  0  1  1  1  1   1    80       NA      \n",
       "[2,] 1      25  3      1  0  1  0  1  1  1  1  0  0   1    60       NA      \n",
       "[3,] 1      28  1      0  1  1  1  1  0  1  1  1  1   1    75       NA      \n",
       "[4,] 2      44  6      1  1  0  0  1  1  1  1  1  1   1    50       NA      \n",
       "[5,] 1      30  2      1  1  1  1  1  0  1  1  0  0   1    65       NA      \n",
       "[6,] 1      29  3      0  1  0  1  1  1  1  1  0  1   1    50       NA      \n",
       "     pcmore  \n",
       "[1,] 80     2\n",
       "[2,] 60     1\n",
       "[3,] 75     1\n",
       "[4,] 50     2\n",
       "[5,] 65     1\n",
       "[6,] 50     1"
      ]
     },
     "metadata": {},
     "output_type": "display_data"
    }
   ],
   "source": [
    "matthews.gender.mx<- cbind(matthews.mx, matthews.df$gender.a)\n",
    "head(matthews.gender.mx)\n",
    "\n",
    "#Everything is changed to characters. Matrices can't deal with a mixture of numeric and character columns (or items)"
   ]
  },
  {
   "cell_type": "code",
   "execution_count": 35,
   "metadata": {},
   "outputs": [],
   "source": [
    "save(matthews.df,  matthews.mx,  matthews.gender.mx,  new.matthews,  \n",
    "            file = \"data/matthews.Rdata\")"
   ]
  },
  {
   "cell_type": "markdown",
   "metadata": {},
   "source": [
    "### That's it! Now it's time to submit your assignment!\n",
    "\n",
    "Save and email your `wpa_4_LastFirst.R` file to me at [laura.fontanesi@unibas.ch](mailto:laura.fontanesi@unibas.ch). \n",
    "\n",
    "Assignments sent after Sunday 31st March will not be considered (to pass the course you have to hand in all assignments for each week). "
   ]
  }
 ],
 "metadata": {
  "kernelspec": {
   "display_name": "R",
   "language": "R",
   "name": "ir"
  },
  "language_info": {
   "codemirror_mode": "r",
   "file_extension": ".r",
   "mimetype": "text/x-r-source",
   "name": "R",
   "pygments_lexer": "r",
   "version": "3.5.1"
  }
 },
 "nbformat": 4,
 "nbformat_minor": 2
}
