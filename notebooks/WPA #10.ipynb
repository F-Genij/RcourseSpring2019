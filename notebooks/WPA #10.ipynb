{
 "cells": [
  {
   "cell_type": "markdown",
   "metadata": {},
   "source": [
    "# WPA 10 - Loops and Functions"
   ]
  },
  {
   "cell_type": "markdown",
   "metadata": {},
   "source": [
    "In this WPA, you will analyze data from another fake study. In this fake study the researchers were interested in whether playing video games had cognitive benefits compared to other leisure activities. In the study, 90 University students were asked to do one of 3 leisure activities for 1 hour a day for the next month. 30 participants were asked to play visio games, 30 to read and 30 to juggle. At the end of the month each participant did 3 cognitive tests, a problem solving test (**logic**) and a reflex/response test (**reflex**) and a written comprehension test (**comprehension**)."
   ]
  },
  {
   "cell_type": "markdown",
   "metadata": {},
   "source": [
    "### A. Data loading and preparation\n",
    "\n",
    "1. Open a new script and enter your name, date, and the wpa number at the top. Set the working directory to the appropriate location using `setwd` (or add the script to your R Project). Save the script in the `R` folder in your project working directory as `wpa_10_LASTFIRST.R`, where LAST and FIRST are your last and first names. \n",
    "\n",
    "2. The data are situated here: https://github.com/laurafontanesi/RcourseSpring2019/blob/master/data/data_wpa10.txt Download them in the data subfolder (situated in your R project folder) and load them in R **or** load them direclty from github (remember to get the \"raw\" data page first...). In both cases, the loaded data should be assigned to the variable name `leisure`.\n",
    "\n",
    "3. Look at the first few rows of the dataframe with the `head()` function to make sure it loaded correctly.\n",
    "\n",
    "4. How many rows and columns are there in the two dataframes? Use the `dim()` function to reply to this question."
   ]
  },
  {
   "cell_type": "markdown",
   "metadata": {},
   "source": [
    "#### Datafile description\n",
    "\n",
    "The data file has 90 rows and 7 columns. Here are the columns\n",
    "\n",
    "- `id`: The participant ID\n",
    "\n",
    "- `age`: The age of the participant\n",
    "\n",
    "- `gender`: The gender of the particiant\n",
    "\n",
    "- `activity`: Which leisure activity the participant was assigned for the last month (\"reading\", \"juggling\", \"gaming\")\n",
    "\n",
    "- `logic`: Score out of 120 on a problem solving task. Higher is better.\n",
    "\n",
    "- `reflex`: Score out of  25 on a reflex test. Higher indicates faster reflexes.\n",
    "\n",
    "- `comprehension`: Score out of 100 on a reading comprehension test. Higher is better."
   ]
  },
  {
   "cell_type": "markdown",
   "metadata": {},
   "source": [
    "## B. Basic Custom Functions\n",
    "Before preceding, if you haven't already look at the help file for `function` do so (`help(\"function\")`).\n",
    "\n",
    "1. Write a function called `feed.me()` that takes a string `food` as an argument, and returns (in case `food = 'pizza'`) the sentence \"I love to eat pizza\". Try your function by running `feed.me(\"apples\")` (it should then return \"I love to eat apples\").\n",
    "\n",
    "2. Without using the `mean()` function, calculate the mean of the vector `vec.1 <- seq(1, 100, 5)`. (Hint: use `sum` and `length`)\n",
    "\n",
    "3. Write a function called `my.mean()` that takes a vector `x` as an argument, and returns the mean of the vector `x`. Use your code for Question B2 as your starting point. Test it on the vector from Question B2.\n",
    "\n",
    "4. Try your `my.mean()` function to calculate the mean 'logic' rating of participants in the `leisure` dataset and compare the result to the built-in `mean()` function (using `==`) to make sure you get the same result!"
   ]
  },
  {
   "cell_type": "markdown",
   "metadata": {},
   "source": [
    "## C. Basic Loops\n",
    "\n",
    "1. Create a loop that prints the squares of integers from 1 to 10.\n",
    "\n",
    "2. Modify the previous code so that it saves the squared integers as a vector called `squares`. You'll need to pre-create a vector, and use indexing to update it."
   ]
  },
  {
   "cell_type": "markdown",
   "metadata": {},
   "source": [
    "## D. From Manual code to Loops to Functions\n",
    "In this section you are going to start with a basic task you want to perform. In this case we want to create a copy of our dataset where all the test variables (`logic`, `reflex` and `comprehension`) have all been normalized. We will us this task firstly to demonstrate the benefit of using loops, then the benefit of using custom functions.\n",
    "\n",
    "1. Firstly create a copy of the data.frame `leisure`. Call this copy `zleisure.manual`.\n",
    "\n",
    "2.  Using indexing of the column name, normalise the `logic` column in your new dataset. Do not create a new column, just overwrite the `logic` column with the normalised zcores. Remember that to normalse a score, also called z-transforming it, you first subtract the mean score from the individual scores, then divide by the standard deviation.\n",
    "\n",
    "3. Use the same method to normalise the other test columns; `reflex`, and `comprehension`.\n",
    "\n",
    "4. Create another copy of the `leisure` data.frame called `zleisure.loop`. We will perform the same normalisation on this data.frame using a simple loop.\n",
    "\n",
    "5. First create a loop that loops through each of the test column names  (i.e. `logic`, `reflex` and `comprehension`). This will require a vector of the test column. For now have the loop print each column name as it goes through (using `print`). The output should look as follows.\n",
    "\n",
    "6. Now modify the loop from Question D5 so that each time it loops through it takes the named column and replaces the values in this column with the normalised scores. You already have a loop to go through the column names, and code that takes a column based on its name and repalces the values in that column with the normalzied values (see Qu D2/D3). All you need to do is combine them.\n",
    "\n",
    "7. Check that the `logic` column you normalised manually is the same as the `logic` column normalized by the loop using `==`.\n",
    "\n",
    "8. What if we decided that we also want to normalise the particpants ages. How easy is this to do in our loop?\n",
    "\n",
    "9. Now we have a loop that takes the data.frame `zleisure.loop` and for the 4 columns `age`, `logic`, `reflex` and `comprehension` it replaces the raw scores in that column with the z-transformed/normalized scores. This code seems pretty good, it only take 2 lines, and is much easier than typing out the code to normalize each column manually. It can also e easily expanded to include new columns. However, what if we wanted to perform the same operation on another dataset? Load the fictional survey data from **WPA6**. Call it `wpa6.df`.\n",
    "\n",
    "10. This data.frame also has several test scores we might want to normalize, in particular the `iq`, `logic` and `multitasking` scores. Write a loop to normalise these scores (use your zleisure loop as a start point). Call the data.frame with the normalised scores `zwpa6.df`.\n",
    "\n",
    "11. There should be only 3 differences between the code in question D6, and the code in question D10. The only changes are the names of the data.frames (`wpa6.df` verse `leisure`; and `zwpa6.df` verse `zleisure.loop`) and the names of the columns. The actual operations being performed are identical, and the structure of the code is identical. When this happens its usually a pretty good sign that you should write a custom functon to perform this operation, rather than modifying your code each time. So now we are going to create a function, which we'll call `zbycolumn`, which takes any data.frame and from that creates a new data.frame where the values in a subset of the columns are z.transformed. Since we want to be able to specify the data.frame and the columns that are to be z.transformed this function will need to accept two arguments, the data.frame (which we will call `data`) and the columns that are to be z.transformed (which we will call `colunnames`). Create an empty function that accepts these two arguments. Now that you have a function that accepts the appropriate arguments, modify your code from exercise D10 so that it uses these arguments names rather than the `wpa6.df` and `iq`, `logic` etc.. Call the z.transformed version of the `data`, `z.data`. Now place this code inside the empty function you created. remember to add a `return` argument.\n",
    "\n",
    "12. Test your function by performing the normalisation on the `leisure` data.frame again. Call the output of the function `zleisure.function` and compare it to the manual or loop versions of the dataframe."
   ]
  },
  {
   "cell_type": "markdown",
   "metadata": {},
   "source": [
    "## E. Functions and Figures"
   ]
  },
  {
   "cell_type": "markdown",
   "metadata": {},
   "source": [
    "1. Create a scatterplot of `age` and `reflex` of participants in the `leisure` datset. Cutomise it, and add gridlines and a regression line.\n",
    "\n",
    "2. Create a function called `my.plot()` that takes arguments `x` and `y` and returns a customised scatterplot with gridlines and a regression line.\n",
    "\n",
    "3. Now test your `my.plot()` function on the age and reflec of participants in the `leisure` dataset. It should look like the results of question E1."
   ]
  },
  {
   "cell_type": "markdown",
   "metadata": {},
   "source": [
    "## F. More Loops"
   ]
  },
  {
   "cell_type": "markdown",
   "metadata": {},
   "source": [
    "1. Create a loop that calculates (and prints) the mean `logic` score of participants from each `activity` `group`.\n",
    "2. Now create a histogram of comprehension scores for each activity using the following structure:"
   ]
  },
  {
   "cell_type": "raw",
   "metadata": {},
   "source": [
    "par(mfrow = c(1, 3)) # Set up 1 x 3 plotting grid\n",
    "\n",
    "for(activity.i in c(\"reading\", \"juggling\", \"gaming\")) {\n",
    "  \n",
    "  hist(lesiure$comprehension[leisure$activity == ___],\n",
    "       main = ___,\n",
    "       xlab = ___,\n",
    "       col = ___\n",
    "       )\n",
    "  \n",
    "}\n",
    "\n",
    "par(mfrow = c(1, 1)) # Reset plotting grid"
   ]
  },
  {
   "cell_type": "markdown",
   "metadata": {},
   "source": [
    "## G. Function with Loops"
   ]
  },
  {
   "cell_type": "markdown",
   "metadata": {},
   "source": [
    "1. Create a loop that returns the sum of the vector `1:10`. (i.e. Don't use the existing `sum` function).\n",
    "2. Use this loop to create a function, called `my.sum` that returns the sum of any vector x. Test it on the `logic` ratings.\n",
    "3. Modify the function you created in question G2, to instead calculate the mean of a vector. Call this new function `my.mean2` and compare it to both the `my.mean` function you created, and the in-built `mean` function. (Bonus: Can you also think of a way to do this without using the the length function)"
   ]
  },
  {
   "cell_type": "markdown",
   "metadata": {},
   "source": [
    "## H. Simulation!"
   ]
  },
  {
   "cell_type": "markdown",
   "metadata": {},
   "source": [
    "1. What is the probability of getting a significant p-value if the null hypothesis is true? Test this by conducting the following simulation:\n",
    "\n",
    "  - Create a vector called `p.values` with 100 NA values. \n",
    "  - Draw a sample of size 10 from a normal distribution with mean = 0 and standard deviation = 1.\n",
    "  - Do a one-sample t-test testing if the mean of the distribution is different from 0. Save the p-value from this test in the 1st position of `p.values`.\n",
    "  - Repeat these steps with a loop to fill `p.values` with 100 p-values.\n",
    "  - Create a histogram of `p.values` and calculate the proportion of `p-values` that are significant at the .05 level.\n",
    "2. Create a function called `psimulation` with 4 arguments: `sim`: the number of simulations, `samplesize`: the sample size, `mu.true`: the true mean, and `sd.true`: the true standard deviation. Your function should repeat the simulation from the previous question with the given arguments. That is, it should calculate `sim` p-values testing whether `samplesize` samples from a normal distribution with mean = `mu.true` and standard deviation = `sd.true` is significantly different from 0. The function should return a vector of p-values. "
   ]
  },
  {
   "cell_type": "raw",
   "metadata": {},
   "source": [
    "# Template for question H1:\n",
    "\n",
    "p.values <- rep(NA, ___)\n",
    "\n",
    "for(i in ___) {\n",
    "\n",
    "    x <- rnorm(n = ___, mean = ___, sd = ___)\n",
    "\n",
    "    result <- t.test(___)$___\n",
    "\n",
    "    p.values[___] <- ___\n",
    "\n",
    "}"
   ]
  },
  {
   "cell_type": "markdown",
   "metadata": {},
   "source": [
    "### That's it! Now it's time to submit your assignment!\n",
    "\n",
    "Save and email your `wpa_10_LastFirst.R` file to me at [laura.fontanesi@unibas.ch](mailto:laura.fontanesi@unibas.ch). \n",
    "\n",
    "Assignments sent after Sunday 12th May will not be considered (to pass the course you have to hand in all assignments for each week). "
   ]
  }
 ],
 "metadata": {
  "kernelspec": {
   "display_name": "R",
   "language": "R",
   "name": "ir"
  },
  "language_info": {
   "codemirror_mode": "r",
   "file_extension": ".r",
   "mimetype": "text/x-r-source",
   "name": "R",
   "pygments_lexer": "r",
   "version": "3.5.1"
  }
 },
 "nbformat": 4,
 "nbformat_minor": 2
}
